{
  "cells": [
    {
      "cell_type": "markdown",
      "metadata": {
        "id": "view-in-github",
        "colab_type": "text"
      },
      "source": [
        "<a href=\"https://colab.research.google.com/github/nahomHmichael/Twitter-Data-Analysis-10acad/blob/main/topic_modeling_using_colab.ipynb\" target=\"_parent\"><img src=\"https://colab.research.google.com/assets/colab-badge.svg\" alt=\"Open In Colab\"/></a>"
      ]
    },
    {
      "cell_type": "code",
      "source": [
        "from google.colab import drive\n",
        "drive.mount('/content/drive')"
      ],
      "metadata": {
        "id": "ZNGsMM6vXaln"
      },
      "id": "ZNGsMM6vXaln",
      "execution_count": null,
      "outputs": []
    },
    {
      "cell_type": "code",
      "execution_count": 2,
      "id": "c39a30d1",
      "metadata": {
        "colab": {
          "base_uri": "https://localhost:8080/"
        },
        "id": "c39a30d1",
        "outputId": "4352e3f0-2026-440f-9f38-9642e8b30826"
      },
      "outputs": [
        {
          "output_type": "stream",
          "name": "stdout",
          "text": [
            "Looking in indexes: https://pypi.org/simple, https://us-python.pkg.dev/colab-wheels/public/simple/\n",
            "Requirement already satisfied: pyLDAvis in /usr/local/lib/python3.7/dist-packages (3.3.1)\n",
            "Requirement already satisfied: scipy in /usr/local/lib/python3.7/dist-packages (from pyLDAvis) (1.7.3)\n",
            "Requirement already satisfied: pandas>=1.2.0 in /usr/local/lib/python3.7/dist-packages (from pyLDAvis) (1.3.5)\n",
            "Requirement already satisfied: joblib in /usr/local/lib/python3.7/dist-packages (from pyLDAvis) (1.1.0)\n",
            "Requirement already satisfied: gensim in /usr/local/lib/python3.7/dist-packages (from pyLDAvis) (3.6.0)\n",
            "Requirement already satisfied: numexpr in /usr/local/lib/python3.7/dist-packages (from pyLDAvis) (2.8.3)\n",
            "Requirement already satisfied: funcy in /usr/local/lib/python3.7/dist-packages (from pyLDAvis) (1.17)\n",
            "Requirement already satisfied: scikit-learn in /usr/local/lib/python3.7/dist-packages (from pyLDAvis) (1.0.2)\n",
            "Requirement already satisfied: jinja2 in /usr/local/lib/python3.7/dist-packages (from pyLDAvis) (2.11.3)\n",
            "Requirement already satisfied: numpy>=1.20.0 in /usr/local/lib/python3.7/dist-packages (from pyLDAvis) (1.21.6)\n",
            "Requirement already satisfied: setuptools in /usr/local/lib/python3.7/dist-packages (from pyLDAvis) (57.4.0)\n",
            "Requirement already satisfied: sklearn in /usr/local/lib/python3.7/dist-packages (from pyLDAvis) (0.0)\n",
            "Requirement already satisfied: future in /usr/local/lib/python3.7/dist-packages (from pyLDAvis) (0.16.0)\n",
            "Requirement already satisfied: pytz>=2017.3 in /usr/local/lib/python3.7/dist-packages (from pandas>=1.2.0->pyLDAvis) (2022.1)\n",
            "Requirement already satisfied: python-dateutil>=2.7.3 in /usr/local/lib/python3.7/dist-packages (from pandas>=1.2.0->pyLDAvis) (2.8.2)\n",
            "Requirement already satisfied: six>=1.5 in /usr/local/lib/python3.7/dist-packages (from python-dateutil>=2.7.3->pandas>=1.2.0->pyLDAvis) (1.15.0)\n",
            "Requirement already satisfied: smart-open>=1.2.1 in /usr/local/lib/python3.7/dist-packages (from gensim->pyLDAvis) (5.2.1)\n",
            "Requirement already satisfied: MarkupSafe>=0.23 in /usr/local/lib/python3.7/dist-packages (from jinja2->pyLDAvis) (2.0.1)\n",
            "Requirement already satisfied: packaging in /usr/local/lib/python3.7/dist-packages (from numexpr->pyLDAvis) (21.3)\n",
            "Requirement already satisfied: pyparsing!=3.0.5,>=2.0.2 in /usr/local/lib/python3.7/dist-packages (from packaging->numexpr->pyLDAvis) (3.0.9)\n",
            "Requirement already satisfied: threadpoolctl>=2.0.0 in /usr/local/lib/python3.7/dist-packages (from scikit-learn->pyLDAvis) (3.1.0)\n",
            "Looking in indexes: https://pypi.org/simple, https://us-python.pkg.dev/colab-wheels/public/simple/\n",
            "Requirement already satisfied: spacy in /usr/local/lib/python3.7/dist-packages (3.4.1)\n",
            "Requirement already satisfied: spacy-loggers<2.0.0,>=1.0.0 in /usr/local/lib/python3.7/dist-packages (from spacy) (1.0.3)\n",
            "Requirement already satisfied: murmurhash<1.1.0,>=0.28.0 in /usr/local/lib/python3.7/dist-packages (from spacy) (1.0.7)\n",
            "Requirement already satisfied: spacy-legacy<3.1.0,>=3.0.9 in /usr/local/lib/python3.7/dist-packages (from spacy) (3.0.9)\n",
            "Requirement already satisfied: typer<0.5.0,>=0.3.0 in /usr/local/lib/python3.7/dist-packages (from spacy) (0.4.2)\n",
            "Requirement already satisfied: typing-extensions<4.2.0,>=3.7.4 in /usr/local/lib/python3.7/dist-packages (from spacy) (4.1.1)\n",
            "Requirement already satisfied: jinja2 in /usr/local/lib/python3.7/dist-packages (from spacy) (2.11.3)\n",
            "Requirement already satisfied: numpy>=1.15.0 in /usr/local/lib/python3.7/dist-packages (from spacy) (1.21.6)\n",
            "Requirement already satisfied: thinc<8.2.0,>=8.1.0 in /usr/local/lib/python3.7/dist-packages (from spacy) (8.1.0)\n",
            "Requirement already satisfied: pydantic!=1.8,!=1.8.1,<1.10.0,>=1.7.4 in /usr/local/lib/python3.7/dist-packages (from spacy) (1.9.1)\n",
            "Requirement already satisfied: wasabi<1.1.0,>=0.9.1 in /usr/local/lib/python3.7/dist-packages (from spacy) (0.10.1)\n",
            "Requirement already satisfied: pathy>=0.3.5 in /usr/local/lib/python3.7/dist-packages (from spacy) (0.6.2)\n",
            "Requirement already satisfied: srsly<3.0.0,>=2.4.3 in /usr/local/lib/python3.7/dist-packages (from spacy) (2.4.4)\n",
            "Requirement already satisfied: packaging>=20.0 in /usr/local/lib/python3.7/dist-packages (from spacy) (21.3)\n",
            "Requirement already satisfied: catalogue<2.1.0,>=2.0.6 in /usr/local/lib/python3.7/dist-packages (from spacy) (2.0.8)\n",
            "Requirement already satisfied: preshed<3.1.0,>=3.0.2 in /usr/local/lib/python3.7/dist-packages (from spacy) (3.0.6)\n",
            "Requirement already satisfied: tqdm<5.0.0,>=4.38.0 in /usr/local/lib/python3.7/dist-packages (from spacy) (4.64.0)\n",
            "Requirement already satisfied: setuptools in /usr/local/lib/python3.7/dist-packages (from spacy) (57.4.0)\n",
            "Requirement already satisfied: langcodes<4.0.0,>=3.2.0 in /usr/local/lib/python3.7/dist-packages (from spacy) (3.3.0)\n",
            "Requirement already satisfied: cymem<2.1.0,>=2.0.2 in /usr/local/lib/python3.7/dist-packages (from spacy) (2.0.6)\n",
            "Requirement already satisfied: requests<3.0.0,>=2.13.0 in /usr/local/lib/python3.7/dist-packages (from spacy) (2.23.0)\n",
            "Requirement already satisfied: zipp>=0.5 in /usr/local/lib/python3.7/dist-packages (from catalogue<2.1.0,>=2.0.6->spacy) (3.8.1)\n",
            "Requirement already satisfied: pyparsing!=3.0.5,>=2.0.2 in /usr/local/lib/python3.7/dist-packages (from packaging>=20.0->spacy) (3.0.9)\n",
            "Requirement already satisfied: smart-open<6.0.0,>=5.2.1 in /usr/local/lib/python3.7/dist-packages (from pathy>=0.3.5->spacy) (5.2.1)\n",
            "Requirement already satisfied: chardet<4,>=3.0.2 in /usr/local/lib/python3.7/dist-packages (from requests<3.0.0,>=2.13.0->spacy) (3.0.4)\n",
            "Requirement already satisfied: certifi>=2017.4.17 in /usr/local/lib/python3.7/dist-packages (from requests<3.0.0,>=2.13.0->spacy) (2022.6.15)\n",
            "Requirement already satisfied: idna<3,>=2.5 in /usr/local/lib/python3.7/dist-packages (from requests<3.0.0,>=2.13.0->spacy) (2.10)\n",
            "Requirement already satisfied: urllib3!=1.25.0,!=1.25.1,<1.26,>=1.21.1 in /usr/local/lib/python3.7/dist-packages (from requests<3.0.0,>=2.13.0->spacy) (1.24.3)\n",
            "Requirement already satisfied: blis<0.8.0,>=0.7.8 in /usr/local/lib/python3.7/dist-packages (from thinc<8.2.0,>=8.1.0->spacy) (0.7.8)\n",
            "Requirement already satisfied: click<9.0.0,>=7.1.1 in /usr/local/lib/python3.7/dist-packages (from typer<0.5.0,>=0.3.0->spacy) (7.1.2)\n",
            "Requirement already satisfied: MarkupSafe>=0.23 in /usr/local/lib/python3.7/dist-packages (from jinja2->spacy) (2.0.1)\n"
          ]
        }
      ],
      "source": [
        "!pip install pyLDAvis \n",
        "!pip install spacy"
      ]
    },
    {
      "cell_type": "code",
      "execution_count": 3,
      "id": "1e6ccd25",
      "metadata": {
        "colab": {
          "base_uri": "https://localhost:8080/"
        },
        "id": "1e6ccd25",
        "outputId": "7d143d9f-b847-486f-96eb-5d9b40f44561"
      },
      "outputs": [
        {
          "output_type": "stream",
          "name": "stderr",
          "text": [
            "[nltk_data] Downloading package stopwords to /root/nltk_data...\n",
            "[nltk_data]   Package stopwords is already up-to-date!\n",
            "[nltk_data] Downloading package punkt to /root/nltk_data...\n",
            "[nltk_data]   Package punkt is already up-to-date!\n",
            "[nltk_data] Downloading package averaged_perceptron_tagger to\n",
            "[nltk_data]     /root/nltk_data...\n",
            "[nltk_data]   Package averaged_perceptron_tagger is already up-to-\n",
            "[nltk_data]       date!\n",
            "[nltk_data] Downloading package wordnet to /root/nltk_data...\n",
            "[nltk_data]   Package wordnet is already up-to-date!\n",
            "[nltk_data] Downloading package omw-1.4 to /root/nltk_data...\n",
            "[nltk_data]   Package omw-1.4 is already up-to-date!\n"
          ]
        }
      ],
      "source": [
        "# Importing packages\n",
        "import warnings\n",
        "warnings.filterwarnings('ignore')\n",
        "import matplotlib.pyplot as plt\n",
        "import seaborn as sns\n",
        "import gensim\n",
        "from gensim.models import CoherenceModel\n",
        "from gensim import corpora\n",
        "import pandas as pd\n",
        "from pprint import pprint\n",
        "import string\n",
        "import os\n",
        "import re\n",
        "import nltk\n",
        "import numpy as np\n",
        "import spacy\n",
        "\n",
        "from sklearn.model_selection import train_test_split \n",
        "from sklearn.preprocessing import StandardScaler\n",
        "from sklearn.pipeline import make_pipeline\n",
        "from sklearn.feature_extraction.text import TfidfVectorizer\n",
        "from sklearn.svm import LinearSVC\n",
        "from sklearn.feature_extraction.text import CountVectorizer, TfidfTransformer\n",
        "from joblib import dump, load #  for saving and loading sklearn objects\n",
        "from scipy.sparse import save_npz, load_npz #  for saving and loading sparse matrices\n",
        "from sklearn.decomposition import NMF, LatentDirichletAllocation\n",
        "from PIL import Image\n",
        "\n",
        "nltk.download('stopwords')\n",
        "nltk.download('punkt')\n",
        "nltk.download('averaged_perceptron_tagger')\n",
        "nltk.download('wordnet')\n",
        "nltk.download('omw-1.4')\n",
        "\n",
        "\n",
        "# Natural Language Processing Toolkit\n",
        "from nltk.corpus import stopwords, words # get stopwords from NLTK library & get all words in english language\n",
        "from nltk.tokenize import word_tokenize # to create word tokens\n",
        "# from nltk.stem import PorterStemmer (I played around with Stemmer and decided to use Lemmatizer instead)\n",
        "from nltk.stem import WordNetLemmatizer # to reduce words to orginal form\n",
        "from nltk import pos_tag # For Parts of Speech tagging"
      ]
    },
    {
      "cell_type": "code",
      "execution_count": 4,
      "id": "ee3893f5",
      "metadata": {
        "colab": {
          "base_uri": "https://localhost:8080/",
          "height": 530
        },
        "id": "ee3893f5",
        "outputId": "102032fb-ccd6-4ef8-fbe6-78c3d51cf6ed"
      },
      "outputs": [
        {
          "output_type": "execute_result",
          "data": {
            "text/plain": [
              "                  created_at  statuses_count  \\\n",
              "0  2022-08-07 22:31:20+00:00            8097   \n",
              "1  2022-08-07 22:31:16+00:00            5831   \n",
              "2  2022-08-07 22:31:07+00:00            1627   \n",
              "3  2022-08-07 22:31:06+00:00            1627   \n",
              "4  2022-08-07 22:31:04+00:00           18958   \n",
              "\n",
              "                                              source  \\\n",
              "0  <a href=\"http://twitter.com/download/android\" ...   \n",
              "1  <a href=\"http://twitter.com/download/android\" ...   \n",
              "2  <a href=\"http://twitter.com/download/android\" ...   \n",
              "3  <a href=\"http://twitter.com/download/android\" ...   \n",
              "4  <a href=\"http://twitter.com/download/iphone\" r...   \n",
              "\n",
              "                                       original_text  \\\n",
              "0  RT @i_ameztoy: Extra random image (I):\\n\\nLets...   \n",
              "1  RT @IndoPac_Info: #China's media explains the ...   \n",
              "2  China even cut off communication, they don't a...   \n",
              "3  Putin to #XiJinping : I told you my friend, Ta...   \n",
              "4  RT @ChinaUncensored: I’m sorry, I thought Taiw...   \n",
              "\n",
              "                                          clean_text  sentiment      polarity  \\\n",
              "0  \\n\\nLets focus in one very specific zone of th...         -1  0.000000e+00   \n",
              "1   #China's media explains the military reasons ...          0 -1.000000e-01   \n",
              "2  China even cut off communication, they don't a...         -1  0.000000e+00   \n",
              "3  Putin to #XiJinping : I told you my friend, Ta...          1  1.000000e-01   \n",
              "4   I’m sorry, I thought Taiwan was an independen...          0 -6.938894e-18   \n",
              "\n",
              "   subjectivity lang  favorite_count  retweet_count original_author  \\\n",
              "0       0.08125   en           15760              2       i_ameztoy   \n",
              "1       0.10000   en            6967            201           ZIisq   \n",
              "2       0.00000   en            2166              0       Fin21Free   \n",
              "3       0.35000   en            2166              0       Fin21Free   \n",
              "4       0.55625   en           17247            381  VizziniDolores   \n",
              "\n",
              "   screen_count  followers_count  friends_count possibly_sensitive   hashtags  \\\n",
              "0           232            20497           2621                          City   \n",
              "1             3               65            272                         China   \n",
              "2             0               85            392                     XiJinping   \n",
              "3             0               85            392                     XiJinping   \n",
              "4             0              910           2608                                 \n",
              "\n",
              "  user_mentions           place place_coord_boundaries  \n",
              "0                                                       \n",
              "1                                                       \n",
              "2                   Netherlands                         \n",
              "3                   Netherlands                         \n",
              "4                Ayent, Schweiz                         "
            ],
            "text/html": [
              "\n",
              "  <div id=\"df-630f1e36-ed17-436a-b57e-a630a2a066b8\">\n",
              "    <div class=\"colab-df-container\">\n",
              "      <div>\n",
              "<style scoped>\n",
              "    .dataframe tbody tr th:only-of-type {\n",
              "        vertical-align: middle;\n",
              "    }\n",
              "\n",
              "    .dataframe tbody tr th {\n",
              "        vertical-align: top;\n",
              "    }\n",
              "\n",
              "    .dataframe thead th {\n",
              "        text-align: right;\n",
              "    }\n",
              "</style>\n",
              "<table border=\"1\" class=\"dataframe\">\n",
              "  <thead>\n",
              "    <tr style=\"text-align: right;\">\n",
              "      <th></th>\n",
              "      <th>created_at</th>\n",
              "      <th>statuses_count</th>\n",
              "      <th>source</th>\n",
              "      <th>original_text</th>\n",
              "      <th>clean_text</th>\n",
              "      <th>sentiment</th>\n",
              "      <th>polarity</th>\n",
              "      <th>subjectivity</th>\n",
              "      <th>lang</th>\n",
              "      <th>favorite_count</th>\n",
              "      <th>retweet_count</th>\n",
              "      <th>original_author</th>\n",
              "      <th>screen_count</th>\n",
              "      <th>followers_count</th>\n",
              "      <th>friends_count</th>\n",
              "      <th>possibly_sensitive</th>\n",
              "      <th>hashtags</th>\n",
              "      <th>user_mentions</th>\n",
              "      <th>place</th>\n",
              "      <th>place_coord_boundaries</th>\n",
              "    </tr>\n",
              "  </thead>\n",
              "  <tbody>\n",
              "    <tr>\n",
              "      <th>0</th>\n",
              "      <td>2022-08-07 22:31:20+00:00</td>\n",
              "      <td>8097</td>\n",
              "      <td>&lt;a href=\"http://twitter.com/download/android\" ...</td>\n",
              "      <td>RT @i_ameztoy: Extra random image (I):\\n\\nLets...</td>\n",
              "      <td>\\n\\nLets focus in one very specific zone of th...</td>\n",
              "      <td>-1</td>\n",
              "      <td>0.000000e+00</td>\n",
              "      <td>0.08125</td>\n",
              "      <td>en</td>\n",
              "      <td>15760</td>\n",
              "      <td>2</td>\n",
              "      <td>i_ameztoy</td>\n",
              "      <td>232</td>\n",
              "      <td>20497</td>\n",
              "      <td>2621</td>\n",
              "      <td></td>\n",
              "      <td>City</td>\n",
              "      <td></td>\n",
              "      <td></td>\n",
              "      <td></td>\n",
              "    </tr>\n",
              "    <tr>\n",
              "      <th>1</th>\n",
              "      <td>2022-08-07 22:31:16+00:00</td>\n",
              "      <td>5831</td>\n",
              "      <td>&lt;a href=\"http://twitter.com/download/android\" ...</td>\n",
              "      <td>RT @IndoPac_Info: #China's media explains the ...</td>\n",
              "      <td>#China's media explains the military reasons ...</td>\n",
              "      <td>0</td>\n",
              "      <td>-1.000000e-01</td>\n",
              "      <td>0.10000</td>\n",
              "      <td>en</td>\n",
              "      <td>6967</td>\n",
              "      <td>201</td>\n",
              "      <td>ZIisq</td>\n",
              "      <td>3</td>\n",
              "      <td>65</td>\n",
              "      <td>272</td>\n",
              "      <td></td>\n",
              "      <td>China</td>\n",
              "      <td></td>\n",
              "      <td></td>\n",
              "      <td></td>\n",
              "    </tr>\n",
              "    <tr>\n",
              "      <th>2</th>\n",
              "      <td>2022-08-07 22:31:07+00:00</td>\n",
              "      <td>1627</td>\n",
              "      <td>&lt;a href=\"http://twitter.com/download/android\" ...</td>\n",
              "      <td>China even cut off communication, they don't a...</td>\n",
              "      <td>China even cut off communication, they don't a...</td>\n",
              "      <td>-1</td>\n",
              "      <td>0.000000e+00</td>\n",
              "      <td>0.00000</td>\n",
              "      <td>en</td>\n",
              "      <td>2166</td>\n",
              "      <td>0</td>\n",
              "      <td>Fin21Free</td>\n",
              "      <td>0</td>\n",
              "      <td>85</td>\n",
              "      <td>392</td>\n",
              "      <td></td>\n",
              "      <td>XiJinping</td>\n",
              "      <td></td>\n",
              "      <td>Netherlands</td>\n",
              "      <td></td>\n",
              "    </tr>\n",
              "    <tr>\n",
              "      <th>3</th>\n",
              "      <td>2022-08-07 22:31:06+00:00</td>\n",
              "      <td>1627</td>\n",
              "      <td>&lt;a href=\"http://twitter.com/download/android\" ...</td>\n",
              "      <td>Putin to #XiJinping : I told you my friend, Ta...</td>\n",
              "      <td>Putin to #XiJinping : I told you my friend, Ta...</td>\n",
              "      <td>1</td>\n",
              "      <td>1.000000e-01</td>\n",
              "      <td>0.35000</td>\n",
              "      <td>en</td>\n",
              "      <td>2166</td>\n",
              "      <td>0</td>\n",
              "      <td>Fin21Free</td>\n",
              "      <td>0</td>\n",
              "      <td>85</td>\n",
              "      <td>392</td>\n",
              "      <td></td>\n",
              "      <td>XiJinping</td>\n",
              "      <td></td>\n",
              "      <td>Netherlands</td>\n",
              "      <td></td>\n",
              "    </tr>\n",
              "    <tr>\n",
              "      <th>4</th>\n",
              "      <td>2022-08-07 22:31:04+00:00</td>\n",
              "      <td>18958</td>\n",
              "      <td>&lt;a href=\"http://twitter.com/download/iphone\" r...</td>\n",
              "      <td>RT @ChinaUncensored: I’m sorry, I thought Taiw...</td>\n",
              "      <td>I’m sorry, I thought Taiwan was an independen...</td>\n",
              "      <td>0</td>\n",
              "      <td>-6.938894e-18</td>\n",
              "      <td>0.55625</td>\n",
              "      <td>en</td>\n",
              "      <td>17247</td>\n",
              "      <td>381</td>\n",
              "      <td>VizziniDolores</td>\n",
              "      <td>0</td>\n",
              "      <td>910</td>\n",
              "      <td>2608</td>\n",
              "      <td></td>\n",
              "      <td></td>\n",
              "      <td></td>\n",
              "      <td>Ayent, Schweiz</td>\n",
              "      <td></td>\n",
              "    </tr>\n",
              "  </tbody>\n",
              "</table>\n",
              "</div>\n",
              "      <button class=\"colab-df-convert\" onclick=\"convertToInteractive('df-630f1e36-ed17-436a-b57e-a630a2a066b8')\"\n",
              "              title=\"Convert this dataframe to an interactive table.\"\n",
              "              style=\"display:none;\">\n",
              "        \n",
              "  <svg xmlns=\"http://www.w3.org/2000/svg\" height=\"24px\"viewBox=\"0 0 24 24\"\n",
              "       width=\"24px\">\n",
              "    <path d=\"M0 0h24v24H0V0z\" fill=\"none\"/>\n",
              "    <path d=\"M18.56 5.44l.94 2.06.94-2.06 2.06-.94-2.06-.94-.94-2.06-.94 2.06-2.06.94zm-11 1L8.5 8.5l.94-2.06 2.06-.94-2.06-.94L8.5 2.5l-.94 2.06-2.06.94zm10 10l.94 2.06.94-2.06 2.06-.94-2.06-.94-.94-2.06-.94 2.06-2.06.94z\"/><path d=\"M17.41 7.96l-1.37-1.37c-.4-.4-.92-.59-1.43-.59-.52 0-1.04.2-1.43.59L10.3 9.45l-7.72 7.72c-.78.78-.78 2.05 0 2.83L4 21.41c.39.39.9.59 1.41.59.51 0 1.02-.2 1.41-.59l7.78-7.78 2.81-2.81c.8-.78.8-2.07 0-2.86zM5.41 20L4 18.59l7.72-7.72 1.47 1.35L5.41 20z\"/>\n",
              "  </svg>\n",
              "      </button>\n",
              "      \n",
              "  <style>\n",
              "    .colab-df-container {\n",
              "      display:flex;\n",
              "      flex-wrap:wrap;\n",
              "      gap: 12px;\n",
              "    }\n",
              "\n",
              "    .colab-df-convert {\n",
              "      background-color: #E8F0FE;\n",
              "      border: none;\n",
              "      border-radius: 50%;\n",
              "      cursor: pointer;\n",
              "      display: none;\n",
              "      fill: #1967D2;\n",
              "      height: 32px;\n",
              "      padding: 0 0 0 0;\n",
              "      width: 32px;\n",
              "    }\n",
              "\n",
              "    .colab-df-convert:hover {\n",
              "      background-color: #E2EBFA;\n",
              "      box-shadow: 0px 1px 2px rgba(60, 64, 67, 0.3), 0px 1px 3px 1px rgba(60, 64, 67, 0.15);\n",
              "      fill: #174EA6;\n",
              "    }\n",
              "\n",
              "    [theme=dark] .colab-df-convert {\n",
              "      background-color: #3B4455;\n",
              "      fill: #D2E3FC;\n",
              "    }\n",
              "\n",
              "    [theme=dark] .colab-df-convert:hover {\n",
              "      background-color: #434B5C;\n",
              "      box-shadow: 0px 1px 3px 1px rgba(0, 0, 0, 0.15);\n",
              "      filter: drop-shadow(0px 1px 2px rgba(0, 0, 0, 0.3));\n",
              "      fill: #FFFFFF;\n",
              "    }\n",
              "  </style>\n",
              "\n",
              "      <script>\n",
              "        const buttonEl =\n",
              "          document.querySelector('#df-630f1e36-ed17-436a-b57e-a630a2a066b8 button.colab-df-convert');\n",
              "        buttonEl.style.display =\n",
              "          google.colab.kernel.accessAllowed ? 'block' : 'none';\n",
              "\n",
              "        async function convertToInteractive(key) {\n",
              "          const element = document.querySelector('#df-630f1e36-ed17-436a-b57e-a630a2a066b8');\n",
              "          const dataTable =\n",
              "            await google.colab.kernel.invokeFunction('convertToInteractive',\n",
              "                                                     [key], {});\n",
              "          if (!dataTable) return;\n",
              "\n",
              "          const docLinkHtml = 'Like what you see? Visit the ' +\n",
              "            '<a target=\"_blank\" href=https://colab.research.google.com/notebooks/data_table.ipynb>data table notebook</a>'\n",
              "            + ' to learn more about interactive tables.';\n",
              "          element.innerHTML = '';\n",
              "          dataTable['output_type'] = 'display_data';\n",
              "          await google.colab.output.renderOutput(dataTable, element);\n",
              "          const docLink = document.createElement('div');\n",
              "          docLink.innerHTML = docLinkHtml;\n",
              "          element.appendChild(docLink);\n",
              "        }\n",
              "      </script>\n",
              "    </div>\n",
              "  </div>\n",
              "  "
            ]
          },
          "metadata": {},
          "execution_count": 4
        }
      ],
      "source": [
        "model_df = pd.read_csv('/content/drive/MyDrive/clean_processed_tweet_data.csv')\n",
        "model_df = model_df.fillna(\"\")\n",
        "model_df.head()"
      ]
    },
    {
      "cell_type": "code",
      "source": [
        "model_df['place'].nunique()"
      ],
      "metadata": {
        "colab": {
          "base_uri": "https://localhost:8080/"
        },
        "id": "8YGlIsPqezrz",
        "outputId": "97c378e5-1738-4d58-bd03-594bebb3ed31"
      },
      "id": "8YGlIsPqezrz",
      "execution_count": 80,
      "outputs": [
        {
          "output_type": "execute_result",
          "data": {
            "text/plain": [
              "4410"
            ]
          },
          "metadata": {},
          "execution_count": 80
        }
      ]
    },
    {
      "cell_type": "code",
      "source": [
        "def clean_text_cleaner(clean_text: str) -> str:\n",
        "    cleaned_text = re.sub('\\n', '', clean_text)\n",
        "    cleaned_text = re.findall(r'[a-zA-Z]+', cleaned_text)\n",
        "    cleaned_text = \" \".join(cleaned_text)\n",
        "    cleaned_text = re.sub(r'http.*', \"\", cleaned_text)\n",
        "\n",
        "    return cleaned_text"
      ],
      "metadata": {
        "id": "5e28c-BiV0kO"
      },
      "id": "5e28c-BiV0kO",
      "execution_count": 6,
      "outputs": []
    },
    {
      "cell_type": "code",
      "source": [
        "model_df['clean_text'] = model_df['clean_text'].apply(clean_text_cleaner)\n",
        "model_df['clean_text']"
      ],
      "metadata": {
        "colab": {
          "base_uri": "https://localhost:8080/"
        },
        "id": "W017PesVVrEi",
        "outputId": "d169b39d-adfe-4c08-f490-52540471e2d9"
      },
      "id": "W017PesVVrEi",
      "execution_count": 7,
      "outputs": [
        {
          "output_type": "execute_result",
          "data": {
            "text/plain": [
              "0        Lets focus in one very specific zone of the we...\n",
              "1        China s media explains the military reasons fo...\n",
              "2        China even cut off communication they don t an...\n",
              "3        Putin to XiJinping I told you my friend Taiwan...\n",
              "4        I m sorry I thought Taiwan was an independent ...\n",
              "                               ...                        \n",
              "21995    A good infographic of China s missile launches...\n",
              "21996    A good infographic of China s missile launches...\n",
              "21997                     Reuters Thanks Pelosi smart move\n",
              "21998    Taiwan people s Desire for Unification With Ch...\n",
              "21999    Taiwan people s Desire for Unification With Ch...\n",
              "Name: clean_text, Length: 22000, dtype: object"
            ]
          },
          "metadata": {},
          "execution_count": 7
        }
      ]
    },
    {
      "cell_type": "code",
      "execution_count": 8,
      "id": "61824aa8",
      "metadata": {
        "colab": {
          "base_uri": "https://localhost:8080/"
        },
        "id": "61824aa8",
        "outputId": "129c936d-69b1-4bc0-a310-b6fe0e1bcf55"
      },
      "outputs": [
        {
          "output_type": "execute_result",
          "data": {
            "text/plain": [
              "(22000, 20)"
            ]
          },
          "metadata": {},
          "execution_count": 8
        }
      ],
      "source": [
        "model_df.shape"
      ]
    },
    {
      "cell_type": "code",
      "source": [
        "flattened_words_df = pd.DataFrame(\n",
        "    [word for words_list in model_df.clean_text\n",
        "    for word in words_list.split(' ')],\n",
        "    columns=['word'])\n",
        "\n",
        "flattened_words_df"
      ],
      "metadata": {
        "colab": {
          "base_uri": "https://localhost:8080/",
          "height": 424
        },
        "id": "PeFhfoJClN7J",
        "outputId": "14c6f819-8acf-4af7-e473-e7b400d83d0b"
      },
      "id": "PeFhfoJClN7J",
      "execution_count": 81,
      "outputs": [
        {
          "output_type": "execute_result",
          "data": {
            "text/plain": [
              "            word\n",
              "0           Lets\n",
              "1          focus\n",
              "2             in\n",
              "3            one\n",
              "4           very\n",
              "...          ...\n",
              "421416      from\n",
              "421417    Taiwan\n",
              "421418         s\n",
              "421419  National\n",
              "421420       Che\n",
              "\n",
              "[421421 rows x 1 columns]"
            ],
            "text/html": [
              "\n",
              "  <div id=\"df-c13c0cf9-6100-46f9-b2d2-540b073b9fd9\">\n",
              "    <div class=\"colab-df-container\">\n",
              "      <div>\n",
              "<style scoped>\n",
              "    .dataframe tbody tr th:only-of-type {\n",
              "        vertical-align: middle;\n",
              "    }\n",
              "\n",
              "    .dataframe tbody tr th {\n",
              "        vertical-align: top;\n",
              "    }\n",
              "\n",
              "    .dataframe thead th {\n",
              "        text-align: right;\n",
              "    }\n",
              "</style>\n",
              "<table border=\"1\" class=\"dataframe\">\n",
              "  <thead>\n",
              "    <tr style=\"text-align: right;\">\n",
              "      <th></th>\n",
              "      <th>word</th>\n",
              "    </tr>\n",
              "  </thead>\n",
              "  <tbody>\n",
              "    <tr>\n",
              "      <th>0</th>\n",
              "      <td>Lets</td>\n",
              "    </tr>\n",
              "    <tr>\n",
              "      <th>1</th>\n",
              "      <td>focus</td>\n",
              "    </tr>\n",
              "    <tr>\n",
              "      <th>2</th>\n",
              "      <td>in</td>\n",
              "    </tr>\n",
              "    <tr>\n",
              "      <th>3</th>\n",
              "      <td>one</td>\n",
              "    </tr>\n",
              "    <tr>\n",
              "      <th>4</th>\n",
              "      <td>very</td>\n",
              "    </tr>\n",
              "    <tr>\n",
              "      <th>...</th>\n",
              "      <td>...</td>\n",
              "    </tr>\n",
              "    <tr>\n",
              "      <th>421416</th>\n",
              "      <td>from</td>\n",
              "    </tr>\n",
              "    <tr>\n",
              "      <th>421417</th>\n",
              "      <td>Taiwan</td>\n",
              "    </tr>\n",
              "    <tr>\n",
              "      <th>421418</th>\n",
              "      <td>s</td>\n",
              "    </tr>\n",
              "    <tr>\n",
              "      <th>421419</th>\n",
              "      <td>National</td>\n",
              "    </tr>\n",
              "    <tr>\n",
              "      <th>421420</th>\n",
              "      <td>Che</td>\n",
              "    </tr>\n",
              "  </tbody>\n",
              "</table>\n",
              "<p>421421 rows × 1 columns</p>\n",
              "</div>\n",
              "      <button class=\"colab-df-convert\" onclick=\"convertToInteractive('df-c13c0cf9-6100-46f9-b2d2-540b073b9fd9')\"\n",
              "              title=\"Convert this dataframe to an interactive table.\"\n",
              "              style=\"display:none;\">\n",
              "        \n",
              "  <svg xmlns=\"http://www.w3.org/2000/svg\" height=\"24px\"viewBox=\"0 0 24 24\"\n",
              "       width=\"24px\">\n",
              "    <path d=\"M0 0h24v24H0V0z\" fill=\"none\"/>\n",
              "    <path d=\"M18.56 5.44l.94 2.06.94-2.06 2.06-.94-2.06-.94-.94-2.06-.94 2.06-2.06.94zm-11 1L8.5 8.5l.94-2.06 2.06-.94-2.06-.94L8.5 2.5l-.94 2.06-2.06.94zm10 10l.94 2.06.94-2.06 2.06-.94-2.06-.94-.94-2.06-.94 2.06-2.06.94z\"/><path d=\"M17.41 7.96l-1.37-1.37c-.4-.4-.92-.59-1.43-.59-.52 0-1.04.2-1.43.59L10.3 9.45l-7.72 7.72c-.78.78-.78 2.05 0 2.83L4 21.41c.39.39.9.59 1.41.59.51 0 1.02-.2 1.41-.59l7.78-7.78 2.81-2.81c.8-.78.8-2.07 0-2.86zM5.41 20L4 18.59l7.72-7.72 1.47 1.35L5.41 20z\"/>\n",
              "  </svg>\n",
              "      </button>\n",
              "      \n",
              "  <style>\n",
              "    .colab-df-container {\n",
              "      display:flex;\n",
              "      flex-wrap:wrap;\n",
              "      gap: 12px;\n",
              "    }\n",
              "\n",
              "    .colab-df-convert {\n",
              "      background-color: #E8F0FE;\n",
              "      border: none;\n",
              "      border-radius: 50%;\n",
              "      cursor: pointer;\n",
              "      display: none;\n",
              "      fill: #1967D2;\n",
              "      height: 32px;\n",
              "      padding: 0 0 0 0;\n",
              "      width: 32px;\n",
              "    }\n",
              "\n",
              "    .colab-df-convert:hover {\n",
              "      background-color: #E2EBFA;\n",
              "      box-shadow: 0px 1px 2px rgba(60, 64, 67, 0.3), 0px 1px 3px 1px rgba(60, 64, 67, 0.15);\n",
              "      fill: #174EA6;\n",
              "    }\n",
              "\n",
              "    [theme=dark] .colab-df-convert {\n",
              "      background-color: #3B4455;\n",
              "      fill: #D2E3FC;\n",
              "    }\n",
              "\n",
              "    [theme=dark] .colab-df-convert:hover {\n",
              "      background-color: #434B5C;\n",
              "      box-shadow: 0px 1px 3px 1px rgba(0, 0, 0, 0.15);\n",
              "      filter: drop-shadow(0px 1px 2px rgba(0, 0, 0, 0.3));\n",
              "      fill: #FFFFFF;\n",
              "    }\n",
              "  </style>\n",
              "\n",
              "      <script>\n",
              "        const buttonEl =\n",
              "          document.querySelector('#df-c13c0cf9-6100-46f9-b2d2-540b073b9fd9 button.colab-df-convert');\n",
              "        buttonEl.style.display =\n",
              "          google.colab.kernel.accessAllowed ? 'block' : 'none';\n",
              "\n",
              "        async function convertToInteractive(key) {\n",
              "          const element = document.querySelector('#df-c13c0cf9-6100-46f9-b2d2-540b073b9fd9');\n",
              "          const dataTable =\n",
              "            await google.colab.kernel.invokeFunction('convertToInteractive',\n",
              "                                                     [key], {});\n",
              "          if (!dataTable) return;\n",
              "\n",
              "          const docLinkHtml = 'Like what you see? Visit the ' +\n",
              "            '<a target=\"_blank\" href=https://colab.research.google.com/notebooks/data_table.ipynb>data table notebook</a>'\n",
              "            + ' to learn more about interactive tables.';\n",
              "          element.innerHTML = '';\n",
              "          dataTable['output_type'] = 'display_data';\n",
              "          await google.colab.output.renderOutput(dataTable, element);\n",
              "          const docLink = document.createElement('div');\n",
              "          docLink.innerHTML = docLinkHtml;\n",
              "          element.appendChild(docLink);\n",
              "        }\n",
              "      </script>\n",
              "    </div>\n",
              "  </div>\n",
              "  "
            ]
          },
          "metadata": {},
          "execution_count": 81
        }
      ]
    },
    {
      "cell_type": "code",
      "source": [
        "flattened_words_df.word.value_counts()[:20].plot(kind='bar')\n",
        "plt.title('most frequent words')\n",
        "plt.xlabel('words')\n",
        "plt.ylabel('count')"
      ],
      "metadata": {
        "colab": {
          "base_uri": "https://localhost:8080/",
          "height": 342
        },
        "id": "y5XgMEzclYv5",
        "outputId": "139c374b-b848-4c78-9006-61cfe5317462"
      },
      "id": "y5XgMEzclYv5",
      "execution_count": 82,
      "outputs": [
        {
          "output_type": "execute_result",
          "data": {
            "text/plain": [
              "Text(0, 0.5, 'count')"
            ]
          },
          "metadata": {},
          "execution_count": 82
        },
        {
          "output_type": "display_data",
          "data": {
            "text/plain": [
              "<Figure size 432x288 with 1 Axes>"
            ],
            "image/png": "[encoded data removed]"
          },
          "metadata": {
            "needs_background": "light"
          }
        }
      ]
    },
    {
      "cell_type": "code",
      "execution_count": 9,
      "id": "ff73241f",
      "metadata": {
        "colab": {
          "base_uri": "https://localhost:8080/"
        },
        "id": "ff73241f",
        "outputId": "dbb9cba0-0a3c-45b6-d336-404e2b0891e7"
      },
      "outputs": [
        {
          "output_type": "stream",
          "name": "stdout",
          "text": [
            "<class 'pandas.core.frame.DataFrame'>\n",
            "RangeIndex: 22000 entries, 0 to 21999\n",
            "Data columns (total 20 columns):\n",
            " #   Column                  Non-Null Count  Dtype  \n",
            "---  ------                  --------------  -----  \n",
            " 0   created_at              22000 non-null  object \n",
            " 1   statuses_count          22000 non-null  int64  \n",
            " 2   source                  22000 non-null  object \n",
            " 3   original_text           22000 non-null  object \n",
            " 4   clean_text              22000 non-null  object \n",
            " 5   sentiment               22000 non-null  int64  \n",
            " 6   polarity                22000 non-null  float64\n",
            " 7   subjectivity            22000 non-null  float64\n",
            " 8   lang                    22000 non-null  object \n",
            " 9   favorite_count          22000 non-null  int64  \n",
            " 10  retweet_count           22000 non-null  int64  \n",
            " 11  original_author         22000 non-null  object \n",
            " 12  screen_count            22000 non-null  int64  \n",
            " 13  followers_count         22000 non-null  int64  \n",
            " 14  friends_count           22000 non-null  int64  \n",
            " 15  possibly_sensitive      22000 non-null  object \n",
            " 16  hashtags                22000 non-null  object \n",
            " 17  user_mentions           22000 non-null  object \n",
            " 18  place                   22000 non-null  object \n",
            " 19  place_coord_boundaries  22000 non-null  object \n",
            "dtypes: float64(2), int64(7), object(11)\n",
            "memory usage: 3.4+ MB\n"
          ]
        }
      ],
      "source": [
        "model_df.info()"
      ]
    },
    {
      "cell_type": "code",
      "execution_count": 10,
      "id": "36c15901",
      "metadata": {
        "colab": {
          "base_uri": "https://localhost:8080/"
        },
        "id": "36c15901",
        "outputId": "3b4ae780-c75a-46d6-ab1d-1888441b6e0d"
      },
      "outputs": [
        {
          "output_type": "stream",
          "name": "stdout",
          "text": [
            "The number of missing value(s): 0\n",
            "Columons having columns value:Index([], dtype='object')\n"
          ]
        }
      ],
      "source": [
        "# Check missing values\n",
        "\n",
        "print(\"The number of missing value(s): {}\".format(model_df.isnull().sum().sum()))\n",
        "print(\"Columons having columns value:{}\".format(model_df.columns[model_df.isnull().any()]))"
      ]
    },
    {
      "cell_type": "code",
      "execution_count": 11,
      "id": "8d8adaa9",
      "metadata": {
        "colab": {
          "base_uri": "https://localhost:8080/"
        },
        "id": "8d8adaa9",
        "outputId": "f1ac3a7b-a63f-4bd1-8710-0c5a04cdbf3f"
      },
      "outputs": [
        {
          "output_type": "execute_result",
          "data": {
            "text/plain": [
              "created_at                False\n",
              "statuses_count            False\n",
              "source                    False\n",
              "original_text             False\n",
              "clean_text                False\n",
              "sentiment                 False\n",
              "polarity                  False\n",
              "subjectivity              False\n",
              "lang                      False\n",
              "favorite_count            False\n",
              "retweet_count             False\n",
              "original_author           False\n",
              "screen_count              False\n",
              "followers_count           False\n",
              "friends_count             False\n",
              "possibly_sensitive        False\n",
              "hashtags                  False\n",
              "user_mentions             False\n",
              "place                     False\n",
              "place_coord_boundaries    False\n",
              "dtype: bool"
            ]
          },
          "metadata": {},
          "execution_count": 11
        }
      ],
      "source": [
        "# Check for \"NaN\" values\n",
        "model_df.isna().any() "
      ]
    },
    {
      "cell_type": "code",
      "execution_count": 12,
      "id": "62be91aa",
      "metadata": {
        "id": "62be91aa"
      },
      "outputs": [],
      "source": [
        "def preprocessTweets(tweet):\n",
        "    \n",
        "    # Remove punctuations\n",
        "    unpunctuated_words = [char for char in tweet_tokens if char not in string.punctuation]\n",
        "    unpunctuated_words = ' '.join(unpunctuated_words)\n",
        "\n",
        "    return \"\".join(unpunctuated_words) "
      ]
    },
    {
      "cell_type": "code",
      "execution_count": 13,
      "id": "e92c861d",
      "metadata": {
        "id": "e92c861d"
      },
      "outputs": [],
      "source": [
        "# function to obtain adjectives from tweets\n",
        "\n",
        "def getAdjectives(tweet):\n",
        "    tweet = word_tokenize(tweet)  # convert string to tokens\n",
        "    tweet = [word for (word, tag) in pos_tag(tweet)\n",
        "             if tag == \"JJ\"]  # pos_tag module in NLTK library\n",
        "    return \" \".join(tweet)  "
      ]
    },
    {
      "cell_type": "code",
      "execution_count": 14,
      "id": "1ce957fc",
      "metadata": {
        "id": "1ce957fc"
      },
      "outputs": [],
      "source": [
        "# get called 'Tweets_Adjectives'\n",
        "model_df['Tweets_Adjectives'] = model_df['clean_text'].apply(getAdjectives)"
      ]
    },
    {
      "cell_type": "code",
      "execution_count": 15,
      "id": "38b5fc20",
      "metadata": {
        "colab": {
          "base_uri": "https://localhost:8080/",
          "height": 560
        },
        "id": "38b5fc20",
        "outputId": "87692ee8-94d1-429e-cf53-42784ad22287"
      },
      "outputs": [
        {
          "output_type": "execute_result",
          "data": {
            "text/plain": [
              "                  created_at  statuses_count  \\\n",
              "0  2022-08-07 22:31:20+00:00            8097   \n",
              "1  2022-08-07 22:31:16+00:00            5831   \n",
              "2  2022-08-07 22:31:07+00:00            1627   \n",
              "3  2022-08-07 22:31:06+00:00            1627   \n",
              "4  2022-08-07 22:31:04+00:00           18958   \n",
              "\n",
              "                                              source  \\\n",
              "0  <a href=\"http://twitter.com/download/android\" ...   \n",
              "1  <a href=\"http://twitter.com/download/android\" ...   \n",
              "2  <a href=\"http://twitter.com/download/android\" ...   \n",
              "3  <a href=\"http://twitter.com/download/android\" ...   \n",
              "4  <a href=\"http://twitter.com/download/iphone\" r...   \n",
              "\n",
              "                                       original_text  \\\n",
              "0  RT @i_ameztoy: Extra random image (I):\\n\\nLets...   \n",
              "1  RT @IndoPac_Info: #China's media explains the ...   \n",
              "2  China even cut off communication, they don't a...   \n",
              "3  Putin to #XiJinping : I told you my friend, Ta...   \n",
              "4  RT @ChinaUncensored: I’m sorry, I thought Taiw...   \n",
              "\n",
              "                                          clean_text  sentiment      polarity  \\\n",
              "0  Lets focus in one very specific zone of the we...         -1  0.000000e+00   \n",
              "1  China s media explains the military reasons fo...          0 -1.000000e-01   \n",
              "2  China even cut off communication they don t an...         -1  0.000000e+00   \n",
              "3  Putin to XiJinping I told you my friend Taiwan...          1  1.000000e-01   \n",
              "4  I m sorry I thought Taiwan was an independent ...          0 -6.938894e-18   \n",
              "\n",
              "   subjectivity lang  favorite_count  ...  original_author screen_count  \\\n",
              "0       0.08125   en           15760  ...        i_ameztoy          232   \n",
              "1       0.10000   en            6967  ...            ZIisq            3   \n",
              "2       0.00000   en            2166  ...        Fin21Free            0   \n",
              "3       0.35000   en            2166  ...        Fin21Free            0   \n",
              "4       0.55625   en           17247  ...   VizziniDolores            0   \n",
              "\n",
              "   followers_count  friends_count  possibly_sensitive   hashtags  \\\n",
              "0            20497           2621                           City   \n",
              "1               65            272                          China   \n",
              "2               85            392                      XiJinping   \n",
              "3               85            392                      XiJinping   \n",
              "4              910           2608                                  \n",
              "\n",
              "  user_mentions           place place_coord_boundaries  \\\n",
              "0                                                        \n",
              "1                                                        \n",
              "2                   Netherlands                          \n",
              "3                   Netherlands                          \n",
              "4                Ayent, Schweiz                          \n",
              "\n",
              "                Tweets_Adjectives  \n",
              "0                specific western  \n",
              "1                        military  \n",
              "2                         t clown  \n",
              "3              vassal Ukrainian s  \n",
              "4  sorry independent own military  \n",
              "\n",
              "[5 rows x 21 columns]"
            ],
            "text/html": [
              "\n",
              "  <div id=\"df-5246b884-f630-4744-83f2-4634fc93fa88\">\n",
              "    <div class=\"colab-df-container\">\n",
              "      <div>\n",
              "<style scoped>\n",
              "    .dataframe tbody tr th:only-of-type {\n",
              "        vertical-align: middle;\n",
              "    }\n",
              "\n",
              "    .dataframe tbody tr th {\n",
              "        vertical-align: top;\n",
              "    }\n",
              "\n",
              "    .dataframe thead th {\n",
              "        text-align: right;\n",
              "    }\n",
              "</style>\n",
              "<table border=\"1\" class=\"dataframe\">\n",
              "  <thead>\n",
              "    <tr style=\"text-align: right;\">\n",
              "      <th></th>\n",
              "      <th>created_at</th>\n",
              "      <th>statuses_count</th>\n",
              "      <th>source</th>\n",
              "      <th>original_text</th>\n",
              "      <th>clean_text</th>\n",
              "      <th>sentiment</th>\n",
              "      <th>polarity</th>\n",
              "      <th>subjectivity</th>\n",
              "      <th>lang</th>\n",
              "      <th>favorite_count</th>\n",
              "      <th>...</th>\n",
              "      <th>original_author</th>\n",
              "      <th>screen_count</th>\n",
              "      <th>followers_count</th>\n",
              "      <th>friends_count</th>\n",
              "      <th>possibly_sensitive</th>\n",
              "      <th>hashtags</th>\n",
              "      <th>user_mentions</th>\n",
              "      <th>place</th>\n",
              "      <th>place_coord_boundaries</th>\n",
              "      <th>Tweets_Adjectives</th>\n",
              "    </tr>\n",
              "  </thead>\n",
              "  <tbody>\n",
              "    <tr>\n",
              "      <th>0</th>\n",
              "      <td>2022-08-07 22:31:20+00:00</td>\n",
              "      <td>8097</td>\n",
              "      <td>&lt;a href=\"http://twitter.com/download/android\" ...</td>\n",
              "      <td>RT @i_ameztoy: Extra random image (I):\\n\\nLets...</td>\n",
              "      <td>Lets focus in one very specific zone of the we...</td>\n",
              "      <td>-1</td>\n",
              "      <td>0.000000e+00</td>\n",
              "      <td>0.08125</td>\n",
              "      <td>en</td>\n",
              "      <td>15760</td>\n",
              "      <td>...</td>\n",
              "      <td>i_ameztoy</td>\n",
              "      <td>232</td>\n",
              "      <td>20497</td>\n",
              "      <td>2621</td>\n",
              "      <td></td>\n",
              "      <td>City</td>\n",
              "      <td></td>\n",
              "      <td></td>\n",
              "      <td></td>\n",
              "      <td>specific western</td>\n",
              "    </tr>\n",
              "    <tr>\n",
              "      <th>1</th>\n",
              "      <td>2022-08-07 22:31:16+00:00</td>\n",
              "      <td>5831</td>\n",
              "      <td>&lt;a href=\"http://twitter.com/download/android\" ...</td>\n",
              "      <td>RT @IndoPac_Info: #China's media explains the ...</td>\n",
              "      <td>China s media explains the military reasons fo...</td>\n",
              "      <td>0</td>\n",
              "      <td>-1.000000e-01</td>\n",
              "      <td>0.10000</td>\n",
              "      <td>en</td>\n",
              "      <td>6967</td>\n",
              "      <td>...</td>\n",
              "      <td>ZIisq</td>\n",
              "      <td>3</td>\n",
              "      <td>65</td>\n",
              "      <td>272</td>\n",
              "      <td></td>\n",
              "      <td>China</td>\n",
              "      <td></td>\n",
              "      <td></td>\n",
              "      <td></td>\n",
              "      <td>military</td>\n",
              "    </tr>\n",
              "    <tr>\n",
              "      <th>2</th>\n",
              "      <td>2022-08-07 22:31:07+00:00</td>\n",
              "      <td>1627</td>\n",
              "      <td>&lt;a href=\"http://twitter.com/download/android\" ...</td>\n",
              "      <td>China even cut off communication, they don't a...</td>\n",
              "      <td>China even cut off communication they don t an...</td>\n",
              "      <td>-1</td>\n",
              "      <td>0.000000e+00</td>\n",
              "      <td>0.00000</td>\n",
              "      <td>en</td>\n",
              "      <td>2166</td>\n",
              "      <td>...</td>\n",
              "      <td>Fin21Free</td>\n",
              "      <td>0</td>\n",
              "      <td>85</td>\n",
              "      <td>392</td>\n",
              "      <td></td>\n",
              "      <td>XiJinping</td>\n",
              "      <td></td>\n",
              "      <td>Netherlands</td>\n",
              "      <td></td>\n",
              "      <td>t clown</td>\n",
              "    </tr>\n",
              "    <tr>\n",
              "      <th>3</th>\n",
              "      <td>2022-08-07 22:31:06+00:00</td>\n",
              "      <td>1627</td>\n",
              "      <td>&lt;a href=\"http://twitter.com/download/android\" ...</td>\n",
              "      <td>Putin to #XiJinping : I told you my friend, Ta...</td>\n",
              "      <td>Putin to XiJinping I told you my friend Taiwan...</td>\n",
              "      <td>1</td>\n",
              "      <td>1.000000e-01</td>\n",
              "      <td>0.35000</td>\n",
              "      <td>en</td>\n",
              "      <td>2166</td>\n",
              "      <td>...</td>\n",
              "      <td>Fin21Free</td>\n",
              "      <td>0</td>\n",
              "      <td>85</td>\n",
              "      <td>392</td>\n",
              "      <td></td>\n",
              "      <td>XiJinping</td>\n",
              "      <td></td>\n",
              "      <td>Netherlands</td>\n",
              "      <td></td>\n",
              "      <td>vassal Ukrainian s</td>\n",
              "    </tr>\n",
              "    <tr>\n",
              "      <th>4</th>\n",
              "      <td>2022-08-07 22:31:04+00:00</td>\n",
              "      <td>18958</td>\n",
              "      <td>&lt;a href=\"http://twitter.com/download/iphone\" r...</td>\n",
              "      <td>RT @ChinaUncensored: I’m sorry, I thought Taiw...</td>\n",
              "      <td>I m sorry I thought Taiwan was an independent ...</td>\n",
              "      <td>0</td>\n",
              "      <td>-6.938894e-18</td>\n",
              "      <td>0.55625</td>\n",
              "      <td>en</td>\n",
              "      <td>17247</td>\n",
              "      <td>...</td>\n",
              "      <td>VizziniDolores</td>\n",
              "      <td>0</td>\n",
              "      <td>910</td>\n",
              "      <td>2608</td>\n",
              "      <td></td>\n",
              "      <td></td>\n",
              "      <td></td>\n",
              "      <td>Ayent, Schweiz</td>\n",
              "      <td></td>\n",
              "      <td>sorry independent own military</td>\n",
              "    </tr>\n",
              "  </tbody>\n",
              "</table>\n",
              "<p>5 rows × 21 columns</p>\n",
              "</div>\n",
              "      <button class=\"colab-df-convert\" onclick=\"convertToInteractive('df-5246b884-f630-4744-83f2-4634fc93fa88')\"\n",
              "              title=\"Convert this dataframe to an interactive table.\"\n",
              "              style=\"display:none;\">\n",
              "        \n",
              "  <svg xmlns=\"http://www.w3.org/2000/svg\" height=\"24px\"viewBox=\"0 0 24 24\"\n",
              "       width=\"24px\">\n",
              "    <path d=\"M0 0h24v24H0V0z\" fill=\"none\"/>\n",
              "    <path d=\"M18.56 5.44l.94 2.06.94-2.06 2.06-.94-2.06-.94-.94-2.06-.94 2.06-2.06.94zm-11 1L8.5 8.5l.94-2.06 2.06-.94-2.06-.94L8.5 2.5l-.94 2.06-2.06.94zm10 10l.94 2.06.94-2.06 2.06-.94-2.06-.94-.94-2.06-.94 2.06-2.06.94z\"/><path d=\"M17.41 7.96l-1.37-1.37c-.4-.4-.92-.59-1.43-.59-.52 0-1.04.2-1.43.59L10.3 9.45l-7.72 7.72c-.78.78-.78 2.05 0 2.83L4 21.41c.39.39.9.59 1.41.59.51 0 1.02-.2 1.41-.59l7.78-7.78 2.81-2.81c.8-.78.8-2.07 0-2.86zM5.41 20L4 18.59l7.72-7.72 1.47 1.35L5.41 20z\"/>\n",
              "  </svg>\n",
              "      </button>\n",
              "      \n",
              "  <style>\n",
              "    .colab-df-container {\n",
              "      display:flex;\n",
              "      flex-wrap:wrap;\n",
              "      gap: 12px;\n",
              "    }\n",
              "\n",
              "    .colab-df-convert {\n",
              "      background-color: #E8F0FE;\n",
              "      border: none;\n",
              "      border-radius: 50%;\n",
              "      cursor: pointer;\n",
              "      display: none;\n",
              "      fill: #1967D2;\n",
              "      height: 32px;\n",
              "      padding: 0 0 0 0;\n",
              "      width: 32px;\n",
              "    }\n",
              "\n",
              "    .colab-df-convert:hover {\n",
              "      background-color: #E2EBFA;\n",
              "      box-shadow: 0px 1px 2px rgba(60, 64, 67, 0.3), 0px 1px 3px 1px rgba(60, 64, 67, 0.15);\n",
              "      fill: #174EA6;\n",
              "    }\n",
              "\n",
              "    [theme=dark] .colab-df-convert {\n",
              "      background-color: #3B4455;\n",
              "      fill: #D2E3FC;\n",
              "    }\n",
              "\n",
              "    [theme=dark] .colab-df-convert:hover {\n",
              "      background-color: #434B5C;\n",
              "      box-shadow: 0px 1px 3px 1px rgba(0, 0, 0, 0.15);\n",
              "      filter: drop-shadow(0px 1px 2px rgba(0, 0, 0, 0.3));\n",
              "      fill: #FFFFFF;\n",
              "    }\n",
              "  </style>\n",
              "\n",
              "      <script>\n",
              "        const buttonEl =\n",
              "          document.querySelector('#df-5246b884-f630-4744-83f2-4634fc93fa88 button.colab-df-convert');\n",
              "        buttonEl.style.display =\n",
              "          google.colab.kernel.accessAllowed ? 'block' : 'none';\n",
              "\n",
              "        async function convertToInteractive(key) {\n",
              "          const element = document.querySelector('#df-5246b884-f630-4744-83f2-4634fc93fa88');\n",
              "          const dataTable =\n",
              "            await google.colab.kernel.invokeFunction('convertToInteractive',\n",
              "                                                     [key], {});\n",
              "          if (!dataTable) return;\n",
              "\n",
              "          const docLinkHtml = 'Like what you see? Visit the ' +\n",
              "            '<a target=\"_blank\" href=https://colab.research.google.com/notebooks/data_table.ipynb>data table notebook</a>'\n",
              "            + ' to learn more about interactive tables.';\n",
              "          element.innerHTML = '';\n",
              "          dataTable['output_type'] = 'display_data';\n",
              "          await google.colab.output.renderOutput(dataTable, element);\n",
              "          const docLink = document.createElement('div');\n",
              "          docLink.innerHTML = docLinkHtml;\n",
              "          element.appendChild(docLink);\n",
              "        }\n",
              "      </script>\n",
              "    </div>\n",
              "  </div>\n",
              "  "
            ]
          },
          "metadata": {},
          "execution_count": 15
        }
      ],
      "source": [
        "model_df.head()"
      ]
    },
    {
      "cell_type": "code",
      "execution_count": 16,
      "id": "7990c4e0",
      "metadata": {
        "id": "7990c4e0"
      },
      "outputs": [],
      "source": [
        "def preprocessTweetsSentiments(tweet):\n",
        "    tweet_tokens = word_tokenize(tweet)\n",
        "    lemmatizer = WordNetLemmatizer() # initialize an object WordNetLemmatizer Class\n",
        "    lemma_words = [lemmatizer.lemmatize(w) for w in tweet_tokens]\n",
        "    return \" \".join(lemma_words)"
      ]
    },
    {
      "cell_type": "code",
      "execution_count": 17,
      "id": "0d1eff34",
      "metadata": {
        "id": "0d1eff34"
      },
      "outputs": [],
      "source": [
        "model_df['Tweets_Sentiments'] = model_df['clean_text'].apply(preprocessTweetsSentiments)"
      ]
    },
    {
      "cell_type": "code",
      "execution_count": 18,
      "id": "16e3b1ab",
      "metadata": {
        "colab": {
          "base_uri": "https://localhost:8080/",
          "height": 560
        },
        "id": "16e3b1ab",
        "outputId": "3e51f86c-a0be-400e-fb38-f4d5f7febff2"
      },
      "outputs": [
        {
          "output_type": "execute_result",
          "data": {
            "text/plain": [
              "                  created_at  statuses_count  \\\n",
              "0  2022-08-07 22:31:20+00:00            8097   \n",
              "1  2022-08-07 22:31:16+00:00            5831   \n",
              "2  2022-08-07 22:31:07+00:00            1627   \n",
              "3  2022-08-07 22:31:06+00:00            1627   \n",
              "4  2022-08-07 22:31:04+00:00           18958   \n",
              "\n",
              "                                              source  \\\n",
              "0  <a href=\"http://twitter.com/download/android\" ...   \n",
              "1  <a href=\"http://twitter.com/download/android\" ...   \n",
              "2  <a href=\"http://twitter.com/download/android\" ...   \n",
              "3  <a href=\"http://twitter.com/download/android\" ...   \n",
              "4  <a href=\"http://twitter.com/download/iphone\" r...   \n",
              "\n",
              "                                       original_text  \\\n",
              "0  RT @i_ameztoy: Extra random image (I):\\n\\nLets...   \n",
              "1  RT @IndoPac_Info: #China's media explains the ...   \n",
              "2  China even cut off communication, they don't a...   \n",
              "3  Putin to #XiJinping : I told you my friend, Ta...   \n",
              "4  RT @ChinaUncensored: I’m sorry, I thought Taiw...   \n",
              "\n",
              "                                          clean_text  sentiment      polarity  \\\n",
              "0  Lets focus in one very specific zone of the we...         -1  0.000000e+00   \n",
              "1  China s media explains the military reasons fo...          0 -1.000000e-01   \n",
              "2  China even cut off communication they don t an...         -1  0.000000e+00   \n",
              "3  Putin to XiJinping I told you my friend Taiwan...          1  1.000000e-01   \n",
              "4  I m sorry I thought Taiwan was an independent ...          0 -6.938894e-18   \n",
              "\n",
              "   subjectivity lang  favorite_count  ...  screen_count followers_count  \\\n",
              "0       0.08125   en           15760  ...           232           20497   \n",
              "1       0.10000   en            6967  ...             3              65   \n",
              "2       0.00000   en            2166  ...             0              85   \n",
              "3       0.35000   en            2166  ...             0              85   \n",
              "4       0.55625   en           17247  ...             0             910   \n",
              "\n",
              "   friends_count  possibly_sensitive   hashtags user_mentions           place  \\\n",
              "0           2621                           City                                 \n",
              "1            272                          China                                 \n",
              "2            392                      XiJinping                   Netherlands   \n",
              "3            392                      XiJinping                   Netherlands   \n",
              "4           2608                                               Ayent, Schweiz   \n",
              "\n",
              "  place_coord_boundaries               Tweets_Adjectives  \\\n",
              "0                                       specific western   \n",
              "1                                               military   \n",
              "2                                                t clown   \n",
              "3                                     vassal Ukrainian s   \n",
              "4                         sorry independent own military   \n",
              "\n",
              "                                   Tweets_Sentiments  \n",
              "0  Lets focus in one very specific zone of the we...  \n",
              "1  China s medium explains the military reason fo...  \n",
              "2  China even cut off communication they don t an...  \n",
              "3  Putin to XiJinping I told you my friend Taiwan...  \n",
              "4  I m sorry I thought Taiwan wa an independent c...  \n",
              "\n",
              "[5 rows x 22 columns]"
            ],
            "text/html": [
              "\n",
              "  <div id=\"df-8df1bc44-b73f-43a2-999b-12494c14b4b4\">\n",
              "    <div class=\"colab-df-container\">\n",
              "      <div>\n",
              "<style scoped>\n",
              "    .dataframe tbody tr th:only-of-type {\n",
              "        vertical-align: middle;\n",
              "    }\n",
              "\n",
              "    .dataframe tbody tr th {\n",
              "        vertical-align: top;\n",
              "    }\n",
              "\n",
              "    .dataframe thead th {\n",
              "        text-align: right;\n",
              "    }\n",
              "</style>\n",
              "<table border=\"1\" class=\"dataframe\">\n",
              "  <thead>\n",
              "    <tr style=\"text-align: right;\">\n",
              "      <th></th>\n",
              "      <th>created_at</th>\n",
              "      <th>statuses_count</th>\n",
              "      <th>source</th>\n",
              "      <th>original_text</th>\n",
              "      <th>clean_text</th>\n",
              "      <th>sentiment</th>\n",
              "      <th>polarity</th>\n",
              "      <th>subjectivity</th>\n",
              "      <th>lang</th>\n",
              "      <th>favorite_count</th>\n",
              "      <th>...</th>\n",
              "      <th>screen_count</th>\n",
              "      <th>followers_count</th>\n",
              "      <th>friends_count</th>\n",
              "      <th>possibly_sensitive</th>\n",
              "      <th>hashtags</th>\n",
              "      <th>user_mentions</th>\n",
              "      <th>place</th>\n",
              "      <th>place_coord_boundaries</th>\n",
              "      <th>Tweets_Adjectives</th>\n",
              "      <th>Tweets_Sentiments</th>\n",
              "    </tr>\n",
              "  </thead>\n",
              "  <tbody>\n",
              "    <tr>\n",
              "      <th>0</th>\n",
              "      <td>2022-08-07 22:31:20+00:00</td>\n",
              "      <td>8097</td>\n",
              "      <td>&lt;a href=\"http://twitter.com/download/android\" ...</td>\n",
              "      <td>RT @i_ameztoy: Extra random image (I):\\n\\nLets...</td>\n",
              "      <td>Lets focus in one very specific zone of the we...</td>\n",
              "      <td>-1</td>\n",
              "      <td>0.000000e+00</td>\n",
              "      <td>0.08125</td>\n",
              "      <td>en</td>\n",
              "      <td>15760</td>\n",
              "      <td>...</td>\n",
              "      <td>232</td>\n",
              "      <td>20497</td>\n",
              "      <td>2621</td>\n",
              "      <td></td>\n",
              "      <td>City</td>\n",
              "      <td></td>\n",
              "      <td></td>\n",
              "      <td></td>\n",
              "      <td>specific western</td>\n",
              "      <td>Lets focus in one very specific zone of the we...</td>\n",
              "    </tr>\n",
              "    <tr>\n",
              "      <th>1</th>\n",
              "      <td>2022-08-07 22:31:16+00:00</td>\n",
              "      <td>5831</td>\n",
              "      <td>&lt;a href=\"http://twitter.com/download/android\" ...</td>\n",
              "      <td>RT @IndoPac_Info: #China's media explains the ...</td>\n",
              "      <td>China s media explains the military reasons fo...</td>\n",
              "      <td>0</td>\n",
              "      <td>-1.000000e-01</td>\n",
              "      <td>0.10000</td>\n",
              "      <td>en</td>\n",
              "      <td>6967</td>\n",
              "      <td>...</td>\n",
              "      <td>3</td>\n",
              "      <td>65</td>\n",
              "      <td>272</td>\n",
              "      <td></td>\n",
              "      <td>China</td>\n",
              "      <td></td>\n",
              "      <td></td>\n",
              "      <td></td>\n",
              "      <td>military</td>\n",
              "      <td>China s medium explains the military reason fo...</td>\n",
              "    </tr>\n",
              "    <tr>\n",
              "      <th>2</th>\n",
              "      <td>2022-08-07 22:31:07+00:00</td>\n",
              "      <td>1627</td>\n",
              "      <td>&lt;a href=\"http://twitter.com/download/android\" ...</td>\n",
              "      <td>China even cut off communication, they don't a...</td>\n",
              "      <td>China even cut off communication they don t an...</td>\n",
              "      <td>-1</td>\n",
              "      <td>0.000000e+00</td>\n",
              "      <td>0.00000</td>\n",
              "      <td>en</td>\n",
              "      <td>2166</td>\n",
              "      <td>...</td>\n",
              "      <td>0</td>\n",
              "      <td>85</td>\n",
              "      <td>392</td>\n",
              "      <td></td>\n",
              "      <td>XiJinping</td>\n",
              "      <td></td>\n",
              "      <td>Netherlands</td>\n",
              "      <td></td>\n",
              "      <td>t clown</td>\n",
              "      <td>China even cut off communication they don t an...</td>\n",
              "    </tr>\n",
              "    <tr>\n",
              "      <th>3</th>\n",
              "      <td>2022-08-07 22:31:06+00:00</td>\n",
              "      <td>1627</td>\n",
              "      <td>&lt;a href=\"http://twitter.com/download/android\" ...</td>\n",
              "      <td>Putin to #XiJinping : I told you my friend, Ta...</td>\n",
              "      <td>Putin to XiJinping I told you my friend Taiwan...</td>\n",
              "      <td>1</td>\n",
              "      <td>1.000000e-01</td>\n",
              "      <td>0.35000</td>\n",
              "      <td>en</td>\n",
              "      <td>2166</td>\n",
              "      <td>...</td>\n",
              "      <td>0</td>\n",
              "      <td>85</td>\n",
              "      <td>392</td>\n",
              "      <td></td>\n",
              "      <td>XiJinping</td>\n",
              "      <td></td>\n",
              "      <td>Netherlands</td>\n",
              "      <td></td>\n",
              "      <td>vassal Ukrainian s</td>\n",
              "      <td>Putin to XiJinping I told you my friend Taiwan...</td>\n",
              "    </tr>\n",
              "    <tr>\n",
              "      <th>4</th>\n",
              "      <td>2022-08-07 22:31:04+00:00</td>\n",
              "      <td>18958</td>\n",
              "      <td>&lt;a href=\"http://twitter.com/download/iphone\" r...</td>\n",
              "      <td>RT @ChinaUncensored: I’m sorry, I thought Taiw...</td>\n",
              "      <td>I m sorry I thought Taiwan was an independent ...</td>\n",
              "      <td>0</td>\n",
              "      <td>-6.938894e-18</td>\n",
              "      <td>0.55625</td>\n",
              "      <td>en</td>\n",
              "      <td>17247</td>\n",
              "      <td>...</td>\n",
              "      <td>0</td>\n",
              "      <td>910</td>\n",
              "      <td>2608</td>\n",
              "      <td></td>\n",
              "      <td></td>\n",
              "      <td></td>\n",
              "      <td>Ayent, Schweiz</td>\n",
              "      <td></td>\n",
              "      <td>sorry independent own military</td>\n",
              "      <td>I m sorry I thought Taiwan wa an independent c...</td>\n",
              "    </tr>\n",
              "  </tbody>\n",
              "</table>\n",
              "<p>5 rows × 22 columns</p>\n",
              "</div>\n",
              "      <button class=\"colab-df-convert\" onclick=\"convertToInteractive('df-8df1bc44-b73f-43a2-999b-12494c14b4b4')\"\n",
              "              title=\"Convert this dataframe to an interactive table.\"\n",
              "              style=\"display:none;\">\n",
              "        \n",
              "  <svg xmlns=\"http://www.w3.org/2000/svg\" height=\"24px\"viewBox=\"0 0 24 24\"\n",
              "       width=\"24px\">\n",
              "    <path d=\"M0 0h24v24H0V0z\" fill=\"none\"/>\n",
              "    <path d=\"M18.56 5.44l.94 2.06.94-2.06 2.06-.94-2.06-.94-.94-2.06-.94 2.06-2.06.94zm-11 1L8.5 8.5l.94-2.06 2.06-.94-2.06-.94L8.5 2.5l-.94 2.06-2.06.94zm10 10l.94 2.06.94-2.06 2.06-.94-2.06-.94-.94-2.06-.94 2.06-2.06.94z\"/><path d=\"M17.41 7.96l-1.37-1.37c-.4-.4-.92-.59-1.43-.59-.52 0-1.04.2-1.43.59L10.3 9.45l-7.72 7.72c-.78.78-.78 2.05 0 2.83L4 21.41c.39.39.9.59 1.41.59.51 0 1.02-.2 1.41-.59l7.78-7.78 2.81-2.81c.8-.78.8-2.07 0-2.86zM5.41 20L4 18.59l7.72-7.72 1.47 1.35L5.41 20z\"/>\n",
              "  </svg>\n",
              "      </button>\n",
              "      \n",
              "  <style>\n",
              "    .colab-df-container {\n",
              "      display:flex;\n",
              "      flex-wrap:wrap;\n",
              "      gap: 12px;\n",
              "    }\n",
              "\n",
              "    .colab-df-convert {\n",
              "      background-color: #E8F0FE;\n",
              "      border: none;\n",
              "      border-radius: 50%;\n",
              "      cursor: pointer;\n",
              "      display: none;\n",
              "      fill: #1967D2;\n",
              "      height: 32px;\n",
              "      padding: 0 0 0 0;\n",
              "      width: 32px;\n",
              "    }\n",
              "\n",
              "    .colab-df-convert:hover {\n",
              "      background-color: #E2EBFA;\n",
              "      box-shadow: 0px 1px 2px rgba(60, 64, 67, 0.3), 0px 1px 3px 1px rgba(60, 64, 67, 0.15);\n",
              "      fill: #174EA6;\n",
              "    }\n",
              "\n",
              "    [theme=dark] .colab-df-convert {\n",
              "      background-color: #3B4455;\n",
              "      fill: #D2E3FC;\n",
              "    }\n",
              "\n",
              "    [theme=dark] .colab-df-convert:hover {\n",
              "      background-color: #434B5C;\n",
              "      box-shadow: 0px 1px 3px 1px rgba(0, 0, 0, 0.15);\n",
              "      filter: drop-shadow(0px 1px 2px rgba(0, 0, 0, 0.3));\n",
              "      fill: #FFFFFF;\n",
              "    }\n",
              "  </style>\n",
              "\n",
              "      <script>\n",
              "        const buttonEl =\n",
              "          document.querySelector('#df-8df1bc44-b73f-43a2-999b-12494c14b4b4 button.colab-df-convert');\n",
              "        buttonEl.style.display =\n",
              "          google.colab.kernel.accessAllowed ? 'block' : 'none';\n",
              "\n",
              "        async function convertToInteractive(key) {\n",
              "          const element = document.querySelector('#df-8df1bc44-b73f-43a2-999b-12494c14b4b4');\n",
              "          const dataTable =\n",
              "            await google.colab.kernel.invokeFunction('convertToInteractive',\n",
              "                                                     [key], {});\n",
              "          if (!dataTable) return;\n",
              "\n",
              "          const docLinkHtml = 'Like what you see? Visit the ' +\n",
              "            '<a target=\"_blank\" href=https://colab.research.google.com/notebooks/data_table.ipynb>data table notebook</a>'\n",
              "            + ' to learn more about interactive tables.';\n",
              "          element.innerHTML = '';\n",
              "          dataTable['output_type'] = 'display_data';\n",
              "          await google.colab.output.renderOutput(dataTable, element);\n",
              "          const docLink = document.createElement('div');\n",
              "          docLink.innerHTML = docLinkHtml;\n",
              "          element.appendChild(docLink);\n",
              "        }\n",
              "      </script>\n",
              "    </div>\n",
              "  </div>\n",
              "  "
            ]
          },
          "metadata": {},
          "execution_count": 18
        }
      ],
      "source": [
        "model_df.head()"
      ]
    },
    {
      "cell_type": "code",
      "execution_count": 19,
      "id": "8ce02b50",
      "metadata": {
        "id": "8ce02b50"
      },
      "outputs": [],
      "source": [
        "# Extract all tweets into one long string with each word separate with a \"space\"\n",
        "tweets_long_string = model_df['Tweets_Adjectives'].tolist()\n",
        "tweets_long_string = \" \".join(tweets_long_string)"
      ]
    },
    {
      "cell_type": "code",
      "execution_count": 24,
      "id": "53006177",
      "metadata": {
        "id": "53006177"
      },
      "outputs": [],
      "source": [
        "# Function to create blue color for twitter logo\n",
        "def blue_color_func(word, font_size, position, orientation, random_state=None,**kwargs):\n",
        "    return \"hsl(210, 100%%, %d%%)\" % random.randint(50, 70)"
      ]
    },
    {
      "cell_type": "code",
      "execution_count": 25,
      "id": "70e73d33",
      "metadata": {
        "id": "70e73d33"
      },
      "outputs": [],
      "source": [
        "# Import Twitter Logo\n",
        "image = np.array(Image.open('/content/drive/MyDrive/twitter_logo.png'))"
      ]
    },
    {
      "cell_type": "code",
      "execution_count": 26,
      "id": "c7ccb3f8",
      "metadata": {
        "id": "c7ccb3f8"
      },
      "outputs": [],
      "source": [
        "from wordcloud import STOPWORDS,WordCloud\n",
        "import random"
      ]
    },
    {
      "cell_type": "code",
      "execution_count": 27,
      "id": "c29a7e2c",
      "metadata": {
        "colab": {
          "base_uri": "https://localhost:8080/",
          "height": 823
        },
        "id": "c29a7e2c",
        "outputId": "28882ba8-6d51-4708-abbc-b7ce0aa2ad23"
      },
      "outputs": [
        {
          "output_type": "execute_result",
          "data": {
            "text/plain": [
              "(-0.5, 794.5, 788.5, -0.5)"
            ]
          },
          "metadata": {},
          "execution_count": 27
        },
        {
          "output_type": "display_data",
          "data": {
            "text/plain": [
              "<Figure size 1008x1296 with 1 Axes>"
            ],
            "image/png": "[encoded data removed]"
          },
          "metadata": {
            "needs_background": "light"
          }
        }
      ],
      "source": [
        "# Instantiate the Twitter word cloud object\n",
        "twitter_wc = WordCloud(background_color='white', max_words=1500, mask=image)\n",
        "\n",
        "# generate the word cloud\n",
        "twitter_wc.generate(tweets_long_string)\n",
        "\n",
        "# display the word cloud\n",
        "fig = plt.figure()\n",
        "fig.set_figwidth(14)  # set width\n",
        "fig.set_figheight(18)  # set height\n",
        "\n",
        "plt.imshow(twitter_wc.recolor(color_func=blue_color_func, random_state=3),\n",
        "           interpolation=\"bilinear\")\n",
        "plt.axis('off')"
      ]
    },
    {
      "cell_type": "code",
      "execution_count": 28,
      "id": "23cd4da3",
      "metadata": {
        "id": "23cd4da3"
      },
      "outputs": [],
      "source": [
        "# import textblob\n",
        "from textblob import TextBlob"
      ]
    },
    {
      "cell_type": "code",
      "execution_count": 30,
      "id": "27df9da6",
      "metadata": {
        "id": "27df9da6"
      },
      "outputs": [],
      "source": [
        "# Create function to obtain Subjectivity Score\n",
        "def getSubjectivity(tweet):\n",
        "    return TextBlob(tweet).sentiment.subjectivity\n",
        "\n",
        "# Create function to obtain Polarity Score\n",
        "def getPolarity(tweet):\n",
        "    return TextBlob(tweet).sentiment.polarity\n",
        "\n",
        "# Create function to obtain Sentiment category\n",
        "def getSentimentTextBlob(polarity):\n",
        "    if polarity < 0:\n",
        "        return \"Negative\"\n",
        "    elif polarity == 0:\n",
        "        return \"Neutral\"\n",
        "    else:\n",
        "        return \"Positive\""
      ]
    },
    {
      "cell_type": "code",
      "execution_count": 31,
      "id": "bb2e40f5",
      "metadata": {
        "id": "bb2e40f5"
      },
      "outputs": [],
      "source": [
        "# Apply all functions above to respective columns\n",
        "# also used validate the dataset sentimnt values\n",
        "model_df['Subjectivity'] = model_df['Tweets_Sentiments'].apply(getSubjectivity)\n",
        "model_df['Polarity'] = model_df['Tweets_Sentiments'].apply(getPolarity)\n",
        "model_df['Sentiment'] = model_df['Polarity'].apply(getSentimentTextBlob)"
      ]
    },
    {
      "cell_type": "code",
      "execution_count": 32,
      "id": "5ea35643",
      "metadata": {
        "colab": {
          "base_uri": "https://localhost:8080/",
          "height": 560
        },
        "id": "5ea35643",
        "outputId": "acbf1930-bac5-4a64-bb1a-c3be48a3e75f"
      },
      "outputs": [
        {
          "output_type": "execute_result",
          "data": {
            "text/plain": [
              "                  created_at  statuses_count  \\\n",
              "0  2022-08-07 22:31:20+00:00            8097   \n",
              "1  2022-08-07 22:31:16+00:00            5831   \n",
              "2  2022-08-07 22:31:07+00:00            1627   \n",
              "3  2022-08-07 22:31:06+00:00            1627   \n",
              "4  2022-08-07 22:31:04+00:00           18958   \n",
              "\n",
              "                                              source  \\\n",
              "0  <a href=\"http://twitter.com/download/android\" ...   \n",
              "1  <a href=\"http://twitter.com/download/android\" ...   \n",
              "2  <a href=\"http://twitter.com/download/android\" ...   \n",
              "3  <a href=\"http://twitter.com/download/android\" ...   \n",
              "4  <a href=\"http://twitter.com/download/iphone\" r...   \n",
              "\n",
              "                                       original_text  \\\n",
              "0  RT @i_ameztoy: Extra random image (I):\\n\\nLets...   \n",
              "1  RT @IndoPac_Info: #China's media explains the ...   \n",
              "2  China even cut off communication, they don't a...   \n",
              "3  Putin to #XiJinping : I told you my friend, Ta...   \n",
              "4  RT @ChinaUncensored: I’m sorry, I thought Taiw...   \n",
              "\n",
              "                                          clean_text  sentiment      polarity  \\\n",
              "0  Lets focus in one very specific zone of the we...         -1  0.000000e+00   \n",
              "1  China s media explains the military reasons fo...          0 -1.000000e-01   \n",
              "2  China even cut off communication they don t an...         -1  0.000000e+00   \n",
              "3  Putin to XiJinping I told you my friend Taiwan...          1  1.000000e-01   \n",
              "4  I m sorry I thought Taiwan was an independent ...          0 -6.938894e-18   \n",
              "\n",
              "   subjectivity lang  favorite_count  ...  possibly_sensitive   hashtags  \\\n",
              "0       0.08125   en           15760  ...                           City   \n",
              "1       0.10000   en            6967  ...                          China   \n",
              "2       0.00000   en            2166  ...                      XiJinping   \n",
              "3       0.35000   en            2166  ...                      XiJinping   \n",
              "4       0.55625   en           17247  ...                                  \n",
              "\n",
              "   user_mentions           place  place_coord_boundaries  \\\n",
              "0                                                          \n",
              "1                                                          \n",
              "2                    Netherlands                           \n",
              "3                    Netherlands                           \n",
              "4                 Ayent, Schweiz                           \n",
              "\n",
              "                Tweets_Adjectives  \\\n",
              "0                specific western   \n",
              "1                        military   \n",
              "2                         t clown   \n",
              "3              vassal Ukrainian s   \n",
              "4  sorry independent own military   \n",
              "\n",
              "                                   Tweets_Sentiments Subjectivity  \\\n",
              "0  Lets focus in one very specific zone of the we...      0.08125   \n",
              "1  China s medium explains the military reason fo...      0.10000   \n",
              "2  China even cut off communication they don t an...      0.00000   \n",
              "3  Putin to XiJinping I told you my friend Taiwan...      0.35000   \n",
              "4  I m sorry I thought Taiwan wa an independent c...      0.55625   \n",
              "\n",
              "       Polarity Sentiment  \n",
              "0  0.000000e+00   Neutral  \n",
              "1 -1.000000e-01  Negative  \n",
              "2  0.000000e+00   Neutral  \n",
              "3  1.000000e-01  Positive  \n",
              "4 -6.938894e-18  Negative  \n",
              "\n",
              "[5 rows x 25 columns]"
            ],
            "text/html": [
              "\n",
              "  <div id=\"df-0dc10313-5bdf-47ee-a4a4-055c14afcf02\">\n",
              "    <div class=\"colab-df-container\">\n",
              "      <div>\n",
              "<style scoped>\n",
              "    .dataframe tbody tr th:only-of-type {\n",
              "        vertical-align: middle;\n",
              "    }\n",
              "\n",
              "    .dataframe tbody tr th {\n",
              "        vertical-align: top;\n",
              "    }\n",
              "\n",
              "    .dataframe thead th {\n",
              "        text-align: right;\n",
              "    }\n",
              "</style>\n",
              "<table border=\"1\" class=\"dataframe\">\n",
              "  <thead>\n",
              "    <tr style=\"text-align: right;\">\n",
              "      <th></th>\n",
              "      <th>created_at</th>\n",
              "      <th>statuses_count</th>\n",
              "      <th>source</th>\n",
              "      <th>original_text</th>\n",
              "      <th>clean_text</th>\n",
              "      <th>sentiment</th>\n",
              "      <th>polarity</th>\n",
              "      <th>subjectivity</th>\n",
              "      <th>lang</th>\n",
              "      <th>favorite_count</th>\n",
              "      <th>...</th>\n",
              "      <th>possibly_sensitive</th>\n",
              "      <th>hashtags</th>\n",
              "      <th>user_mentions</th>\n",
              "      <th>place</th>\n",
              "      <th>place_coord_boundaries</th>\n",
              "      <th>Tweets_Adjectives</th>\n",
              "      <th>Tweets_Sentiments</th>\n",
              "      <th>Subjectivity</th>\n",
              "      <th>Polarity</th>\n",
              "      <th>Sentiment</th>\n",
              "    </tr>\n",
              "  </thead>\n",
              "  <tbody>\n",
              "    <tr>\n",
              "      <th>0</th>\n",
              "      <td>2022-08-07 22:31:20+00:00</td>\n",
              "      <td>8097</td>\n",
              "      <td>&lt;a href=\"http://twitter.com/download/android\" ...</td>\n",
              "      <td>RT @i_ameztoy: Extra random image (I):\\n\\nLets...</td>\n",
              "      <td>Lets focus in one very specific zone of the we...</td>\n",
              "      <td>-1</td>\n",
              "      <td>0.000000e+00</td>\n",
              "      <td>0.08125</td>\n",
              "      <td>en</td>\n",
              "      <td>15760</td>\n",
              "      <td>...</td>\n",
              "      <td></td>\n",
              "      <td>City</td>\n",
              "      <td></td>\n",
              "      <td></td>\n",
              "      <td></td>\n",
              "      <td>specific western</td>\n",
              "      <td>Lets focus in one very specific zone of the we...</td>\n",
              "      <td>0.08125</td>\n",
              "      <td>0.000000e+00</td>\n",
              "      <td>Neutral</td>\n",
              "    </tr>\n",
              "    <tr>\n",
              "      <th>1</th>\n",
              "      <td>2022-08-07 22:31:16+00:00</td>\n",
              "      <td>5831</td>\n",
              "      <td>&lt;a href=\"http://twitter.com/download/android\" ...</td>\n",
              "      <td>RT @IndoPac_Info: #China's media explains the ...</td>\n",
              "      <td>China s media explains the military reasons fo...</td>\n",
              "      <td>0</td>\n",
              "      <td>-1.000000e-01</td>\n",
              "      <td>0.10000</td>\n",
              "      <td>en</td>\n",
              "      <td>6967</td>\n",
              "      <td>...</td>\n",
              "      <td></td>\n",
              "      <td>China</td>\n",
              "      <td></td>\n",
              "      <td></td>\n",
              "      <td></td>\n",
              "      <td>military</td>\n",
              "      <td>China s medium explains the military reason fo...</td>\n",
              "      <td>0.10000</td>\n",
              "      <td>-1.000000e-01</td>\n",
              "      <td>Negative</td>\n",
              "    </tr>\n",
              "    <tr>\n",
              "      <th>2</th>\n",
              "      <td>2022-08-07 22:31:07+00:00</td>\n",
              "      <td>1627</td>\n",
              "      <td>&lt;a href=\"http://twitter.com/download/android\" ...</td>\n",
              "      <td>China even cut off communication, they don't a...</td>\n",
              "      <td>China even cut off communication they don t an...</td>\n",
              "      <td>-1</td>\n",
              "      <td>0.000000e+00</td>\n",
              "      <td>0.00000</td>\n",
              "      <td>en</td>\n",
              "      <td>2166</td>\n",
              "      <td>...</td>\n",
              "      <td></td>\n",
              "      <td>XiJinping</td>\n",
              "      <td></td>\n",
              "      <td>Netherlands</td>\n",
              "      <td></td>\n",
              "      <td>t clown</td>\n",
              "      <td>China even cut off communication they don t an...</td>\n",
              "      <td>0.00000</td>\n",
              "      <td>0.000000e+00</td>\n",
              "      <td>Neutral</td>\n",
              "    </tr>\n",
              "    <tr>\n",
              "      <th>3</th>\n",
              "      <td>2022-08-07 22:31:06+00:00</td>\n",
              "      <td>1627</td>\n",
              "      <td>&lt;a href=\"http://twitter.com/download/android\" ...</td>\n",
              "      <td>Putin to #XiJinping : I told you my friend, Ta...</td>\n",
              "      <td>Putin to XiJinping I told you my friend Taiwan...</td>\n",
              "      <td>1</td>\n",
              "      <td>1.000000e-01</td>\n",
              "      <td>0.35000</td>\n",
              "      <td>en</td>\n",
              "      <td>2166</td>\n",
              "      <td>...</td>\n",
              "      <td></td>\n",
              "      <td>XiJinping</td>\n",
              "      <td></td>\n",
              "      <td>Netherlands</td>\n",
              "      <td></td>\n",
              "      <td>vassal Ukrainian s</td>\n",
              "      <td>Putin to XiJinping I told you my friend Taiwan...</td>\n",
              "      <td>0.35000</td>\n",
              "      <td>1.000000e-01</td>\n",
              "      <td>Positive</td>\n",
              "    </tr>\n",
              "    <tr>\n",
              "      <th>4</th>\n",
              "      <td>2022-08-07 22:31:04+00:00</td>\n",
              "      <td>18958</td>\n",
              "      <td>&lt;a href=\"http://twitter.com/download/iphone\" r...</td>\n",
              "      <td>RT @ChinaUncensored: I’m sorry, I thought Taiw...</td>\n",
              "      <td>I m sorry I thought Taiwan was an independent ...</td>\n",
              "      <td>0</td>\n",
              "      <td>-6.938894e-18</td>\n",
              "      <td>0.55625</td>\n",
              "      <td>en</td>\n",
              "      <td>17247</td>\n",
              "      <td>...</td>\n",
              "      <td></td>\n",
              "      <td></td>\n",
              "      <td></td>\n",
              "      <td>Ayent, Schweiz</td>\n",
              "      <td></td>\n",
              "      <td>sorry independent own military</td>\n",
              "      <td>I m sorry I thought Taiwan wa an independent c...</td>\n",
              "      <td>0.55625</td>\n",
              "      <td>-6.938894e-18</td>\n",
              "      <td>Negative</td>\n",
              "    </tr>\n",
              "  </tbody>\n",
              "</table>\n",
              "<p>5 rows × 25 columns</p>\n",
              "</div>\n",
              "      <button class=\"colab-df-convert\" onclick=\"convertToInteractive('df-0dc10313-5bdf-47ee-a4a4-055c14afcf02')\"\n",
              "              title=\"Convert this dataframe to an interactive table.\"\n",
              "              style=\"display:none;\">\n",
              "        \n",
              "  <svg xmlns=\"http://www.w3.org/2000/svg\" height=\"24px\"viewBox=\"0 0 24 24\"\n",
              "       width=\"24px\">\n",
              "    <path d=\"M0 0h24v24H0V0z\" fill=\"none\"/>\n",
              "    <path d=\"M18.56 5.44l.94 2.06.94-2.06 2.06-.94-2.06-.94-.94-2.06-.94 2.06-2.06.94zm-11 1L8.5 8.5l.94-2.06 2.06-.94-2.06-.94L8.5 2.5l-.94 2.06-2.06.94zm10 10l.94 2.06.94-2.06 2.06-.94-2.06-.94-.94-2.06-.94 2.06-2.06.94z\"/><path d=\"M17.41 7.96l-1.37-1.37c-.4-.4-.92-.59-1.43-.59-.52 0-1.04.2-1.43.59L10.3 9.45l-7.72 7.72c-.78.78-.78 2.05 0 2.83L4 21.41c.39.39.9.59 1.41.59.51 0 1.02-.2 1.41-.59l7.78-7.78 2.81-2.81c.8-.78.8-2.07 0-2.86zM5.41 20L4 18.59l7.72-7.72 1.47 1.35L5.41 20z\"/>\n",
              "  </svg>\n",
              "      </button>\n",
              "      \n",
              "  <style>\n",
              "    .colab-df-container {\n",
              "      display:flex;\n",
              "      flex-wrap:wrap;\n",
              "      gap: 12px;\n",
              "    }\n",
              "\n",
              "    .colab-df-convert {\n",
              "      background-color: #E8F0FE;\n",
              "      border: none;\n",
              "      border-radius: 50%;\n",
              "      cursor: pointer;\n",
              "      display: none;\n",
              "      fill: #1967D2;\n",
              "      height: 32px;\n",
              "      padding: 0 0 0 0;\n",
              "      width: 32px;\n",
              "    }\n",
              "\n",
              "    .colab-df-convert:hover {\n",
              "      background-color: #E2EBFA;\n",
              "      box-shadow: 0px 1px 2px rgba(60, 64, 67, 0.3), 0px 1px 3px 1px rgba(60, 64, 67, 0.15);\n",
              "      fill: #174EA6;\n",
              "    }\n",
              "\n",
              "    [theme=dark] .colab-df-convert {\n",
              "      background-color: #3B4455;\n",
              "      fill: #D2E3FC;\n",
              "    }\n",
              "\n",
              "    [theme=dark] .colab-df-convert:hover {\n",
              "      background-color: #434B5C;\n",
              "      box-shadow: 0px 1px 3px 1px rgba(0, 0, 0, 0.15);\n",
              "      filter: drop-shadow(0px 1px 2px rgba(0, 0, 0, 0.3));\n",
              "      fill: #FFFFFF;\n",
              "    }\n",
              "  </style>\n",
              "\n",
              "      <script>\n",
              "        const buttonEl =\n",
              "          document.querySelector('#df-0dc10313-5bdf-47ee-a4a4-055c14afcf02 button.colab-df-convert');\n",
              "        buttonEl.style.display =\n",
              "          google.colab.kernel.accessAllowed ? 'block' : 'none';\n",
              "\n",
              "        async function convertToInteractive(key) {\n",
              "          const element = document.querySelector('#df-0dc10313-5bdf-47ee-a4a4-055c14afcf02');\n",
              "          const dataTable =\n",
              "            await google.colab.kernel.invokeFunction('convertToInteractive',\n",
              "                                                     [key], {});\n",
              "          if (!dataTable) return;\n",
              "\n",
              "          const docLinkHtml = 'Like what you see? Visit the ' +\n",
              "            '<a target=\"_blank\" href=https://colab.research.google.com/notebooks/data_table.ipynb>data table notebook</a>'\n",
              "            + ' to learn more about interactive tables.';\n",
              "          element.innerHTML = '';\n",
              "          dataTable['output_type'] = 'display_data';\n",
              "          await google.colab.output.renderOutput(dataTable, element);\n",
              "          const docLink = document.createElement('div');\n",
              "          docLink.innerHTML = docLinkHtml;\n",
              "          element.appendChild(docLink);\n",
              "        }\n",
              "      </script>\n",
              "    </div>\n",
              "  </div>\n",
              "  "
            ]
          },
          "metadata": {},
          "execution_count": 32
        }
      ],
      "source": [
        "model_df.head()"
      ]
    },
    {
      "cell_type": "code",
      "execution_count": 33,
      "id": "da4390e6",
      "metadata": {
        "colab": {
          "base_uri": "https://localhost:8080/"
        },
        "id": "da4390e6",
        "outputId": "20ba7f8f-b42e-4ccc-914b-20ed0fc5e8a5"
      },
      "outputs": [
        {
          "output_type": "execute_result",
          "data": {
            "text/plain": [
              "Neutral     9088\n",
              "Positive    8211\n",
              "Negative    4701\n",
              "Name: Sentiment, dtype: int64"
            ]
          },
          "metadata": {},
          "execution_count": 33
        }
      ],
      "source": [
        "model_df['Sentiment'].value_counts()"
      ]
    },
    {
      "cell_type": "code",
      "execution_count": 127,
      "id": "4c8f4aed",
      "metadata": {
        "id": "4c8f4aed"
      },
      "outputs": [],
      "source": [
        "bar_plot =  model_df['Sentiment'].value_counts().rename_axis('Sentiment').to_frame('Total Tweets').reset_index()   \n"
      ]
    },
    {
      "cell_type": "code",
      "execution_count": 128,
      "id": "bff65b32",
      "metadata": {
        "colab": {
          "base_uri": "https://localhost:8080/",
          "height": 143
        },
        "id": "bff65b32",
        "outputId": "63d38826-8633-4b58-93ef-6d8621036df5"
      },
      "outputs": [
        {
          "output_type": "execute_result",
          "data": {
            "text/plain": [
              "  Sentiment  Total Tweets\n",
              "0   Neutral          9088\n",
              "1  Positive          8211\n",
              "2  Negative          4701"
            ],
            "text/html": [
              "\n",
              "  <div id=\"df-31ab7ca3-ee46-401b-a24b-034317ce10ec\">\n",
              "    <div class=\"colab-df-container\">\n",
              "      <div>\n",
              "<style scoped>\n",
              "    .dataframe tbody tr th:only-of-type {\n",
              "        vertical-align: middle;\n",
              "    }\n",
              "\n",
              "    .dataframe tbody tr th {\n",
              "        vertical-align: top;\n",
              "    }\n",
              "\n",
              "    .dataframe thead th {\n",
              "        text-align: right;\n",
              "    }\n",
              "</style>\n",
              "<table border=\"1\" class=\"dataframe\">\n",
              "  <thead>\n",
              "    <tr style=\"text-align: right;\">\n",
              "      <th></th>\n",
              "      <th>Sentiment</th>\n",
              "      <th>Total Tweets</th>\n",
              "    </tr>\n",
              "  </thead>\n",
              "  <tbody>\n",
              "    <tr>\n",
              "      <th>0</th>\n",
              "      <td>Neutral</td>\n",
              "      <td>9088</td>\n",
              "    </tr>\n",
              "    <tr>\n",
              "      <th>1</th>\n",
              "      <td>Positive</td>\n",
              "      <td>8211</td>\n",
              "    </tr>\n",
              "    <tr>\n",
              "      <th>2</th>\n",
              "      <td>Negative</td>\n",
              "      <td>4701</td>\n",
              "    </tr>\n",
              "  </tbody>\n",
              "</table>\n",
              "</div>\n",
              "      <button class=\"colab-df-convert\" onclick=\"convertToInteractive('df-31ab7ca3-ee46-401b-a24b-034317ce10ec')\"\n",
              "              title=\"Convert this dataframe to an interactive table.\"\n",
              "              style=\"display:none;\">\n",
              "        \n",
              "  <svg xmlns=\"http://www.w3.org/2000/svg\" height=\"24px\"viewBox=\"0 0 24 24\"\n",
              "       width=\"24px\">\n",
              "    <path d=\"M0 0h24v24H0V0z\" fill=\"none\"/>\n",
              "    <path d=\"M18.56 5.44l.94 2.06.94-2.06 2.06-.94-2.06-.94-.94-2.06-.94 2.06-2.06.94zm-11 1L8.5 8.5l.94-2.06 2.06-.94-2.06-.94L8.5 2.5l-.94 2.06-2.06.94zm10 10l.94 2.06.94-2.06 2.06-.94-2.06-.94-.94-2.06-.94 2.06-2.06.94z\"/><path d=\"M17.41 7.96l-1.37-1.37c-.4-.4-.92-.59-1.43-.59-.52 0-1.04.2-1.43.59L10.3 9.45l-7.72 7.72c-.78.78-.78 2.05 0 2.83L4 21.41c.39.39.9.59 1.41.59.51 0 1.02-.2 1.41-.59l7.78-7.78 2.81-2.81c.8-.78.8-2.07 0-2.86zM5.41 20L4 18.59l7.72-7.72 1.47 1.35L5.41 20z\"/>\n",
              "  </svg>\n",
              "      </button>\n",
              "      \n",
              "  <style>\n",
              "    .colab-df-container {\n",
              "      display:flex;\n",
              "      flex-wrap:wrap;\n",
              "      gap: 12px;\n",
              "    }\n",
              "\n",
              "    .colab-df-convert {\n",
              "      background-color: #E8F0FE;\n",
              "      border: none;\n",
              "      border-radius: 50%;\n",
              "      cursor: pointer;\n",
              "      display: none;\n",
              "      fill: #1967D2;\n",
              "      height: 32px;\n",
              "      padding: 0 0 0 0;\n",
              "      width: 32px;\n",
              "    }\n",
              "\n",
              "    .colab-df-convert:hover {\n",
              "      background-color: #E2EBFA;\n",
              "      box-shadow: 0px 1px 2px rgba(60, 64, 67, 0.3), 0px 1px 3px 1px rgba(60, 64, 67, 0.15);\n",
              "      fill: #174EA6;\n",
              "    }\n",
              "\n",
              "    [theme=dark] .colab-df-convert {\n",
              "      background-color: #3B4455;\n",
              "      fill: #D2E3FC;\n",
              "    }\n",
              "\n",
              "    [theme=dark] .colab-df-convert:hover {\n",
              "      background-color: #434B5C;\n",
              "      box-shadow: 0px 1px 3px 1px rgba(0, 0, 0, 0.15);\n",
              "      filter: drop-shadow(0px 1px 2px rgba(0, 0, 0, 0.3));\n",
              "      fill: #FFFFFF;\n",
              "    }\n",
              "  </style>\n",
              "\n",
              "      <script>\n",
              "        const buttonEl =\n",
              "          document.querySelector('#df-31ab7ca3-ee46-401b-a24b-034317ce10ec button.colab-df-convert');\n",
              "        buttonEl.style.display =\n",
              "          google.colab.kernel.accessAllowed ? 'block' : 'none';\n",
              "\n",
              "        async function convertToInteractive(key) {\n",
              "          const element = document.querySelector('#df-31ab7ca3-ee46-401b-a24b-034317ce10ec');\n",
              "          const dataTable =\n",
              "            await google.colab.kernel.invokeFunction('convertToInteractive',\n",
              "                                                     [key], {});\n",
              "          if (!dataTable) return;\n",
              "\n",
              "          const docLinkHtml = 'Like what you see? Visit the ' +\n",
              "            '<a target=\"_blank\" href=https://colab.research.google.com/notebooks/data_table.ipynb>data table notebook</a>'\n",
              "            + ' to learn more about interactive tables.';\n",
              "          element.innerHTML = '';\n",
              "          dataTable['output_type'] = 'display_data';\n",
              "          await google.colab.output.renderOutput(dataTable, element);\n",
              "          const docLink = document.createElement('div');\n",
              "          docLink.innerHTML = docLinkHtml;\n",
              "          element.appendChild(docLink);\n",
              "        }\n",
              "      </script>\n",
              "    </div>\n",
              "  </div>\n",
              "  "
            ]
          },
          "metadata": {},
          "execution_count": 128
        }
      ],
      "source": [
        "bar_plot"
      ]
    },
    {
      "cell_type": "code",
      "execution_count": 129,
      "id": "6307983b",
      "metadata": {
        "colab": {
          "base_uri": "https://localhost:8080/",
          "height": 295
        },
        "id": "6307983b",
        "outputId": "63b0d4a5-0363-4841-f225-7574f71f717e"
      },
      "outputs": [
        {
          "output_type": "display_data",
          "data": {
            "text/plain": [
              "<Figure size 432x288 with 1 Axes>"
            ],
            "image/png": "[encoded data removed]"
          },
          "metadata": {
            "needs_background": "light"
          }
        }
      ],
      "source": [
        "x = bar_plot['Sentiment']\n",
        "y = bar_plot['Total Tweets']\n",
        "c = [\"green\", \"yellow\", \"red\"]\n",
        "plt.bar(x, y, width=0.5, color=c)\n",
        "plt.xlabel(\"Sentiment\")\n",
        "plt.ylabel(\"Total Tweets\")\n",
        "plt.title(\"Distribution of Sentiments\")\n",
        "plt.show()"
      ]
    },
    {
      "cell_type": "code",
      "execution_count": 89,
      "id": "b78b9daf",
      "metadata": {
        "id": "b78b9daf"
      },
      "outputs": [],
      "source": [
        "sentiment_tweet = model_df[['Tweets_Sentiments','polarity']]"
      ]
    },
    {
      "cell_type": "code",
      "execution_count": 90,
      "id": "448e079f",
      "metadata": {
        "id": "448e079f"
      },
      "outputs": [],
      "source": [
        "score = pd.Series([getSentimentTextBlob(row_value) for row_value in sentiment_tweet['polarity']])\n"
      ]
    },
    {
      "cell_type": "code",
      "execution_count": 91,
      "id": "ec8c03b3",
      "metadata": {
        "id": "ec8c03b3"
      },
      "outputs": [],
      "source": [
        "sentiment_tweet = pd.concat([sentiment_tweet, score.rename(\"score\")], axis=1)"
      ]
    },
    {
      "cell_type": "code",
      "execution_count": 92,
      "id": "71acbdf9",
      "metadata": {
        "colab": {
          "base_uri": "https://localhost:8080/",
          "height": 206
        },
        "id": "71acbdf9",
        "outputId": "d5786415-08e0-4c4b-f1ed-eeb14e7515bc"
      },
      "outputs": [
        {
          "output_type": "execute_result",
          "data": {
            "text/plain": [
              "                                   Tweets_Sentiments      polarity     score\n",
              "0  Lets focus in one very specific zone of the we...  0.000000e+00   Neutral\n",
              "1  China s medium explains the military reason fo... -1.000000e-01  Negative\n",
              "2  China even cut off communication they don t an...  0.000000e+00   Neutral\n",
              "3  Putin to XiJinping I told you my friend Taiwan...  1.000000e-01  Positive\n",
              "4  I m sorry I thought Taiwan wa an independent c... -6.938894e-18  Negative"
            ],
            "text/html": [
              "\n",
              "  <div id=\"df-effadc27-8af8-4b50-87cb-05688a1a5bda\">\n",
              "    <div class=\"colab-df-container\">\n",
              "      <div>\n",
              "<style scoped>\n",
              "    .dataframe tbody tr th:only-of-type {\n",
              "        vertical-align: middle;\n",
              "    }\n",
              "\n",
              "    .dataframe tbody tr th {\n",
              "        vertical-align: top;\n",
              "    }\n",
              "\n",
              "    .dataframe thead th {\n",
              "        text-align: right;\n",
              "    }\n",
              "</style>\n",
              "<table border=\"1\" class=\"dataframe\">\n",
              "  <thead>\n",
              "    <tr style=\"text-align: right;\">\n",
              "      <th></th>\n",
              "      <th>Tweets_Sentiments</th>\n",
              "      <th>polarity</th>\n",
              "      <th>score</th>\n",
              "    </tr>\n",
              "  </thead>\n",
              "  <tbody>\n",
              "    <tr>\n",
              "      <th>0</th>\n",
              "      <td>Lets focus in one very specific zone of the we...</td>\n",
              "      <td>0.000000e+00</td>\n",
              "      <td>Neutral</td>\n",
              "    </tr>\n",
              "    <tr>\n",
              "      <th>1</th>\n",
              "      <td>China s medium explains the military reason fo...</td>\n",
              "      <td>-1.000000e-01</td>\n",
              "      <td>Negative</td>\n",
              "    </tr>\n",
              "    <tr>\n",
              "      <th>2</th>\n",
              "      <td>China even cut off communication they don t an...</td>\n",
              "      <td>0.000000e+00</td>\n",
              "      <td>Neutral</td>\n",
              "    </tr>\n",
              "    <tr>\n",
              "      <th>3</th>\n",
              "      <td>Putin to XiJinping I told you my friend Taiwan...</td>\n",
              "      <td>1.000000e-01</td>\n",
              "      <td>Positive</td>\n",
              "    </tr>\n",
              "    <tr>\n",
              "      <th>4</th>\n",
              "      <td>I m sorry I thought Taiwan wa an independent c...</td>\n",
              "      <td>-6.938894e-18</td>\n",
              "      <td>Negative</td>\n",
              "    </tr>\n",
              "  </tbody>\n",
              "</table>\n",
              "</div>\n",
              "      <button class=\"colab-df-convert\" onclick=\"convertToInteractive('df-effadc27-8af8-4b50-87cb-05688a1a5bda')\"\n",
              "              title=\"Convert this dataframe to an interactive table.\"\n",
              "              style=\"display:none;\">\n",
              "        \n",
              "  <svg xmlns=\"http://www.w3.org/2000/svg\" height=\"24px\"viewBox=\"0 0 24 24\"\n",
              "       width=\"24px\">\n",
              "    <path d=\"M0 0h24v24H0V0z\" fill=\"none\"/>\n",
              "    <path d=\"M18.56 5.44l.94 2.06.94-2.06 2.06-.94-2.06-.94-.94-2.06-.94 2.06-2.06.94zm-11 1L8.5 8.5l.94-2.06 2.06-.94-2.06-.94L8.5 2.5l-.94 2.06-2.06.94zm10 10l.94 2.06.94-2.06 2.06-.94-2.06-.94-.94-2.06-.94 2.06-2.06.94z\"/><path d=\"M17.41 7.96l-1.37-1.37c-.4-.4-.92-.59-1.43-.59-.52 0-1.04.2-1.43.59L10.3 9.45l-7.72 7.72c-.78.78-.78 2.05 0 2.83L4 21.41c.39.39.9.59 1.41.59.51 0 1.02-.2 1.41-.59l7.78-7.78 2.81-2.81c.8-.78.8-2.07 0-2.86zM5.41 20L4 18.59l7.72-7.72 1.47 1.35L5.41 20z\"/>\n",
              "  </svg>\n",
              "      </button>\n",
              "      \n",
              "  <style>\n",
              "    .colab-df-container {\n",
              "      display:flex;\n",
              "      flex-wrap:wrap;\n",
              "      gap: 12px;\n",
              "    }\n",
              "\n",
              "    .colab-df-convert {\n",
              "      background-color: #E8F0FE;\n",
              "      border: none;\n",
              "      border-radius: 50%;\n",
              "      cursor: pointer;\n",
              "      display: none;\n",
              "      fill: #1967D2;\n",
              "      height: 32px;\n",
              "      padding: 0 0 0 0;\n",
              "      width: 32px;\n",
              "    }\n",
              "\n",
              "    .colab-df-convert:hover {\n",
              "      background-color: #E2EBFA;\n",
              "      box-shadow: 0px 1px 2px rgba(60, 64, 67, 0.3), 0px 1px 3px 1px rgba(60, 64, 67, 0.15);\n",
              "      fill: #174EA6;\n",
              "    }\n",
              "\n",
              "    [theme=dark] .colab-df-convert {\n",
              "      background-color: #3B4455;\n",
              "      fill: #D2E3FC;\n",
              "    }\n",
              "\n",
              "    [theme=dark] .colab-df-convert:hover {\n",
              "      background-color: #434B5C;\n",
              "      box-shadow: 0px 1px 3px 1px rgba(0, 0, 0, 0.15);\n",
              "      filter: drop-shadow(0px 1px 2px rgba(0, 0, 0, 0.3));\n",
              "      fill: #FFFFFF;\n",
              "    }\n",
              "  </style>\n",
              "\n",
              "      <script>\n",
              "        const buttonEl =\n",
              "          document.querySelector('#df-effadc27-8af8-4b50-87cb-05688a1a5bda button.colab-df-convert');\n",
              "        buttonEl.style.display =\n",
              "          google.colab.kernel.accessAllowed ? 'block' : 'none';\n",
              "\n",
              "        async function convertToInteractive(key) {\n",
              "          const element = document.querySelector('#df-effadc27-8af8-4b50-87cb-05688a1a5bda');\n",
              "          const dataTable =\n",
              "            await google.colab.kernel.invokeFunction('convertToInteractive',\n",
              "                                                     [key], {});\n",
              "          if (!dataTable) return;\n",
              "\n",
              "          const docLinkHtml = 'Like what you see? Visit the ' +\n",
              "            '<a target=\"_blank\" href=https://colab.research.google.com/notebooks/data_table.ipynb>data table notebook</a>'\n",
              "            + ' to learn more about interactive tables.';\n",
              "          element.innerHTML = '';\n",
              "          dataTable['output_type'] = 'display_data';\n",
              "          await google.colab.output.renderOutput(dataTable, element);\n",
              "          const docLink = document.createElement('div');\n",
              "          docLink.innerHTML = docLinkHtml;\n",
              "          element.appendChild(docLink);\n",
              "        }\n",
              "      </script>\n",
              "    </div>\n",
              "  </div>\n",
              "  "
            ]
          },
          "metadata": {},
          "execution_count": 92
        }
      ],
      "source": [
        "sentiment_tweet.head()"
      ]
    },
    {
      "cell_type": "code",
      "execution_count": 93,
      "id": "3f4c679f",
      "metadata": {
        "id": "3f4c679f"
      },
      "outputs": [],
      "source": [
        "scoremap = pd.Series([1 if row_value == 'Positive' else 0 for row_value in sentiment_tweet['score']])"
      ]
    },
    {
      "cell_type": "code",
      "execution_count": 42,
      "id": "c09c58cd",
      "metadata": {
        "colab": {
          "base_uri": "https://localhost:8080/"
        },
        "id": "c09c58cd",
        "outputId": "557b2a36-4bd9-4de1-8fda-7e0481d02606"
      },
      "outputs": [
        {
          "output_type": "execute_result",
          "data": {
            "text/plain": [
              "22000"
            ]
          },
          "metadata": {},
          "execution_count": 42
        }
      ],
      "source": [
        "len(scoremap)"
      ]
    },
    {
      "cell_type": "code",
      "execution_count": 94,
      "id": "53ec57d8",
      "metadata": {
        "id": "53ec57d8"
      },
      "outputs": [],
      "source": [
        "sentiment_tweet['scoremap'] = scoremap\n",
        "X = sentiment_tweet['Tweets_Sentiments']\n",
        "y = sentiment_tweet['scoremap']"
      ]
    },
    {
      "cell_type": "code",
      "execution_count": 95,
      "id": "ef624fd4",
      "metadata": {
        "id": "ef624fd4"
      },
      "outputs": [],
      "source": [
        "X_train, X_test, y_train, y_test = train_test_split(X, y, test_size=0.2, random_state=42)"
      ]
    },
    {
      "cell_type": "code",
      "execution_count": 96,
      "id": "1428c38e",
      "metadata": {
        "colab": {
          "base_uri": "https://localhost:8080/"
        },
        "id": "1428c38e",
        "outputId": "26b3a1ad-f230-4d9b-fe19-717608c07619"
      },
      "outputs": [
        {
          "output_type": "stream",
          "name": "stdout",
          "text": [
            "17600 , 4400\n",
            "4400 , 4400\n"
          ]
        }
      ],
      "source": [
        "print(X_train.size,',' , X_test.size)\n",
        "print(X_test.size, ',',y_test.size)"
      ]
    },
    {
      "cell_type": "code",
      "execution_count": 97,
      "id": "760b86be",
      "metadata": {
        "id": "760b86be"
      },
      "outputs": [],
      "source": [
        "# scaling the input\n",
        "clf = LinearSVC()"
      ]
    },
    {
      "cell_type": "code",
      "execution_count": 98,
      "id": "0c9b8b76",
      "metadata": {
        "id": "0c9b8b76"
      },
      "outputs": [],
      "source": [
        "unigram_tfidf_vectorizer = TfidfVectorizer(max_features=10000, ngram_range = (1, 1))\n",
        "bigram_tfidf_vectorizer = TfidfVectorizer(max_features=10000, ngram_range = (2, 2))\n",
        "hybrid_tfidf_vectorizer = TfidfVectorizer(max_features=10000, ngram_range = (1, 2))"
      ]
    },
    {
      "cell_type": "code",
      "execution_count": 99,
      "id": "f1a5200b",
      "metadata": {
        "colab": {
          "base_uri": "https://localhost:8080/"
        },
        "id": "f1a5200b",
        "outputId": "f657a14b-3852-4e6f-c35c-98a51e4b1732"
      },
      "outputs": [
        {
          "output_type": "execute_result",
          "data": {
            "text/plain": [
              "LinearSVC()"
            ]
          },
          "metadata": {},
          "execution_count": 99
        }
      ],
      "source": [
        "X_train = X_train.replace(np.nan, '', regex=True)\n",
        "X_train_counts = unigram_tfidf_vectorizer.fit_transform(X_train)\n",
        "X_train_counts = X_train_counts.toarray()\n",
        "clf.fit(X_train_counts, y_train)"
      ]
    },
    {
      "cell_type": "code",
      "execution_count": 100,
      "id": "7c3e5880",
      "metadata": {
        "id": "7c3e5880"
      },
      "outputs": [],
      "source": [
        "X_test = X_test.replace(np.nan, '', regex=True)\n",
        "X_test_counts = unigram_tfidf_vectorizer.transform(X_test)\n",
        "X_test_counts = X_test_counts.toarray()\n",
        "prediction = clf.predict(X_test_counts)\n"
      ]
    },
    {
      "cell_type": "code",
      "execution_count": 101,
      "id": "9a91515a",
      "metadata": {
        "colab": {
          "base_uri": "https://localhost:8080/"
        },
        "id": "9a91515a",
        "outputId": "57943845-20f9-413b-ce5a-b6b26767e543"
      },
      "outputs": [
        {
          "output_type": "execute_result",
          "data": {
            "text/plain": [
              "0.9593181818181818"
            ]
          },
          "metadata": {},
          "execution_count": 101
        }
      ],
      "source": [
        "np.mean(prediction == y_test)"
      ]
    },
    {
      "cell_type": "code",
      "execution_count": 102,
      "id": "731c6976",
      "metadata": {
        "colab": {
          "base_uri": "https://localhost:8080/"
        },
        "id": "731c6976",
        "outputId": "b9702b21-4de1-48c7-c965-716d044b20b5"
      },
      "outputs": [
        {
          "output_type": "execute_result",
          "data": {
            "text/plain": [
              "LinearSVC()"
            ]
          },
          "metadata": {},
          "execution_count": 102
        }
      ],
      "source": [
        "X_train = X_train.replace(np.nan, '', regex=True)\n",
        "X_train_counts = bigram_tfidf_vectorizer.fit_transform(X_train)\n",
        "X_train_counts = X_train_counts.toarray()\n",
        "clf.fit(X_train_counts, y_train)"
      ]
    },
    {
      "cell_type": "code",
      "execution_count": 103,
      "id": "f822f990",
      "metadata": {
        "id": "f822f990"
      },
      "outputs": [],
      "source": [
        "X_test = X_test.replace(np.nan, '', regex=True)\n",
        "X_test_counts = bigram_tfidf_vectorizer.transform(X_test)\n",
        "X_test_counts = X_test_counts.toarray()\n",
        "prediction = clf.predict(X_test_counts)"
      ]
    },
    {
      "cell_type": "code",
      "execution_count": 104,
      "id": "6f2f04a7",
      "metadata": {
        "colab": {
          "base_uri": "https://localhost:8080/"
        },
        "id": "6f2f04a7",
        "outputId": "e8c18d80-329b-4d47-8477-f659e8c12133"
      },
      "outputs": [
        {
          "output_type": "execute_result",
          "data": {
            "text/plain": [
              "0.9263636363636364"
            ]
          },
          "metadata": {},
          "execution_count": 104
        }
      ],
      "source": [
        "np.mean(prediction == y_test)"
      ]
    },
    {
      "cell_type": "code",
      "execution_count": 105,
      "id": "b983f791",
      "metadata": {
        "id": "b983f791"
      },
      "outputs": [],
      "source": [
        "# X_train = X_train.replace(np.nan, '', regex=True)\n",
        "X_train_counts = hybrid_tfidf_vectorizer.fit_transform(X_train)\n",
        "X_train_counts = X_train_counts.toarray()\n",
        "model = clf.fit(X_train_counts, y_train)"
      ]
    },
    {
      "cell_type": "code",
      "execution_count": 106,
      "id": "6592a2b8",
      "metadata": {
        "id": "6592a2b8"
      },
      "outputs": [],
      "source": [
        "X_test = X_test.replace(np.nan, '', regex=True)\n",
        "X_test_counts = hybrid_tfidf_vectorizer.transform(X_test)\n",
        "X_test_counts = X_test_counts.toarray()\n",
        "prediction = clf.predict(X_test_counts)"
      ]
    },
    {
      "cell_type": "code",
      "execution_count": 107,
      "id": "df1c106d",
      "metadata": {
        "colab": {
          "base_uri": "https://localhost:8080/"
        },
        "id": "df1c106d",
        "outputId": "3ea46601-48c1-412e-d083-cbe96ae7bdc3"
      },
      "outputs": [
        {
          "output_type": "execute_result",
          "data": {
            "text/plain": [
              "0.9559090909090909"
            ]
          },
          "metadata": {},
          "execution_count": 107
        }
      ],
      "source": [
        "np.mean(prediction == y_test)"
      ]
    },
    {
      "cell_type": "markdown",
      "id": "760ae349",
      "metadata": {
        "id": "760ae349"
      },
      "source": [
        "# Using PyLDAvis"
      ]
    },
    {
      "cell_type": "code",
      "execution_count": 108,
      "id": "a89fdfa9",
      "metadata": {
        "id": "a89fdfa9"
      },
      "outputs": [],
      "source": [
        "from nltk.stem import PorterStemmer\n",
        "from gensim.utils import simple_preprocess\n",
        "from gensim.parsing.preprocessing import STOPWORDS\n",
        "from nltk.stem import WordNetLemmatizer, SnowballStemmer\n",
        "from nltk.stem.porter import *\n",
        "from nltk.corpus import stopwords"
      ]
    },
    {
      "cell_type": "code",
      "execution_count": 109,
      "id": "c95ee9a8",
      "metadata": {
        "id": "c95ee9a8"
      },
      "outputs": [],
      "source": [
        "# Stop words\n",
        "stop_words = stopwords.words('english')\n",
        "stop_words.extend(['from', 'subject', 're', 'edu', 'use'])"
      ]
    },
    {
      "cell_type": "code",
      "execution_count": 110,
      "id": "7231d10c",
      "metadata": {
        "colab": {
          "base_uri": "https://localhost:8080/",
          "height": 560
        },
        "id": "7231d10c",
        "outputId": "2bbadc03-edae-4c8b-f988-cb86b15697c8"
      },
      "outputs": [
        {
          "output_type": "execute_result",
          "data": {
            "text/plain": [
              "                  created_at  statuses_count  \\\n",
              "0  2022-08-07 22:31:20+00:00            8097   \n",
              "1  2022-08-07 22:31:16+00:00            5831   \n",
              "2  2022-08-07 22:31:07+00:00            1627   \n",
              "3  2022-08-07 22:31:06+00:00            1627   \n",
              "4  2022-08-07 22:31:04+00:00           18958   \n",
              "\n",
              "                                              source  \\\n",
              "0  <a href=\"http://twitter.com/download/android\" ...   \n",
              "1  <a href=\"http://twitter.com/download/android\" ...   \n",
              "2  <a href=\"http://twitter.com/download/android\" ...   \n",
              "3  <a href=\"http://twitter.com/download/android\" ...   \n",
              "4  <a href=\"http://twitter.com/download/iphone\" r...   \n",
              "\n",
              "                                       original_text  \\\n",
              "0  RT @i_ameztoy: Extra random image (I):\\n\\nLets...   \n",
              "1  RT @IndoPac_Info: #China's media explains the ...   \n",
              "2  China even cut off communication, they don't a...   \n",
              "3  Putin to #XiJinping : I told you my friend, Ta...   \n",
              "4  RT @ChinaUncensored: I’m sorry, I thought Taiw...   \n",
              "\n",
              "                                          clean_text  sentiment      polarity  \\\n",
              "0  Lets focus in one very specific zone of the we...         -1  0.000000e+00   \n",
              "1  China s media explains the military reasons fo...          0 -1.000000e-01   \n",
              "2  China even cut off communication they don t an...         -1  0.000000e+00   \n",
              "3  Putin to XiJinping I told you my friend Taiwan...          1  1.000000e-01   \n",
              "4  I m sorry I thought Taiwan was an independent ...          0 -6.938894e-18   \n",
              "\n",
              "   subjectivity lang  favorite_count  ...  possibly_sensitive   hashtags  \\\n",
              "0       0.08125   en           15760  ...                           City   \n",
              "1       0.10000   en            6967  ...                          China   \n",
              "2       0.00000   en            2166  ...                      XiJinping   \n",
              "3       0.35000   en            2166  ...                      XiJinping   \n",
              "4       0.55625   en           17247  ...                                  \n",
              "\n",
              "   user_mentions           place  place_coord_boundaries  \\\n",
              "0                                                          \n",
              "1                                                          \n",
              "2                    Netherlands                           \n",
              "3                    Netherlands                           \n",
              "4                 Ayent, Schweiz                           \n",
              "\n",
              "                Tweets_Adjectives  \\\n",
              "0                specific western   \n",
              "1                        military   \n",
              "2                         t clown   \n",
              "3              vassal Ukrainian s   \n",
              "4  sorry independent own military   \n",
              "\n",
              "                                   Tweets_Sentiments Subjectivity  \\\n",
              "0  Lets focus in one very specific zone of the we...      0.08125   \n",
              "1  China s medium explains the military reason fo...      0.10000   \n",
              "2  China even cut off communication they don t an...      0.00000   \n",
              "3  Putin to XiJinping I told you my friend Taiwan...      0.35000   \n",
              "4  I m sorry I thought Taiwan wa an independent c...      0.55625   \n",
              "\n",
              "       Polarity Sentiment  \n",
              "0  0.000000e+00   Neutral  \n",
              "1 -1.000000e-01  Negative  \n",
              "2  0.000000e+00   Neutral  \n",
              "3  1.000000e-01  Positive  \n",
              "4 -6.938894e-18  Negative  \n",
              "\n",
              "[5 rows x 25 columns]"
            ],
            "text/html": [
              "\n",
              "  <div id=\"df-05b98b47-53da-46ed-961d-c1cdcb03d0db\">\n",
              "    <div class=\"colab-df-container\">\n",
              "      <div>\n",
              "<style scoped>\n",
              "    .dataframe tbody tr th:only-of-type {\n",
              "        vertical-align: middle;\n",
              "    }\n",
              "\n",
              "    .dataframe tbody tr th {\n",
              "        vertical-align: top;\n",
              "    }\n",
              "\n",
              "    .dataframe thead th {\n",
              "        text-align: right;\n",
              "    }\n",
              "</style>\n",
              "<table border=\"1\" class=\"dataframe\">\n",
              "  <thead>\n",
              "    <tr style=\"text-align: right;\">\n",
              "      <th></th>\n",
              "      <th>created_at</th>\n",
              "      <th>statuses_count</th>\n",
              "      <th>source</th>\n",
              "      <th>original_text</th>\n",
              "      <th>clean_text</th>\n",
              "      <th>sentiment</th>\n",
              "      <th>polarity</th>\n",
              "      <th>subjectivity</th>\n",
              "      <th>lang</th>\n",
              "      <th>favorite_count</th>\n",
              "      <th>...</th>\n",
              "      <th>possibly_sensitive</th>\n",
              "      <th>hashtags</th>\n",
              "      <th>user_mentions</th>\n",
              "      <th>place</th>\n",
              "      <th>place_coord_boundaries</th>\n",
              "      <th>Tweets_Adjectives</th>\n",
              "      <th>Tweets_Sentiments</th>\n",
              "      <th>Subjectivity</th>\n",
              "      <th>Polarity</th>\n",
              "      <th>Sentiment</th>\n",
              "    </tr>\n",
              "  </thead>\n",
              "  <tbody>\n",
              "    <tr>\n",
              "      <th>0</th>\n",
              "      <td>2022-08-07 22:31:20+00:00</td>\n",
              "      <td>8097</td>\n",
              "      <td>&lt;a href=\"http://twitter.com/download/android\" ...</td>\n",
              "      <td>RT @i_ameztoy: Extra random image (I):\\n\\nLets...</td>\n",
              "      <td>Lets focus in one very specific zone of the we...</td>\n",
              "      <td>-1</td>\n",
              "      <td>0.000000e+00</td>\n",
              "      <td>0.08125</td>\n",
              "      <td>en</td>\n",
              "      <td>15760</td>\n",
              "      <td>...</td>\n",
              "      <td></td>\n",
              "      <td>City</td>\n",
              "      <td></td>\n",
              "      <td></td>\n",
              "      <td></td>\n",
              "      <td>specific western</td>\n",
              "      <td>Lets focus in one very specific zone of the we...</td>\n",
              "      <td>0.08125</td>\n",
              "      <td>0.000000e+00</td>\n",
              "      <td>Neutral</td>\n",
              "    </tr>\n",
              "    <tr>\n",
              "      <th>1</th>\n",
              "      <td>2022-08-07 22:31:16+00:00</td>\n",
              "      <td>5831</td>\n",
              "      <td>&lt;a href=\"http://twitter.com/download/android\" ...</td>\n",
              "      <td>RT @IndoPac_Info: #China's media explains the ...</td>\n",
              "      <td>China s media explains the military reasons fo...</td>\n",
              "      <td>0</td>\n",
              "      <td>-1.000000e-01</td>\n",
              "      <td>0.10000</td>\n",
              "      <td>en</td>\n",
              "      <td>6967</td>\n",
              "      <td>...</td>\n",
              "      <td></td>\n",
              "      <td>China</td>\n",
              "      <td></td>\n",
              "      <td></td>\n",
              "      <td></td>\n",
              "      <td>military</td>\n",
              "      <td>China s medium explains the military reason fo...</td>\n",
              "      <td>0.10000</td>\n",
              "      <td>-1.000000e-01</td>\n",
              "      <td>Negative</td>\n",
              "    </tr>\n",
              "    <tr>\n",
              "      <th>2</th>\n",
              "      <td>2022-08-07 22:31:07+00:00</td>\n",
              "      <td>1627</td>\n",
              "      <td>&lt;a href=\"http://twitter.com/download/android\" ...</td>\n",
              "      <td>China even cut off communication, they don't a...</td>\n",
              "      <td>China even cut off communication they don t an...</td>\n",
              "      <td>-1</td>\n",
              "      <td>0.000000e+00</td>\n",
              "      <td>0.00000</td>\n",
              "      <td>en</td>\n",
              "      <td>2166</td>\n",
              "      <td>...</td>\n",
              "      <td></td>\n",
              "      <td>XiJinping</td>\n",
              "      <td></td>\n",
              "      <td>Netherlands</td>\n",
              "      <td></td>\n",
              "      <td>t clown</td>\n",
              "      <td>China even cut off communication they don t an...</td>\n",
              "      <td>0.00000</td>\n",
              "      <td>0.000000e+00</td>\n",
              "      <td>Neutral</td>\n",
              "    </tr>\n",
              "    <tr>\n",
              "      <th>3</th>\n",
              "      <td>2022-08-07 22:31:06+00:00</td>\n",
              "      <td>1627</td>\n",
              "      <td>&lt;a href=\"http://twitter.com/download/android\" ...</td>\n",
              "      <td>Putin to #XiJinping : I told you my friend, Ta...</td>\n",
              "      <td>Putin to XiJinping I told you my friend Taiwan...</td>\n",
              "      <td>1</td>\n",
              "      <td>1.000000e-01</td>\n",
              "      <td>0.35000</td>\n",
              "      <td>en</td>\n",
              "      <td>2166</td>\n",
              "      <td>...</td>\n",
              "      <td></td>\n",
              "      <td>XiJinping</td>\n",
              "      <td></td>\n",
              "      <td>Netherlands</td>\n",
              "      <td></td>\n",
              "      <td>vassal Ukrainian s</td>\n",
              "      <td>Putin to XiJinping I told you my friend Taiwan...</td>\n",
              "      <td>0.35000</td>\n",
              "      <td>1.000000e-01</td>\n",
              "      <td>Positive</td>\n",
              "    </tr>\n",
              "    <tr>\n",
              "      <th>4</th>\n",
              "      <td>2022-08-07 22:31:04+00:00</td>\n",
              "      <td>18958</td>\n",
              "      <td>&lt;a href=\"http://twitter.com/download/iphone\" r...</td>\n",
              "      <td>RT @ChinaUncensored: I’m sorry, I thought Taiw...</td>\n",
              "      <td>I m sorry I thought Taiwan was an independent ...</td>\n",
              "      <td>0</td>\n",
              "      <td>-6.938894e-18</td>\n",
              "      <td>0.55625</td>\n",
              "      <td>en</td>\n",
              "      <td>17247</td>\n",
              "      <td>...</td>\n",
              "      <td></td>\n",
              "      <td></td>\n",
              "      <td></td>\n",
              "      <td>Ayent, Schweiz</td>\n",
              "      <td></td>\n",
              "      <td>sorry independent own military</td>\n",
              "      <td>I m sorry I thought Taiwan wa an independent c...</td>\n",
              "      <td>0.55625</td>\n",
              "      <td>-6.938894e-18</td>\n",
              "      <td>Negative</td>\n",
              "    </tr>\n",
              "  </tbody>\n",
              "</table>\n",
              "<p>5 rows × 25 columns</p>\n",
              "</div>\n",
              "      <button class=\"colab-df-convert\" onclick=\"convertToInteractive('df-05b98b47-53da-46ed-961d-c1cdcb03d0db')\"\n",
              "              title=\"Convert this dataframe to an interactive table.\"\n",
              "              style=\"display:none;\">\n",
              "        \n",
              "  <svg xmlns=\"http://www.w3.org/2000/svg\" height=\"24px\"viewBox=\"0 0 24 24\"\n",
              "       width=\"24px\">\n",
              "    <path d=\"M0 0h24v24H0V0z\" fill=\"none\"/>\n",
              "    <path d=\"M18.56 5.44l.94 2.06.94-2.06 2.06-.94-2.06-.94-.94-2.06-.94 2.06-2.06.94zm-11 1L8.5 8.5l.94-2.06 2.06-.94-2.06-.94L8.5 2.5l-.94 2.06-2.06.94zm10 10l.94 2.06.94-2.06 2.06-.94-2.06-.94-.94-2.06-.94 2.06-2.06.94z\"/><path d=\"M17.41 7.96l-1.37-1.37c-.4-.4-.92-.59-1.43-.59-.52 0-1.04.2-1.43.59L10.3 9.45l-7.72 7.72c-.78.78-.78 2.05 0 2.83L4 21.41c.39.39.9.59 1.41.59.51 0 1.02-.2 1.41-.59l7.78-7.78 2.81-2.81c.8-.78.8-2.07 0-2.86zM5.41 20L4 18.59l7.72-7.72 1.47 1.35L5.41 20z\"/>\n",
              "  </svg>\n",
              "      </button>\n",
              "      \n",
              "  <style>\n",
              "    .colab-df-container {\n",
              "      display:flex;\n",
              "      flex-wrap:wrap;\n",
              "      gap: 12px;\n",
              "    }\n",
              "\n",
              "    .colab-df-convert {\n",
              "      background-color: #E8F0FE;\n",
              "      border: none;\n",
              "      border-radius: 50%;\n",
              "      cursor: pointer;\n",
              "      display: none;\n",
              "      fill: #1967D2;\n",
              "      height: 32px;\n",
              "      padding: 0 0 0 0;\n",
              "      width: 32px;\n",
              "    }\n",
              "\n",
              "    .colab-df-convert:hover {\n",
              "      background-color: #E2EBFA;\n",
              "      box-shadow: 0px 1px 2px rgba(60, 64, 67, 0.3), 0px 1px 3px 1px rgba(60, 64, 67, 0.15);\n",
              "      fill: #174EA6;\n",
              "    }\n",
              "\n",
              "    [theme=dark] .colab-df-convert {\n",
              "      background-color: #3B4455;\n",
              "      fill: #D2E3FC;\n",
              "    }\n",
              "\n",
              "    [theme=dark] .colab-df-convert:hover {\n",
              "      background-color: #434B5C;\n",
              "      box-shadow: 0px 1px 3px 1px rgba(0, 0, 0, 0.15);\n",
              "      filter: drop-shadow(0px 1px 2px rgba(0, 0, 0, 0.3));\n",
              "      fill: #FFFFFF;\n",
              "    }\n",
              "  </style>\n",
              "\n",
              "      <script>\n",
              "        const buttonEl =\n",
              "          document.querySelector('#df-05b98b47-53da-46ed-961d-c1cdcb03d0db button.colab-df-convert');\n",
              "        buttonEl.style.display =\n",
              "          google.colab.kernel.accessAllowed ? 'block' : 'none';\n",
              "\n",
              "        async function convertToInteractive(key) {\n",
              "          const element = document.querySelector('#df-05b98b47-53da-46ed-961d-c1cdcb03d0db');\n",
              "          const dataTable =\n",
              "            await google.colab.kernel.invokeFunction('convertToInteractive',\n",
              "                                                     [key], {});\n",
              "          if (!dataTable) return;\n",
              "\n",
              "          const docLinkHtml = 'Like what you see? Visit the ' +\n",
              "            '<a target=\"_blank\" href=https://colab.research.google.com/notebooks/data_table.ipynb>data table notebook</a>'\n",
              "            + ' to learn more about interactive tables.';\n",
              "          element.innerHTML = '';\n",
              "          dataTable['output_type'] = 'display_data';\n",
              "          await google.colab.output.renderOutput(dataTable, element);\n",
              "          const docLink = document.createElement('div');\n",
              "          docLink.innerHTML = docLinkHtml;\n",
              "          element.appendChild(docLink);\n",
              "        }\n",
              "      </script>\n",
              "    </div>\n",
              "  </div>\n",
              "  "
            ]
          },
          "metadata": {},
          "execution_count": 110
        }
      ],
      "source": [
        "topic_model_df = model_df.copy(deep=True)\n",
        "topic_model_df.head()"
      ]
    },
    {
      "cell_type": "code",
      "source": [
        "#class PrepareData:\n",
        " #     def __init__(self,df):\n",
        "  #      self.df=df\n",
        "    \n",
        "   #   def preprocess_data(self):\n",
        "        #model_df = self.df.loc[self.df['lang'] ==\"en\"]\n",
        "\n",
        "    \n",
        "    #text Preprocessing\n",
        "        #model_df['clean_text']=model_df['clean_text'].astype(str)\n",
        "        #model_df['clean_text'] = model_df['clean_text'].str.replace('[^\\w\\s]\\n','')\n",
        "        #model_df['clean_text'] = model_df['clean_text'].apply(lambda x: x.lower())\n",
        "        #model_df['clean_text']= model_df['clean_text'].apply(lambda x: x.translate(str.maketrans(' ', ' ', string.punctuation)))\n",
        "        #model_df['clean_text'] = model_df['clean_text'].str.replace('\\w*\\d\\w*\\n','')\n",
        "        \n",
        "        #stemmer = PorterStemmer()\n",
        "        #model_df['clean_text'] = model_df['clean_text'].apply(lambda x: \" \".join([stemmer.stem(word) for word in x.split()]))\n",
        "\n",
        "\n",
        "        \n",
        "      \n",
        "        #model_df['clean_text'] = model_df['clean_text']\n",
        "\n",
        "        #Converting tweets to list of words For feature engineering\n",
        "        #sentence_list = [tweet for tweet in model_df['clean_text']]\n",
        "        #word_list = [sent.split() for sent in sentence_list]\n",
        "        # print(word_list)\n",
        "\n",
        "        #Create dictionary which contains Id and word \n",
        "        #word_to_id = corpora.Dictionary(word_list) #generate unique tokens\n",
        "        #  we can see the word to unique integer mapping\n",
        "        # print(word_to_id.token2id)\n",
        "        # using bag of words(bow), we create a corpus that contains the word id and its frequency in each document.\n",
        "        #corpus_1= [word_to_id.doc2bow(tweet) for tweet in word_list]\n",
        "        \n",
        "\n",
        "        #return word_list, word_to_id, corpus_1\n"
      ],
      "metadata": {
        "id": "jh9GU08Hwgre"
      },
      "id": "jh9GU08Hwgre",
      "execution_count": 126,
      "outputs": []
    },
    {
      "cell_type": "code",
      "execution_count": 111,
      "id": "0660b9ba",
      "metadata": {
        "id": "0660b9ba"
      },
      "outputs": [],
      "source": [
        "def get_hastags_words_list():\n",
        "    hashtagList = []\n",
        "    for hashtags in topic_model_df.hashtags:\n",
        "        if(hashtags != \"\"):\n",
        "            hashtagList += hashtags.split(',')\n",
        "\n",
        "    return hashtagList\n",
        "\n",
        "hashtag = get_hastags_words_list()\n",
        "\n",
        "data = [word for sentence in topic_model_df.clean_text for word in sentence.split(' ')]"
      ]
    },
    {
      "cell_type": "code",
      "execution_count": 112,
      "id": "0ea113bf",
      "metadata": {
        "colab": {
          "base_uri": "https://localhost:8080/"
        },
        "id": "0ea113bf",
        "outputId": "f69a1c77-3e44-49db-9aa6-dc0316cd6b8f"
      },
      "outputs": [
        {
          "output_type": "execute_result",
          "data": {
            "text/plain": [
              "['City', 'China', 'XiJinping', 'XiJinping', 'Taiwan']"
            ]
          },
          "metadata": {},
          "execution_count": 112
        }
      ],
      "source": [
        "hashtag[:5]"
      ]
    },
    {
      "cell_type": "code",
      "execution_count": 113,
      "id": "781afab7",
      "metadata": {
        "colab": {
          "base_uri": "https://localhost:8080/"
        },
        "id": "781afab7",
        "outputId": "ed84d7bc-f40b-4d83-fa8a-00818e434058"
      },
      "outputs": [
        {
          "output_type": "execute_result",
          "data": {
            "text/plain": [
              "['Lets',\n",
              " 'focus',\n",
              " 'in',\n",
              " 'one',\n",
              " 'very',\n",
              " 'specific',\n",
              " 'zone',\n",
              " 'of',\n",
              " 'the',\n",
              " 'western']"
            ]
          },
          "metadata": {},
          "execution_count": 113
        }
      ],
      "source": [
        "data[:10]"
      ]
    },
    {
      "cell_type": "code",
      "execution_count": 114,
      "id": "41cf40c8",
      "metadata": {
        "colab": {
          "base_uri": "https://localhost:8080/"
        },
        "id": "41cf40c8",
        "outputId": "bc3279b1-ec48-449b-c1cb-b7eec3e3daa9"
      },
      "outputs": [
        {
          "output_type": "execute_result",
          "data": {
            "text/plain": [
              "['Lets', 'focus', 'in', 'one', 'very']"
            ]
          },
          "metadata": {},
          "execution_count": 114
        }
      ],
      "source": [
        "data_words = data + hashtag\n",
        "data_words = [word for word in data_words if word != '']\n",
        "data_words[:5]"
      ]
    },
    {
      "cell_type": "code",
      "execution_count": 115,
      "id": "1046984f",
      "metadata": {
        "colab": {
          "base_uri": "https://localhost:8080/"
        },
        "id": "1046984f",
        "outputId": "9f6debc8-cd1e-4a29-dfe8-cf7b9af56d63"
      },
      "outputs": [
        {
          "output_type": "stream",
          "name": "stdout",
          "text": [
            "['L', 'e', 't', 's']\n"
          ]
        }
      ],
      "source": [
        "# Build the bigram and trigram models\n",
        "bigram = gensim.models.Phrases(data_words, min_count=5, threshold=100) # higher threshold fewer phrases.\n",
        "trigram = gensim.models.Phrases(bigram[data_words], threshold=100)\n",
        "# Faster way to get a sentence clubbed as a trigram/bigram\n",
        "bigram_mod = gensim.models.phrases.Phraser(bigram)\n",
        "trigram_mod = gensim.models.phrases.Phraser(trigram)\n",
        "# See trigram example\n",
        "print(trigram_mod[bigram_mod[data_words[0]]])"
      ]
    },
    {
      "cell_type": "code",
      "execution_count": 67,
      "id": "eb030feb",
      "metadata": {
        "colab": {
          "base_uri": "https://localhost:8080/"
        },
        "id": "eb030feb",
        "outputId": "e5a0f3aa-c9d0-4d27-b06c-93b2327c6a45"
      },
      "outputs": [
        {
          "output_type": "stream",
          "name": "stdout",
          "text": [
            "2022-08-11 19:39:12.185471: E tensorflow/stream_executor/cuda/cuda_driver.cc:271] failed call to cuInit: CUDA_ERROR_NO_DEVICE: no CUDA-capable device is detected\n",
            "\u001b[38;5;3m⚠ As of spaCy v3.0, shortcuts like 'en' are deprecated. Please use the\n",
            "full pipeline package name 'en_core_web_sm' instead.\u001b[0m\n",
            "Looking in indexes: https://pypi.org/simple, https://us-python.pkg.dev/colab-wheels/public/simple/\n",
            "Collecting en-core-web-sm==3.4.0\n",
            "  Downloading https://github.com/explosion/spacy-models/releases/download/en_core_web_sm-3.4.0/en_core_web_sm-3.4.0-py3-none-any.whl (12.8 MB)\n",
            "\u001b[K     |████████████████████████████████| 12.8 MB 5.2 MB/s \n",
            "\u001b[?25hRequirement already satisfied: spacy<3.5.0,>=3.4.0 in /usr/local/lib/python3.7/dist-packages (from en-core-web-sm==3.4.0) (3.4.1)\n",
            "Requirement already satisfied: pydantic!=1.8,!=1.8.1,<1.10.0,>=1.7.4 in /usr/local/lib/python3.7/dist-packages (from spacy<3.5.0,>=3.4.0->en-core-web-sm==3.4.0) (1.9.1)\n",
            "Requirement already satisfied: numpy>=1.15.0 in /usr/local/lib/python3.7/dist-packages (from spacy<3.5.0,>=3.4.0->en-core-web-sm==3.4.0) (1.21.6)\n",
            "Requirement already satisfied: typing-extensions<4.2.0,>=3.7.4 in /usr/local/lib/python3.7/dist-packages (from spacy<3.5.0,>=3.4.0->en-core-web-sm==3.4.0) (4.1.1)\n",
            "Requirement already satisfied: preshed<3.1.0,>=3.0.2 in /usr/local/lib/python3.7/dist-packages (from spacy<3.5.0,>=3.4.0->en-core-web-sm==3.4.0) (3.0.6)\n",
            "Requirement already satisfied: packaging>=20.0 in /usr/local/lib/python3.7/dist-packages (from spacy<3.5.0,>=3.4.0->en-core-web-sm==3.4.0) (21.3)\n",
            "Requirement already satisfied: spacy-loggers<2.0.0,>=1.0.0 in /usr/local/lib/python3.7/dist-packages (from spacy<3.5.0,>=3.4.0->en-core-web-sm==3.4.0) (1.0.3)\n",
            "Requirement already satisfied: thinc<8.2.0,>=8.1.0 in /usr/local/lib/python3.7/dist-packages (from spacy<3.5.0,>=3.4.0->en-core-web-sm==3.4.0) (8.1.0)\n",
            "Requirement already satisfied: pathy>=0.3.5 in /usr/local/lib/python3.7/dist-packages (from spacy<3.5.0,>=3.4.0->en-core-web-sm==3.4.0) (0.6.2)\n",
            "Requirement already satisfied: typer<0.5.0,>=0.3.0 in /usr/local/lib/python3.7/dist-packages (from spacy<3.5.0,>=3.4.0->en-core-web-sm==3.4.0) (0.4.2)\n",
            "Requirement already satisfied: cymem<2.1.0,>=2.0.2 in /usr/local/lib/python3.7/dist-packages (from spacy<3.5.0,>=3.4.0->en-core-web-sm==3.4.0) (2.0.6)\n",
            "Requirement already satisfied: setuptools in /usr/local/lib/python3.7/dist-packages (from spacy<3.5.0,>=3.4.0->en-core-web-sm==3.4.0) (57.4.0)\n",
            "Requirement already satisfied: catalogue<2.1.0,>=2.0.6 in /usr/local/lib/python3.7/dist-packages (from spacy<3.5.0,>=3.4.0->en-core-web-sm==3.4.0) (2.0.8)\n",
            "Requirement already satisfied: jinja2 in /usr/local/lib/python3.7/dist-packages (from spacy<3.5.0,>=3.4.0->en-core-web-sm==3.4.0) (2.11.3)\n",
            "Requirement already satisfied: requests<3.0.0,>=2.13.0 in /usr/local/lib/python3.7/dist-packages (from spacy<3.5.0,>=3.4.0->en-core-web-sm==3.4.0) (2.23.0)\n",
            "Requirement already satisfied: spacy-legacy<3.1.0,>=3.0.9 in /usr/local/lib/python3.7/dist-packages (from spacy<3.5.0,>=3.4.0->en-core-web-sm==3.4.0) (3.0.9)\n",
            "Requirement already satisfied: langcodes<4.0.0,>=3.2.0 in /usr/local/lib/python3.7/dist-packages (from spacy<3.5.0,>=3.4.0->en-core-web-sm==3.4.0) (3.3.0)\n",
            "Requirement already satisfied: murmurhash<1.1.0,>=0.28.0 in /usr/local/lib/python3.7/dist-packages (from spacy<3.5.0,>=3.4.0->en-core-web-sm==3.4.0) (1.0.7)\n",
            "Requirement already satisfied: wasabi<1.1.0,>=0.9.1 in /usr/local/lib/python3.7/dist-packages (from spacy<3.5.0,>=3.4.0->en-core-web-sm==3.4.0) (0.10.1)\n",
            "Requirement already satisfied: srsly<3.0.0,>=2.4.3 in /usr/local/lib/python3.7/dist-packages (from spacy<3.5.0,>=3.4.0->en-core-web-sm==3.4.0) (2.4.4)\n",
            "Requirement already satisfied: tqdm<5.0.0,>=4.38.0 in /usr/local/lib/python3.7/dist-packages (from spacy<3.5.0,>=3.4.0->en-core-web-sm==3.4.0) (4.64.0)\n",
            "Requirement already satisfied: zipp>=0.5 in /usr/local/lib/python3.7/dist-packages (from catalogue<2.1.0,>=2.0.6->spacy<3.5.0,>=3.4.0->en-core-web-sm==3.4.0) (3.8.1)\n",
            "Requirement already satisfied: pyparsing!=3.0.5,>=2.0.2 in /usr/local/lib/python3.7/dist-packages (from packaging>=20.0->spacy<3.5.0,>=3.4.0->en-core-web-sm==3.4.0) (3.0.9)\n",
            "Requirement already satisfied: smart-open<6.0.0,>=5.2.1 in /usr/local/lib/python3.7/dist-packages (from pathy>=0.3.5->spacy<3.5.0,>=3.4.0->en-core-web-sm==3.4.0) (5.2.1)\n",
            "Requirement already satisfied: urllib3!=1.25.0,!=1.25.1,<1.26,>=1.21.1 in /usr/local/lib/python3.7/dist-packages (from requests<3.0.0,>=2.13.0->spacy<3.5.0,>=3.4.0->en-core-web-sm==3.4.0) (1.24.3)\n",
            "Requirement already satisfied: idna<3,>=2.5 in /usr/local/lib/python3.7/dist-packages (from requests<3.0.0,>=2.13.0->spacy<3.5.0,>=3.4.0->en-core-web-sm==3.4.0) (2.10)\n",
            "Requirement already satisfied: chardet<4,>=3.0.2 in /usr/local/lib/python3.7/dist-packages (from requests<3.0.0,>=2.13.0->spacy<3.5.0,>=3.4.0->en-core-web-sm==3.4.0) (3.0.4)\n",
            "Requirement already satisfied: certifi>=2017.4.17 in /usr/local/lib/python3.7/dist-packages (from requests<3.0.0,>=2.13.0->spacy<3.5.0,>=3.4.0->en-core-web-sm==3.4.0) (2022.6.15)\n",
            "Requirement already satisfied: blis<0.8.0,>=0.7.8 in /usr/local/lib/python3.7/dist-packages (from thinc<8.2.0,>=8.1.0->spacy<3.5.0,>=3.4.0->en-core-web-sm==3.4.0) (0.7.8)\n",
            "Requirement already satisfied: click<9.0.0,>=7.1.1 in /usr/local/lib/python3.7/dist-packages (from typer<0.5.0,>=0.3.0->spacy<3.5.0,>=3.4.0->en-core-web-sm==3.4.0) (7.1.2)\n",
            "Requirement already satisfied: MarkupSafe>=0.23 in /usr/local/lib/python3.7/dist-packages (from jinja2->spacy<3.5.0,>=3.4.0->en-core-web-sm==3.4.0) (2.0.1)\n",
            "\u001b[38;5;2m✔ Download and installation successful\u001b[0m\n",
            "You can now load the package via spacy.load('en_core_web_sm')\n"
          ]
        }
      ],
      "source": [
        "!python3 -m spacy download en"
      ]
    },
    {
      "cell_type": "code",
      "execution_count": 69,
      "id": "2f1ffb6b",
      "metadata": {
        "colab": {
          "base_uri": "https://localhost:8080/"
        },
        "id": "2f1ffb6b",
        "outputId": "a9e70a92-cb94-4b7c-bad2-be7065bd175c"
      },
      "outputs": [
        {
          "output_type": "stream",
          "name": "stdout",
          "text": [
            "[['let']]\n"
          ]
        }
      ],
      "source": [
        "# Remove Stop Words\n",
        "data_words_nostops = remove_stopwords(data_words)\n",
        "\n",
        "# Form Bigrams\n",
        "data_words_bigrams = make_bigrams(data_words_nostops)\n",
        "\n",
        "# Initialize spacy 'en' model, keeping only tagger component (for efficiency)\n",
        "nlp = spacy.load('en_core_web_sm', disable=['parser', 'ner'])\n",
        "\n",
        "# Do lemmatization keeping only noun, adj, vb, adv\n",
        "data_lemmatized = lemmatization(data_words_bigrams, allowed_postags=['NOUN', 'ADJ', 'VERB', 'ADV'])\n",
        "\n",
        "print(data_lemmatized[:1])"
      ]
    },
    {
      "cell_type": "code",
      "execution_count": 116,
      "id": "9e5b7262",
      "metadata": {
        "colab": {
          "base_uri": "https://localhost:8080/"
        },
        "id": "9e5b7262",
        "outputId": "62b4bb49-46fe-45dd-da74-1ba68cddf526"
      },
      "outputs": [
        {
          "output_type": "execute_result",
          "data": {
            "text/plain": [
              "[['let'], ['focus'], ['specific'], ['zone'], ['western']]"
            ]
          },
          "metadata": {},
          "execution_count": 116
        }
      ],
      "source": [
        "data_lemmatized = [word for word in data_lemmatized if word != []]\n",
        "data_lemmatized[:5]"
      ]
    },
    {
      "cell_type": "code",
      "execution_count": 117,
      "id": "34cb99fa",
      "metadata": {
        "colab": {
          "base_uri": "https://localhost:8080/"
        },
        "id": "34cb99fa",
        "outputId": "2aa04dd4-e256-4e99-efc2-f6ae498568bf"
      },
      "outputs": [
        {
          "output_type": "stream",
          "name": "stdout",
          "text": [
            "[[(0, 1)], [(1, 1)], [(2, 1)], [(3, 1)], [(4, 1)], [(5, 1)], [(6, 1)], [(7, 1)], [(8, 1)], [(9, 1)], [(10, 1)], [(11, 1)], [(12, 1)], [(13, 1)], [(14, 1)], [(15, 1)], [(16, 1)], [(17, 1)], [(18, 1)], [(19, 1)]]\n"
          ]
        }
      ],
      "source": [
        "# Create Dictionary \n",
        "id2word = corpora.Dictionary(data_lemmatized)  \n",
        "# Create Corpus \n",
        "texts = data_lemmatized  \n",
        "# Term Document Frequency \n",
        "corpus = [id2word.doc2bow(text) for text in texts]  \n",
        "# View \n",
        "print(corpus[0:20])"
      ]
    },
    {
      "cell_type": "code",
      "execution_count": 118,
      "id": "afb4d35f",
      "metadata": {
        "colab": {
          "base_uri": "https://localhost:8080/"
        },
        "id": "afb4d35f",
        "outputId": "1728946a-7ca0-4a11-c9da-841514224071"
      },
      "outputs": [
        {
          "output_type": "execute_result",
          "data": {
            "text/plain": [
              "[[('let', 1)],\n",
              " [('focus', 1)],\n",
              " [('specific', 1)],\n",
              " [('zone', 1)],\n",
              " [('western', 1)],\n",
              " [('coast', 1)],\n",
              " [('gt', 1)],\n",
              " [('longje', 1)],\n",
              " [('district', 1)],\n",
              " [('city', 1)]]"
            ]
          },
          "metadata": {},
          "execution_count": 118
        }
      ],
      "source": [
        "# Readable View\n",
        "[[(id2word[id], freq) for id, freq in cp] for cp in corpus[:10]]"
      ]
    },
    {
      "cell_type": "code",
      "execution_count": 120,
      "id": "da3e2423",
      "metadata": {
        "id": "da3e2423"
      },
      "outputs": [],
      "source": [
        "lda_model = gensim.models.ldamodel.LdaModel(corpus=corpus,\n",
        "                                           id2word=id2word,\n",
        "                                           num_topics=20, \n",
        "                                           random_state=100,\n",
        "                                           update_every=1,\n",
        "                                           chunksize=100,\n",
        "                                           passes=10,\n",
        "                                           alpha='auto',\n",
        "                                           per_word_topics=True)"
      ]
    },
    {
      "cell_type": "code",
      "execution_count": 121,
      "id": "fa2093c2",
      "metadata": {
        "colab": {
          "base_uri": "https://localhost:8080/"
        },
        "id": "fa2093c2",
        "outputId": "f1543ff2-391a-451b-95c4-b0bf410c48c6"
      },
      "outputs": [
        {
          "output_type": "stream",
          "name": "stdout",
          "text": [
            "[(0,\n",
            "  '0.129*\"news\" + 0.091*\"history\" + 0.080*\"authority\" + 0.054*\"democratic\" + '\n",
            "  '0.050*\"house\" + 0.047*\"ashawo\" + 0.047*\"balogun\" + 0.026*\"side\" + '\n",
            "  '0.024*\"simulate\" + 0.022*\"conduct\"'),\n",
            " (1,\n",
            "  '0.646*\"ukraine\" + 0.061*\"time\" + 0.034*\"chinataiwanwar\" + 0.026*\"warn\" + '\n",
            "  '0.022*\"official\" + 0.019*\"high\" + 0.015*\"know\" + 0.014*\"weapon\" + '\n",
            "  '0.012*\"ask\" + 0.012*\"twitter\"'),\n",
            " (2,\n",
            "  '0.276*\"trump\" + 0.114*\"good\" + 0.063*\"country\" + 0.063*\"support\" + '\n",
            "  '0.059*\"government\" + 0.044*\"ai\" + 0.043*\"ministry\" + 0.023*\"share\" + '\n",
            "  '0.020*\"sorry\" + 0.019*\"claim\"'),\n",
            " (3,\n",
            "  '0.079*\"gtgraphic\" + 0.052*\"gazaunderattack\" + 0.044*\"quotesinnew\" + '\n",
            "  '0.037*\"baddecision\" + 0.020*\"marvininu\" + 0.018*\"palestinian\" + '\n",
            "  '0.014*\"saturdayreport\" + 0.012*\"btc\" + 0.012*\"中共\" + 0.010*\"goodmorning\"'),\n",
            " (4,\n",
            "  '0.734*\"pla\" + 0.068*\"lithuania\" + 0.020*\"music\" + 0.013*\"foreign\" + '\n",
            "  '0.011*\"aircraft\" + 0.010*\"citizen\" + 0.009*\"funny\" + 0.009*\"long\" + '\n",
            "  '0.008*\"status\" + 0.006*\"defense\"'),\n",
            " (5,\n",
            "  '0.098*\"bitcoin\" + 0.052*\"change\" + 0.045*\"short\" + 0.040*\"political\" + '\n",
            "  '0.038*\"make\" + 0.037*\"welcome\" + 0.033*\"back\" + 0.033*\"much\" + '\n",
            "  '0.031*\"medium\" + 0.027*\"territory\"'),\n",
            " (6,\n",
            "  '0.100*\"state\" + 0.087*\"attack\" + 0.085*\"stop\" + 0.080*\"thing\" + 0.070*\"day\" '\n",
            "  '+ 0.037*\"see\" + 0.035*\"come\" + 0.035*\"provoke\" + 0.035*\"thank\" + '\n",
            "  '0.035*\"warship\"'),\n",
            " (7,\n",
            "  '0.436*\"lithuanian\" + 0.047*\"election\" + 0.039*\"go\" + 0.038*\"enter\" + '\n",
            "  '0.038*\"president\" + 0.034*\"sanction\" + 0.024*\"report\" + 0.024*\"politic\" + '\n",
            "  '0.022*\"independent\" + 0.020*\"early\"'),\n",
            " (8,\n",
            "  '0.213*\"visit\" + 0.197*\"military\" + 0.194*\"woman\" + 0.098*\"dead\" + '\n",
            "  '0.046*\"think\" + 0.024*\"key\" + 0.016*\"area\" + 0.014*\"relationship\" + '\n",
            "  '0.012*\"bring\" + 0.009*\"join\"'),\n",
            " (9,\n",
            "  '0.121*\"hotel\" + 0.059*\"talk\" + 0.056*\"exercise\" + 0.048*\"insider\" + '\n",
            "  '0.046*\"trip\" + 0.042*\"set\" + 0.035*\"immediate\" + 0.034*\"article\" + '\n",
            "  '0.034*\"continue\" + 0.032*\"hour\"'),\n",
            " (10,\n",
            "  '0.505*\"break\" + 0.101*\"biden\" + 0.059*\"unitedstate\" + 0.044*\"taiwanstrait\" '\n",
            "  '+ 0.042*\"around\" + 0.026*\"joebiden\" + 0.018*\"update\" + 0.015*\"yi\" + '\n",
            "  '0.013*\"give\" + 0.012*\"reason\"'),\n",
            " (11,\n",
            "  '0.343*\"taiwanchina\" + 0.081*\"rogerwater\" + 0.075*\"find\" + 0.071*\"fire\" + '\n",
            "  '0.066*\"travel\" + 0.035*\"onechinapolicy\" + 0.030*\"new\" + 0.021*\"get\" + '\n",
            "  '0.020*\"today\" + 0.020*\"indian\"'),\n",
            " (12,\n",
            "  '0.154*\"head\" + 0.139*\"people\" + 0.087*\"cheat\" + 0.076*\"follow\" + '\n",
            "  '0.068*\"low\" + 0.054*\"pain\" + 0.044*\"peace\" + 0.030*\"city\" + '\n",
            "  '0.029*\"integrity\" + 0.021*\"relation\"'),\n",
            " (13,\n",
            "  '0.815*\"pelosi\" + 0.083*\"xijinpe\" + 0.076*\"nancypelosi\" + 0.002*\"delegation\" '\n",
            "  '+ 0.002*\"meanwhile\" + 0.001*\"include\" + 0.001*\"friend\" + 0.001*\"issue\" + '\n",
            "  '0.001*\"border\" + 0.001*\"position\"'),\n",
            " (14,\n",
            "  '0.744*\"hawaii\" + 0.064*\"world\" + 0.027*\"strait\" + 0.023*\"respond\" + '\n",
            "  '0.013*\"interview\" + 0.012*\"look\" + 0.010*\"separatist\" + 0.008*\"clear\" + '\n",
            "  '0.005*\"white\" + 0.004*\"husband\"'),\n",
            " (15,\n",
            "  '0.727*\"chinese\" + 0.036*\"video\" + 0.029*\"russian\" + 0.029*\"watch\" + '\n",
            "  '0.028*\"tension\" + 0.020*\"israeli\" + 0.015*\"restrict\" + 0.010*\"forget\" + '\n",
            "  '0.010*\"crisis\" + 0.009*\"business\"'),\n",
            " (16,\n",
            "  '0.404*\"taiwanese\" + 0.142*\"missile\" + 0.092*\"co\" + 0.066*\"war\" + '\n",
            "  '0.063*\"opinion\" + 0.033*\"drone\" + 0.020*\"start\" + 0.016*\"heart\" + '\n",
            "  '0.015*\"vote\" + 0.011*\"large\"'),\n",
            " (17,\n",
            "  '0.230*\"apple\" + 0.111*\"zelensky\" + 0.090*\"speakerpelosi\" + 0.084*\"nancy\" + '\n",
            "  '0.059*\"plan\" + 0.051*\"palestine\" + 0.024*\"send\" + 0.020*\"fail\" + '\n",
            "  '0.019*\"invest\" + 0.014*\"extremely\"'),\n",
            " (18,\n",
            "  '0.192*\"say\" + 0.177*\"drill\" + 0.137*\"semiconductor\" + 0.097*\"call\" + '\n",
            "  '0.030*\"ship\" + 0.026*\"region\" + 0.020*\"happen\" + 0.017*\"destabilize\" + '\n",
            "  '0.014*\"range\" + 0.012*\"top\"'),\n",
            " (19,\n",
            "  '0.747*\"late\" + 0.040*\"water\" + 0.032*\"hastie\" + 0.018*\"part\" + '\n",
            "  '0.016*\"nigerian\" + 0.011*\"sovereignty\" + 0.010*\"western\" + 0.007*\"effort\" + '\n",
            "  '0.006*\"cat\" + 0.005*\"gt\"')]\n"
          ]
        }
      ],
      "source": [
        "# Print the keyword of topics\n",
        "pprint(lda_model.print_topics())\n",
        "doc_lda = lda_model[corpus]"
      ]
    },
    {
      "cell_type": "code",
      "execution_count": 122,
      "id": "f1851335",
      "metadata": {
        "colab": {
          "base_uri": "https://localhost:8080/"
        },
        "id": "f1851335",
        "outputId": "9d3fdba3-d9bd-41c1-f763-cabd69b5033d"
      },
      "outputs": [
        {
          "output_type": "stream",
          "name": "stdout",
          "text": [
            "\n",
            "Perplexity:  -11.308272221805828\n",
            "\n",
            "Coherence Score:  0.8024567492135141\n"
          ]
        }
      ],
      "source": [
        "# Compute Perplexity\n",
        "perplexity_score = lda_model.log_perplexity(corpus)\n",
        "print('\\nPerplexity: ', perplexity_score)  \n",
        "# a measure of how good the model is. lower the better.\n",
        "\n",
        "# Compute Coherence Score\n",
        "coherence_model_lda = CoherenceModel(model=lda_model, texts=data_lemmatized, dictionary=id2word, coherence='c_v')\n",
        "coherence_lda = coherence_model_lda.get_coherence()\n",
        "print('\\nCoherence Score: ', coherence_lda)"
      ]
    },
    {
      "cell_type": "code",
      "source": [
        "import pyLDAvis.gensim_models as gensimvis\n",
        "import pickle \n",
        "import pyLDAvis"
      ],
      "metadata": {
        "colab": {
          "base_uri": "https://localhost:8080/"
        },
        "id": "Wmt0y4HyvAtZ",
        "outputId": "794409c7-a7ba-43ed-bfe1-8c1f4bee1695"
      },
      "id": "Wmt0y4HyvAtZ",
      "execution_count": 124,
      "outputs": [
        {
          "output_type": "stream",
          "name": "stderr",
          "text": [
            "/usr/local/lib/python3.7/dist-packages/past/types/oldstr.py:5: DeprecationWarning: Using or importing the ABCs from 'collections' instead of from 'collections.abc' is deprecated since Python 3.3,and in 3.9 it will stop working\n",
            "  from collections import Iterable\n"
          ]
        }
      ]
    },
    {
      "cell_type": "code",
      "execution_count": 125,
      "id": "fd29d482",
      "metadata": {
        "colab": {
          "base_uri": "https://localhost:8080/",
          "height": 882
        },
        "id": "fd29d482",
        "outputId": "d65fbd0a-60ce-409b-8dea-f596a5f28961"
      },
      "outputs": [
        {
          "output_type": "execute_result",
          "data": {
            "text/plain": [
              "PreparedData(topic_coordinates=              x         y  topics  cluster       Freq\n",
              "topic                                                \n",
              "3     -0.005683 -0.123735       1        1  36.875285\n",
              "13    -0.382864 -0.292515       2        1   5.307505\n",
              "4     -0.160914  0.238569       3        1   4.508509\n",
              "15    -0.159736  0.230310       4        1   4.065461\n",
              "16    -0.028789  0.027951       5        1   4.004267\n",
              "6      0.113610 -0.032011       6        1   3.792378\n",
              "8      0.067276 -0.018473       7        1   3.698740\n",
              "2      0.058087 -0.014922       8        1   3.648935\n",
              "9      0.104131 -0.029199       9        1   3.631158\n",
              "7     -0.006888  0.014789      10        1   3.585120\n",
              "11     0.014768  0.003282      11        1   3.472075\n",
              "5      0.133123 -0.037897      12        1   3.208372\n",
              "1     -0.061079  0.053127      13        1   3.118043\n",
              "18     0.099778 -0.028429      14        1   3.096272\n",
              "10    -0.031529  0.029885      15        1   2.846293\n",
              "0      0.121367 -0.041232      16        1   2.513019\n",
              "14    -0.036975  0.033511      17        1   2.503815\n",
              "17     0.097408 -0.027684      18        1   2.267294\n",
              "19    -0.056183  0.048749      19        1   2.005133\n",
              "12     0.121092 -0.034076      20        1   1.852326, topic_info=        Term        Freq        Total Category  logprob  loglift\n",
              "43    pelosi  8305.00000  8305.000000  Default  30.0000  30.0000\n",
              "78       pla  6352.00000  6352.000000  Default  29.0000  29.0000\n",
              "69   chinese  5672.00000  5672.000000  Default  28.0000  28.0000\n",
              "630  ukraine  3869.00000  3869.000000  Default  27.0000  27.0000\n",
              "226   hawaii  3576.00000  3576.000000  Default  26.0000  26.0000\n",
              "..       ...         ...          ...      ...      ...      ...\n",
              "1      focus     0.08396     1.942519  Topic20 -10.6534   0.8473\n",
              "3       zone     0.08396    39.139705  Topic20 -10.6534  -2.1558\n",
              "4    western     0.08396    40.287164  Topic20 -10.6534  -2.1847\n",
              "5      coast     0.08396    50.279764  Topic20 -10.6534  -2.4063\n",
              "6         gt     0.08396    21.604198  Topic20 -10.6534  -1.5616\n",
              "\n",
              "[660 rows x 6 columns], token_table=      Topic      Freq        Term\n",
              "term                             \n",
              "500      15  0.961594        able\n",
              "96        5  0.937519  absolutely\n",
              "1132     12  0.989650      action\n",
              "679       3  0.884551    activity\n",
              "1061      7  0.919352    actually\n",
              "...     ...       ...         ...\n",
              "3         1  0.970881        zone\n",
              "9457      1  0.997020     ام_حریم\n",
              "9469      1  0.998314          หว\n",
              "9444      1  0.997704          中共\n",
              "9449      1  0.996632         郭文贵\n",
              "\n",
              "[567 rows x 3 columns], R=30, lambda_step=0.01, plot_opts={'xlab': 'PC1', 'ylab': 'PC2'}, topic_order=[4, 14, 5, 16, 17, 7, 9, 3, 10, 8, 12, 6, 2, 19, 11, 1, 15, 18, 20, 13])"
            ],
            "text/html": [
              "\n",
              "<link rel=\"stylesheet\" type=\"text/css\" href=\"https://cdn.jsdelivr.net/gh/bmabey/pyLDAvis@3.3.1/pyLDAvis/js/ldavis.v1.0.0.css\">\n",
              "\n",
              "\n",
              "<div id=\"ldavis_el4361399271626516004208454946\"></div>\n",
              "<script type=\"text/javascript\">\n",
              "\n",
              "var ldavis_el4361399271626516004208454946_data = {\"mdsDat\": {\"x\": [-0.0056831833219728066, -0.38286421334106996, -0.16091385007291556, -0.159735866058853, -0.028788648421403332, 0.11361002691769428, 0.06727572301096606, 0.058086716602395394, 0.10413140796129076, -0.006888375369092637, 0.014767552103058737, 0.13312340802087236, -0.06107928509402924, 0.09977817792022355, -0.031529157457726775, 0.12136717952142487, -0.036974565599255785, 0.09740797095164808, -0.056183200273918384, 0.12109218200066309], \"y\": [-0.12373546512302651, -0.29251479432044164, 0.23856861236213803, 0.2303104123256697, 0.027951080002987447, -0.03201113311150598, -0.01847252006695566, -0.014922437980058528, -0.029198755985143897, 0.014789348845096527, 0.0032823571260054253, -0.037897217041544994, 0.05312688465066323, -0.028429097544601104, 0.02988500109589684, -0.041232184698903364, 0.03351067859117858, -0.02768418499717526, 0.04874902266197147, -0.03407560679224985], \"topics\": [1, 2, 3, 4, 5, 6, 7, 8, 9, 10, 11, 12, 13, 14, 15, 16, 17, 18, 19, 20], \"cluster\": [1, 1, 1, 1, 1, 1, 1, 1, 1, 1, 1, 1, 1, 1, 1, 1, 1, 1, 1, 1], \"Freq\": [36.87528514608735, 5.307505461133314, 4.508508920533406, 4.065460887603428, 4.0042668727778095, 3.7923783271962317, 3.698739888371184, 3.6489347110575268, 3.631158445867486, 3.5851199991533904, 3.4720750994571925, 3.2083716207985793, 3.118042883642709, 3.0962720262203325, 2.846293112998813, 2.5130189577514748, 2.503814670926753, 2.2672935162332237, 2.0051334082469414, 1.8523260439428555]}, \"tinfo\": {\"Term\": [\"pelosi\", \"pla\", \"chinese\", \"ukraine\", \"hawaii\", \"late\", \"taiwanese\", \"lithuanian\", \"break\", \"taiwanchina\", \"trump\", \"gtgraphic\", \"visit\", \"military\", \"woman\", \"say\", \"apple\", \"drill\", \"gazaunderattack\", \"missile\", \"quotesinnew\", \"semiconductor\", \"hotel\", \"good\", \"baddecision\", \"xijinpe\", \"state\", \"dead\", \"news\", \"co\", \"gtgraphic\", \"gazaunderattack\", \"quotesinnew\", \"baddecision\", \"marvininu\", \"palestinian\", \"saturdayreport\", \"btc\", \"\\u4e2d\\u5171\", \"goodmorning\", \"cyberattack\", \"breakingnew\", \"econazisti\", \"\\u0e2b\\u0e27\", \"wangyi\", \"island\", \"\\u90ed\\u6587\\u8d35\", \"blinken\", \"blog\", \"snicker\", \"whitehouse\", \"brokenwindow\", \"gtvoice\", \"opencomment\", \"launch\", \"\\u0627\\u0645_\\u062d\\u0631\\u06cc\\u0645\", \"pelosivisit\", \"bbnaija\", \"new_taipei_city\", \"cpac\", \"rondesantis\", \"pelosi\", \"xijinpe\", \"nancypelosi\", \"delegation\", \"meanwhile\", \"include\", \"friend\", \"issue\", \"border\", \"position\", \"year\", \"threaten\", \"kill\", \"defend\", \"label\", \"love\", \"threat\", \"rule\", \"pm\", \"tweet\", \"extend\", \"scare\", \"hate\", \"rock\", \"specific\", \"longje\", \"anwer\", \"phonecall\", \"clown\", \"singer\", \"rondesantis\", \"foodshortage\", \"presale\", \"netherland\", \"publicdiplomacy\", \"saralbharatnew\", \"pla\", \"lithuania\", \"music\", \"foreign\", \"aircraft\", \"citizen\", \"funny\", \"long\", \"status\", \"defense\", \"lead\", \"use\", \"reiterate\", \"vessel\", \"ambassador\", \"monitor\", \"cooperation\", \"invasion\", \"try\", \"bully\", \"serious\", \"first\", \"unprecedented\", \"republic\", \"man\", \"way\", \"spokespersonchn\", \"past\", \"carrier\", \"activity\", \"chinese\", \"video\", \"russian\", \"watch\", \"tension\", \"israeli\", \"restrict\", \"forget\", \"crisis\", \"business\", \"independence\", \"cross\", \"global\", \"read\", \"together\", \"median\", \"south\", \"manufacture\", \"free\", \"hit\", \"away\", \"arm\", \"view\", \"protect\", \"hard\", \"fully\", \"lie\", \"night\", \"pay\", \"enough\", \"taiwanese\", \"missile\", \"co\", \"war\", \"opinion\", \"drone\", \"start\", \"heart\", \"vote\", \"large\", \"bad\", \"close\", \"beach\", \"game\", \"ever\", \"availability\", \"absolutely\", \"encircle\", \"surround\", \"decide\", \"colonial\", \"flare\", \"sea\", \"former\", \"yesterday\", \"style\", \"wonder\", \"court\", \"draw\", \"specific\", \"rondesantis\", \"state\", \"attack\", \"stop\", \"thing\", \"day\", \"see\", \"come\", \"provoke\", \"thank\", \"warship\", \"territorial\", \"need\", \"buy\", \"tv\", \"white_house\", \"tsarule\", \"escalate\", \"law\", \"flag\", \"put\", \"communication\", \"main\", \"real\", \"order\", \"class\", \"privilege\", \"cancel\", \"liberation\", \"detail\", \"product\", \"visit\", \"military\", \"woman\", \"dead\", \"think\", \"key\", \"area\", \"relationship\", \"bring\", \"join\", \"control\", \"recent\", \"deep\", \"reveal\", \"actually\", \"turn\", \"infrastructure\", \"diplomatic\", \"front\", \"due\", \"heartiest\", \"shadow\", \"serve\", \"describe\", \"specific\", \"longje\", \"anwer\", \"phonecall\", \"clown\", \"singer\", \"rondesantis\", \"netherland\", \"nfscnew\", \"baleeditv\", \"jungkook\", \"saralbharatnew\", \"trump\", \"good\", \"country\", \"support\", \"government\", \"ai\", \"ministry\", \"share\", \"sorry\", \"claim\", \"policy\", \"deputy\", \"always\", \"big\", \"ongoing\", \"condemn\", \"chip\", \"escalation\", \"potus\", \"point\", \"invade\", \"ally\", \"seem\", \"artillery\", \"host\", \"aim\", \"imagine\", \"save\", \"mock\", \"detresfa\", \"hotel\", \"talk\", \"exercise\", \"insider\", \"trip\", \"set\", \"immediate\", \"article\", \"continue\", \"hour\", \"move\", \"important\", \"happy\", \"reunification\", \"end\", \"keep\", \"fight\", \"prepare\", \"southchinasea\", \"land\", \"eastern\", \"common\", \"joint\", \"dangerous\", \"fly\", \"hole\", \"vaiciukevi\", \"provocative\", \"feel\", \"value\", \"lithuanian\", \"election\", \"go\", \"enter\", \"president\", \"sanction\", \"report\", \"politic\", \"independent\", \"early\", \"security\", \"base\", \"speech\", \"fact\", \"firm\", \"dfax\", \"never\", \"response\", \"member\", \"money\", \"last\", \"little\", \"earth\", \"allow\", \"interest\", \"danger\", \"mainland\", \"feature\", \"channel\", \"week\", \"taiwanchina\", \"rogerwater\", \"find\", \"fire\", \"travel\", \"onechinapolicy\", \"new\", \"get\", \"today\", \"indian\", \"true\", \"development\", \"great\", \"well\", \"explain\", \"nation\", \"many\", \"tech\", \"scale\", \"transportation\", \"girl\", \"rise\", \"leave\", \"even\", \"tell\", \"rank\", \"refer\", \"run\", \"open\", \"hot\", \"bitcoin\", \"change\", \"short\", \"political\", \"make\", \"welcome\", \"back\", \"much\", \"medium\", \"territory\", \"work\", \"picture\", \"full\", \"carry\", \"soon\", \"action\", \"bbcnew\", \"let\", \"help\", \"book\", \"begin\", \"avgeek\", \"csir\", \"ago\", \"respect\", \"knoxfrigate\", \"word\", \"warm\", \"create\", \"stability\", \"sibanp\", \"pconference\", \"ukraine\", \"time\", \"chinataiwanwar\", \"warn\", \"official\", \"high\", \"know\", \"weapon\", \"ask\", \"twitter\", \"live\", \"conflict\", \"take\", \"plane\", \"climate\", \"strategic\", \"small\", \"showmenftstay\", \"announce\", \"care\", \"agree\", \"source\", \"oppose\", \"believe\", \"pre\", \"expose\", \"provide\", \"measure\", \"mofa\", \"specific\", \"rondesantis\", \"say\", \"drill\", \"semiconductor\", \"call\", \"ship\", \"region\", \"happen\", \"destabilize\", \"range\", \"top\", \"economic\", \"reach\", \"blockade\", \"press\", \"govt\", \"coast\", \"anti\", \"meet\", \"fall\", \"expert\", \"analysis\", \"stress\", \"price\", \"dig\", \"surprise\", \"profit\", \"specific\", \"longje\", \"anwer\", \"phonecall\", \"rondesantis\", \"netherland\", \"nfscnew\", \"jungkook\", \"break\", \"biden\", \"unitedstate\", \"taiwanstrait\", \"around\", \"joebiden\", \"update\", \"yi\", \"give\", \"reason\", \"exactly\", \"line\", \"leader\", \"moment\", \"want\", \"possible\", \"able\", \"target\", \"concern\", \"become\", \"mistake\", \"slam\", \"criminal\", \"wait\", \"remember\", \"connection\", \"hear\", \"technology\", \"special\", \"lesson\", \"news\", \"history\", \"authority\", \"democratic\", \"house\", \"balogun\", \"ashawo\", \"side\", \"simulate\", \"conduct\", \"major\", \"question\", \"broadcast\", \"face\", \"platform\", \"problem\", \"british\", \"provocation\", \"delay\", \"liberal\", \"human\", \"far\", \"hold\", \"politician\", \"irresponsible\", \"lose\", \"organization\", \"chairman\", \"restraint\", \"massive\", \"sibanp\", \"pconference\", \"rondesantis\", \"hawaii\", \"world\", \"strait\", \"respond\", \"interview\", \"look\", \"separatist\", \"clear\", \"white\", \"husband\", \"party\", \"prevent\", \"recognize\", \"stock\", \"zionist\", \"grow\", \"founder\", \"desktop\", \"establish\", \"loom\", \"easy\", \"combat\", \"andrealeadsom\", \"usprogressive\", \"qaeda\", \"brilliant\", \"upside\", \"snooze\", \"experience\", \"ribbentrop\", \"apple\", \"zelensky\", \"speakerpelosi\", \"nancy\", \"plan\", \"palestine\", \"send\", \"fail\", \"invest\", \"extremely\", \"child\", \"cause\", \"power\", \"mean\", \"jet\", \"reuter\", \"blame\", \"step\", \"fm\", \"test\", \"place\", \"name\", \"statement\", \"sure\", \"play\", \"plant\", \"ball\", \"vaiciukeviciute\", \"enemy\", \"almost\", \"late\", \"water\", \"hastie\", \"part\", \"nigerian\", \"sovereignty\", \"western\", \"effort\", \"cat\", \"gt\", \"southern\", \"effect\", \"appear\", \"mark\", \"agenda\", \"case\", \"clearly\", \"company\", \"episode\", \"destroyer\", \"undermine\", \"hope\", \"belong\", \"gdp\", \"damage\", \"scene\", \"voice\", \"eternal\", \"song\", \"visual\", \"head\", \"people\", \"cheat\", \"follow\", \"low\", \"pain\", \"peace\", \"city\", \"integrity\", \"relation\", \"already\", \"also\", \"understand\", \"really\", \"speak\", \"inflation\", \"destroy\", \"post\", \"schedule\", \"affair\", \"north\", \"family\", \"specific\", \"longje\", \"anwer\", \"phonecall\", \"clown\", \"singer\", \"wilson\", \"chinonso\", \"let\", \"focus\", \"zone\", \"western\", \"coast\", \"gt\"], \"Freq\": [8305.0, 6352.0, 5672.0, 3869.0, 3576.0, 2876.0, 3107.0, 3000.0, 2759.0, 2285.0, 1933.0, 5624.0, 1513.0, 1403.0, 1381.0, 1139.0, 1001.0, 1055.0, 3684.0, 1096.0, 3125.0, 816.0, 847.0, 799.0, 2602.0, 849.0, 730.0, 700.0, 622.0, 706.0, 5623.095518706848, 3682.989763490406, 3124.2874282187477, 2601.314040871589, 1447.1788424952663, 1275.73983699542, 995.3520295411408, 881.379445641363, 833.4205203342602, 724.5110619253843, 715.8633242510774, 665.4683942237465, 647.5162045845507, 625.5602654926976, 581.3556502413779, 574.1216441236759, 561.3990486455286, 503.6524772763421, 454.8487531241846, 442.8231051603425, 441.2983285882204, 422.04687931642803, 410.9311085079217, 410.3708748717714, 404.39035938768853, 376.6299292844213, 358.24433457427597, 351.7795376085732, 312.3941112754923, 298.8176554154157, 451.9211188397072, 8303.762693855986, 847.7244931172343, 771.5410453531764, 23.659535893287217, 19.556627714717735, 13.270039404263338, 9.68983730034767, 9.496606700440797, 9.41093188427128, 9.056048070393235, 8.506223326026804, 8.333863501898891, 7.8971743095309, 7.49613113352528, 6.491020538207979, 6.327707384677622, 5.208818603618255, 5.051939494386408, 2.7864273064114866, 2.089443288185568, 2.0317005121126686, 0.46427987034053075, 0.1953198635658831, 0.02190967609282791, 0.011068690262496185, 0.011068690262496185, 0.011068690262496185, 0.011068690262496185, 0.011068690262496185, 0.011068690262496185, 0.0112488022729941, 0.011089549505770952, 0.011089549505770952, 0.011088866355422236, 0.011083949988675377, 0.011083120945201343, 6350.535667056102, 586.2802351278544, 172.32925351410097, 108.8707069847584, 94.65839406401538, 83.29509280906956, 81.85654287022425, 73.7583310705088, 71.81771441586011, 53.34262858350102, 48.30196690515345, 45.651002916990855, 41.11393886674149, 37.06392247694, 36.26797700256274, 33.74111762819485, 32.30449543022605, 24.19605673350953, 23.732065417964986, 22.010796265431743, 20.68268754814986, 17.04750407436287, 16.431278638785415, 14.876355193234263, 14.763194587989252, 14.113894396589655, 13.932848910039853, 12.85284165217925, 12.066980055364981, 12.056414746172427, 5670.591962842688, 282.2628201858838, 226.28446088117366, 224.51154427444402, 215.4572991103358, 154.53524205310245, 116.16927553340419, 76.97743157318878, 74.43516416457895, 69.62236408836466, 48.38335512952265, 44.67742002073118, 38.26116700354152, 31.49862293398748, 25.753267734507073, 22.238117296750094, 19.071802699941383, 18.85555197898112, 18.064329799985643, 15.399898008079962, 13.934519374173606, 11.913933625259306, 11.063001551386158, 9.170061199009572, 8.875238995266558, 5.3336366517637455, 4.663913142276822, 2.693413954965818, 2.4982471979508762, 1.2997074024594173, 3105.612854269377, 1094.6038929306387, 704.9955349786096, 506.3695064280382, 486.5757182768865, 253.51056392943175, 155.65138908703076, 124.45663040356077, 116.73597987018174, 83.3790325611612, 60.79478526657494, 53.679633996106226, 45.23614282087159, 37.0320217611667, 30.464940677189688, 30.326702986326342, 29.450558913653463, 23.905611623995284, 23.332746746846713, 21.268377192394723, 16.416058556633235, 14.886930678004418, 11.427044406453042, 9.76527235744134, 6.726194065211748, 3.2334113094657537, 1.4855083929342157, 0.941113734423351, 0.12000358171894607, 0.06676554338411912, 0.0668242262057078, 728.6914670992337, 635.3565403976436, 620.494582057146, 582.1104749788058, 512.0899231493634, 270.00932271798644, 255.85001091338071, 254.32358871425816, 252.5526580998563, 251.70581151286444, 195.39973100326114, 172.5826416241246, 133.76333179708956, 129.29880983523248, 127.68295052977814, 127.68265231572248, 77.49151879351943, 74.37972289854245, 50.630982310333344, 43.111596227763215, 42.15375301373315, 38.92622973238035, 38.246003471400954, 33.233486071884656, 27.141296544607584, 26.763571166346722, 25.491615359805543, 20.596577354242125, 19.002501230035918, 11.91603554199594, 1512.162858125031, 1401.703969102937, 1380.2606510615499, 699.0260761894878, 329.3324090858287, 172.67466199238882, 116.03566202167123, 96.25018024855915, 84.27313651630688, 64.5076771758163, 46.718786905232875, 36.8983819315778, 34.75725411327323, 33.89994828125084, 22.489871887518945, 16.09293602353245, 11.995846574639803, 6.367362866514574, 5.914138016643283, 2.8725196346173423, 1.3576701993360776, 0.6333806266761689, 0.18420888994521173, 0.1762705277420956, 0.10788284843724427, 0.10788284843724427, 0.10788284843724427, 0.10788284843724427, 0.10788284843724427, 0.10788284843724427, 0.10793221870586156, 0.107892692796507, 0.1078888841591529, 0.10788865176772112, 0.10788856784859298, 0.10788842583160689, 1932.2570383667357, 798.4727249549356, 442.52158334676716, 440.689064063227, 412.71672094388634, 307.4566536575036, 301.0435665434646, 163.30318269837832, 138.8608364059412, 134.0792710616446, 102.97965652134711, 95.5406943217179, 91.44214359693437, 84.35658670082992, 82.89211289401801, 70.12393201128438, 65.97148327691232, 57.60696215400388, 55.398734942281685, 48.949618003321135, 42.25873604821042, 33.64385818167053, 30.618666917168003, 20.740958359906646, 19.868736619981906, 18.68522045335249, 15.886232907313412, 11.591617168067017, 11.5863936586078, 11.54336654823088, 846.0666510228597, 414.04486967481773, 389.15709179794203, 331.8259803078954, 318.17458341006295, 290.6567806194356, 242.6967438946196, 240.35877091885214, 238.75117438776167, 221.04692412744168, 178.85604883440277, 150.5899976091151, 145.23016574893813, 130.87765989910284, 115.30020240466054, 106.57739935742981, 99.19338617132287, 96.54479489470184, 87.7681357672709, 83.308022972909, 78.85452943409646, 73.1563887206844, 72.86221472724468, 71.72512396585618, 69.38379593605045, 59.684769505679625, 55.60946259005402, 53.65385220898918, 50.67895110218286, 44.14701456560108, 2998.588014549452, 324.46095313248264, 271.00847391808566, 264.6508774640777, 259.26632785089504, 234.5696675861575, 163.1708595621847, 161.9644244879995, 153.26905013003397, 137.55743319680286, 124.37428489945864, 112.0913465287346, 108.6927176783688, 97.77251773528116, 95.08870041696838, 70.02401126835137, 66.03276877718164, 62.45582788227606, 54.394553707996046, 53.95128521437781, 49.693311483028744, 41.01350338852743, 40.45241631671948, 36.87943826764746, 28.569203189355232, 27.021591756575074, 25.251391405960412, 24.14984039900863, 23.616879281117985, 23.169180216935633, 2283.993986249762, 542.6091513108452, 498.586430179187, 473.7635122479778, 442.0710866073288, 230.41843809704258, 197.63548065163508, 138.93217333388748, 134.8659825391961, 134.093961525797, 113.76717741892486, 100.69117078701535, 93.3592174271401, 88.01751904957943, 66.08851334879851, 52.639899352783196, 51.35351412687372, 45.49492913982844, 38.502050466940226, 30.432561262630994, 29.957354703517726, 28.17597156511409, 26.667506815196067, 25.081905738619383, 23.508077399212123, 15.255939351270221, 11.742380757870887, 11.178386135522388, 10.065908236056265, 8.43404615076572, 603.3368006306607, 320.0728640792524, 278.2079176710406, 247.22307343993003, 231.39176767100602, 226.4721692143287, 203.76041635002764, 203.09150215081274, 193.01278968860154, 167.18467416980633, 129.3392793997329, 128.2093843505259, 121.60021848773292, 120.18156534601383, 115.1192506676799, 103.69643694458445, 94.57145759996291, 91.09594776749839, 90.50268635368073, 88.71271301114768, 78.70826573587486, 85.59400520058051, 85.58308216312548, 67.89235432219051, 63.65427886229428, 66.29994747758433, 44.486194437401565, 44.43982456658851, 44.118908019710766, 39.44936971340169, 44.937221275308666, 44.937221275308666, 3867.5249579068513, 367.25443181367376, 200.8886583584688, 154.15615442482726, 133.9558597318562, 114.21607196776941, 86.97923808838212, 82.4326070396559, 74.31859643203597, 71.65169626778227, 58.58934813165143, 53.058807028323265, 51.197793989617, 38.46450435611858, 31.831727882022832, 29.64379894613133, 25.067982212022358, 23.531734106385287, 20.892164003030818, 20.580074991264613, 17.514966450137717, 15.482748369931263, 9.127632247186115, 8.194320697879846, 3.9722073049361737, 2.863113472242573, 1.3732107025707025, 0.4635505727120606, 0.2400025238400985, 0.04417555123965864, 0.04417589951752717, 1138.0659983218934, 1053.9749040682275, 815.4093012949153, 578.1654172407774, 177.73394915329632, 151.6488295454046, 119.32810999465676, 100.72099131710502, 85.03576877011098, 69.21592631405008, 68.55583058268765, 67.26053450679656, 60.02731515724748, 56.696053429318155, 52.12120100326496, 48.846442230427776, 45.19917122236898, 34.60613708953112, 32.267517350989394, 32.0366083496144, 28.231360369180162, 23.221480563927916, 6.497963648506071, 6.195163614941507, 5.086730270749169, 1.1152507492978316, 0.11458603785877074, 0.11458603785877074, 0.11458603785877074, 0.11458603785877074, 0.11458729155094223, 0.11458627562797567, 0.11458618916644661, 0.11458617835875547, 2757.723518463658, 549.9882206727889, 323.58078329148645, 241.9408515953655, 229.74601658758166, 141.5381906248894, 99.82299127680228, 83.582864908822, 72.27665058031143, 65.79042973683, 58.79719375261402, 44.22635698777336, 42.12802503075972, 41.87989927912868, 38.22956372521501, 38.22229725256405, 26.57710718884092, 25.364544767998765, 22.97296218788984, 21.455157047855337, 17.60706127422196, 16.991330088604993, 14.904505711398597, 11.537015761463982, 11.397649292389506, 8.888183644628755, 7.234870362090135, 3.696754376361882, 1.473325654441858, 1.1841988245192847, 621.4721476126357, 439.14582392678227, 388.10809064410626, 262.1383215909639, 239.75741780480607, 228.5653490903515, 228.5653490903515, 124.78904931422704, 115.0790578784226, 107.0548093205514, 88.4652528544873, 84.52375672264365, 81.07240897316221, 65.85357476398164, 63.493563478366234, 61.59046142233243, 61.36622177104448, 57.36131031191237, 54.43366897067835, 47.68415382354461, 45.177335157022306, 43.41630678820121, 41.45208439299824, 39.93786380716656, 37.88745135913122, 15.36951971580373, 4.164544780857852, 3.3013858827031424, 3.114359227983062, 1.9775636978352933, 34.24777760316792, 34.24777760316792, 72.83665772350659, 3575.3137740787524, 307.1271255427319, 131.50588231083688, 112.79941880740083, 61.78720182196115, 56.3635268101659, 45.93000792870486, 38.27436001007798, 23.307456595380504, 18.70463334257091, 11.857451155363083, 9.43676248621681, 6.457762885175769, 6.353157893061979, 3.354434561120141, 2.6156209375291515, 2.5977343592449778, 2.2161212078956973, 1.8931424225708335, 0.7744117067024937, 0.6587297526500925, 0.5575711696303387, 0.4693414537614241, 0.45007351513904736, 0.43136995069544143, 0.32451581700957705, 0.2277780660070484, 0.18584078906835613, 0.13264309537213229, 0.10682456731682974, 1000.4737524107672, 483.4225514098904, 393.066763903983, 366.98180757128046, 257.75341525543564, 222.86624083543322, 103.15174080813682, 86.55989619327268, 81.4758597893483, 62.74621833010032, 58.078717370902005, 54.34008109327782, 49.993305578605664, 48.190703940249946, 46.198358386505774, 44.18753967603032, 33.794778336945235, 33.3790877382772, 23.849856318946706, 23.625344050556983, 22.395886383158032, 20.112642300153986, 19.931893867973137, 16.585050391229757, 6.899073183509237, 4.650269239929971, 4.436566746462355, 4.109494573201234, 1.6633366418053965, 0.31719129214447767, 2874.75884074572, 153.24954081726057, 121.88273257070995, 67.34988454228585, 61.65770734291582, 44.09917030894112, 38.76849270709826, 27.289931754770322, 23.69718929609421, 20.085525973066314, 17.72086586622307, 17.501606016558647, 17.324228288506244, 14.222323690015022, 13.907354905630243, 10.075973941191535, 9.33895252223407, 8.190373635649049, 7.678110942558244, 7.41622226008686, 4.536519562326883, 4.142815524871415, 2.291244555122978, 1.5711980496422902, 1.4863253859912067, 0.3510021349042494, 0.29649938466743336, 0.12361309421685898, 0.11771460210293112, 0.06241733038161064, 547.9714410618986, 495.4063842857164, 309.2245645456866, 268.89982521363356, 242.30505936815734, 193.51232896219145, 156.35188718066823, 108.25110437666957, 103.98174046614756, 75.22055911720746, 73.63162401043664, 47.42880025828128, 42.1861075791224, 23.958539232667942, 22.576908346172477, 12.997961700682378, 12.759393182199764, 7.040573967388915, 6.421213629290226, 4.341735584225062, 2.704478900527106, 2.49772710418837, 0.08396016881646302, 0.08396016881646302, 0.08396016881646302, 0.08396016881646302, 0.08396016881646302, 0.08396016881646302, 0.08396016881646302, 0.08396016881646302, 0.08396016881646302, 0.08396016881646302, 0.08396016881646302, 0.08396016881646302, 0.08396016881646302, 0.08396016881646302], \"Total\": [8305.0, 6352.0, 5672.0, 3869.0, 3576.0, 2876.0, 3107.0, 3000.0, 2759.0, 2285.0, 1933.0, 5624.0, 1513.0, 1403.0, 1381.0, 1139.0, 1001.0, 1055.0, 3684.0, 1096.0, 3125.0, 816.0, 847.0, 799.0, 2602.0, 849.0, 730.0, 700.0, 622.0, 706.0, 5624.5922200804, 3684.4864647019062, 3125.784129430248, 2602.8107420830893, 1448.675543706767, 1277.2365382069208, 996.8487491025585, 882.8761468528639, 834.91723649665, 726.0077939828639, 717.3600254625784, 666.9650954352475, 649.0129062023824, 627.0570096318538, 582.8523514528789, 575.6183453351769, 562.8957653500888, 505.14917848784313, 456.34547045986795, 444.3198063718435, 442.7950297997214, 423.54359584419444, 412.4278396537121, 411.8676064404941, 405.88706059918957, 378.1266469322097, 359.741035785777, 353.27623882007424, 313.89084284421506, 300.3143566269167, 526.1467868245616, 8305.299532772964, 849.2613320342115, 773.0778842701536, 25.196374810264345, 21.093466631694863, 14.80687832124046, 11.22667621732479, 11.033445617417918, 10.947770801248401, 10.592886987370356, 10.043062243003925, 9.870702418876013, 9.434013226508021, 9.032970050502403, 8.027859455185101, 7.8645463016547446, 6.745657520595378, 6.588778411363531, 4.323266223388611, 3.6262822132073804, 3.5685394290897925, 2.0011188194964085, 1.7321587805430072, 1.5587488545223211, 1.5479076072396203, 1.5479076072396203, 1.5479076072396203, 1.5479076072396203, 1.5479076072396203, 1.5479076072396203, 526.1467868245616, 39.631042866635916, 39.631042866635916, 90.22768618074758, 37.08849471629518, 64.8976062554482, 6352.045450056875, 587.7900181286261, 173.83903651487267, 110.38048998553012, 96.1681770647871, 84.80487580984128, 83.36632587099596, 75.26811407128052, 73.32749741663183, 54.85241158427273, 49.81174990592516, 47.16078591776257, 42.623721867513204, 38.57370547771171, 37.77776000333445, 35.25090062896656, 33.81427843099776, 25.70583973428124, 25.241848418736698, 23.520579266203455, 22.192470548921573, 18.55728707513458, 17.941061639557127, 16.386138194005973, 16.272977588760963, 15.623677397361364, 15.442631910811562, 14.36262465295096, 13.57676305613669, 13.566197746944136, 5672.104600220538, 283.7754575637325, 227.79709825902228, 226.02418165229264, 216.96993648818443, 156.04787943095107, 117.68191291125281, 78.4900689510374, 75.94780154242757, 71.13500146621328, 49.895992507371275, 46.1900573985798, 39.77380438139015, 33.011260311836104, 27.265905112355696, 23.750754674598717, 20.584440077790006, 20.368189356829742, 19.576967177834266, 16.91253538592858, 15.447156752022225, 13.426571003107926, 12.575638929234778, 10.682698576858192, 10.387876373115178, 6.846479953520522, 6.176550520125442, 4.2060513328144395, 4.010884575799498, 2.812344780308039, 3107.0939963332316, 1096.0850349944944, 706.4766770424651, 507.85064849189376, 488.05686034074205, 254.99170599328724, 157.13253115088625, 125.93777246741627, 118.21712193403724, 84.8601746250167, 62.27592733043045, 55.160776059961734, 46.7172848847271, 38.51316382502221, 31.946082741045192, 31.807845050181847, 30.932718193210256, 25.38675368785079, 24.813888810702217, 22.749519256250228, 17.89720062048874, 16.36807274185992, 12.908186470308541, 11.246414421296839, 8.207336129067247, 4.71458315073491, 2.9666504567897167, 2.422255798278852, 1.6011456455744473, 1.5479076072396203, 526.1467868245616, 730.0814806759976, 636.7465539744074, 621.8845956339098, 583.5004885555696, 513.4799367261272, 271.39933629475036, 257.24002449014466, 255.713602291022, 253.94267167662014, 253.09582508962828, 196.78974458002497, 173.97265520088843, 135.1533453738534, 130.6888234119963, 129.47394698015333, 129.47374848805356, 78.88153237028328, 75.7697364753063, 52.02099588709719, 44.501609804527064, 43.543766590497, 40.3162433091442, 39.6360170481648, 34.623499648648504, 28.531310169639564, 28.15358474311057, 26.881628936569392, 21.986590931005974, 20.392514806799767, 13.306049118759788, 1513.6028828838337, 1403.1439938617395, 1381.7006758203524, 700.4661009482901, 330.77243384463117, 174.1146867511912, 117.4756867804736, 97.69020500736151, 85.71316127510924, 65.94770193461866, 48.158811664035255, 38.33840669038018, 36.19727887207561, 35.33997304005322, 23.92989664632132, 17.532960782334825, 13.435871566738138, 7.807387625316949, 7.3558514128094785, 4.312544393419718, 2.797694958138453, 2.0734053854785452, 1.624233648747588, 1.6162953750360427, 1.5479076072396203, 1.5479076072396203, 1.5479076072396203, 1.5479076072396203, 1.5479076072396203, 1.5479076072396203, 526.1467868245616, 90.22768618074758, 86.96942599970521, 51.86479737638318, 62.045479239908204, 64.8976062554482, 1933.7062948664413, 799.9219814546409, 443.97083984647253, 442.1383205629324, 414.1659774435917, 308.90591015720895, 302.49282304316995, 164.7524391980836, 140.31009290564648, 135.52852756134988, 104.42891302105241, 96.9899508214232, 92.89140009663967, 85.80584320053522, 84.34136939372331, 71.57318851098968, 67.42073977661762, 59.05621865370918, 56.847991441986984, 50.398874503026434, 43.70799254791572, 35.09311468137583, 32.0679234168733, 22.190214859611945, 21.317993119687205, 20.13447695305779, 17.33548940701871, 13.040873679839347, 13.035650158313098, 12.992623047936178, 847.4776463305863, 415.45586498254437, 390.56808710566867, 333.23697561562204, 319.5855787177896, 292.06777592716224, 244.10773920234615, 241.7697662265787, 240.16216969548822, 222.45791943516824, 180.26704414212932, 152.00099291684165, 146.64116105666469, 132.2886552068294, 116.7111977123871, 107.98839466515638, 100.60438147904944, 97.9557902024284, 89.17913107499747, 84.71901828063557, 80.26552474182303, 74.56738402841097, 74.27321003497124, 73.13611927358275, 70.79479124377701, 61.095764813406184, 57.02045789778058, 55.06484751671574, 52.089946409909416, 45.558025890302, 3000.0701332745252, 325.9430718575564, 272.4905926431594, 266.13299618915147, 260.7484465759688, 236.05178631123118, 164.65297828725838, 163.4465432130732, 154.75116885510766, 139.03955192187655, 125.85640362453235, 113.57346525380831, 110.1748364034425, 99.25463646035486, 96.57081914204208, 71.50612999342508, 67.51488750225535, 63.93794660734977, 55.87667243306976, 55.43340393945152, 51.175430208102455, 42.495622113601144, 41.93453504179319, 38.36155699272117, 30.05132191442894, 28.50371048164878, 26.73351013103412, 25.632095646464734, 25.098998006191692, 24.65129894200934, 2285.4696205204154, 544.0847856217225, 500.06206444984093, 475.23914651863174, 443.54672087798275, 231.8940723797635, 199.11111492228895, 140.40780760454135, 136.34161680984997, 135.56959579645087, 115.24281168957873, 102.16680505766922, 94.83485169779397, 89.4931533202333, 67.56414761945238, 54.11553362343708, 52.829148397527604, 46.97056341048233, 39.97768473759411, 31.908195533284875, 31.432988974171607, 29.65160583576797, 28.143141085849948, 26.557540009273264, 24.983711669866004, 16.731573621924102, 13.21801539858043, 12.65402040617627, 11.541542506710147, 9.909680421419603, 604.7280216802459, 321.4640851288376, 279.59913872062583, 248.6142944895152, 232.7829887205912, 227.86339026391386, 205.1516373996128, 204.4827232003979, 194.4040107381867, 168.5758952193915, 130.73050044931807, 129.60060540011108, 122.9914395373181, 121.57278639559901, 116.51047171726509, 105.08765799416963, 95.9626786495481, 92.48716881708357, 91.89390740326591, 90.10393406073287, 80.09948678546004, 87.29279568315388, 87.28545919298375, 69.2835753717757, 65.04549991187946, 67.9862957834216, 45.87741548698676, 45.83104561617371, 45.510129069295964, 40.840590762986885, 80.65375939941376, 80.65375939941376, 3869.028689962851, 368.75816386967375, 202.39239041446876, 155.65988648082723, 135.45959178785617, 115.71980402376937, 88.48297014438208, 83.93633909565585, 75.82232848803594, 73.15542832378222, 60.09308018765139, 54.56253908432323, 52.70152604561696, 39.96823641211854, 33.335459938022794, 31.14753100213129, 26.57171426802232, 25.035466162385248, 22.39589605903078, 22.083807047264575, 19.018698506137678, 16.986480425931227, 10.631364303186077, 9.698052753879807, 5.475939360936135, 4.366845528242535, 2.8769427585706637, 1.9672826287120222, 1.74373457984006, 1.5479076072396203, 526.1467868245616, 1139.4993198912744, 1055.4082256376084, 816.8426228642961, 579.5987388101582, 179.16727072267716, 153.08215111478543, 120.7614315640376, 102.15431288648585, 86.46909033949181, 70.64924788343092, 69.98915215206848, 68.6938560761774, 61.46063672662833, 58.12937499869901, 53.55452257264581, 50.27976379980863, 46.63249279174983, 36.03945865891197, 33.700838920370245, 33.46992991899525, 29.66468193856101, 24.654802133308763, 7.931285217886921, 7.628485184322356, 6.5200518401300185, 2.5485725399076085, 1.5479076072396203, 1.5479076072396203, 1.5479076072396203, 1.5479076072396203, 526.1467868245616, 90.22768618074758, 86.96942599970521, 62.045479239908204, 2759.22478944562, 551.4894916547513, 325.08205427344893, 243.44212257732792, 231.24728756954408, 143.03946160685183, 101.3242622587647, 85.08413589078442, 73.77792156227385, 67.29170071879243, 60.298464734576456, 45.72762796973579, 43.62929601272216, 43.381170261091114, 39.73083470717744, 39.72356823452648, 28.07837817080335, 26.865815749961197, 24.474233169852273, 22.95642802981777, 19.10833225618439, 18.492601070567424, 16.40577706341669, 13.038286743426413, 12.898920274351937, 10.389454626591187, 8.736141344052566, 5.198025358324314, 2.9745966364042897, 2.6854698064817164, 622.9116965214477, 440.5853728355943, 389.54763955291827, 263.57787049977594, 241.19696671361802, 230.00489799916346, 230.00489799916346, 126.228598223039, 116.51860678723456, 108.49435822936336, 89.90480176329926, 85.96330563145561, 82.51195790610824, 67.2931236727936, 64.9331123871782, 63.0300103311444, 62.80577125505166, 58.80085922072434, 55.87321787949032, 49.123702732356584, 46.61688406583428, 44.85585569701318, 42.89163330181021, 41.37741271597853, 39.32700026794319, 16.809068624615698, 5.60409368966982, 4.74093479151511, 4.553908148862062, 3.417112606647261, 80.65375939941376, 80.65375939941376, 526.1467868245616, 3576.8212461105436, 308.6345975745234, 133.01335434262836, 114.3068908391923, 63.294673853752634, 57.87099884195739, 47.43747996049635, 39.781832041869464, 24.814928627171994, 20.2121053743624, 13.364923187154572, 10.9442345180083, 7.9652349169672565, 7.860629924853467, 4.864332807343971, 4.123092969320639, 4.105206391036465, 3.9723165862935934, 3.4014364605223553, 2.2845886140414127, 2.1662017844415797, 2.065043201421826, 1.9834883257368423, 1.9638676826759098, 1.9452123143912565, 1.8319878488010646, 1.7379592209413777, 1.6954265353537448, 1.6408515940651605, 1.6153381056578053, 1001.9396655997606, 484.8884645988836, 394.5326770929762, 368.4477207602737, 259.21932844442887, 224.33215402442647, 104.61765399713008, 88.02580938226593, 82.94177297834156, 64.21213151909357, 59.54463055989525, 55.805994282271065, 51.45921876759891, 49.656617129243195, 47.66427157549902, 45.65345286502357, 35.26069152593848, 34.84500092727045, 25.31576950793996, 25.091257239550238, 23.861799572151288, 21.57855548914724, 21.397807056966393, 18.050963580223012, 8.36498637250249, 6.116206233155834, 5.902479935455608, 5.575407762194487, 3.1292498307986496, 1.783104481137731, 2876.277512348645, 154.7682124201855, 123.40140502234948, 68.86855614521077, 63.17637894584074, 45.61784191186604, 40.28716431002318, 28.808603357695247, 25.215872129403966, 21.60419757599124, 19.239537469147994, 19.020277619483572, 18.84289989143117, 15.740995292939946, 15.426026508555166, 11.594645544116458, 10.857624125158994, 9.709045238573973, 9.197315083647295, 8.934893863011784, 6.055191165251807, 5.661487127796339, 3.8099161580479017, 3.089870851225767, 3.00499698891613, 1.8696737860973027, 1.815170987592357, 1.6431110726373825, 1.6363862050278548, 1.5810889333065343, 549.4353885003218, 496.87033172413953, 310.6885119841097, 270.3637726520567, 243.7690068065805, 194.9762764006146, 157.8158346190914, 109.71505181509274, 105.44568790457072, 76.68450655563062, 75.0955714488598, 48.89274769670443, 43.650055017545554, 25.4224866710911, 24.040855784595635, 14.461909139105535, 14.22334062062292, 8.504521405812072, 7.885161067713383, 5.8056830226482194, 4.168426338950264, 3.9616745426115276, 1.5479076072396203, 1.5479076072396203, 1.5479076072396203, 1.5479076072396203, 1.5479076072396203, 1.5479076072396203, 1.5479076072396203, 1.5479076072396203, 92.48716881708357, 1.9425186502243594, 39.13970521337385, 40.28716431002318, 50.27976379980863, 21.60419757599124], \"Category\": [\"Default\", \"Default\", \"Default\", \"Default\", \"Default\", \"Default\", \"Default\", \"Default\", \"Default\", \"Default\", \"Default\", \"Default\", \"Default\", \"Default\", \"Default\", \"Default\", \"Default\", \"Default\", \"Default\", \"Default\", \"Default\", \"Default\", \"Default\", \"Default\", \"Default\", \"Default\", \"Default\", \"Default\", \"Default\", \"Default\", \"Topic1\", \"Topic1\", \"Topic1\", \"Topic1\", \"Topic1\", \"Topic1\", \"Topic1\", \"Topic1\", \"Topic1\", \"Topic1\", \"Topic1\", \"Topic1\", \"Topic1\", \"Topic1\", \"Topic1\", \"Topic1\", \"Topic1\", \"Topic1\", \"Topic1\", \"Topic1\", \"Topic1\", \"Topic1\", \"Topic1\", \"Topic1\", \"Topic1\", \"Topic1\", \"Topic1\", \"Topic1\", \"Topic1\", \"Topic1\", \"Topic1\", \"Topic2\", \"Topic2\", \"Topic2\", \"Topic2\", \"Topic2\", \"Topic2\", \"Topic2\", \"Topic2\", \"Topic2\", \"Topic2\", \"Topic2\", \"Topic2\", \"Topic2\", \"Topic2\", \"Topic2\", \"Topic2\", \"Topic2\", \"Topic2\", \"Topic2\", \"Topic2\", \"Topic2\", \"Topic2\", \"Topic2\", \"Topic2\", \"Topic2\", \"Topic2\", \"Topic2\", \"Topic2\", \"Topic2\", \"Topic2\", \"Topic2\", \"Topic2\", \"Topic2\", \"Topic2\", \"Topic2\", \"Topic2\", \"Topic3\", \"Topic3\", \"Topic3\", \"Topic3\", \"Topic3\", \"Topic3\", \"Topic3\", \"Topic3\", \"Topic3\", \"Topic3\", \"Topic3\", \"Topic3\", \"Topic3\", \"Topic3\", \"Topic3\", \"Topic3\", \"Topic3\", \"Topic3\", \"Topic3\", \"Topic3\", \"Topic3\", \"Topic3\", \"Topic3\", \"Topic3\", \"Topic3\", \"Topic3\", \"Topic3\", \"Topic3\", \"Topic3\", \"Topic3\", \"Topic4\", \"Topic4\", \"Topic4\", \"Topic4\", \"Topic4\", \"Topic4\", \"Topic4\", \"Topic4\", \"Topic4\", \"Topic4\", \"Topic4\", \"Topic4\", \"Topic4\", \"Topic4\", \"Topic4\", \"Topic4\", \"Topic4\", \"Topic4\", \"Topic4\", \"Topic4\", \"Topic4\", \"Topic4\", \"Topic4\", \"Topic4\", \"Topic4\", \"Topic4\", \"Topic4\", \"Topic4\", \"Topic4\", \"Topic4\", \"Topic5\", \"Topic5\", \"Topic5\", \"Topic5\", \"Topic5\", \"Topic5\", \"Topic5\", \"Topic5\", \"Topic5\", \"Topic5\", \"Topic5\", \"Topic5\", \"Topic5\", \"Topic5\", \"Topic5\", \"Topic5\", \"Topic5\", \"Topic5\", \"Topic5\", \"Topic5\", \"Topic5\", \"Topic5\", \"Topic5\", \"Topic5\", \"Topic5\", \"Topic5\", \"Topic5\", \"Topic5\", \"Topic5\", \"Topic5\", \"Topic5\", \"Topic6\", \"Topic6\", \"Topic6\", \"Topic6\", \"Topic6\", \"Topic6\", \"Topic6\", \"Topic6\", \"Topic6\", \"Topic6\", \"Topic6\", \"Topic6\", \"Topic6\", \"Topic6\", \"Topic6\", \"Topic6\", \"Topic6\", \"Topic6\", \"Topic6\", \"Topic6\", \"Topic6\", \"Topic6\", \"Topic6\", \"Topic6\", \"Topic6\", \"Topic6\", \"Topic6\", \"Topic6\", \"Topic6\", \"Topic6\", \"Topic7\", \"Topic7\", \"Topic7\", \"Topic7\", \"Topic7\", \"Topic7\", \"Topic7\", \"Topic7\", \"Topic7\", \"Topic7\", \"Topic7\", \"Topic7\", \"Topic7\", \"Topic7\", \"Topic7\", \"Topic7\", \"Topic7\", \"Topic7\", \"Topic7\", \"Topic7\", \"Topic7\", \"Topic7\", \"Topic7\", \"Topic7\", \"Topic7\", \"Topic7\", \"Topic7\", \"Topic7\", \"Topic7\", \"Topic7\", \"Topic7\", \"Topic7\", \"Topic7\", \"Topic7\", \"Topic7\", \"Topic7\", \"Topic8\", \"Topic8\", \"Topic8\", \"Topic8\", \"Topic8\", \"Topic8\", \"Topic8\", \"Topic8\", \"Topic8\", \"Topic8\", \"Topic8\", \"Topic8\", \"Topic8\", \"Topic8\", \"Topic8\", \"Topic8\", \"Topic8\", \"Topic8\", \"Topic8\", \"Topic8\", \"Topic8\", \"Topic8\", \"Topic8\", \"Topic8\", \"Topic8\", \"Topic8\", \"Topic8\", \"Topic8\", \"Topic8\", \"Topic8\", \"Topic9\", \"Topic9\", \"Topic9\", \"Topic9\", \"Topic9\", \"Topic9\", \"Topic9\", \"Topic9\", \"Topic9\", \"Topic9\", \"Topic9\", \"Topic9\", \"Topic9\", \"Topic9\", \"Topic9\", \"Topic9\", \"Topic9\", \"Topic9\", \"Topic9\", \"Topic9\", \"Topic9\", \"Topic9\", \"Topic9\", \"Topic9\", \"Topic9\", \"Topic9\", \"Topic9\", \"Topic9\", \"Topic9\", \"Topic9\", \"Topic10\", \"Topic10\", \"Topic10\", \"Topic10\", \"Topic10\", \"Topic10\", \"Topic10\", \"Topic10\", \"Topic10\", \"Topic10\", \"Topic10\", \"Topic10\", \"Topic10\", \"Topic10\", \"Topic10\", \"Topic10\", \"Topic10\", \"Topic10\", \"Topic10\", \"Topic10\", \"Topic10\", \"Topic10\", \"Topic10\", \"Topic10\", \"Topic10\", \"Topic10\", \"Topic10\", \"Topic10\", \"Topic10\", \"Topic10\", \"Topic11\", \"Topic11\", \"Topic11\", \"Topic11\", \"Topic11\", \"Topic11\", \"Topic11\", \"Topic11\", \"Topic11\", \"Topic11\", \"Topic11\", \"Topic11\", \"Topic11\", \"Topic11\", \"Topic11\", \"Topic11\", \"Topic11\", \"Topic11\", \"Topic11\", \"Topic11\", \"Topic11\", \"Topic11\", \"Topic11\", \"Topic11\", \"Topic11\", \"Topic11\", \"Topic11\", \"Topic11\", \"Topic11\", \"Topic11\", \"Topic12\", \"Topic12\", \"Topic12\", \"Topic12\", \"Topic12\", \"Topic12\", \"Topic12\", \"Topic12\", \"Topic12\", \"Topic12\", \"Topic12\", \"Topic12\", \"Topic12\", \"Topic12\", \"Topic12\", \"Topic12\", \"Topic12\", \"Topic12\", \"Topic12\", \"Topic12\", \"Topic12\", \"Topic12\", \"Topic12\", \"Topic12\", \"Topic12\", \"Topic12\", \"Topic12\", \"Topic12\", \"Topic12\", \"Topic12\", \"Topic12\", \"Topic12\", \"Topic13\", \"Topic13\", \"Topic13\", \"Topic13\", \"Topic13\", \"Topic13\", \"Topic13\", \"Topic13\", \"Topic13\", \"Topic13\", \"Topic13\", \"Topic13\", \"Topic13\", \"Topic13\", \"Topic13\", \"Topic13\", \"Topic13\", \"Topic13\", \"Topic13\", \"Topic13\", \"Topic13\", \"Topic13\", \"Topic13\", \"Topic13\", \"Topic13\", \"Topic13\", \"Topic13\", \"Topic13\", \"Topic13\", \"Topic13\", \"Topic13\", \"Topic14\", \"Topic14\", \"Topic14\", \"Topic14\", \"Topic14\", \"Topic14\", \"Topic14\", \"Topic14\", \"Topic14\", \"Topic14\", \"Topic14\", \"Topic14\", \"Topic14\", \"Topic14\", \"Topic14\", \"Topic14\", \"Topic14\", \"Topic14\", \"Topic14\", \"Topic14\", \"Topic14\", \"Topic14\", \"Topic14\", \"Topic14\", \"Topic14\", \"Topic14\", \"Topic14\", \"Topic14\", \"Topic14\", \"Topic14\", \"Topic14\", \"Topic14\", \"Topic14\", \"Topic14\", \"Topic15\", \"Topic15\", \"Topic15\", \"Topic15\", \"Topic15\", \"Topic15\", \"Topic15\", \"Topic15\", \"Topic15\", \"Topic15\", \"Topic15\", \"Topic15\", \"Topic15\", \"Topic15\", \"Topic15\", \"Topic15\", \"Topic15\", \"Topic15\", \"Topic15\", \"Topic15\", \"Topic15\", \"Topic15\", \"Topic15\", \"Topic15\", \"Topic15\", \"Topic15\", \"Topic15\", \"Topic15\", \"Topic15\", \"Topic15\", \"Topic16\", \"Topic16\", \"Topic16\", \"Topic16\", \"Topic16\", \"Topic16\", \"Topic16\", \"Topic16\", \"Topic16\", \"Topic16\", \"Topic16\", \"Topic16\", \"Topic16\", \"Topic16\", \"Topic16\", \"Topic16\", \"Topic16\", \"Topic16\", \"Topic16\", \"Topic16\", \"Topic16\", \"Topic16\", \"Topic16\", \"Topic16\", \"Topic16\", \"Topic16\", \"Topic16\", \"Topic16\", \"Topic16\", \"Topic16\", \"Topic16\", \"Topic16\", \"Topic16\", \"Topic17\", \"Topic17\", \"Topic17\", \"Topic17\", \"Topic17\", \"Topic17\", \"Topic17\", \"Topic17\", \"Topic17\", \"Topic17\", \"Topic17\", \"Topic17\", \"Topic17\", \"Topic17\", \"Topic17\", \"Topic17\", \"Topic17\", \"Topic17\", \"Topic17\", \"Topic17\", \"Topic17\", \"Topic17\", \"Topic17\", \"Topic17\", \"Topic17\", \"Topic17\", \"Topic17\", \"Topic17\", \"Topic17\", \"Topic17\", \"Topic18\", \"Topic18\", \"Topic18\", \"Topic18\", \"Topic18\", \"Topic18\", \"Topic18\", \"Topic18\", \"Topic18\", \"Topic18\", \"Topic18\", \"Topic18\", \"Topic18\", \"Topic18\", \"Topic18\", \"Topic18\", \"Topic18\", \"Topic18\", \"Topic18\", \"Topic18\", \"Topic18\", \"Topic18\", \"Topic18\", \"Topic18\", \"Topic18\", \"Topic18\", \"Topic18\", \"Topic18\", \"Topic18\", \"Topic18\", \"Topic19\", \"Topic19\", \"Topic19\", \"Topic19\", \"Topic19\", \"Topic19\", \"Topic19\", \"Topic19\", \"Topic19\", \"Topic19\", \"Topic19\", \"Topic19\", \"Topic19\", \"Topic19\", \"Topic19\", \"Topic19\", \"Topic19\", \"Topic19\", \"Topic19\", \"Topic19\", \"Topic19\", \"Topic19\", \"Topic19\", \"Topic19\", \"Topic19\", \"Topic19\", \"Topic19\", \"Topic19\", \"Topic19\", \"Topic19\", \"Topic20\", \"Topic20\", \"Topic20\", \"Topic20\", \"Topic20\", \"Topic20\", \"Topic20\", \"Topic20\", \"Topic20\", \"Topic20\", \"Topic20\", \"Topic20\", \"Topic20\", \"Topic20\", \"Topic20\", \"Topic20\", \"Topic20\", \"Topic20\", \"Topic20\", \"Topic20\", \"Topic20\", \"Topic20\", \"Topic20\", \"Topic20\", \"Topic20\", \"Topic20\", \"Topic20\", \"Topic20\", \"Topic20\", \"Topic20\", \"Topic20\", \"Topic20\", \"Topic20\", \"Topic20\", \"Topic20\", \"Topic20\"], \"logprob\": [30.0, 29.0, 28.0, 27.0, 26.0, 25.0, 24.0, 23.0, 22.0, 21.0, 20.0, 19.0, 18.0, 17.0, 16.0, 15.0, 14.0, 13.0, 12.0, 11.0, 10.0, 9.0, 8.0, 7.0, 6.0, 5.0, 4.0, 3.0, 2.0, 1.0, -2.5324, -2.9556, -3.1201, -3.3033, -3.8897, -4.0158, -4.264, -4.3856, -4.4415, -4.5816, -4.5936, -4.6666, -4.6939, -4.7284, -4.8017, -4.8142, -4.8366, -4.9452, -5.0471, -5.0739, -5.0774, -5.122, -5.1486, -5.15, -5.1647, -5.2358, -5.2859, -5.3041, -5.4228, -5.4672, -5.0536, -0.2042, -2.4861, -2.5803, -6.0649, -6.2553, -6.6431, -6.9576, -6.9777, -6.9868, -7.0252, -7.0879, -7.1083, -7.1622, -7.2143, -7.3582, -7.3837, -7.5783, -7.6089, -8.2039, -8.4918, -8.5198, -9.9959, -10.8618, -13.0495, -13.7323, -13.7323, -13.7323, -13.7323, -13.7323, -13.7323, -13.7161, -13.7304, -13.7304, -13.7305, -13.7309, -13.731, -0.3092, -2.6917, -3.9161, -4.3753, -4.5152, -4.6431, -4.6605, -4.7647, -4.7914, -5.0888, -5.188, -5.2445, -5.3492, -5.4529, -5.4746, -5.5468, -5.5903, -5.8793, -5.8987, -5.974, -6.0362, -6.2295, -6.2663, -6.3657, -6.3734, -6.4183, -6.4313, -6.5119, -6.575, -6.5759, -0.319, -3.3192, -3.5403, -3.5481, -3.5893, -3.9216, -4.207, -4.6185, -4.6521, -4.719, -5.0829, -5.1626, -5.3176, -5.5121, -5.7135, -5.8603, -6.0138, -6.0253, -6.0681, -6.2277, -6.3277, -6.4844, -6.5585, -6.7461, -6.7788, -7.288, -7.4222, -7.9713, -8.0465, -8.6999, -0.9059, -1.9487, -2.3887, -2.7196, -2.7595, -3.4115, -3.8993, -4.1229, -4.187, -4.5235, -4.8394, -4.9639, -5.135, -5.3351, -5.5303, -5.5349, -5.5642, -5.7728, -5.797, -5.8897, -6.1486, -6.2464, -6.5109, -6.6681, -7.0409, -7.7734, -8.5511, -9.0076, -11.0671, -11.6535, -11.6526, -2.3013, -2.4383, -2.462, -2.5259, -2.654, -3.2941, -3.3479, -3.3539, -3.3609, -3.3643, -3.6175, -3.7417, -3.9965, -4.0304, -4.043, -4.043, -4.5424, -4.5833, -4.968, -5.1287, -5.1512, -5.2309, -5.2485, -5.389, -5.5915, -5.6055, -5.6542, -5.8674, -5.948, -6.4146, -1.5462, -1.6221, -1.6375, -2.3178, -3.0705, -3.7161, -4.1136, -4.3006, -4.4335, -4.7007, -5.0234, -5.2594, -5.3191, -5.3441, -5.7545, -6.0891, -6.383, -7.0163, -7.0902, -7.8123, -8.5618, -9.3242, -10.5592, -10.6033, -11.0942, -11.0942, -11.0942, -11.0942, -11.0942, -11.0942, -11.0938, -11.0941, -11.0942, -11.0942, -11.0942, -11.0942, -1.2875, -2.1713, -2.7615, -2.7656, -2.8312, -3.1256, -3.1467, -3.7584, -3.9205, -3.9555, -4.2194, -4.2944, -4.3383, -4.4189, -4.4364, -4.6037, -4.6647, -4.8003, -4.8394, -4.9632, -5.1102, -5.3381, -5.4324, -5.8219, -5.8648, -5.9262, -6.0885, -6.4037, -6.4041, -6.4079, -2.1085, -2.8231, -2.8851, -3.0445, -3.0865, -3.1769, -3.3573, -3.367, -3.3737, -3.4507, -3.6625, -3.8345, -3.8708, -3.9748, -4.1015, -4.1802, -4.252, -4.2791, -4.3744, -4.4265, -4.4815, -4.5565, -4.5605, -4.5762, -4.6094, -4.76, -4.8307, -4.8665, -4.9236, -5.0616, -0.8304, -3.0542, -3.2342, -3.2579, -3.2785, -3.3786, -3.7415, -3.7489, -3.8041, -3.9123, -4.013, -4.117, -4.1478, -4.2537, -4.2815, -4.5875, -4.6462, -4.7019, -4.8401, -4.8482, -4.9305, -5.1224, -5.1362, -5.2287, -5.484, -5.5397, -5.6074, -5.652, -5.6744, -5.6935, -1.0706, -2.5079, -2.5925, -2.6436, -2.7128, -3.3644, -3.5179, -3.8703, -3.9, -3.9057, -4.0701, -4.1922, -4.2678, -4.3267, -4.6133, -4.8408, -4.8656, -4.9867, -5.1536, -5.3888, -5.4045, -5.4658, -5.5208, -5.5821, -5.6469, -6.0793, -6.3411, -6.3903, -6.4951, -6.672, -2.3228, -2.9567, -3.0969, -3.215, -3.2812, -3.3027, -3.4084, -3.4116, -3.4625, -3.6062, -3.8629, -3.8716, -3.9246, -3.9363, -3.9793, -4.0838, -4.1759, -4.2134, -4.2199, -4.2399, -4.3595, -4.2757, -4.2758, -4.5074, -4.5718, -4.5311, -4.9301, -4.9312, -4.9384, -5.0503, -4.92, -4.92, -0.4364, -2.7907, -3.394, -3.6588, -3.7992, -3.9586, -4.2311, -4.2848, -4.3884, -4.4249, -4.6262, -4.7253, -4.761, -5.047, -5.2363, -5.3075, -5.4751, -5.5384, -5.6574, -5.6724, -5.8337, -5.957, -6.4854, -6.5933, -7.3174, -7.6448, -8.3796, -9.4656, -10.1238, -11.8163, -11.8163, -1.6526, -1.7294, -1.986, -2.3299, -3.5094, -3.6682, -3.9079, -4.0774, -4.2467, -4.4525, -4.4621, -4.4812, -4.5949, -4.652, -4.7362, -4.8011, -4.8787, -5.1457, -5.2157, -5.2229, -5.3493, -5.5447, -6.8182, -6.866, -7.0631, -8.5807, -10.8562, -10.8562, -10.8562, -10.8562, -10.8562, -10.8562, -10.8562, -10.8562, -0.6834, -2.2957, -2.8261, -3.1169, -3.1686, -3.653, -4.0022, -4.1797, -4.325, -4.4191, -4.5315, -4.8162, -4.8648, -4.8707, -4.9619, -4.9621, -5.3255, -5.3722, -5.4712, -5.5396, -5.7373, -5.7728, -5.9039, -6.16, -6.1721, -6.4208, -6.6266, -7.2981, -8.218, -8.4365, -2.0489, -2.3962, -2.5197, -2.9121, -3.0014, -3.0492, -3.0492, -3.6544, -3.7354, -3.8077, -3.9984, -4.044, -4.0857, -4.2936, -4.3301, -4.3605, -4.3642, -4.4316, -4.484, -4.6164, -4.6704, -4.7102, -4.7565, -4.7937, -4.8464, -5.7486, -7.0544, -7.2867, -7.345, -7.7992, -4.9474, -4.9474, -4.1928, -0.2955, -2.7501, -3.5983, -3.7517, -4.3537, -4.4455, -4.6502, -4.8326, -5.3286, -5.5486, -6.0044, -6.2327, -6.6121, -6.6284, -7.2671, -7.5158, -7.5227, -7.6816, -7.8391, -8.733, -8.8948, -9.0615, -9.2338, -9.2757, -9.3181, -9.6028, -9.9567, -10.1602, -10.4974, -10.7139, -1.4699, -2.1972, -2.4041, -2.4728, -2.8261, -2.9715, -3.7419, -3.9173, -3.9778, -4.239, -4.3163, -4.3829, -4.4662, -4.503, -4.5452, -4.5897, -4.8578, -4.8702, -5.2063, -5.2158, -5.2692, -5.3768, -5.3858, -5.5696, -6.4467, -6.8412, -6.8882, -6.9648, -7.8693, -9.5264, -0.2915, -3.2232, -3.4522, -4.0453, -4.1336, -4.4688, -4.5976, -4.9487, -5.0899, -5.2552, -5.3805, -5.393, -5.4031, -5.6004, -5.6228, -5.9451, -6.021, -6.1523, -6.2169, -6.2516, -6.7431, -6.8339, -7.4261, -7.8034, -7.8589, -9.3022, -9.471, -10.3458, -10.3947, -11.0292, -1.8698, -1.9706, -2.4419, -2.5816, -2.6858, -2.9106, -3.1239, -3.4915, -3.5318, -3.8556, -3.8769, -4.3167, -4.4339, -4.9997, -5.059, -5.6112, -5.6297, -6.2243, -6.3164, -6.7077, -7.1811, -7.2606, -10.6534, -10.6534, -10.6534, -10.6534, -10.6534, -10.6534, -10.6534, -10.6534, -10.6534, -10.6534, -10.6534, -10.6534, -10.6534, -10.6534], \"loglift\": [30.0, 29.0, 28.0, 27.0, 26.0, 25.0, 24.0, 23.0, 22.0, 21.0, 20.0, 19.0, 18.0, 17.0, 16.0, 15.0, 14.0, 13.0, 12.0, 11.0, 10.0, 9.0, 8.0, 7.0, 6.0, 5.0, 4.0, 3.0, 2.0, 1.0, 0.9974, 0.9972, 0.9971, 0.9971, 0.9966, 0.9965, 0.9961, 0.9959, 0.9958, 0.9956, 0.9955, 0.9954, 0.9953, 0.9952, 0.9951, 0.995, 0.995, 0.9947, 0.9943, 0.9943, 0.9942, 0.9941, 0.994, 0.994, 0.9939, 0.9937, 0.9935, 0.9934, 0.9928, 0.9926, 0.8456, 2.9359, 2.9342, 2.9341, 2.8731, 2.8604, 2.8265, 2.7888, 2.7861, 2.7848, 2.7793, 2.77, 2.7668, 2.7582, 2.7496, 2.7236, 2.7186, 2.6775, 2.6705, 2.4968, 2.3847, 2.3728, 1.4751, 0.7536, -1.3287, -2.0045, -2.0045, -2.0045, -2.0045, -2.0045, -2.0045, -7.817, -5.2453, -5.2453, -6.0681, -5.1795, -5.7391, 3.099, 3.0966, 3.0905, 3.0854, 3.0834, 3.0812, 3.0809, 3.0789, 3.0784, 3.0713, 3.0684, 3.0667, 3.0631, 3.0593, 3.0584, 3.0554, 3.0535, 3.0387, 3.0375, 3.0329, 3.0287, 3.0143, 3.0113, 3.0025, 3.0018, 2.9976, 2.9963, 2.9881, 2.9813, 2.9812, 3.2024, 3.1973, 3.196, 3.1959, 3.1956, 3.1929, 3.1897, 3.1832, 3.1825, 3.1811, 3.1719, 3.1693, 3.1639, 3.1557, 3.1456, 3.1368, 3.1263, 3.1255, 3.1222, 3.1089, 3.0996, 3.0831, 3.0745, 3.05, 3.0453, 2.9529, 2.9217, 2.7569, 2.7292, 2.4308, 3.2173, 3.2165, 3.2157, 3.2149, 3.2148, 3.212, 3.2083, 3.206, 3.2052, 3.2002, 3.1937, 3.1906, 3.1856, 3.1786, 3.1703, 3.1701, 3.1687, 3.1577, 3.1563, 3.1505, 3.1314, 3.123, 3.0959, 3.0766, 3.0188, 2.8407, 2.5261, 2.2724, 0.6269, 0.0743, -5.7535, 3.2703, 3.27, 3.2699, 3.2698, 3.2695, 3.267, 3.2668, 3.2667, 3.2667, 3.2667, 3.2651, 3.2642, 3.2618, 3.2615, 3.2582, 3.2582, 3.2544, 3.2537, 3.2451, 3.2404, 3.2397, 3.2371, 3.2365, 3.2312, 3.2222, 3.2215, 3.2191, 3.2069, 3.2016, 3.1618, 3.2962, 3.2962, 3.2961, 3.2951, 3.2928, 3.2889, 3.2848, 3.2823, 3.2802, 3.2751, 3.2668, 3.2589, 3.2566, 3.2556, 3.2351, 3.2115, 3.1838, 3.0933, 3.079, 2.8908, 2.5742, 2.1113, 1.1205, 1.0813, 0.6336, 0.6336, 0.6336, 0.6336, 0.6336, 0.6336, -5.1947, -3.4318, -3.395, -2.8781, -3.0573, -3.1023, 3.31, 3.3089, 3.3075, 3.3075, 3.3072, 3.306, 3.3059, 3.3019, 3.3004, 3.3, 3.2968, 3.2957, 3.295, 3.2937, 3.2934, 3.2903, 3.289, 3.2859, 3.2849, 3.2816, 3.277, 3.2686, 3.2645, 3.2432, 3.2403, 3.236, 3.2234, 3.1929, 3.1929, 3.1925, 3.314, 3.3122, 3.312, 3.3114, 3.3112, 3.3108, 3.3098, 3.3098, 3.3097, 3.3093, 3.3078, 3.3063, 3.3059, 3.3049, 3.3035, 3.3025, 3.3015, 3.3011, 3.2997, 3.2988, 3.2979, 3.2965, 3.2964, 3.2961, 3.2955, 3.2923, 3.2906, 3.2897, 3.2882, 3.2842, 3.3279, 3.3238, 3.3229, 3.3228, 3.3227, 3.3221, 3.3193, 3.3193, 3.3188, 3.3177, 3.3165, 3.3152, 3.3148, 3.3133, 3.3129, 3.3074, 3.3062, 3.3049, 3.3015, 3.3013, 3.299, 3.2929, 3.2924, 3.289, 3.2778, 3.275, 3.2713, 3.2688, 3.2675, 3.2664, 3.3598, 3.3577, 3.3575, 3.3573, 3.3571, 3.354, 3.353, 3.3499, 3.3495, 3.3495, 3.3475, 3.3459, 3.3447, 3.3438, 3.3383, 3.3328, 3.3321, 3.3285, 3.3228, 3.3131, 3.3123, 3.3094, 3.3066, 3.3033, 3.2995, 3.2681, 3.242, 3.2364, 3.2236, 3.1992, 3.4371, 3.4351, 3.4344, 3.4338, 3.4334, 3.4333, 3.4326, 3.4326, 3.4322, 3.4311, 3.4287, 3.4286, 3.428, 3.4279, 3.4274, 3.4261, 3.4248, 3.4243, 3.4242, 3.4238, 3.4219, 3.4198, 3.4197, 3.4191, 3.4178, 3.4143, 3.4086, 3.4086, 3.4084, 3.4047, 2.8545, 2.8545, 3.4676, 3.4639, 3.4605, 3.4583, 3.4568, 3.4549, 3.4508, 3.4499, 3.4479, 3.4472, 3.4426, 3.44, 3.439, 3.4296, 3.4218, 3.4185, 3.4097, 3.406, 3.3985, 3.3974, 3.3856, 3.3753, 3.3155, 3.2995, 3.1469, 3.0458, 2.7284, 2.0225, 1.4848, -0.0885, -5.9172, 3.4737, 3.4736, 3.4732, 3.4725, 3.4669, 3.4656, 3.463, 3.4608, 3.4583, 3.4545, 3.4543, 3.4539, 3.4514, 3.45, 3.4478, 3.4461, 3.4438, 3.4344, 3.4315, 3.4312, 3.4254, 3.4151, 3.2756, 3.2669, 3.2267, 2.6485, 0.8716, 0.8716, 0.8716, 0.8716, -4.957, -3.1938, -3.157, -2.8193, 3.5586, 3.5564, 3.5545, 3.553, 3.5526, 3.5486, 3.5442, 3.5414, 3.5386, 3.5366, 3.5339, 3.5258, 3.5241, 3.5239, 3.5206, 3.5206, 3.5042, 3.5017, 3.4958, 3.4915, 3.4773, 3.4745, 3.4632, 3.4368, 3.4354, 3.4031, 3.3706, 3.2183, 2.8566, 2.7404, 3.6814, 3.6804, 3.68, 3.6782, 3.6777, 3.6774, 3.6774, 3.6722, 3.6713, 3.6703, 3.6675, 3.6668, 3.6661, 3.6621, 3.6613, 3.6606, 3.6605, 3.6589, 3.6576, 3.6539, 3.6523, 3.6511, 3.6495, 3.6483, 3.6464, 3.5942, 3.3868, 3.3218, 3.3037, 3.1368, 2.8271, 2.8271, 1.7063, 3.6869, 3.6825, 3.676, 3.6741, 3.6632, 3.661, 3.6551, 3.6487, 3.6247, 3.6098, 3.5677, 3.5392, 3.4776, 3.4744, 3.3157, 3.2323, 3.2297, 3.1038, 3.1014, 2.6055, 2.4969, 2.378, 2.2461, 2.2141, 2.1812, 1.9565, 1.6553, 1.4766, 1.172, 0.9712, 3.7851, 3.7836, 3.7829, 3.7826, 3.7809, 3.78, 3.7725, 3.7698, 3.7688, 3.7635, 3.7617, 3.76, 3.7577, 3.7566, 3.7553, 3.7539, 3.7441, 3.7436, 3.7269, 3.7264, 3.7232, 3.7162, 3.7156, 3.7019, 3.5939, 3.5126, 3.5011, 3.4815, 3.1546, 2.06, 3.9089, 3.8996, 3.8971, 3.8872, 3.8851, 3.8756, 3.871, 3.8553, 3.8473, 3.8366, 3.8272, 3.8262, 3.8254, 3.808, 3.8058, 3.7691, 3.7588, 3.7394, 3.7289, 3.7232, 3.6207, 3.5971, 3.4009, 3.2332, 3.2055, 2.2367, 2.0976, 1.3223, 1.2775, 0.6774, 3.9861, 3.9858, 3.984, 3.9833, 3.9827, 3.9812, 3.9794, 3.9753, 3.9747, 3.9695, 3.969, 3.9583, 3.9546, 3.9294, 3.9259, 3.882, 3.8801, 3.7998, 3.7834, 3.6982, 3.5561, 3.5274, 1.0744, 1.0744, 1.0744, 1.0744, 1.0744, 1.0744, 1.0744, 1.0744, -3.0158, 0.8473, -2.1558, -2.1847, -2.4063, -1.5616]}, \"token.table\": {\"Topic\": [15, 5, 12, 3, 7, 20, 19, 12, 13, 8, 8, 3, 10, 8, 20, 20, 8, 3, 14, 13, 14, 19, 18, 7, 4, 15, 9, 8, 16, 13, 6, 16, 5, 12, 4, 12, 5, 1, 1, 18, 16, 10, 12, 1, 5, 15, 12, 13, 19, 15, 8, 12, 18, 1, 14, 1, 12, 2, 15, 1, 7, 16, 16, 1, 1, 3, 4, 6, 14, 6, 13, 3, 12, 19, 19, 18, 16, 12, 10, 20, 18, 13, 4, 8, 3, 20, 8, 6, 17, 19, 13, 5, 5, 14, 5, 17, 6, 9, 6, 19, 15, 8, 16, 13, 15, 9, 7, 3, 8, 5, 1, 12, 15, 4, 4, 12, 1, 19, 10, 9, 6, 7, 5, 7, 2, 3, 16, 2, 16, 8, 17, 14, 20, 19, 6, 8, 11, 10, 14, 7, 14, 5, 7, 10, 10, 9, 17, 1, 14, 19, 19, 10, 5, 9, 18, 4, 10, 19, 6, 8, 17, 11, 5, 15, 9, 14, 11, 13, 2, 18, 16, 10, 18, 14, 20, 16, 10, 9, 9, 11, 11, 10, 3, 6, 5, 9, 18, 20, 1, 3, 4, 5, 17, 4, 2, 7, 12, 4, 3, 5, 1, 19, 11, 11, 15, 4, 10, 8, 1, 8, 14, 11, 17, 19, 1, 1, 14, 9, 4, 19, 17, 20, 15, 5, 7, 12, 13, 16, 4, 16, 9, 19, 8, 11, 9, 9, 16, 16, 17, 8, 9, 9, 2, 4, 10, 11, 20, 7, 9, 20, 10, 17, 8, 3, 18, 16, 1, 4, 2, 18, 15, 7, 9, 1, 9, 7, 2, 13, 12, 2, 9, 5, 10, 19, 1, 6, 3, 15, 11, 15, 12, 16, 6, 4, 15, 3, 10, 10, 13, 3, 17, 17, 16, 2, 20, 6, 10, 16, 12, 3, 4, 11, 19, 1, 16, 18, 2, 4, 12, 14, 10, 7, 8, 5, 15, 8, 15, 10, 3, 9, 12, 3, 18, 18, 2, 11, 6, 1, 10, 11, 1, 16, 1, 19, 4, 20, 13, 11, 8, 11, 1, 5, 13, 6, 16, 20, 18, 1, 19, 17, 3, 4, 12, 16, 20, 2, 1, 20, 12, 3, 18, 18, 13, 18, 16, 18, 2, 8, 8, 10, 12, 16, 2, 15, 20, 8, 18, 13, 9, 1, 10, 14, 17, 14, 6, 16, 6, 14, 4, 13, 16, 9, 6, 1, 6, 16, 1, 14, 11, 14, 4, 6, 20, 15, 7, 17, 11, 14, 3, 20, 7, 15, 10, 3, 12, 17, 10, 16, 4, 9, 18, 7, 11, 11, 1, 16, 2, 11, 4, 10, 1, 1, 8, 14, 11, 20, 5, 10, 6, 8, 14, 18, 17, 3, 9, 7, 8, 14, 12, 13, 12, 16, 16, 16, 15, 13, 1, 12, 8, 13, 4, 9, 19, 19, 20, 18, 15, 10, 3, 12, 5, 6, 18, 3, 18, 17, 6, 17, 13, 14, 5, 8, 18, 14, 5, 11, 5, 15, 13, 9, 15, 11, 15, 11, 4, 6, 12, 18, 6, 6, 7, 2, 2, 13, 11, 4, 14, 11, 11, 9, 11, 8, 3, 6, 7, 6, 2, 13, 13, 19, 20, 15, 3, 15, 3, 9, 18, 9, 3, 4, 4, 7, 5, 15, 1, 15, 5, 12, 13, 6, 4, 19, 3, 13, 10, 12, 11, 19, 17, 6, 1, 7, 5, 12, 12, 17, 2, 2, 5, 15, 18, 17, 1, 1, 1, 1, 1], \"Freq\": [0.9615940007559027, 0.9375186434913926, 0.9896499930160212, 0.8845514582524104, 0.9193520693028986, 0.6889800880268226, 0.907557107608735, 0.9814735979647697, 0.9464370022055439, 0.9938301272505955, 0.9436550074927327, 0.9878527689674297, 0.9645072541508283, 0.968851021310002, 0.9854109712767032, 0.9612877617669253, 0.9796385876984096, 0.9529416248295945, 0.9438833714108663, 0.9376717923966295, 0.964992375615857, 0.9021965885267357, 0.9980640894193968, 0.987438364304001, 0.8937501613198404, 0.9946062607581116, 0.992679952277738, 0.9463630763765953, 0.9956309713058062, 0.975965806849054, 0.997257065682561, 0.9960270852758998, 0.9431635482589378, 0.9851901216699905, 0.9063156556734769, 0.9943864089304364, 0.9795117088556466, 0.9993043128131398, 0.9640450272494013, 0.6776812532597357, 0.9956309713058062, 0.9861458374076022, 0.9899681973961589, 0.9963874195888837, 0.9632409098909659, 0.9147764614217598, 0.9862734852670788, 0.8249078658393064, 0.5249459350372545, 0.9972991477130742, 0.9789543097162413, 0.9971424812175157, 0.9642465456183384, 0.9977250710546869, 0.9762345982010385, 0.9970516405947624, 0.9877482146341271, 0.8220851681489083, 0.9995561110315097, 0.9970536757490059, 0.9800128562565719, 0.9712483229014337, 0.9816758934768132, 0.9963555207555015, 0.997874960310626, 0.9353511132105337, 0.9840444022939626, 0.9914663941860774, 0.9972416454641702, 0.9300031653212186, 0.9509229977899657, 0.8838631086351623, 0.9870630061033466, 0.8624670725768206, 0.951781476239874, 0.9676379875406178, 0.6327865984086356, 0.9954455716934885, 0.9562134709154294, 0.994565257745365, 0.9740592804863988, 0.9931203420661352, 0.9998052574311668, 0.9789272591590525, 0.9787173108549989, 0.9843681264628742, 0.9887217282674458, 0.9463287819404436, 0.955209904863252, 0.8289106250367834, 0.9599387576920889, 0.9789564951243629, 0.9979098007189042, 0.9745471397816412, 0.89399456033829, 0.4842513702916621, 0.9951795040736665, 0.9789803001830696, 0.9645467833544306, 0.8239739133376424, 0.9397638667728206, 0.9780198626927439, 0.9862263968951805, 0.9713624198846682, 0.866262987179812, 0.9951608960855002, 0.975937702281374, 0.9463457889630849, 0.9978132801541465, 0.4128383140668115, 0.9956233972904946, 0.9668177370581268, 0.9143120708039221, 0.9743534177044025, 0.9742356371564848, 0.9852729285625723, 0.9981041242691194, 0.3327790356158357, 0.9472450969982699, 0.984465688296465, 0.9971178294997014, 0.9979069637398508, 0.9230964295753387, 0.9669235116731593, 0.7749389138748078, 0.966229167856608, 0.9664737784830909, 0.9525179785078854, 0.9940136457708528, 0.9897932640130329, 0.5034845427227437, 0.9887003019855997, 0.913990626164914, 0.7834452325145397, 0.9317144148236469, 0.9236010277313593, 0.988579411316517, 0.9789370506617605, 0.78652574594113, 0.7685028959678973, 0.9986657052660759, 0.9961108303918194, 0.6956450128554132, 0.9925233366512815, 0.9538677359874105, 0.9842332714338611, 0.4616375109568972, 0.9984393126967085, 0.9858670647999949, 0.9463584265227316, 0.9372200264192211, 0.9940386158647804, 0.9453749106757813, 0.9853381873725259, 0.6391308166946704, 0.3555751794737162, 0.9957427443970676, 0.8698190642858256, 0.9761473653750659, 0.9821150307658101, 0.5879868764894882, 0.9413522484112079, 0.9390822731907342, 0.9784660398852263, 0.9959851120523208, 0.9560820735940347, 0.9768494434613122, 0.6869947610002521, 0.5604533842884086, 0.9811230138228141, 0.9807837175298729, 0.9873594171003186, 0.9883464930403401, 0.9495312587206194, 0.5048370274963587, 0.9586262335613684, 0.936326094090171, 0.9790756857123188, 0.9840525685316842, 0.9978761347333768, 0.9973925832337064, 0.9837340186611483, 0.9160821800713945, 0.980373388288969, 0.9164182146893084, 0.9746479760411078, 0.9480256957021477, 0.9949557862775802, 0.958844311210164, 0.987493351536027, 0.9810158282321434, 0.8891722841960582, 0.7307793358575992, 0.9194478305291452, 0.890735584283458, 0.8156771613890407, 0.9919389549301334, 0.7303022916804065, 0.9836105782914043, 0.9607104772825986, 0.9995965612260631, 0.6472762443150626, 0.989973437883836, 0.9544113041445378, 0.9759017125364103, 0.955402697605158, 0.9945297464081213, 0.997597288861664, 0.9986118689203939, 0.997184758026749, 0.9709730850361494, 0.9806521372159572, 0.7276091085800351, 0.9257460236443132, 0.9997169181305775, 0.9965379649082104, 0.9854139559193322, 0.9888083192683498, 0.8663946004683752, 0.9886435245847025, 0.9994908199249476, 0.9973875208434614, 0.801269087154307, 0.9846132543918258, 0.35743710982178917, 0.9902723975013588, 0.9851382048364331, 0.9964016671152951, 0.8869161043991173, 0.9558973823985767, 0.9820647991435613, 0.7065281452926219, 0.9381746155800174, 0.8072914221035966, 0.9982564185179583, 0.9934463136269998, 0.9950373890272044, 0.9653154839016943, 0.9400307215942051, 0.922962116865417, 0.9954620889695434, 0.9934145633022984, 0.8779703404026429, 0.9620011064597788, 0.9886839700917072, 0.9884222137918924, 0.8989131293079087, 0.8931314906066248, 0.9962880001136223, 0.9862897389803262, 0.9650157847490843, 0.9795452954423293, 0.9609226494206224, 0.9336399918495432, 0.976588721115853, 0.9662572721310535, 0.9971885098029069, 0.9932848851597836, 0.8157016685514972, 0.9650834572628922, 0.9927330430695495, 0.9856294926613481, 0.9828577486502635, 0.983149791850818, 0.9908472140157178, 0.9935979740021353, 0.8479954191203929, 0.9832400501253264, 0.9707838798903065, 0.7473972400108063, 0.9797091808247678, 0.9780795333825731, 0.9770313565841533, 0.9995558452398421, 0.9953507741872731, 0.9766432277894609, 0.9636280614644769, 0.9626559178895057, 0.9593811834164913, 0.37237432258086656, 0.9839202687669593, 0.9771250400549218, 0.9551276078177876, 0.8095133333254843, 0.9622191649459885, 0.9969546639558033, 0.9996432972474023, 0.9648052660671026, 0.9818102153486217, 0.9831520413799715, 0.9676694911199479, 0.43771556675624446, 0.8923754394121252, 0.7629174996067563, 0.9927431020466677, 0.9673520347853031, 0.9351559102213913, 0.9788131253732786, 0.9923405540482543, 0.9217735302701976, 0.9328271486060704, 0.9653761521241329, 0.8893973817703379, 0.9988433961530959, 0.5852894622522619, 0.966638542353148, 0.9481608855107851, 0.9262863560090939, 0.9927778715425909, 0.9711577615871062, 0.9664140266169631, 0.9991846924715182, 0.9950649307043, 0.9990100813715609, 0.9419974364415984, 0.9205524737365982, 0.9681619870377288, 0.9741418740761943, 0.9645143639836916, 0.9929712935153564, 0.9927489072074572, 0.9894210382676889, 0.9268461000579412, 0.9960707566400835, 0.9986057235731544, 0.9793860736697244, 0.9944091489563961, 0.9863934648807436, 0.9775621709774049, 0.9944196238229965, 0.9939761133931725, 0.9969310312647471, 0.9773549615043811, 0.9813794496381438, 0.7132580566943719, 0.7196960569910157, 0.9892248915813799, 0.9918321656076589, 0.984095949551619, 0.8664353134935032, 0.9954655175321152, 0.9978345548918128, 0.8465517447561101, 0.9531098916884944, 0.7137639414154174, 0.9949928451879516, 0.9940616893275076, 0.9990318643650323, 0.9728677897461523, 0.8978727248902979, 0.9051270442640863, 0.4986431202900761, 0.557940514305736, 0.42155505525322273, 0.9884939643510796, 0.9998435296923566, 0.9951603080755742, 0.9962357750005932, 0.9876497073823877, 0.9998354152115102, 0.921975726662118, 0.9952961515186926, 0.9507549847377863, 0.8175002296186642, 0.9702291740514211, 0.8368214469554316, 0.6939197923482435, 0.9722439336826375, 0.9863168831340383, 0.9911497472835051, 0.9935068315648147, 0.9667109994181289, 0.8496267363873968, 0.9566109412842623, 0.8230915845794841, 0.967492405710185, 0.9716432001389477, 0.7304682788372191, 0.9902426370053956, 0.958844311210164, 0.9932945081785584, 0.9805713548662052, 0.8223507989700751, 0.7564978228835578, 0.959025298069978, 0.9836584140517671, 0.9018454608800122, 0.3923765105137059, 0.8424837540110509, 0.34759120494174334, 0.9693735900360853, 0.9806619365214353, 0.993298744080607, 0.9706514183273947, 0.9662571801082507, 0.9887939903615908, 0.999429221802795, 0.9830102255762848, 0.8965086213017557, 0.9753419567202777, 0.939073507256705, 0.9587239796022705, 0.9440461238314399, 0.9808044572362592, 0.9650896631884284, 0.7532734517621089, 0.9078518702050202, 0.9929309125400648, 0.9619056760796206, 0.9780332868881592, 0.9826983165074313, 0.8527845560742221, 0.9899608357865562, 0.9154078784400207, 0.9839266373031823, 0.9885668236656804, 0.9696901963516138, 0.6587748153747117, 0.9857079744062184, 0.9902587625158438, 0.963782523308542, 0.962083359867464, 0.9442996158482695, 0.9980062195260929, 0.8590758535805996, 0.1387445515738579, 0.7588660124578788, 0.8692889411361339, 0.9921109694866312, 0.9955442560818226, 0.9707599961702919, 0.9981454066083517, 0.9201837464733291, 0.9986842292355055, 0.9755442381415671, 0.7609229473533049, 0.8521723810933659, 0.9852498278111413, 0.9948439951480551, 0.9666980801035784, 0.997744213129042, 0.9845374663326473, 0.9696973793360564, 0.9462668860461991, 0.9963440816989392, 0.48229835178575, 0.9893631972515039, 0.993485022582702, 0.9942806021222272, 0.9586400286829493, 0.557940514305736, 0.42155505525322273, 0.9902668789772335, 0.986966830198995, 0.9192865803533161, 0.9408500990124753, 0.997029602658003, 0.9870357428392313, 0.990662874790287, 0.8830552076639311, 0.9230272928579889, 0.9867779483744258, 0.9355734267969964, 0.964534887139297, 0.9567047115992197, 0.9961152087470437, 0.3361800345504344, 0.9893366176724744, 0.9065812149675369, 0.9549323178582672, 0.9927925099749157, 0.9985186849624015, 0.9346752191360042, 0.9818963217974117, 0.9470512016595611, 0.7632976055811262, 0.9969695412185137, 0.9923815593732185, 0.9631582033884878, 0.93288114322065, 0.6363234890729119, 0.9974254198064464, 0.9417779790229887, 0.766865068345882, 0.9269002603928858, 0.9993569721919643, 0.9996479036892599, 0.9940761173043509, 0.9677139131769322, 0.9964957409312165, 0.9305505640578253, 0.9580468432268675, 0.7695229869539304, 0.9606258796585255, 0.9909206938063896, 0.9909052954774421, 0.9906517167395696, 0.9565084671074139, 0.9962878563480636, 0.9974284707810888, 0.994641530964265, 0.741217588461072, 0.810479301321189, 0.9952322035362582, 0.9901598877786445, 0.9535718654070264, 0.9766558323996297, 0.9401973223056643, 0.9965128343753256, 0.9950386412173193, 0.9892157118404366, 0.9991176039138047, 0.9508020015754912, 0.9886173953773375, 0.9125669188811882, 0.9870775222555008, 0.5515290543895746, 0.9842058429530567, 0.999734121908809, 0.8257377617890738, 0.9621980999363621, 0.9966714426120282, 0.8918089866389288, 0.9869304524973223, 0.9753866290568883, 0.9821036530501047, 0.7174363150840819, 0.9658012861651748, 0.9592026366608462, 0.9937434421603082, 0.874707047641781, 0.998941014910873, 0.9897043515006535, 0.9203663208319995, 0.9968219199111721, 0.9564359842944663, 0.9963559198016396, 0.9600479196676338, 0.9893364532227661, 0.995670315426024, 0.9954687076187795, 0.9885750930857499, 0.8960758497461307, 0.9769308607390041, 0.9330137147785227, 0.9918223359103204, 0.9833154463236942, 0.9680502628549873, 0.926861420621429, 0.9886158797616692, 0.9959461383283066, 0.9987691430929186, 0.33708049349437813, 0.95907756644401, 0.9867628407803047, 0.9947037772583849, 0.998514789280244, 0.8961410157812643, 0.8528954937289184, 0.9872580725015996, 0.9961053629097038, 0.6167341172607932, 0.9708810986909421, 0.997020450842726, 0.9983143324839405, 0.9977036807807503, 0.9966321200712716], \"Term\": [\"able\", \"absolutely\", \"action\", \"activity\", \"actually\", \"affair\", \"agenda\", \"ago\", \"agree\", \"ai\", \"aim\", \"aircraft\", \"allow\", \"ally\", \"already\", \"also\", \"always\", \"ambassador\", \"analysis\", \"announce\", \"anti\", \"appear\", \"apple\", \"area\", \"arm\", \"around\", \"article\", \"artillery\", \"ashawo\", \"ask\", \"attack\", \"authority\", \"availability\", \"avgeek\", \"away\", \"back\", \"bad\", \"baddecision\", \"baleeditv\", \"ball\", \"balogun\", \"base\", \"bbcnew\", \"bbnaija\", \"beach\", \"become\", \"begin\", \"believe\", \"belong\", \"biden\", \"big\", \"bitcoin\", \"blame\", \"blinken\", \"blockade\", \"blog\", \"book\", \"border\", \"break\", \"breakingnew\", \"bring\", \"british\", \"broadcast\", \"brokenwindow\", \"btc\", \"bully\", \"business\", \"buy\", \"call\", \"cancel\", \"care\", \"carrier\", \"carry\", \"case\", \"cat\", \"cause\", \"chairman\", \"change\", \"channel\", \"cheat\", \"child\", \"chinataiwanwar\", \"chinese\", \"chip\", \"citizen\", \"city\", \"claim\", \"class\", \"clear\", \"clearly\", \"climate\", \"close\", \"co\", \"coast\", \"colonial\", \"combat\", \"come\", \"common\", \"communication\", \"company\", \"concern\", \"condemn\", \"conduct\", \"conflict\", \"connection\", \"continue\", \"control\", \"cooperation\", \"country\", \"court\", \"cpac\", \"create\", \"criminal\", \"crisis\", \"cross\", \"csir\", \"cyberattack\", \"damage\", \"danger\", \"dangerous\", \"day\", \"dead\", \"decide\", \"deep\", \"defend\", \"defense\", \"delay\", \"delegation\", \"democratic\", \"deputy\", \"desktop\", \"destabilize\", \"destroy\", \"destroyer\", \"detail\", \"detresfa\", \"development\", \"dfax\", \"dig\", \"diplomatic\", \"drill\", \"drone\", \"due\", \"early\", \"earth\", \"eastern\", \"easy\", \"econazisti\", \"economic\", \"effect\", \"effort\", \"election\", \"encircle\", \"end\", \"enemy\", \"enough\", \"enter\", \"episode\", \"escalate\", \"escalation\", \"establish\", \"even\", \"ever\", \"exactly\", \"exercise\", \"expert\", \"explain\", \"expose\", \"extend\", \"extremely\", \"face\", \"fact\", \"fail\", \"fall\", \"family\", \"far\", \"feature\", \"feel\", \"fight\", \"find\", \"fire\", \"firm\", \"first\", \"flag\", \"flare\", \"fly\", \"fm\", \"follow\", \"foodshortage\", \"foreign\", \"forget\", \"former\", \"founder\", \"free\", \"friend\", \"front\", \"full\", \"fully\", \"funny\", \"game\", \"gazaunderattack\", \"gdp\", \"get\", \"girl\", \"give\", \"global\", \"go\", \"good\", \"goodmorning\", \"government\", \"govt\", \"great\", \"grow\", \"gt\", \"gtgraphic\", \"gtvoice\", \"happen\", \"happy\", \"hard\", \"hastie\", \"hawaii\", \"head\", \"hear\", \"heart\", \"heartiest\", \"help\", \"high\", \"history\", \"hit\", \"hold\", \"hole\", \"hope\", \"host\", \"hot\", \"hotel\", \"hour\", \"house\", \"human\", \"husband\", \"imagine\", \"immediate\", \"important\", \"include\", \"independence\", \"independent\", \"indian\", \"inflation\", \"infrastructure\", \"insider\", \"integrity\", \"interest\", \"interview\", \"invade\", \"invasion\", \"invest\", \"irresponsible\", \"island\", \"israeli\", \"issue\", \"jet\", \"joebiden\", \"join\", \"joint\", \"jungkook\", \"keep\", \"key\", \"kill\", \"know\", \"knoxfrigate\", \"label\", \"land\", \"large\", \"last\", \"late\", \"launch\", \"law\", \"lead\", \"leader\", \"leave\", \"lesson\", \"let\", \"liberal\", \"liberation\", \"lie\", \"line\", \"lithuania\", \"lithuanian\", \"little\", \"live\", \"long\", \"look\", \"loom\", \"lose\", \"love\", \"low\", \"main\", \"mainland\", \"major\", \"make\", \"man\", \"manufacture\", \"many\", \"mark\", \"marvininu\", \"massive\", \"mean\", \"meanwhile\", \"median\", \"medium\", \"meet\", \"member\", \"military\", \"ministry\", \"missile\", \"mistake\", \"mock\", \"moment\", \"money\", \"monitor\", \"move\", \"much\", \"music\", \"name\", \"nancy\", \"nancypelosi\", \"nation\", \"need\", \"netherland\", \"never\", \"new\", \"new_taipei_city\", \"news\", \"nfscnew\", \"nigerian\", \"night\", \"north\", \"official\", \"onechinapolicy\", \"ongoing\", \"open\", \"opencomment\", \"opinion\", \"oppose\", \"order\", \"organization\", \"pain\", \"palestine\", \"palestinian\", \"part\", \"party\", \"past\", \"pay\", \"pconference\", \"pconference\", \"peace\", \"pelosi\", \"pelosivisit\", \"people\", \"picture\", \"pla\", \"place\", \"plan\", \"plane\", \"plant\", \"platform\", \"play\", \"pm\", \"point\", \"policy\", \"politic\", \"political\", \"politician\", \"position\", \"possible\", \"post\", \"potus\", \"power\", \"pre\", \"prepare\", \"presale\", \"president\", \"press\", \"prevent\", \"price\", \"privilege\", \"problem\", \"product\", \"profit\", \"protect\", \"provide\", \"provocation\", \"provocative\", \"provoke\", \"publicdiplomacy\", \"put\", \"question\", \"quotesinnew\", \"range\", \"rank\", \"reach\", \"read\", \"real\", \"really\", \"reason\", \"recent\", \"recognize\", \"refer\", \"region\", \"reiterate\", \"relation\", \"relationship\", \"remember\", \"report\", \"republic\", \"respect\", \"respond\", \"response\", \"restraint\", \"restrict\", \"reunification\", \"reuter\", \"reveal\", \"rise\", \"rogerwater\", \"rondesantis\", \"rondesantis\", \"rule\", \"run\", \"russian\", \"sanction\", \"saralbharatnew\", \"saturdayreport\", \"save\", \"say\", \"scale\", \"schedule\", \"sea\", \"security\", \"see\", \"seem\", \"semiconductor\", \"send\", \"separatist\", \"serious\", \"set\", \"shadow\", \"share\", \"ship\", \"short\", \"showmenftstay\", \"sibanp\", \"sibanp\", \"side\", \"simulate\", \"slam\", \"small\", \"snicker\", \"soon\", \"sorry\", \"source\", \"south\", \"southchinasea\", \"southern\", \"sovereignty\", \"speak\", \"speakerpelosi\", \"special\", \"speech\", \"spokespersonchn\", \"stability\", \"start\", \"state\", \"statement\", \"status\", \"step\", \"stock\", \"stop\", \"strait\", \"strategic\", \"stress\", \"style\", \"support\", \"sure\", \"surprise\", \"surround\", \"taiwanchina\", \"taiwanese\", \"taiwanstrait\", \"take\", \"talk\", \"target\", \"tech\", \"technology\", \"tell\", \"tension\", \"territorial\", \"territory\", \"test\", \"thank\", \"thing\", \"think\", \"threat\", \"threaten\", \"time\", \"today\", \"together\", \"top\", \"transportation\", \"travel\", \"trip\", \"true\", \"trump\", \"try\", \"tsarule\", \"turn\", \"tv\", \"tweet\", \"twitter\", \"ukraine\", \"undermine\", \"understand\", \"unitedstate\", \"unprecedented\", \"update\", \"use\", \"vaiciukevi\", \"vaiciukeviciute\", \"value\", \"vessel\", \"video\", \"view\", \"visit\", \"vote\", \"wait\", \"wangyi\", \"want\", \"war\", \"warm\", \"warn\", \"warship\", \"watch\", \"water\", \"way\", \"weapon\", \"week\", \"welcome\", \"well\", \"western\", \"white\", \"white_house\", \"whitehouse\", \"woman\", \"wonder\", \"word\", \"work\", \"world\", \"xijinpe\", \"year\", \"yesterday\", \"yi\", \"zelensky\", \"zionist\", \"zone\", \"\\u0627\\u0645_\\u062d\\u0631\\u06cc\\u0645\", \"\\u0e2b\\u0e27\", \"\\u4e2d\\u5171\", \"\\u90ed\\u6587\\u8d35\"]}, \"R\": 30, \"lambda.step\": 0.01, \"plot.opts\": {\"xlab\": \"PC1\", \"ylab\": \"PC2\"}, \"topic.order\": [4, 14, 5, 16, 17, 7, 9, 3, 10, 8, 12, 6, 2, 19, 11, 1, 15, 18, 20, 13]};\n",
              "\n",
              "function LDAvis_load_lib(url, callback){\n",
              "  var s = document.createElement('script');\n",
              "  s.src = url;\n",
              "  s.async = true;\n",
              "  s.onreadystatechange = s.onload = callback;\n",
              "  s.onerror = function(){console.warn(\"failed to load library \" + url);};\n",
              "  document.getElementsByTagName(\"head\")[0].appendChild(s);\n",
              "}\n",
              "\n",
              "if(typeof(LDAvis) !== \"undefined\"){\n",
              "   // already loaded: just create the visualization\n",
              "   !function(LDAvis){\n",
              "       new LDAvis(\"#\" + \"ldavis_el4361399271626516004208454946\", ldavis_el4361399271626516004208454946_data);\n",
              "   }(LDAvis);\n",
              "}else if(typeof define === \"function\" && define.amd){\n",
              "   // require.js is available: use it to load d3/LDAvis\n",
              "   require.config({paths: {d3: \"https://d3js.org/d3.v5\"}});\n",
              "   require([\"d3\"], function(d3){\n",
              "      window.d3 = d3;\n",
              "      LDAvis_load_lib(\"https://cdn.jsdelivr.net/gh/bmabey/pyLDAvis@3.3.1/pyLDAvis/js/ldavis.v3.0.0.js\", function(){\n",
              "        new LDAvis(\"#\" + \"ldavis_el4361399271626516004208454946\", ldavis_el4361399271626516004208454946_data);\n",
              "      });\n",
              "    });\n",
              "}else{\n",
              "    // require.js not available: dynamically load d3 & LDAvis\n",
              "    LDAvis_load_lib(\"https://d3js.org/d3.v5.js\", function(){\n",
              "         LDAvis_load_lib(\"https://cdn.jsdelivr.net/gh/bmabey/pyLDAvis@3.3.1/pyLDAvis/js/ldavis.v3.0.0.js\", function(){\n",
              "                 new LDAvis(\"#\" + \"ldavis_el4361399271626516004208454946\", ldavis_el4361399271626516004208454946_data);\n",
              "            })\n",
              "         });\n",
              "}\n",
              "</script>"
            ]
          },
          "metadata": {},
          "execution_count": 125
        }
      ],
      "source": [
        "# Visualize the topics\n",
        "pyLDAvis.enable_notebook()\n",
        "LDAvis_prepared = pyLDAvis.gensim_models.prepare(lda_model, corpus, id2word)\n",
        "LDAvis_prepared"
      ]
    }
  ],
  "metadata": {
    "kernelspec": {
      "display_name": "Python 3 (ipykernel)",
      "language": "python",
      "name": "python3"
    },
    "language_info": {
      "codemirror_mode": {
        "name": "ipython",
        "version": 3
      },
      "file_extension": ".py",
      "mimetype": "text/x-python",
      "name": "python",
      "nbconvert_exporter": "python",
      "pygments_lexer": "ipython3",
      "version": "3.9.12"
    },
    "colab": {
      "name": "topic_modeling_using_colab.ipynb",
      "provenance": [],
      "collapsed_sections": [],
      "include_colab_link": true
    }
  },
  "nbformat": 4,
  "nbformat_minor": 5
}