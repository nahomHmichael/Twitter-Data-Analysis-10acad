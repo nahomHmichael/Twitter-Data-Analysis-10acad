{
 "cells": [
  {
   "cell_type": "code",
   "execution_count": 110,
   "id": "26a26b94",
   "metadata": {},
   "outputs": [
    {
     "name": "stdout",
     "output_type": "stream",
     "text": [
      "Requirement already satisfied: pyLDAvis in /home/nhgirma/anaconda3/lib/python3.9/site-packages (3.3.1)\n",
      "Requirement already satisfied: scipy in /home/nhgirma/anaconda3/lib/python3.9/site-packages (from pyLDAvis) (1.7.3)\n",
      "Requirement already satisfied: sklearn in /home/nhgirma/anaconda3/lib/python3.9/site-packages (from pyLDAvis) (0.0)\n",
      "Requirement already satisfied: jinja2 in /home/nhgirma/anaconda3/lib/python3.9/site-packages (from pyLDAvis) (2.11.3)\n",
      "Requirement already satisfied: joblib in /home/nhgirma/anaconda3/lib/python3.9/site-packages (from pyLDAvis) (1.1.0)\n",
      "Requirement already satisfied: funcy in /home/nhgirma/anaconda3/lib/python3.9/site-packages (from pyLDAvis) (1.17)\n",
      "Requirement already satisfied: gensim in /home/nhgirma/anaconda3/lib/python3.9/site-packages (from pyLDAvis) (4.1.2)\n",
      "Requirement already satisfied: future in /home/nhgirma/anaconda3/lib/python3.9/site-packages (from pyLDAvis) (0.18.2)\n",
      "Requirement already satisfied: setuptools in /home/nhgirma/anaconda3/lib/python3.9/site-packages (from pyLDAvis) (61.2.0)\n",
      "Requirement already satisfied: numpy>=1.20.0 in /home/nhgirma/anaconda3/lib/python3.9/site-packages (from pyLDAvis) (1.21.5)\n",
      "Requirement already satisfied: pandas>=1.2.0 in /home/nhgirma/anaconda3/lib/python3.9/site-packages (from pyLDAvis) (1.4.2)\n",
      "Requirement already satisfied: numexpr in /home/nhgirma/anaconda3/lib/python3.9/site-packages (from pyLDAvis) (2.8.1)\n",
      "Requirement already satisfied: scikit-learn in /home/nhgirma/anaconda3/lib/python3.9/site-packages (from pyLDAvis) (1.0.2)\n",
      "Requirement already satisfied: python-dateutil>=2.8.1 in /home/nhgirma/anaconda3/lib/python3.9/site-packages (from pandas>=1.2.0->pyLDAvis) (2.8.2)\n",
      "Requirement already satisfied: pytz>=2020.1 in /home/nhgirma/anaconda3/lib/python3.9/site-packages (from pandas>=1.2.0->pyLDAvis) (2021.3)\n",
      "Requirement already satisfied: six>=1.5 in /home/nhgirma/anaconda3/lib/python3.9/site-packages (from python-dateutil>=2.8.1->pandas>=1.2.0->pyLDAvis) (1.16.0)\n",
      "Requirement already satisfied: smart-open>=1.8.1 in /home/nhgirma/anaconda3/lib/python3.9/site-packages (from gensim->pyLDAvis) (5.1.0)\n",
      "Requirement already satisfied: MarkupSafe>=0.23 in /home/nhgirma/anaconda3/lib/python3.9/site-packages (from jinja2->pyLDAvis) (2.0.1)\n",
      "Requirement already satisfied: packaging in /home/nhgirma/anaconda3/lib/python3.9/site-packages (from numexpr->pyLDAvis) (21.3)\n",
      "Requirement already satisfied: pyparsing!=3.0.5,>=2.0.2 in /home/nhgirma/anaconda3/lib/python3.9/site-packages (from packaging->numexpr->pyLDAvis) (3.0.4)\n",
      "Requirement already satisfied: threadpoolctl>=2.0.0 in /home/nhgirma/anaconda3/lib/python3.9/site-packages (from scikit-learn->pyLDAvis) (2.2.0)\n"
     ]
    }
   ],
   "source": [
    "!pip install pyLDAvis "
   ]
  },
  {
   "cell_type": "code",
   "execution_count": 112,
   "id": "1a9a04bc",
   "metadata": {},
   "outputs": [
    {
     "name": "stderr",
     "output_type": "stream",
     "text": [
      "[nltk_data] Downloading package stopwords to\n",
      "[nltk_data]     /home/nhgirma/nltk_data...\n",
      "[nltk_data]   Unzipping corpora/stopwords.zip.\n"
     ]
    },
    {
     "data": {
      "text/plain": [
       "True"
      ]
     },
     "execution_count": 112,
     "metadata": {},
     "output_type": "execute_result"
    }
   ],
   "source": [
    "import warnings\n",
    "warnings.filterwarnings('ignore')\n",
    "import matplotlib.pyplot as plt\n",
    "import seaborn as sns\n",
    "import gensim\n",
    "from gensim.models import CoherenceModel\n",
    "from gensim import corpora\n",
    "import pandas as pd\n",
    "from pprint import pprint\n",
    "import string\n",
    "import os\n",
    "import re\n",
    "import nltk\n",
    "nltk.download('stopwords')"
   ]
  },
  {
   "cell_type": "code",
   "execution_count": 118,
   "id": "f8a4a6f8",
   "metadata": {},
   "outputs": [
    {
     "data": {
      "text/html": [
       "<div>\n",
       "<style scoped>\n",
       "    .dataframe tbody tr th:only-of-type {\n",
       "        vertical-align: middle;\n",
       "    }\n",
       "\n",
       "    .dataframe tbody tr th {\n",
       "        vertical-align: top;\n",
       "    }\n",
       "\n",
       "    .dataframe thead th {\n",
       "        text-align: right;\n",
       "    }\n",
       "</style>\n",
       "<table border=\"1\" class=\"dataframe\">\n",
       "  <thead>\n",
       "    <tr style=\"text-align: right;\">\n",
       "      <th></th>\n",
       "      <th>created_at</th>\n",
       "      <th>statuses_count</th>\n",
       "      <th>source</th>\n",
       "      <th>original_text</th>\n",
       "      <th>clean_text</th>\n",
       "      <th>sentiment</th>\n",
       "      <th>polarity</th>\n",
       "      <th>subjectivity</th>\n",
       "      <th>lang</th>\n",
       "      <th>favorite_count</th>\n",
       "      <th>retweet_count</th>\n",
       "      <th>original_author</th>\n",
       "      <th>screen_count</th>\n",
       "      <th>followers_count</th>\n",
       "      <th>friends_count</th>\n",
       "      <th>possibly_sensitive</th>\n",
       "      <th>hashtags</th>\n",
       "      <th>user_mentions</th>\n",
       "      <th>place</th>\n",
       "      <th>place_coord_boundaries</th>\n",
       "    </tr>\n",
       "  </thead>\n",
       "  <tbody>\n",
       "    <tr>\n",
       "      <th>0</th>\n",
       "      <td>2022-08-07 22:31:20+00:00</td>\n",
       "      <td>8097</td>\n",
       "      <td>&lt;a href=\"http://twitter.com/download/android\" ...</td>\n",
       "      <td>RT @i_ameztoy: Extra random image (I):\\n\\nLets...</td>\n",
       "      <td>\\n\\nLets focus in one very specific zone of th...</td>\n",
       "      <td>-1</td>\n",
       "      <td>0.000000e+00</td>\n",
       "      <td>0.08125</td>\n",
       "      <td>en</td>\n",
       "      <td>15760</td>\n",
       "      <td>2</td>\n",
       "      <td>i_ameztoy</td>\n",
       "      <td>232</td>\n",
       "      <td>20497</td>\n",
       "      <td>2621</td>\n",
       "      <td></td>\n",
       "      <td>City</td>\n",
       "      <td></td>\n",
       "      <td></td>\n",
       "      <td></td>\n",
       "    </tr>\n",
       "    <tr>\n",
       "      <th>1</th>\n",
       "      <td>2022-08-07 22:31:16+00:00</td>\n",
       "      <td>5831</td>\n",
       "      <td>&lt;a href=\"http://twitter.com/download/android\" ...</td>\n",
       "      <td>RT @IndoPac_Info: #China's media explains the ...</td>\n",
       "      <td>#China's media explains the military reasons ...</td>\n",
       "      <td>0</td>\n",
       "      <td>-1.000000e-01</td>\n",
       "      <td>0.10000</td>\n",
       "      <td>en</td>\n",
       "      <td>6967</td>\n",
       "      <td>201</td>\n",
       "      <td>ZIisq</td>\n",
       "      <td>3</td>\n",
       "      <td>65</td>\n",
       "      <td>272</td>\n",
       "      <td></td>\n",
       "      <td>China</td>\n",
       "      <td></td>\n",
       "      <td></td>\n",
       "      <td></td>\n",
       "    </tr>\n",
       "    <tr>\n",
       "      <th>2</th>\n",
       "      <td>2022-08-07 22:31:07+00:00</td>\n",
       "      <td>1627</td>\n",
       "      <td>&lt;a href=\"http://twitter.com/download/android\" ...</td>\n",
       "      <td>China even cut off communication, they don't a...</td>\n",
       "      <td>China even cut off communication, they don't a...</td>\n",
       "      <td>-1</td>\n",
       "      <td>0.000000e+00</td>\n",
       "      <td>0.00000</td>\n",
       "      <td>en</td>\n",
       "      <td>2166</td>\n",
       "      <td>0</td>\n",
       "      <td>Fin21Free</td>\n",
       "      <td>0</td>\n",
       "      <td>85</td>\n",
       "      <td>392</td>\n",
       "      <td></td>\n",
       "      <td>XiJinping</td>\n",
       "      <td></td>\n",
       "      <td>Netherlands</td>\n",
       "      <td></td>\n",
       "    </tr>\n",
       "    <tr>\n",
       "      <th>3</th>\n",
       "      <td>2022-08-07 22:31:06+00:00</td>\n",
       "      <td>1627</td>\n",
       "      <td>&lt;a href=\"http://twitter.com/download/android\" ...</td>\n",
       "      <td>Putin to #XiJinping : I told you my friend, Ta...</td>\n",
       "      <td>Putin to #XiJinping : I told you my friend, Ta...</td>\n",
       "      <td>1</td>\n",
       "      <td>1.000000e-01</td>\n",
       "      <td>0.35000</td>\n",
       "      <td>en</td>\n",
       "      <td>2166</td>\n",
       "      <td>0</td>\n",
       "      <td>Fin21Free</td>\n",
       "      <td>0</td>\n",
       "      <td>85</td>\n",
       "      <td>392</td>\n",
       "      <td></td>\n",
       "      <td>XiJinping</td>\n",
       "      <td></td>\n",
       "      <td>Netherlands</td>\n",
       "      <td></td>\n",
       "    </tr>\n",
       "    <tr>\n",
       "      <th>4</th>\n",
       "      <td>2022-08-07 22:31:04+00:00</td>\n",
       "      <td>18958</td>\n",
       "      <td>&lt;a href=\"http://twitter.com/download/iphone\" r...</td>\n",
       "      <td>RT @ChinaUncensored: I’m sorry, I thought Taiw...</td>\n",
       "      <td>I’m sorry, I thought Taiwan was an independen...</td>\n",
       "      <td>0</td>\n",
       "      <td>-6.938894e-18</td>\n",
       "      <td>0.55625</td>\n",
       "      <td>en</td>\n",
       "      <td>17247</td>\n",
       "      <td>381</td>\n",
       "      <td>VizziniDolores</td>\n",
       "      <td>0</td>\n",
       "      <td>910</td>\n",
       "      <td>2608</td>\n",
       "      <td></td>\n",
       "      <td></td>\n",
       "      <td></td>\n",
       "      <td>Ayent, Schweiz</td>\n",
       "      <td></td>\n",
       "    </tr>\n",
       "  </tbody>\n",
       "</table>\n",
       "</div>"
      ],
      "text/plain": [
       "                  created_at  statuses_count  \\\n",
       "0  2022-08-07 22:31:20+00:00            8097   \n",
       "1  2022-08-07 22:31:16+00:00            5831   \n",
       "2  2022-08-07 22:31:07+00:00            1627   \n",
       "3  2022-08-07 22:31:06+00:00            1627   \n",
       "4  2022-08-07 22:31:04+00:00           18958   \n",
       "\n",
       "                                              source  \\\n",
       "0  <a href=\"http://twitter.com/download/android\" ...   \n",
       "1  <a href=\"http://twitter.com/download/android\" ...   \n",
       "2  <a href=\"http://twitter.com/download/android\" ...   \n",
       "3  <a href=\"http://twitter.com/download/android\" ...   \n",
       "4  <a href=\"http://twitter.com/download/iphone\" r...   \n",
       "\n",
       "                                       original_text  \\\n",
       "0  RT @i_ameztoy: Extra random image (I):\\n\\nLets...   \n",
       "1  RT @IndoPac_Info: #China's media explains the ...   \n",
       "2  China even cut off communication, they don't a...   \n",
       "3  Putin to #XiJinping : I told you my friend, Ta...   \n",
       "4  RT @ChinaUncensored: I’m sorry, I thought Taiw...   \n",
       "\n",
       "                                          clean_text  sentiment      polarity  \\\n",
       "0  \\n\\nLets focus in one very specific zone of th...         -1  0.000000e+00   \n",
       "1   #China's media explains the military reasons ...          0 -1.000000e-01   \n",
       "2  China even cut off communication, they don't a...         -1  0.000000e+00   \n",
       "3  Putin to #XiJinping : I told you my friend, Ta...          1  1.000000e-01   \n",
       "4   I’m sorry, I thought Taiwan was an independen...          0 -6.938894e-18   \n",
       "\n",
       "   subjectivity lang  favorite_count  retweet_count original_author  \\\n",
       "0       0.08125   en           15760              2       i_ameztoy   \n",
       "1       0.10000   en            6967            201           ZIisq   \n",
       "2       0.00000   en            2166              0       Fin21Free   \n",
       "3       0.35000   en            2166              0       Fin21Free   \n",
       "4       0.55625   en           17247            381  VizziniDolores   \n",
       "\n",
       "   screen_count  followers_count  friends_count possibly_sensitive   hashtags  \\\n",
       "0           232            20497           2621                          City   \n",
       "1             3               65            272                         China   \n",
       "2             0               85            392                     XiJinping   \n",
       "3             0               85            392                     XiJinping   \n",
       "4             0              910           2608                                 \n",
       "\n",
       "  user_mentions           place place_coord_boundaries  \n",
       "0                                                       \n",
       "1                                                       \n",
       "2                   Netherlands                         \n",
       "3                   Netherlands                         \n",
       "4                Ayent, Schweiz                         "
      ]
     },
     "execution_count": 118,
     "metadata": {},
     "output_type": "execute_result"
    }
   ],
   "source": [
    "model_df = pd.read_csv('clean_processed_tweet_data.csv')\n",
    "model_df = model_df.fillna(\"\")\n",
    "model_df.head()"
   ]
  },
  {
   "cell_type": "code",
   "execution_count": 119,
   "id": "3db849b6",
   "metadata": {},
   "outputs": [
    {
     "data": {
      "text/plain": [
       "(22000, 20)"
      ]
     },
     "execution_count": 119,
     "metadata": {},
     "output_type": "execute_result"
    }
   ],
   "source": [
    "model_df.shape"
   ]
  },
  {
   "cell_type": "code",
   "execution_count": null,
   "id": "7ac0a579",
   "metadata": {},
   "outputs": [],
   "source": []
  },
  {
   "cell_type": "code",
   "execution_count": 120,
   "id": "01b0d503",
   "metadata": {},
   "outputs": [],
   "source": [
    "sentiment_data = model_df.copy(deep=True)\n",
    "sentiment_data.drop(sentiment_data[sentiment_tweet_data['sentiment'] == -1].index, inplace=True)\n",
    "sentiment_data.reset_index(drop=True, inplace=True)\n",
    "train_set = sentiment_tweet_data.iloc[:17600,]\n",
    "test_set = sentiment_tweet_data.iloc[17601:,]"
   ]
  },
  {
   "cell_type": "code",
   "execution_count": 121,
   "id": "a093f73e",
   "metadata": {},
   "outputs": [
    {
     "data": {
      "text/plain": [
       "CountVectorizer()"
      ]
     },
     "execution_count": 121,
     "metadata": {},
     "output_type": "execute_result"
    }
   ],
   "source": [
    "unigram_vectorizer = CountVectorizer(ngram_range=(1, 1))\n",
    "unigram_vectorizer.fit(train_set['clean_text'].values)"
   ]
  },
  {
   "cell_type": "code",
   "execution_count": 67,
   "id": "ca458d9e",
   "metadata": {},
   "outputs": [],
   "source": [
    "X_train_unigram = unigram_vectorizer.transform(train_set['clean_text'].values)"
   ]
  },
  {
   "cell_type": "code",
   "execution_count": 68,
   "id": "051271d6",
   "metadata": {},
   "outputs": [
    {
     "data": {
      "text/plain": [
       "TfidfTransformer()"
      ]
     },
     "execution_count": 68,
     "metadata": {},
     "output_type": "execute_result"
    }
   ],
   "source": [
    "unigram_tf_idf_transformer = TfidfTransformer()\n",
    "unigram_tf_idf_transformer.fit(X_train_unigram)"
   ]
  },
  {
   "cell_type": "code",
   "execution_count": 69,
   "id": "7269ac00",
   "metadata": {},
   "outputs": [],
   "source": [
    "X_train_unigram_tf_idf = unigram_tf_idf_transformer.transform(X_train_unigram)"
   ]
  },
  {
   "cell_type": "code",
   "execution_count": 70,
   "id": "6051f314",
   "metadata": {},
   "outputs": [
    {
     "data": {
      "text/plain": [
       "CountVectorizer(ngram_range=(1, 2))"
      ]
     },
     "execution_count": 70,
     "metadata": {},
     "output_type": "execute_result"
    }
   ],
   "source": [
    "bigram_vectorizer = CountVectorizer(ngram_range=(1, 2))\n",
    "bigram_vectorizer.fit(train_set['clean_text'].values)"
   ]
  },
  {
   "cell_type": "code",
   "execution_count": 71,
   "id": "abf29be3",
   "metadata": {},
   "outputs": [],
   "source": [
    "X_train_bigram = bigram_vectorizer.transform(train_set['clean_text'].values)"
   ]
  },
  {
   "cell_type": "code",
   "execution_count": 72,
   "id": "1c480deb",
   "metadata": {},
   "outputs": [
    {
     "data": {
      "text/plain": [
       "TfidfTransformer()"
      ]
     },
     "execution_count": 72,
     "metadata": {},
     "output_type": "execute_result"
    }
   ],
   "source": [
    "bigram_tf_idf_transformer = TfidfTransformer()\n",
    "bigram_tf_idf_transformer.fit(X_train_bigram)"
   ]
  },
  {
   "cell_type": "code",
   "execution_count": 47,
   "id": "d9e6886e",
   "metadata": {},
   "outputs": [],
   "source": [
    "X_train_bigram_tf_idf = bigram_tf_idf_transformer.transform(X_train_bigram)"
   ]
  },
  {
   "cell_type": "code",
   "execution_count": 73,
   "id": "5e3bca46",
   "metadata": {},
   "outputs": [],
   "source": [
    "def train_and_show_scores(X: csr_matrix, y: np.array, title: str) -> None:\n",
    "    X_train, X_valid, y_train, y_valid = train_test_split(\n",
    "        X, y,train_size=0.75, stratify=y\n",
    "    )\n",
    "\n",
    "    clf = SGDClassifier()\n",
    "    clf.fit(X_train, y_train)\n",
    "    train_score = clf.score(X_train, y_train)\n",
    "    valid_score = clf.score(X_valid, y_valid)\n",
    "\n",
    "    global_vars = globals()\n",
    "    if(valid_score > global_vars['best_score']):\n",
    "        global_vars['best_model'] = clf\n",
    "        global_vars['best_model_name'] = title\n",
    "        global_vars['best_score'] = valid_score\n",
    "\n",
    "    print(f'{title}\\nTrain score: {round(train_score, 2)} ; Validation score: {round(valid_score, 2)}\\n')"
   ]
  },
  {
   "cell_type": "code",
   "execution_count": 74,
   "id": "4fe07728",
   "metadata": {},
   "outputs": [
    {
     "data": {
      "text/plain": [
       "array([-1,  0, -1, ..., -1, -1,  1])"
      ]
     },
     "execution_count": 74,
     "metadata": {},
     "output_type": "execute_result"
    }
   ],
   "source": [
    "y_train = train_set['sentiment'].values\n",
    "y_train"
   ]
  },
  {
   "cell_type": "code",
   "execution_count": 55,
   "id": "09d00510",
   "metadata": {},
   "outputs": [
    {
     "name": "stdout",
     "output_type": "stream",
     "text": [
      "Unigram Counts\n",
      "Train score: 1.0 ; Validation score: 0.94\n",
      "\n",
      "Unigram Tf-Idf\n",
      "Train score: 0.98 ; Validation score: 0.93\n",
      "\n",
      "Bigram Counts\n",
      "Train score: 1.0 ; Validation score: 0.93\n",
      "\n",
      "Bigram Tf-Idf\n",
      "Train score: 0.99 ; Validation score: 0.92\n",
      "\n"
     ]
    }
   ],
   "source": [
    "best_model = \"\"\n",
    "best_model_name = \"\"\n",
    "best_score = 0\n",
    "\n",
    "train_and_show_scores(X_train_unigram, y_train, 'Unigram Counts')\n",
    "train_and_show_scores(X_train_unigram_tf_idf, y_train, 'Unigram Tf-Idf')\n",
    "train_and_show_scores(X_train_bigram, y_train, 'Bigram Counts')\n",
    "train_and_show_scores(X_train_bigram_tf_idf, y_train, 'Bigram Tf-Idf')"
   ]
  },
  {
   "cell_type": "code",
   "execution_count": 75,
   "id": "969bdd22",
   "metadata": {},
   "outputs": [
    {
     "name": "stdout",
     "output_type": "stream",
     "text": [
      "Best Model: Unigram Counts \n",
      "Validation Score: 0.94\n"
     ]
    }
   ],
   "source": [
    "print(f'Best Model: {best_model_name} \\nValidation Score: {round(best_score, 2)}')\n"
   ]
  },
  {
   "cell_type": "code",
   "execution_count": 101,
   "id": "ff24eb94",
   "metadata": {},
   "outputs": [],
   "source": [
    "sgd = joblib.dump(best_model, './trained_model/newsentimentSGDmodel.jl')"
   ]
  },
  {
   "cell_type": "code",
   "execution_count": 117,
   "id": "df347288",
   "metadata": {},
   "outputs": [],
   "source": [
    "from nltk.corpus import stopwords\n",
    "stop_words= stopwords.words('english')\n",
    "stop_words.extend(['from', 'subject', 're', 'edu', 'use'])\n"
   ]
  },
  {
   "cell_type": "code",
   "execution_count": 88,
   "id": "999ad681",
   "metadata": {},
   "outputs": [],
   "source": [
    "class PrepareData:\n",
    "      def __init__(self,df):\n",
    "        self.df=df\n",
    "    \n",
    "      def preprocess_data(self):\n",
    "        tweets_df = self.df.loc[self.df['lang'] ==\"en\"]\n",
    "\n",
    "    \n",
    "    #text Preprocessing\n",
    "        model_df['clean_text']=model_df['clean_text'].astype(str)\n",
    "        model_df['clean_text'] = model_df['clean_text'].apply(lambda x: x.lower())\n",
    "        model_df['clean_text']= model_df['clean_text'].apply(lambda x: x.translate(str.maketrans(' ', ' ', string.punctuation)))\n",
    "\n",
    "        #Converting tweets to list of words For feature engineering\n",
    "        sentence_list = [tweet for tweet in model_df['clean_text']]\n",
    "        word_list = [sent.split() for sent in sentence_list]\n",
    "        # print(word_list)\n",
    "\n",
    "        #Create dictionary which contains Id and word \n",
    "        word_to_id = corpora.Dictionary(word_list) #generate unique tokens\n",
    "        #  we can see the word to unique integer mapping\n",
    "        # print(word_to_id.token2id)\n",
    "        # using bag of words(bow), we create a corpus that contains the word id and its frequency in each document.\n",
    "        corpus_1= [word_to_id.doc2bow(tweet) for tweet in word_list]\n",
    "        \n",
    "\n",
    "        return word_list, word_to_id, corpus_1\n"
   ]
  },
  {
   "cell_type": "code",
   "execution_count": 89,
   "id": "3f9ee6bb",
   "metadata": {},
   "outputs": [],
   "source": [
    "PrepareData_obj=PrepareData(model_df)\n",
    "word_list ,id2word,corpus=PrepareData_obj.preprocess_data()"
   ]
  },
  {
   "cell_type": "code",
   "execution_count": 113,
   "id": "25b0e0ab",
   "metadata": {},
   "outputs": [],
   "source": [
    "from nltk.stem import PorterStemmer\n",
    "stemmer = PorterStemmer()\n",
    "model_df['clean_text'] = df['clean_text'].apply(lambda x: \" \".join([stemmer.stem(word) for word in x.split()]))\n"
   ]
  },
  {
   "cell_type": "code",
   "execution_count": 114,
   "id": "a3ba5514",
   "metadata": {},
   "outputs": [
    {
     "data": {
      "text/plain": [
       "0        let focu in one veri specif zone of the wester...\n",
       "1        china media explain the militari reason for ea...\n",
       "2        china even cut off commun they dont anwer phon...\n",
       "3        putin to xijinp i told you my friend taiwan wi...\n",
       "4        i’m sorri i thought taiwan wa an independ coun...\n",
       "                               ...                        \n",
       "21995    a good infograph of china missil launch on tai...\n",
       "21996    a good infograph of china missil launch on tai...\n",
       "21997                       reuter thank pelosi smart move\n",
       "21998    taiwan peopl desir for unif with china near re...\n",
       "21999    taiwan peopl desir for unif with china near re...\n",
       "Name: clean_text, Length: 22000, dtype: object"
      ]
     },
     "execution_count": 114,
     "metadata": {},
     "output_type": "execute_result"
    }
   ],
   "source": [
    "model_df[\"clean_text\"]"
   ]
  },
  {
   "cell_type": "code",
   "execution_count": 97,
   "id": "17bd974a",
   "metadata": {},
   "outputs": [
    {
     "name": "stdout",
     "output_type": "stream",
     "text": [
      "[[(0, 1), (1, 1), (2, 1), (3, 1), (4, 1), (5, 1), (6, 1), (7, 1), (8, 1), (9, 1), (10, 1), (11, 1), (12, 1), (13, 1), (14, 1), (15, 1), (16, 1)], [(5, 2), (8, 1), (13, 5), (17, 1), (18, 1), (19, 1), (20, 1), (21, 1), (22, 1), (23, 1), (24, 1), (25, 1), (26, 1), (27, 1), (28, 1), (29, 1), (30, 1)], [(13, 2), (31, 1), (32, 1), (33, 1), (34, 1), (35, 1), (36, 1), (37, 1), (38, 1), (39, 1), (40, 1), (41, 1), (42, 1), (43, 1), (44, 1), (45, 1), (46, 1), (47, 1), (48, 1), (49, 1), (50, 2), (51, 1), (52, 1), (53, 1)]]\n"
     ]
    }
   ],
   "source": [
    "print(corpus[0:3])"
   ]
  },
  {
   "cell_type": "code",
   "execution_count": 94,
   "id": "66e8a3ad",
   "metadata": {},
   "outputs": [],
   "source": [
    "id_words = [[(id2word[id], count) for id, count in line] for line in corpus]"
   ]
  },
  {
   "cell_type": "code",
   "execution_count": 96,
   "id": "32be530d",
   "metadata": {},
   "outputs": [
    {
     "name": "stdout",
     "output_type": "stream",
     "text": [
      "[[('city', 1), ('coast', 1), ('district', 1), ('focus', 1), ('gt', 1), ('in', 1), ('lets', 1), ('longjing', 1), ('of', 1), ('one', 1), ('specific', 1), ('taichung', 1), ('ta…', 1), ('the', 1), ('very', 1), ('western', 1), ('zone', 1)], [('in', 2), ('of', 1), ('the', 5), ('area', 1), ('chinas', 1), ('drills', 1), ('each', 1), ('explains', 1), ('for', 1), ('labels', 1), ('media', 1), ('military', 1), ('pi…', 1), ('read', 1), ('reasons', 1), ('strait', 1), ('taiwan', 1)], [('the', 2), ('anwer', 1), ('ask', 1), ('but', 1), ('change', 1), ('china', 1), ('clown', 1), ('communication', 1), ('cut', 1), ('dont', 1), ('enters', 1), ('even', 1), ('from', 1), ('here', 1), ('mind', 1), ('off', 1), ('phonecalls', 1), ('putins', 1), ('stage', 1), ('they', 1), ('to', 2), ('us', 1), ('xijinping', 1), ('zelenskyyua', 1)]]\n"
     ]
    }
   ],
   "source": [
    "print(id_words[0:3])"
   ]
  },
  {
   "cell_type": "code",
   "execution_count": 98,
   "id": "386d6cd9",
   "metadata": {},
   "outputs": [
    {
     "data": {
      "text/plain": [
       "list"
      ]
     },
     "execution_count": 98,
     "metadata": {},
     "output_type": "execute_result"
    }
   ],
   "source": [
    "type(id_words)"
   ]
  },
  {
   "cell_type": "code",
   "execution_count": 102,
   "id": "a1d28fdf",
   "metadata": {},
   "outputs": [],
   "source": [
    "# Build LDA model\n",
    "lda_model = gensim.models.ldamodel.LdaModel(corpus,\n",
    "                                           id2word=id2word,\n",
    "                                           num_topics=5, \n",
    "                                           random_state=100,\n",
    "                                           update_every=1,\n",
    "                                           chunksize=100,\n",
    "                                           passes=10,\n",
    "                                           alpha='auto',\n",
    "                                           per_word_topics=True)"
   ]
  },
  {
   "cell_type": "code",
   "execution_count": 103,
   "id": "478002e5",
   "metadata": {},
   "outputs": [
    {
     "name": "stdout",
     "output_type": "stream",
     "text": [
      "[(0,\n",
      "  '0.044*\"the\" + 0.033*\"on\" + 0.027*\"taiwan\" + 0.022*\"chinese\" + '\n",
      "  '0.020*\"island\" + 0.019*\"in\" + 0.019*\"to\" + 0.016*\"us\" + 0.016*\"as\" + '\n",
      "  '0.014*\"of\"'),\n",
      " (1,\n",
      "  '0.037*\"taiwan\" + 0.021*\"china\" + 0.019*\"taiwans\" + 0.019*\"is\" + '\n",
      "  '0.018*\"that\" + 0.017*\"you\" + 0.015*\"video\" + 0.013*\"of\" + 0.013*\"a\" + '\n",
      "  '0.013*\"it\"'),\n",
      " (2,\n",
      "  '0.047*\"of\" + 0.033*\"missile\" + 0.024*\"part\" + 0.019*\"delegation\" + '\n",
      "  '0.019*\"we\" + 0.018*\"her\" + 0.017*\"amp\" + 0.014*\"deputy\" + 0.012*\"to…\" + '\n",
      "  '0.012*\"some\"'),\n",
      " (3,\n",
      "  '0.038*\"to\" + 0.031*\"in\" + 0.019*\"taiwan\" + 0.018*\"was\" + 0.017*\"on\" + '\n",
      "  '0.016*\"visit\" + 0.016*\"the\" + 0.014*\"by\" + 0.013*\"i\" + 0.011*\"is\"'),\n",
      " (4,\n",
      "  '0.068*\"the\" + 0.047*\"taiwan\" + 0.030*\"to\" + 0.030*\"of\" + 0.024*\"and\" + '\n",
      "  '0.024*\"a\" + 0.021*\"china\" + 0.021*\"for\" + 0.019*\"is\" + 0.014*\"in\"')]\n"
     ]
    }
   ],
   "source": [
    "pprint(lda_model.print_topics())"
   ]
  },
  {
   "cell_type": "code",
   "execution_count": 104,
   "id": "cb143393",
   "metadata": {},
   "outputs": [
    {
     "name": "stdout",
     "output_type": "stream",
     "text": [
      "[(0,\n",
      "  [('the', 0.04395358),\n",
      "   ('on', 0.033439633),\n",
      "   ('taiwan', 0.026925098),\n",
      "   ('chinese', 0.02212068),\n",
      "   ('island', 0.0204998),\n",
      "   ('in', 0.019174475),\n",
      "   ('to', 0.018654335),\n",
      "   ('us', 0.016076317),\n",
      "   ('as', 0.015548982),\n",
      "   ('of', 0.014487119)]),\n",
      " (1,\n",
      "  [('taiwan', 0.03713237),\n",
      "   ('china', 0.020807313),\n",
      "   ('taiwans', 0.019410735),\n",
      "   ('is', 0.018574348),\n",
      "   ('that', 0.017751308),\n",
      "   ('you', 0.016795183),\n",
      "   ('video', 0.015092552),\n",
      "   ('of', 0.013485775),\n",
      "   ('a', 0.013134908),\n",
      "   ('it', 0.012776444)]),\n",
      " (2,\n",
      "  [('of', 0.046632145),\n",
      "   ('missile', 0.03342878),\n",
      "   ('part', 0.024009362),\n",
      "   ('delegation', 0.01924059),\n",
      "   ('we', 0.019214101),\n",
      "   ('her', 0.01789514),\n",
      "   ('amp', 0.017246703),\n",
      "   ('deputy', 0.013842348),\n",
      "   ('to…', 0.012484315),\n",
      "   ('some', 0.012330312)]),\n",
      " (3,\n",
      "  [('to', 0.037837338),\n",
      "   ('in', 0.030890705),\n",
      "   ('taiwan', 0.018933749),\n",
      "   ('was', 0.018106118),\n",
      "   ('on', 0.017319217),\n",
      "   ('visit', 0.016418425),\n",
      "   ('the', 0.016400944),\n",
      "   ('by', 0.0143851815),\n",
      "   ('i', 0.01298495),\n",
      "   ('is', 0.011383652)]),\n",
      " (4,\n",
      "  [('the', 0.067800574),\n",
      "   ('taiwan', 0.046877533),\n",
      "   ('to', 0.02988566),\n",
      "   ('of', 0.029716184),\n",
      "   ('and', 0.024490684),\n",
      "   ('a', 0.024404854),\n",
      "   ('china', 0.021423172),\n",
      "   ('for', 0.02087478),\n",
      "   ('is', 0.019005947),\n",
      "   ('in', 0.013863059)])]\n"
     ]
    }
   ],
   "source": [
    "pprint(lda_model.show_topics(formatted=False))"
   ]
  },
  {
   "cell_type": "code",
   "execution_count": 105,
   "id": "2caf4997",
   "metadata": {},
   "outputs": [
    {
     "name": "stdout",
     "output_type": "stream",
     "text": [
      "\n",
      "Perplexity:  -7.699028621882877\n",
      "\n",
      " Ldamodel Coherence Score/Accuracy on Tweets:  0.2714030745837813\n"
     ]
    }
   ],
   "source": [
    "# Compute Perplexity\n",
    "\n",
    "#It's a measure of how good the model is. The lower the better. Perplexity is a negative value\n",
    "print('\\nPerplexity: ', lda_model.log_perplexity(corpus))  \n",
    "doc_lda = lda_model[corpus]\n",
    "\n",
    "\n",
    "# Compute Coherence Score\n",
    "coherence_model_lda = CoherenceModel(model=lda_model, texts=word_list, dictionary=id2word, coherence='c_v')\n",
    "coherence_lda = coherence_model_lda.get_coherence()\n",
    "print('\\n Ldamodel Coherence Score/Accuracy on Tweets: ', coherence_lda)"
   ]
  },
  {
   "cell_type": "code",
   "execution_count": 107,
   "id": "1bac6be2",
   "metadata": {},
   "outputs": [
    {
     "name": "stderr",
     "output_type": "stream",
     "text": [
      "/home/nhgirma/anaconda3/lib/python3.9/site-packages/past/builtins/misc.py:45: DeprecationWarning: the imp module is deprecated in favour of importlib; see the module's documentation for alternative uses\n",
      "  from imp import reload\n",
      "/home/nhgirma/anaconda3/lib/python3.9/site-packages/past/builtins/misc.py:45: DeprecationWarning: the imp module is deprecated in favour of importlib; see the module's documentation for alternative uses\n",
      "  from imp import reload\n",
      "/home/nhgirma/anaconda3/lib/python3.9/site-packages/past/builtins/misc.py:45: DeprecationWarning: the imp module is deprecated in favour of importlib; see the module's documentation for alternative uses\n",
      "  from imp import reload\n",
      "/home/nhgirma/anaconda3/lib/python3.9/site-packages/past/builtins/misc.py:45: DeprecationWarning: the imp module is deprecated in favour of importlib; see the module's documentation for alternative uses\n",
      "  from imp import reload\n",
      "/home/nhgirma/anaconda3/lib/python3.9/site-packages/past/builtins/misc.py:45: DeprecationWarning: the imp module is deprecated in favour of importlib; see the module's documentation for alternative uses\n",
      "  from imp import reload\n",
      "/home/nhgirma/anaconda3/lib/python3.9/site-packages/past/builtins/misc.py:45: DeprecationWarning: the imp module is deprecated in favour of importlib; see the module's documentation for alternative uses\n",
      "  from imp import reload\n",
      "/home/nhgirma/anaconda3/lib/python3.9/site-packages/past/builtins/misc.py:45: DeprecationWarning: the imp module is deprecated in favour of importlib; see the module's documentation for alternative uses\n",
      "  from imp import reload\n",
      "/home/nhgirma/anaconda3/lib/python3.9/site-packages/past/builtins/misc.py:45: DeprecationWarning: the imp module is deprecated in favour of importlib; see the module's documentation for alternative uses\n",
      "  from imp import reload\n"
     ]
    },
    {
     "data": {
      "text/html": [
       "\n",
       "<link rel=\"stylesheet\" type=\"text/css\" href=\"https://cdn.jsdelivr.net/gh/bmabey/pyLDAvis@3.3.1/pyLDAvis/js/ldavis.v1.0.0.css\">\n",
       "\n",
       "\n",
       "<div id=\"ldavis_el7481421396604368167202646277038\"></div>\n",
       "<script type=\"text/javascript\">\n",
       "\n",
       "var ldavis_el7481421396604368167202646277038_data = {\"mdsDat\": {\"x\": [-0.04504242524663817, -0.22142429384142046, -0.11531764714089587, 0.26519014109708516, 0.1165942251318693], \"y\": [-0.13474783280129118, 0.04466262422804901, -0.05748982845401169, -0.13470066029831995, 0.28227569732557395], \"topics\": [1, 2, 3, 4, 5], \"cluster\": [1, 1, 1, 1, 1], \"Freq\": [40.358285084787774, 18.57961028575989, 17.014743868654925, 16.557708318919452, 7.489652441877961]}, \"tinfo\": {\"Term\": [\"of\", \"missile\", \"for\", \"the\", \"in\", \"on\", \"island\", \"taiwans\", \"was\", \"amp\", \"visit\", \"chinese\", \"we\", \"as\", \"part\", \"you\", \"video\", \"near\", \"an\", \"i\", \"her\", \"minister\", \"it\", \"by\", \"delegation\", \"us\", \"that\", \"travel\", \"time\", \"august\", \"for\", \"from\", \"after\", \"their\", \"war\", \"over\", \"when\", \"support\", \"ccp\", \"authorities\", \"strait\", \"speakerpelosi\", \"how\", \"more\", \"good\", \"speech\", \"based\", \"check\", \"no\", \"thing\", \"nicaragua\", \"httpstcogsuomjseuf\", \"do\", \"or\", \"democratic\", \"crisis\", \"xijinping\", \"tco845qek0lck\", \"david\", \"forget\", \"world\", \"but\", \"the\", \"ukraine\", \"and\", \"what\", \"with\", \"a\", \"taiwan\", \"of\", \"military\", \"are\", \"china\", \"to\", \"this\", \"is\", \"about\", \"pelosi\", \"its\", \"not\", \"have\", \"in\", \"us\", \"by\", \"as\", \"on\", \"chinas\", \"they\", \"that\", \"i\", \"usa\", \"dead\", \"speaker\", \"his\", \"people\", \"our\", \"did\", \"maybe\", \"japan\", \"gazaunderattack\", \"missiles\", \"islands\", \"she\", \"why\", \"house\", \"palestinian\", \"israeli\", \"cries\", \"warned\", \"unless\", \"thursday\", \"murdered\", \"abs\\u2026\", \"trip\", \"father\", \"airstrike\", \"pain\", \"cheating\\u2026\", \"teen\", \"gaza\", \"was\", \"nancy\", \"set\", \"visit\", \"in\", \"to\", \"by\", \"on\", \"pelosis\", \"at\", \"pelosi\", \"taiwan\", \"the\", \"is\", \"a\", \"with\", \"us\", \"and\", \"china\", \"near\", \"august\", \"waters\", \"launches\", \"4th\", \"infographic\", \"httpstcostzrr9fhu5\", \"3\", \"drones\", \"out\", \"entered\", \"kinmen\", \"restricted\", \"fired\\u2026\", \"foreign\", \"forces\", \"should\", \"responsible\", \"day\", \"called\", \"respond\", \"taiwanese\", \"showing\", \"talking\", \"high\", \"official\", \"statedept\", \"between\", \"friday\", \"stopped\", \"island\", \"taiwan\\u2019s\", \"army\", \"said\", \"chinese\", \"chinataiwancrisis\", \"on\", \"as\", \"amp\", \"an\", \"the\", \"us\", \"chinas\", \"missile\", \"in\", \"taiwan\", \"visit\", \"to\", \"china\", \"of\", \"and\", \"taiwans\", \"video\", \"travel\", \"hotel\", \"found\", \"watch\", \"it\\u2019s\", \"again\", \"tensions\", \"government\", \"own\", \"programme\", \"wwiii\", \"httpstcou9m\\u2026\", \"your\", \"d\\u2026\", \"can\", \"today\", \"thought\", \"must\", \"chinataiwan\", \"rise\", \"uk\", \"nancypelosi\", \"new\", \"peoples\", \"record\", \"desire\", \"low\", \"i\\u2019m\", \"had\", \"country\", \"you\", \"because\", \"independent\", \"time\", \"that\", \"it\", \"taiwan\", \"china\", \"an\", \"is\", \"this\", \"a\", \"of\", \"its\", \"not\", \"we\", \"on\", \"military\", \"part\", \"delegation\", \"deputy\", \"to\\u2026\", \"some\", \"until\", \"dont\", \"taiwan\\ud83c\\uddf9\\ud83c\\uddfc\", \"lithuania\", \"international\", \"production\", \"ago\", \"invasion\", \"interesting\", \"vaiciukeviciute\", \"wish\", \"lead\", \"heart\", \"welcomes\", \"heartiest\", \"lithuanias\\ud83c\\uddf1\\ud83c\\uddf9\", \"officials\", \"transportation\", \"transp\\u2026\", \"quick\", \"research\", \"\\u4f69\\u6d1b\\u897f\", \"abo\\u2026\", \"lithuanian\", \"agne\", \"want\", \"missile\", \"her\", \"development\", \"we\", \"of\", \"amp\", \"minister\", \"head\", \"a\", \"to\", \"and\", \"the\", \"is\", \"taiwan\"], \"Freq\": [8397.0, 1849.0, 3506.0, 16234.0, 6121.0, 5621.0, 1489.0, 1338.0, 1501.0, 1899.0, 2092.0, 2187.0, 1354.0, 2155.0, 748.0, 1267.0, 1040.0, 1017.0, 1546.0, 1004.0, 836.0, 988.0, 1650.0, 2379.0, 600.0, 2823.0, 2525.0, 799.0, 966.0, 810.0, 3505.1735349718915, 1562.8804252233772, 919.9293000772709, 819.1775428328016, 815.7906919421018, 772.3701141130097, 745.840863780496, 730.7972720197624, 723.1816076297736, 607.4958826566326, 589.623099489269, 599.7302866821368, 546.4883495126747, 531.8746919461584, 926.7849462135924, 456.7643632995047, 447.7292162575531, 453.27934338437296, 444.72280454516806, 441.02631658815943, 436.0458512912875, 432.9402149735625, 442.2233453376855, 422.6958804538497, 419.02347537977624, 415.39004860811565, 417.8076416518544, 408.9906870931187, 399.8553380560977, 395.3322520570475, 776.0949854677633, 606.403825564056, 11384.68436063335, 1019.7590269465092, 4112.335541296924, 760.4970964436299, 1826.0595773797777, 4097.923343301454, 7871.407091936141, 4989.771610920462, 1609.3095650222592, 1000.9841521543965, 3597.25647084503, 5018.229133902532, 1745.7562989090566, 3191.36981715048, 1171.702939619711, 1340.0816996902208, 1248.296124868389, 1254.4897262975294, 1051.4092521234093, 2327.805488097581, 1219.7358586779524, 1104.7002151617035, 1053.6323055153862, 1330.3727010731557, 971.0305191655698, 889.2703826596295, 876.5620486318207, 1003.7644376718791, 753.4166964439171, 680.3751744562411, 574.8387528172694, 565.394609098099, 531.3135186379769, 455.08669224811746, 421.28450355553855, 490.05866291537984, 409.2369407042327, 401.9433427127759, 423.3704713572103, 395.9981418961249, 386.8681766265047, 381.29557676440174, 377.8949406155168, 368.2328733934158, 362.65329018814, 335.38715073921924, 329.1986128099467, 329.22413440948054, 323.9381035937651, 316.05030949017174, 315.4071579825967, 307.92306590830066, 297.81330879423615, 295.8833143222965, 295.70018154708026, 295.67129426411003, 295.6614311917937, 559.3536572874282, 1399.6416669405933, 382.1167675262706, 300.01155003588815, 1269.1794257309678, 2387.9176254008876, 2924.907198170446, 1112.005320939307, 1338.8125722976858, 525.4549256753152, 460.93560212153443, 685.980063281365, 1463.6193134424914, 1267.8281128304043, 879.9806483120553, 647.5553333677213, 467.6162857614224, 464.924314958126, 472.28627052012547, 434.1567128436853, 1016.0713856622365, 809.8394973784999, 729.0378232162421, 711.0118783854066, 707.4207587966878, 698.6307603012805, 698.6306943716767, 692.8093740756273, 575.3762890344035, 726.0827924448682, 530.5392137384017, 525.8658926683078, 511.4540768579129, 486.7094768586739, 430.4710303556348, 412.81623622932284, 606.4866230329699, 378.8221083962754, 380.04444325050156, 383.3272760119085, 353.55092865158304, 356.96156594993266, 337.4167019422315, 332.1978134007933, 327.3428892370658, 355.18416976141685, 315.29270479915266, 317.39012328445455, 301.146816045636, 295.9107528424111, 1451.2089463387751, 774.7801779018545, 620.953621921735, 804.4161941005176, 1565.9533562079278, 765.5426492559354, 2367.2374985509014, 1100.7337655631015, 998.6933310478239, 857.0435113800883, 3111.534201127004, 1138.0645576790487, 900.2051176550302, 807.0080846142282, 1357.387428090895, 1906.0646669865712, 822.906085553208, 1320.5660080938123, 1019.2234140897284, 1025.5630729307577, 639.3142254213975, 1337.202340692424, 1039.7234043536478, 798.8241929061282, 727.3884022161839, 720.9486692994055, 660.3211746145853, 591.3724301804294, 577.7294121466317, 560.9911879287971, 573.2364454185694, 518.5451023363782, 517.1158398908051, 506.017097636585, 494.7237300904204, 498.9270525526238, 413.8196611463166, 401.43543600124474, 371.7506680719144, 356.33314984869867, 355.2553806162185, 340.04987468152444, 329.66159333725875, 331.27569687928553, 346.0187151208919, 332.62639704696653, 322.49064418435347, 319.7753855786569, 318.5094710787869, 318.08057044366285, 314.0343725372439, 430.6943187524221, 661.970886212333, 1157.017366436634, 387.65110852109535, 371.8463927910774, 818.9035434477797, 1222.8846987984286, 880.1671070774943, 2558.0429446165, 1433.4123559518184, 688.3513869674168, 1279.5837587953442, 699.5893535115725, 904.8616465925202, 929.0328439264382, 593.6122089645996, 585.8779467860567, 503.0308007761268, 584.96657303558, 524.8107407320783, 748.1646800335333, 599.5631955029717, 431.3465692408774, 389.0283914885557, 384.22945997684883, 371.7521045484765, 275.41715091433855, 254.83176941176595, 261.99280176830644, 231.06090953193393, 229.6737934390736, 214.63033200702205, 183.25589411772458, 166.664117836883, 162.90520778829148, 152.4534658565438, 152.60426047996816, 150.90130568681386, 149.39132796226238, 148.68499329286018, 147.07872292771555, 151.94810362117042, 146.30034290560917, 145.1353557672696, 145.5967797694127, 143.54188379106458, 139.89210830394094, 137.87444664080707, 137.54203678385892, 135.93263211938213, 262.85551765947963, 1041.686704741952, 557.6371244013595, 204.36178696910932, 598.737771969593, 1453.1216507515078, 537.4309350753963, 378.51412318726074, 287.836724954097, 361.60582620580755, 377.24745995901213, 280.19872769455816, 318.64848356004893, 221.19237944628634, 232.89551940768342], \"Total\": [8397.0, 1849.0, 3506.0, 16234.0, 6121.0, 5621.0, 1489.0, 1338.0, 1501.0, 1899.0, 2092.0, 2187.0, 1354.0, 2155.0, 748.0, 1267.0, 1040.0, 1017.0, 1546.0, 1004.0, 836.0, 988.0, 1650.0, 2379.0, 600.0, 2823.0, 2525.0, 799.0, 966.0, 810.0, 3506.1050649686676, 1563.8087873441661, 920.8526435096009, 820.0889024795907, 816.7072643346538, 773.2904666091536, 746.7565503747159, 731.7199747449299, 724.121637081816, 608.4081634696043, 590.5373408266304, 600.6652267452471, 547.4201281888744, 532.79845788006, 928.5381825667931, 457.6701553904976, 448.63469628053525, 454.1962069838396, 445.63969359155175, 441.93587344090264, 436.9510405274941, 433.8453643971549, 443.16032445858576, 423.615234134753, 419.94259212727343, 416.3029804941045, 418.72598948358393, 409.8963304427603, 400.7647642959059, 396.24102912673766, 790.1038105829675, 613.9230018447623, 16234.316071892254, 1129.3738986518151, 5504.347412025719, 826.8057889214348, 2294.409589726112, 6211.04918507047, 14032.029536389386, 8397.681431595, 2134.829026430996, 1239.7818871838801, 6527.335143869607, 10099.956276457839, 2573.6434677142606, 6169.912299136445, 1583.2773899370743, 2026.7904600300392, 1842.6271346639364, 1868.3919101012452, 1436.3690082991516, 6121.773987003224, 2823.2501721217227, 2379.4925509823092, 2155.109711476624, 5621.709677082915, 2009.336325443373, 1479.6849546326293, 2525.34409321344, 1004.764836818231, 754.3869381496199, 681.432303875239, 575.7774311910971, 566.3355453815262, 532.2616719288146, 456.0410083001548, 422.22394773989305, 491.15597724458473, 410.1799054835493, 402.8766536755257, 424.3771134364844, 396.94051672455936, 387.8029164908499, 382.23776225177284, 378.8365513174292, 369.1627111535383, 363.58484138821717, 336.31644829368497, 330.1324837750602, 330.16133763351615, 324.8722625161513, 316.9801712726373, 316.3414787854815, 308.86025121264856, 298.74281434392304, 296.8129490082261, 296.629550975997, 296.6006377391821, 296.5907752573978, 561.6552379351842, 1501.2889728059874, 388.91439430057295, 302.20346059152945, 2092.8398752858925, 6121.773987003224, 10099.956276457839, 2379.4925509823092, 5621.709677082915, 931.413531173182, 743.8492629721374, 2026.7904600300392, 14032.029536389386, 16234.316071892254, 6169.912299136445, 6211.04918507047, 2294.409589726112, 2823.2501721217227, 5504.347412025719, 6527.335143869607, 1017.0257057558447, 810.7651046096721, 729.9611053854667, 711.9352081692119, 708.3459420968773, 699.553559396403, 699.5534934667992, 693.7461773043129, 576.2999980711635, 727.2777206329657, 531.4612989186242, 526.7876815207785, 512.3755895682566, 487.6309641660314, 431.418190084777, 413.7461016672071, 607.8617036262831, 379.7459556366433, 380.98559259874935, 384.3030443710091, 354.4941665592939, 357.9156101124793, 338.34391496231353, 333.1266464477111, 328.2753925000308, 356.1981233534089, 316.216588207655, 318.3238020170047, 302.0846970999258, 296.83276319422674, 1489.7904229355784, 788.6945831885544, 658.7575505595763, 951.0547994611871, 2187.1275962840255, 1079.8481273807997, 5621.709677082915, 2155.109711476624, 1899.9686711310692, 1546.1725820777237, 16234.316071892254, 2823.2501721217227, 2009.336325443373, 1849.395757764034, 6121.773987003224, 14032.029536389386, 2092.8398752858925, 10099.956276457839, 6527.335143869607, 8397.681431595, 5504.347412025719, 1338.137427744308, 1040.7357539027114, 799.7591748081328, 728.3174224585385, 721.8904134569372, 661.2396381575452, 592.2883705993954, 578.6440993447857, 561.9149168514357, 574.1981250497699, 519.4620827935382, 518.0309340543836, 506.93282732443623, 495.6376185534203, 499.85353320266313, 414.7325385214769, 402.3557804819126, 372.68940643456256, 357.2428739273989, 356.1700466684404, 340.97651344164353, 330.57406206143196, 332.1935769200562, 346.9775337216303, 333.5636257434874, 323.4071855714726, 320.6892310520042, 319.4223974953004, 318.99244813273, 314.9427006302481, 432.7954078167517, 688.2520545460794, 1267.6472339787724, 395.6398772752892, 380.84720854133815, 966.5976273181574, 2525.34409321344, 1650.5251262805898, 14032.029536389386, 6527.335143869607, 1546.1725820777237, 6169.912299136445, 2573.6434677142606, 6211.04918507047, 8397.681431595, 1842.6271346639364, 1868.3919101012452, 1354.4753175225878, 5621.709677082915, 2134.829026430996, 748.9947434963453, 600.375486918801, 432.1513635804233, 389.84564942882895, 385.0792644763265, 372.5753910820865, 276.24471592176576, 255.63779071731315, 262.8245365719683, 231.87718659338748, 230.48540052154829, 215.44315673899405, 184.086629056542, 167.47089096835398, 163.70994861611237, 153.25800688844697, 153.41548039822766, 151.70793800788664, 150.19575964181303, 149.48941714791783, 147.88314678126002, 152.7843107850714, 147.10592835504517, 145.93977856715736, 146.40467234792146, 144.3482288180268, 140.6976685138865, 138.68056752785589, 138.346924460794, 136.73753833813112, 280.75007248292815, 1849.395757764034, 836.3564859196483, 230.32101372323916, 1354.4753175225878, 8397.681431595, 1899.9686711310692, 988.1705770109638, 750.4937581562442, 6211.04918507047, 10099.956276457839, 5504.347412025719, 16234.316071892254, 6169.912299136445, 14032.029536389386], \"Category\": [\"Default\", \"Default\", \"Default\", \"Default\", \"Default\", \"Default\", \"Default\", \"Default\", \"Default\", \"Default\", \"Default\", \"Default\", \"Default\", \"Default\", \"Default\", \"Default\", \"Default\", \"Default\", \"Default\", \"Default\", \"Default\", \"Default\", \"Default\", \"Default\", \"Default\", \"Default\", \"Default\", \"Default\", \"Default\", \"Default\", \"Topic1\", \"Topic1\", \"Topic1\", \"Topic1\", \"Topic1\", \"Topic1\", \"Topic1\", \"Topic1\", \"Topic1\", \"Topic1\", \"Topic1\", \"Topic1\", \"Topic1\", \"Topic1\", \"Topic1\", \"Topic1\", \"Topic1\", \"Topic1\", \"Topic1\", \"Topic1\", \"Topic1\", \"Topic1\", \"Topic1\", \"Topic1\", \"Topic1\", \"Topic1\", \"Topic1\", \"Topic1\", \"Topic1\", \"Topic1\", \"Topic1\", \"Topic1\", \"Topic1\", \"Topic1\", \"Topic1\", \"Topic1\", \"Topic1\", \"Topic1\", \"Topic1\", \"Topic1\", \"Topic1\", \"Topic1\", \"Topic1\", \"Topic1\", \"Topic1\", \"Topic1\", \"Topic1\", \"Topic1\", \"Topic1\", \"Topic1\", \"Topic1\", \"Topic1\", \"Topic1\", \"Topic1\", \"Topic1\", \"Topic1\", \"Topic1\", \"Topic1\", \"Topic1\", \"Topic2\", \"Topic2\", \"Topic2\", \"Topic2\", \"Topic2\", \"Topic2\", \"Topic2\", \"Topic2\", \"Topic2\", \"Topic2\", \"Topic2\", \"Topic2\", \"Topic2\", \"Topic2\", \"Topic2\", \"Topic2\", \"Topic2\", \"Topic2\", \"Topic2\", \"Topic2\", \"Topic2\", \"Topic2\", \"Topic2\", \"Topic2\", \"Topic2\", \"Topic2\", \"Topic2\", \"Topic2\", \"Topic2\", \"Topic2\", \"Topic2\", \"Topic2\", \"Topic2\", \"Topic2\", \"Topic2\", \"Topic2\", \"Topic2\", \"Topic2\", \"Topic2\", \"Topic2\", \"Topic2\", \"Topic2\", \"Topic2\", \"Topic2\", \"Topic2\", \"Topic2\", \"Topic2\", \"Topic2\", \"Topic2\", \"Topic2\", \"Topic3\", \"Topic3\", \"Topic3\", \"Topic3\", \"Topic3\", \"Topic3\", \"Topic3\", \"Topic3\", \"Topic3\", \"Topic3\", \"Topic3\", \"Topic3\", \"Topic3\", \"Topic3\", \"Topic3\", \"Topic3\", \"Topic3\", \"Topic3\", \"Topic3\", \"Topic3\", \"Topic3\", \"Topic3\", \"Topic3\", \"Topic3\", \"Topic3\", \"Topic3\", \"Topic3\", \"Topic3\", \"Topic3\", \"Topic3\", \"Topic3\", \"Topic3\", \"Topic3\", \"Topic3\", \"Topic3\", \"Topic3\", \"Topic3\", \"Topic3\", \"Topic3\", \"Topic3\", \"Topic3\", \"Topic3\", \"Topic3\", \"Topic3\", \"Topic3\", \"Topic3\", \"Topic3\", \"Topic3\", \"Topic3\", \"Topic3\", \"Topic3\", \"Topic4\", \"Topic4\", \"Topic4\", \"Topic4\", \"Topic4\", \"Topic4\", \"Topic4\", \"Topic4\", \"Topic4\", \"Topic4\", \"Topic4\", \"Topic4\", \"Topic4\", \"Topic4\", \"Topic4\", \"Topic4\", \"Topic4\", \"Topic4\", \"Topic4\", \"Topic4\", \"Topic4\", \"Topic4\", \"Topic4\", \"Topic4\", \"Topic4\", \"Topic4\", \"Topic4\", \"Topic4\", \"Topic4\", \"Topic4\", \"Topic4\", \"Topic4\", \"Topic4\", \"Topic4\", \"Topic4\", \"Topic4\", \"Topic4\", \"Topic4\", \"Topic4\", \"Topic4\", \"Topic4\", \"Topic4\", \"Topic4\", \"Topic4\", \"Topic4\", \"Topic4\", \"Topic4\", \"Topic4\", \"Topic4\", \"Topic4\", \"Topic5\", \"Topic5\", \"Topic5\", \"Topic5\", \"Topic5\", \"Topic5\", \"Topic5\", \"Topic5\", \"Topic5\", \"Topic5\", \"Topic5\", \"Topic5\", \"Topic5\", \"Topic5\", \"Topic5\", \"Topic5\", \"Topic5\", \"Topic5\", \"Topic5\", \"Topic5\", \"Topic5\", \"Topic5\", \"Topic5\", \"Topic5\", \"Topic5\", \"Topic5\", \"Topic5\", \"Topic5\", \"Topic5\", \"Topic5\", \"Topic5\", \"Topic5\", \"Topic5\", \"Topic5\", \"Topic5\", \"Topic5\", \"Topic5\", \"Topic5\", \"Topic5\", \"Topic5\", \"Topic5\", \"Topic5\", \"Topic5\", \"Topic5\", \"Topic5\"], \"logprob\": [30.0, 29.0, 28.0, 27.0, 26.0, 25.0, 24.0, 23.0, 22.0, 21.0, 20.0, 19.0, 18.0, 17.0, 16.0, 15.0, 14.0, 13.0, 12.0, 11.0, 10.0, 9.0, 8.0, 7.0, 6.0, 5.0, 4.0, 3.0, 2.0, 1.0, -3.8692, -4.6769, -5.2069, -5.3229, -5.3271, -5.3817, -5.4167, -5.4371, -5.4475, -5.6219, -5.6517, -5.6347, -5.7277, -5.7548, -5.1995, -5.907, -5.927, -5.9147, -5.9338, -5.9421, -5.9535, -5.9606, -5.9394, -5.9846, -5.9933, -6.002, -5.9962, -6.0175, -6.0401, -6.0515, -5.3769, -5.6237, -2.6912, -5.1039, -3.7095, -5.3972, -4.5213, -3.713, -3.0602, -3.5161, -4.6476, -5.1225, -3.8433, -3.5104, -4.5663, -3.963, -4.965, -4.8307, -4.9017, -4.8967, -5.0733, -4.2785, -4.9248, -5.0239, -5.0712, -4.838, -5.1529, -5.2408, -5.2552, -4.344, -4.6309, -4.7328, -4.9014, -4.918, -4.9801, -5.135, -5.2122, -5.061, -5.2412, -5.2592, -5.2072, -5.2741, -5.2974, -5.3119, -5.3209, -5.3468, -5.362, -5.4402, -5.4588, -5.4587, -5.4749, -5.4996, -5.5016, -5.5256, -5.559, -5.5655, -5.5661, -5.5662, -5.5663, -4.9287, -4.0115, -5.3098, -5.5517, -4.1094, -3.4773, -3.2745, -4.2416, -4.0559, -4.9912, -5.1222, -4.7246, -3.9668, -4.1104, -4.4756, -4.7823, -5.1078, -5.1136, -5.0979, -5.1821, -4.2438, -4.4707, -4.5758, -4.6008, -4.6059, -4.6184, -4.6184, -4.6267, -4.8125, -4.5798, -4.8936, -4.9024, -4.9302, -4.9798, -5.1026, -5.1445, -4.7598, -5.2304, -5.2272, -5.2186, -5.2995, -5.2899, -5.3462, -5.3618, -5.3765, -5.2949, -5.414, -5.4074, -5.4599, -5.4774, -3.8873, -4.5149, -4.7362, -4.4774, -3.8112, -4.5269, -3.398, -4.1638, -4.261, -4.414, -3.1246, -4.1304, -4.3649, -4.4742, -3.9542, -3.6147, -4.4547, -3.9817, -4.2407, -4.2345, -4.7071, -3.9419, -4.1936, -4.4571, -4.5508, -4.5597, -4.6475, -4.7578, -4.7812, -4.8106, -4.789, -4.8892, -4.892, -4.9137, -4.9363, -4.9278, -5.1148, -5.1452, -5.222, -5.2644, -5.2674, -5.3112, -5.3422, -5.3373, -5.2938, -5.3332, -5.3642, -5.3726, -5.3766, -5.378, -5.3908, -5.0749, -4.645, -4.0867, -5.1802, -5.2218, -4.4323, -4.0313, -4.3602, -3.2933, -3.8725, -4.606, -3.986, -4.5898, -4.3325, -4.3061, -4.754, -4.7672, -4.9196, -4.7687, -4.8772, -3.7293, -3.9507, -4.28, -4.3833, -4.3957, -4.4287, -4.7286, -4.8063, -4.7786, -4.9043, -4.9103, -4.978, -5.1361, -5.231, -5.2538, -5.3201, -5.3191, -5.3303, -5.3404, -5.3451, -5.356, -5.3234, -5.3613, -5.3693, -5.3661, -5.3803, -5.4061, -5.4206, -5.423, -5.4348, -4.7753, -3.3983, -4.0232, -5.027, -3.9521, -3.0655, -4.0601, -4.4107, -4.6845, -4.4564, -4.414, -4.7114, -4.5828, -4.9479, -4.8963], \"loglift\": [30.0, 29.0, 28.0, 27.0, 26.0, 25.0, 24.0, 23.0, 22.0, 21.0, 20.0, 19.0, 18.0, 17.0, 16.0, 15.0, 14.0, 13.0, 12.0, 11.0, 10.0, 9.0, 8.0, 7.0, 6.0, 5.0, 4.0, 3.0, 2.0, 1.0, 0.9071, 0.9068, 0.9064, 0.9063, 0.9063, 0.9062, 0.9061, 0.9061, 0.9061, 0.9059, 0.9058, 0.9058, 0.9057, 0.9056, 0.9055, 0.9054, 0.9054, 0.9054, 0.9053, 0.9053, 0.9053, 0.9053, 0.9053, 0.9052, 0.9052, 0.9052, 0.9052, 0.9052, 0.9051, 0.9051, 0.8895, 0.8951, 0.5525, 0.8053, 0.6158, 0.8238, 0.6791, 0.4915, 0.3293, 0.3868, 0.6248, 0.6934, 0.3115, 0.2079, 0.5192, 0.2481, 0.6063, 0.4937, 0.518, 0.509, 0.5954, -0.0596, 0.0681, 0.1401, 0.1918, -0.5338, 0.1802, 0.3982, -0.1508, 1.6821, 1.6818, 1.6816, 1.6815, 1.6814, 1.6813, 1.681, 1.6809, 1.6809, 1.6808, 1.6808, 1.6807, 1.6807, 1.6807, 1.6806, 1.6806, 1.6806, 1.6805, 1.6803, 1.6803, 1.6803, 1.6802, 1.6802, 1.6801, 1.6801, 1.68, 1.68, 1.68, 1.68, 1.68, 1.679, 1.613, 1.6655, 1.6758, 1.183, 0.7417, 0.4438, 0.9224, 0.2483, 1.1107, 1.2045, 0.5997, -0.5773, -0.8667, -0.2644, -0.5778, 0.0925, -0.1207, -0.7726, -1.0272, 1.7702, 1.7699, 1.7698, 1.7698, 1.7698, 1.7698, 1.7698, 1.7697, 1.7695, 1.7694, 1.7694, 1.7693, 1.7693, 1.7692, 1.7689, 1.7688, 1.7688, 1.7687, 1.7686, 1.7685, 1.7684, 1.7684, 1.7683, 1.7683, 1.7682, 1.7682, 1.7682, 1.7682, 1.768, 1.768, 1.7449, 1.7533, 1.712, 1.6036, 1.437, 1.4271, 0.9062, 1.0992, 1.1279, 1.181, 0.1191, 0.8625, 0.9682, 0.9418, 0.2648, -0.2252, 0.8377, -0.2634, -0.0859, -0.3316, -0.3818, 1.7976, 1.7973, 1.7971, 1.797, 1.797, 1.7969, 1.7968, 1.7967, 1.7967, 1.7966, 1.7966, 1.7966, 1.7965, 1.7965, 1.7965, 1.7961, 1.796, 1.7958, 1.7958, 1.7957, 1.7956, 1.7956, 1.7956, 1.7956, 1.7955, 1.7955, 1.7955, 1.7955, 1.7955, 1.7954, 1.7935, 1.7594, 1.707, 1.7779, 1.7744, 1.6325, 1.0732, 1.1696, 0.0962, 0.2824, 0.9891, 0.2252, 0.4957, -0.128, -0.4032, 0.6656, 0.6386, 0.8078, -0.4645, 0.3952, 2.5905, 2.5903, 2.5898, 2.5895, 2.5894, 2.5894, 2.5886, 2.5885, 2.5885, 2.5881, 2.5881, 2.5879, 2.5871, 2.5868, 2.5867, 2.5864, 2.5863, 2.5863, 2.5863, 2.5863, 2.5862, 2.5862, 2.5862, 2.5861, 2.5861, 2.586, 2.5859, 2.5858, 2.5858, 2.5857, 2.5258, 2.0176, 2.1863, 2.4721, 1.7753, 0.8374, 1.3289, 1.632, 1.6333, -0.2519, -0.6957, -0.3861, -1.3391, -0.7368, -1.5069]}, \"token.table\": {\"Topic\": [3, 3, 1, 2, 3, 4, 5, 1, 3, 5, 2, 1, 4, 5, 5, 2, 2, 3, 5, 3, 4, 1, 2, 3, 5, 1, 2, 3, 4, 1, 3, 1, 2, 3, 1, 1, 1, 4, 3, 1, 4, 1, 2, 5, 3, 4, 1, 2, 1, 1, 2, 3, 4, 5, 1, 3, 4, 5, 4, 1, 3, 1, 2, 3, 4, 3, 4, 2, 1, 1, 3, 2, 5, 1, 5, 4, 4, 5, 2, 1, 5, 3, 4, 3, 2, 3, 1, 3, 3, 1, 4, 3, 1, 2, 4, 2, 1, 3, 4, 3, 4, 1, 3, 4, 5, 5, 5, 4, 5, 3, 2, 4, 2, 1, 1, 3, 4, 2, 1, 2, 3, 5, 3, 4, 3, 5, 5, 5, 1, 2, 3, 4, 5, 3, 4, 2, 2, 1, 4, 1, 4, 4, 4, 2, 3, 3, 5, 5, 5, 5, 4, 2, 1, 4, 1, 5, 3, 5, 2, 1, 2, 4, 2, 3, 4, 3, 4, 1, 1, 1, 3, 4, 1, 3, 4, 5, 3, 5, 1, 2, 3, 4, 1, 2, 3, 1, 4, 2, 2, 5, 1, 2, 2, 3, 2, 4, 5, 4, 5, 4, 5, 3, 3, 3, 4, 1, 3, 4, 2, 4, 2, 3, 4, 3, 5, 2, 1, 1, 3, 3, 1, 1, 1, 2, 3, 4, 5, 3, 4, 2, 3, 5, 3, 1, 2, 4, 1, 2, 3, 4, 1, 2, 3, 4, 5, 1, 1, 3, 1, 1, 2, 4, 4, 2, 1, 4, 1, 2, 3, 4, 5, 4, 5, 5, 5, 4, 2, 4, 1, 2, 2, 5, 1, 2, 3, 2, 5, 4, 2, 3, 3, 5, 1, 2, 1, 2, 4, 3, 1, 3, 4, 5, 5, 1, 4, 1, 2, 5, 1, 2, 1, 2, 4, 1, 2, 4, 5, 4, 5], \"Freq\": [0.9989244231842656, 0.9980998802747526, 0.6597919092076074, 0.10433019940618098, 0.03203967543492286, 0.1457080717015336, 0.05828322868061345, 0.7402366808551343, 0.2595881193101196, 0.9950925530520404, 0.9957593964894145, 0.9990740717142851, 0.9988868816851066, 0.9946061751067414, 0.9979430456473912, 0.9972610729722456, 0.19105578187449937, 0.5257981435058536, 0.28263623930194537, 0.5542718904304823, 0.44496973234092396, 0.7470458697821719, 0.08575040139522985, 0.11609005612616922, 0.05086888218361093, 0.8074000841178084, 0.19196925076926913, 0.9426836921603351, 0.05616633914642898, 0.48907022894803215, 0.5108788634457148, 0.3791090669005112, 0.6197492192948074, 0.9990563177851118, 0.9976854954384998, 0.9985852715231406, 0.01769285757595498, 0.9806898199243618, 0.9958413351165805, 0.987094469793517, 0.011402081334248545, 0.4643847275520281, 0.4673265312559776, 0.06808174286283127, 0.9966093311252795, 0.996630393925772, 0.9984510377478346, 0.9979749276880845, 0.9973663210624695, 0.551067153856541, 0.06648961489400577, 0.15611271331104123, 0.21953829065232783, 0.006587680738346195, 0.4832441377307717, 0.447909087495051, 0.02587919172193628, 0.042302524930088146, 0.9971361269672591, 0.2907816312666257, 0.7093590113064819, 0.13122233951399034, 0.12070626352506429, 0.7160076086373132, 0.03200544866194886, 0.037776857807053976, 0.9618569180103743, 0.9960856856678761, 0.9968701149039145, 0.998091737687445, 0.9974130449605023, 0.9978980980691793, 0.9993745798637982, 0.9977554262298125, 0.9973357400266329, 0.998677620922601, 0.10854415581046709, 0.8857203114134115, 0.9971011882522423, 0.9973817050070912, 0.9954941548198943, 0.9977442337749185, 0.9982337085870128, 0.9991320178542393, 0.9975135323487049, 0.9987060621404334, 0.9996848169269914, 0.9981967161401627, 0.9967127253384974, 0.9968679943884844, 0.9987665531494272, 0.9964092947761369, 0.9994828093110157, 0.9952724772140545, 0.0035609033174026994, 0.9978240147014532, 0.9983434363867073, 0.0010769616358001157, 0.9979133943537937, 0.002310560560345424, 0.9958516015088776, 0.7317061242114387, 0.26734077230941244, 0.6155947267769506, 0.3837473621466705, 0.995333546700438, 0.9967260749472749, 0.3323941461329307, 0.6671796170581847, 0.9961148702303945, 0.9976417772247961, 0.9981911424635547, 0.997791788267209, 0.9974057801024364, 0.9980514614963569, 0.9992087903613257, 0.9987135388244314, 0.999238790222145, 0.38028192562195845, 0.3900830061792254, 0.22166777193685466, 0.007840864445813576, 0.021005799230196166, 0.9767696642041218, 0.9992086961906382, 0.9971882219911102, 0.9962170207156874, 0.9940971864056013, 0.5171872540954301, 0.14262763509996193, 0.09692196112474685, 0.20745837832721736, 0.035818985633058624, 0.9739624967791488, 0.025506943402899832, 0.9976305852264208, 0.9983914582742665, 0.4665181933553308, 0.5331636495489495, 0.6772938358077603, 0.3223658160815782, 0.9978247578994476, 0.9970067551070032, 0.9971234439625746, 0.9985047457478418, 0.9986863858417441, 0.9972917961267718, 0.9968627869272682, 0.9974923587051454, 0.9940280768939389, 0.9968888036737564, 0.9976464151956984, 0.7536903330801736, 0.24592133304356192, 0.6162903593447542, 0.3835370216611853, 0.4363587385837217, 0.5634272684067385, 0.9967549771349992, 0.9985013885302202, 0.996907783636112, 0.9967149212029904, 0.9822212949638753, 0.015427559606762441, 0.9971827175346327, 0.998991465259885, 0.9983102901515981, 0.9978234620374264, 0.9985645497904456, 0.6711653980197589, 0.014986149238080743, 0.3136386947684041, 0.5942116333713117, 0.12217658032845007, 0.11062577302644261, 0.17302394855481282, 0.9966363569180847, 0.9948665489208854, 0.236582832696215, 0.23818376915806908, 0.42104628946762473, 0.10406087002051562, 0.998547658145464, 0.9977172923460655, 0.9982431461920026, 0.9983312006744216, 0.999110459052077, 0.99787765253352, 0.9968504100809502, 0.9986718952235876, 0.6611438263727272, 0.33846616782962, 0.5636594084463481, 0.43482297223003996, 0.9976296021386576, 0.995648873512238, 0.9978940075143592, 0.9980098986631649, 0.9972359328330739, 0.9978507820492033, 0.9975875781720481, 0.9986059952295118, 0.9980356456057768, 0.9973152710701622, 0.9982634388861239, 0.1040949481103378, 0.8453771543506221, 0.04941881374935229, 0.992708685111625, 0.0033090289503720834, 0.9979295759348193, 0.9969372908094443, 0.001645111040939677, 0.9960279617782893, 0.9971972926722134, 0.9986497713370098, 0.9988925166371763, 0.9985357240741953, 0.996152674296593, 0.9971945037829876, 0.9990900815418747, 0.9990160515364079, 0.5609309743532157, 0.10433273363652748, 0.13583209720711842, 0.18229722175016208, 0.016604868126578486, 0.9974418268256263, 0.9991499918313881, 0.016482933035299, 0.982636392488979, 0.9975051000263947, 0.9966179635891482, 0.9978132752694027, 0.9980081131758561, 0.9983717875713957, 0.34727940733178997, 0.12117160620698715, 0.04712229130271722, 0.4842904391867493, 0.701292247211556, 0.07810615454231472, 0.19169270736252636, 0.009362882878889462, 0.01964973446293249, 0.998672214102278, 0.6008035678248264, 0.39873352645292187, 0.9978823320369629, 0.6784156476618268, 0.049734938660202656, 0.27198794579798324, 0.9965209273071421, 0.9973150600503854, 0.1520798270608776, 0.8473018936248895, 0.49683383399357306, 0.2896052141154247, 0.13079264541759864, 0.045445741291958955, 0.03732689426376585, 0.9981501850531306, 0.9978308096292265, 0.9924820952669157, 0.993560504364306, 0.9990507457344082, 0.9972147558344882, 0.9964069837498891, 0.9031552802996601, 0.09651365250261074, 0.9964825147552399, 0.998455638520796, 0.4321260694666489, 0.16470378877212438, 0.40308153037134953, 0.998161502964219, 0.9956633752431433, 0.9992930444640223, 0.6063531257147172, 0.39324556537684185, 0.06055207697598631, 0.9367762496873175, 0.9991340050890449, 0.9965696081703009, 0.06727552245403211, 0.9325319944123261, 0.9981252815378714, 0.9986833471285307, 0.17202232996476466, 0.01476586523302701, 0.37136151061062933, 0.44223766372915896, 0.9920386591161783, 0.9192001437138185, 0.0798252756383053, 0.998986884849773, 0.9967618001830035, 0.9917915747830216, 0.7958474407431209, 0.20397404286296855, 0.9821494208810849, 0.01645353411269859, 0.9981598600955482, 0.9982661943566501, 0.08204175200507048, 0.9127144910564091, 0.0047331780002925275, 0.9982924333910488, 0.9950413640733667], \"Term\": [\"3\", \"4th\", \"a\", \"a\", \"a\", \"a\", \"a\", \"about\", \"about\", \"abo\\u2026\", \"abs\\u2026\", \"after\", \"again\", \"agne\", \"ago\", \"airstrike\", \"amp\", \"amp\", \"amp\", \"an\", \"an\", \"and\", \"and\", \"and\", \"and\", \"are\", \"are\", \"army\", \"army\", \"as\", \"as\", \"at\", \"at\", \"august\", \"authorities\", \"based\", \"because\", \"because\", \"between\", \"but\", \"but\", \"by\", \"by\", \"by\", \"called\", \"can\", \"ccp\", \"cheating\\u2026\", \"check\", \"china\", \"china\", \"china\", \"china\", \"china\", \"chinas\", \"chinas\", \"chinas\", \"chinas\", \"chinataiwan\", \"chinataiwancrisis\", \"chinataiwancrisis\", \"chinese\", \"chinese\", \"chinese\", \"chinese\", \"country\", \"country\", \"cries\", \"crisis\", \"david\", \"day\", \"dead\", \"delegation\", \"democratic\", \"deputy\", \"desire\", \"development\", \"development\", \"did\", \"do\", \"dont\", \"drones\", \"d\\u2026\", \"entered\", \"father\", \"fired\\u2026\", \"for\", \"forces\", \"foreign\", \"forget\", \"found\", \"friday\", \"from\", \"gaza\", \"gaza\", \"gazaunderattack\", \"good\", \"good\", \"government\", \"had\", \"had\", \"have\", \"have\", \"head\", \"head\", \"heart\", \"heartiest\", \"her\", \"her\", \"high\", \"his\", \"hotel\", \"house\", \"how\", \"httpstcogsuomjseuf\", \"httpstcostzrr9fhu5\", \"httpstcou9m\\u2026\", \"i\", \"in\", \"in\", \"in\", \"in\", \"independent\", \"independent\", \"infographic\", \"interesting\", \"international\", \"invasion\", \"is\", \"is\", \"is\", \"is\", \"is\", \"island\", \"island\", \"islands\", \"israeli\", \"it\", \"it\", \"its\", \"its\", \"it\\u2019s\", \"i\\u2019m\", \"japan\", \"kinmen\", \"launches\", \"lead\", \"lithuania\", \"lithuanian\", \"lithuanias\\ud83c\\uddf1\\ud83c\\uddf9\", \"low\", \"maybe\", \"military\", \"military\", \"minister\", \"minister\", \"missile\", \"missile\", \"missiles\", \"more\", \"murdered\", \"must\", \"nancy\", \"nancy\", \"nancypelosi\", \"near\", \"new\", \"nicaragua\", \"no\", \"not\", \"not\", \"not\", \"of\", \"of\", \"of\", \"of\", \"official\", \"officials\", \"on\", \"on\", \"on\", \"on\", \"or\", \"our\", \"out\", \"over\", \"own\", \"pain\", \"palestinian\", \"part\", \"pelosi\", \"pelosi\", \"pelosis\", \"pelosis\", \"people\", \"peoples\", \"production\", \"programme\", \"quick\", \"record\", \"research\", \"respond\", \"responsible\", \"restricted\", \"rise\", \"said\", \"said\", \"said\", \"set\", \"set\", \"she\", \"should\", \"should\", \"showing\", \"some\", \"speaker\", \"speakerpelosi\", \"speech\", \"statedept\", \"stopped\", \"strait\", \"support\", \"taiwan\", \"taiwan\", \"taiwan\", \"taiwan\", \"taiwan\", \"taiwanese\", \"taiwans\", \"taiwan\\u2019s\", \"taiwan\\u2019s\", \"taiwan\\ud83c\\uddf9\\ud83c\\uddfc\", \"talking\", \"tco845qek0lck\", \"teen\", \"tensions\", \"that\", \"that\", \"that\", \"that\", \"the\", \"the\", \"the\", \"the\", \"the\", \"their\", \"they\", \"they\", \"thing\", \"this\", \"this\", \"this\", \"thought\", \"thursday\", \"time\", \"time\", \"to\", \"to\", \"to\", \"to\", \"to\", \"today\", \"to\\u2026\", \"transportation\", \"transp\\u2026\", \"travel\", \"trip\", \"uk\", \"ukraine\", \"ukraine\", \"unless\", \"until\", \"us\", \"us\", \"us\", \"usa\", \"vaiciukeviciute\", \"video\", \"visit\", \"visit\", \"want\", \"want\", \"war\", \"warned\", \"was\", \"was\", \"watch\", \"waters\", \"we\", \"we\", \"we\", \"we\", \"welcomes\", \"what\", \"what\", \"when\", \"why\", \"wish\", \"with\", \"with\", \"world\", \"world\", \"wwiii\", \"xijinping\", \"you\", \"you\", \"you\", \"your\", \"\\u4f69\\u6d1b\\u897f\"]}, \"R\": 30, \"lambda.step\": 0.01, \"plot.opts\": {\"xlab\": \"PC1\", \"ylab\": \"PC2\"}, \"topic.order\": [5, 4, 1, 2, 3]};\n",
       "\n",
       "function LDAvis_load_lib(url, callback){\n",
       "  var s = document.createElement('script');\n",
       "  s.src = url;\n",
       "  s.async = true;\n",
       "  s.onreadystatechange = s.onload = callback;\n",
       "  s.onerror = function(){console.warn(\"failed to load library \" + url);};\n",
       "  document.getElementsByTagName(\"head\")[0].appendChild(s);\n",
       "}\n",
       "\n",
       "if(typeof(LDAvis) !== \"undefined\"){\n",
       "   // already loaded: just create the visualization\n",
       "   !function(LDAvis){\n",
       "       new LDAvis(\"#\" + \"ldavis_el7481421396604368167202646277038\", ldavis_el7481421396604368167202646277038_data);\n",
       "   }(LDAvis);\n",
       "}else if(typeof define === \"function\" && define.amd){\n",
       "   // require.js is available: use it to load d3/LDAvis\n",
       "   require.config({paths: {d3: \"https://d3js.org/d3.v5\"}});\n",
       "   require([\"d3\"], function(d3){\n",
       "      window.d3 = d3;\n",
       "      LDAvis_load_lib(\"https://cdn.jsdelivr.net/gh/bmabey/pyLDAvis@3.3.1/pyLDAvis/js/ldavis.v3.0.0.js\", function(){\n",
       "        new LDAvis(\"#\" + \"ldavis_el7481421396604368167202646277038\", ldavis_el7481421396604368167202646277038_data);\n",
       "      });\n",
       "    });\n",
       "}else{\n",
       "    // require.js not available: dynamically load d3 & LDAvis\n",
       "    LDAvis_load_lib(\"https://d3js.org/d3.v5.js\", function(){\n",
       "         LDAvis_load_lib(\"https://cdn.jsdelivr.net/gh/bmabey/pyLDAvis@3.3.1/pyLDAvis/js/ldavis.v3.0.0.js\", function(){\n",
       "                 new LDAvis(\"#\" + \"ldavis_el7481421396604368167202646277038\", ldavis_el7481421396604368167202646277038_data);\n",
       "            })\n",
       "         });\n",
       "}\n",
       "</script>"
      ],
      "text/plain": [
       "PreparedData(topic_coordinates=              x         y  topics  cluster       Freq\n",
       "topic                                                \n",
       "4     -0.045042 -0.134748       1        1  40.358285\n",
       "3     -0.221424  0.044663       2        1  18.579610\n",
       "0     -0.115318 -0.057490       3        1  17.014744\n",
       "1      0.265190 -0.134701       4        1  16.557708\n",
       "2      0.116594  0.282276       5        1   7.489652, topic_info=        Term          Freq         Total Category  logprob  loglift\n",
       "8         of   8397.000000   8397.000000  Default  30.0000  30.0000\n",
       "174  missile   1849.000000   1849.000000  Default  29.0000  29.0000\n",
       "22       for   3506.000000   3506.000000  Default  28.0000  28.0000\n",
       "13       the  16234.000000  16234.000000  Default  27.0000  27.0000\n",
       "5         in   6121.000000   6121.000000  Default  26.0000  26.0000\n",
       "..       ...           ...           ...      ...      ...      ...\n",
       "50        to    377.247460  10099.956276   Topic5  -4.4140  -0.6957\n",
       "113      and    280.198728   5504.347412   Topic5  -4.7114  -0.3861\n",
       "13       the    318.648484  16234.316072   Topic5  -4.5828  -1.3391\n",
       "117       is    221.192379   6169.912299   Topic5  -4.9479  -0.7368\n",
       "30    taiwan    232.895519  14032.029536   Topic5  -4.8963  -1.5069\n",
       "\n",
       "[285 rows x 6 columns], token_table=      Topic      Freq  Term\n",
       "term                       \n",
       "274       3  0.998924     3\n",
       "167       3  0.998100   4th\n",
       "54        1  0.659792     a\n",
       "54        2  0.104330     a\n",
       "54        3  0.032040     a\n",
       "...     ...       ...   ...\n",
       "76        2  0.082042   you\n",
       "76        4  0.912714   you\n",
       "76        5  0.004733   you\n",
       "541       4  0.998292  your\n",
       "1230      5  0.995041   佩洛西\n",
       "\n",
       "[309 rows x 3 columns], R=30, lambda_step=0.01, plot_opts={'xlab': 'PC1', 'ylab': 'PC2'}, topic_order=[5, 4, 1, 2, 3])"
      ]
     },
     "execution_count": 107,
     "metadata": {},
     "output_type": "execute_result"
    }
   ],
   "source": [
    "import pyLDAvis.gensim_models as gensimvis\n",
    "import pickle \n",
    "import pyLDAvis\n",
    "# Visualize the topics\n",
    "pyLDAvis.enable_notebook()\n",
    "\n",
    "LDAvis_prepared = gensimvis.prepare(lda_model, corpus, id2word)\n",
    "LDAvis_prepared"
   ]
  },
  {
   "cell_type": "code",
   "execution_count": null,
   "id": "25c4d528",
   "metadata": {},
   "outputs": [],
   "source": []
  }
 ],
 "metadata": {
  "kernelspec": {
   "display_name": "Python 3 (ipykernel)",
   "language": "python",
   "name": "python3"
  },
  "language_info": {
   "codemirror_mode": {
    "name": "ipython",
    "version": 3
   },
   "file_extension": ".py",
   "mimetype": "text/x-python",
   "name": "python",
   "nbconvert_exporter": "python",
   "pygments_lexer": "ipython3",
   "version": "3.9.12"
  }
 },
 "nbformat": 4,
 "nbformat_minor": 5
}
