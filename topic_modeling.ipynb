{
 "cells": [
  {
   "cell_type": "code",
   "execution_count": 2,
   "id": "c39a30d1",
   "metadata": {},
   "outputs": [
    {
     "name": "stdout",
     "output_type": "stream",
     "text": [
      "Requirement already satisfied: pyLDAvis in /home/nhgirma/anaconda3/lib/python3.9/site-packages (3.3.1)\n",
      "Requirement already satisfied: sklearn in /home/nhgirma/anaconda3/lib/python3.9/site-packages (from pyLDAvis) (0.0)\n",
      "Requirement already satisfied: gensim in /home/nhgirma/anaconda3/lib/python3.9/site-packages (from pyLDAvis) (4.1.2)\n",
      "Requirement already satisfied: future in /home/nhgirma/anaconda3/lib/python3.9/site-packages (from pyLDAvis) (0.18.2)\n",
      "Requirement already satisfied: joblib in /home/nhgirma/anaconda3/lib/python3.9/site-packages (from pyLDAvis) (1.1.0)\n",
      "Requirement already satisfied: numpy>=1.20.0 in /home/nhgirma/anaconda3/lib/python3.9/site-packages (from pyLDAvis) (1.21.5)\n",
      "Requirement already satisfied: numexpr in /home/nhgirma/anaconda3/lib/python3.9/site-packages (from pyLDAvis) (2.8.1)\n",
      "Requirement already satisfied: setuptools in /home/nhgirma/anaconda3/lib/python3.9/site-packages (from pyLDAvis) (61.2.0)\n",
      "Requirement already satisfied: pandas>=1.2.0 in /home/nhgirma/anaconda3/lib/python3.9/site-packages (from pyLDAvis) (1.4.2)\n",
      "Requirement already satisfied: scikit-learn in /home/nhgirma/anaconda3/lib/python3.9/site-packages (from pyLDAvis) (1.0.2)\n",
      "Requirement already satisfied: funcy in /home/nhgirma/anaconda3/lib/python3.9/site-packages (from pyLDAvis) (1.17)\n",
      "Requirement already satisfied: scipy in /home/nhgirma/anaconda3/lib/python3.9/site-packages (from pyLDAvis) (1.7.3)\n",
      "Requirement already satisfied: jinja2 in /home/nhgirma/anaconda3/lib/python3.9/site-packages (from pyLDAvis) (2.11.3)\n",
      "Requirement already satisfied: python-dateutil>=2.8.1 in /home/nhgirma/anaconda3/lib/python3.9/site-packages (from pandas>=1.2.0->pyLDAvis) (2.8.2)\n",
      "Requirement already satisfied: pytz>=2020.1 in /home/nhgirma/anaconda3/lib/python3.9/site-packages (from pandas>=1.2.0->pyLDAvis) (2021.3)\n",
      "Requirement already satisfied: six>=1.5 in /home/nhgirma/anaconda3/lib/python3.9/site-packages (from python-dateutil>=2.8.1->pandas>=1.2.0->pyLDAvis) (1.16.0)\n",
      "Requirement already satisfied: smart-open>=1.8.1 in /home/nhgirma/anaconda3/lib/python3.9/site-packages (from gensim->pyLDAvis) (5.2.1)\n",
      "Requirement already satisfied: MarkupSafe>=0.23 in /home/nhgirma/anaconda3/lib/python3.9/site-packages (from jinja2->pyLDAvis) (2.0.1)\n",
      "Requirement already satisfied: packaging in /home/nhgirma/anaconda3/lib/python3.9/site-packages (from numexpr->pyLDAvis) (21.3)\n",
      "Requirement already satisfied: pyparsing!=3.0.5,>=2.0.2 in /home/nhgirma/anaconda3/lib/python3.9/site-packages (from packaging->numexpr->pyLDAvis) (3.0.4)\n",
      "Requirement already satisfied: threadpoolctl>=2.0.0 in /home/nhgirma/anaconda3/lib/python3.9/site-packages (from scikit-learn->pyLDAvis) (2.2.0)\n",
      "Requirement already satisfied: spacy in /home/nhgirma/anaconda3/lib/python3.9/site-packages (3.4.1)\n",
      "Requirement already satisfied: pydantic!=1.8,!=1.8.1,<1.10.0,>=1.7.4 in /home/nhgirma/anaconda3/lib/python3.9/site-packages (from spacy) (1.9.2)\n",
      "Requirement already satisfied: spacy-legacy<3.1.0,>=3.0.9 in /home/nhgirma/anaconda3/lib/python3.9/site-packages (from spacy) (3.0.9)\n",
      "Requirement already satisfied: spacy-loggers<2.0.0,>=1.0.0 in /home/nhgirma/anaconda3/lib/python3.9/site-packages (from spacy) (1.0.3)\n",
      "Requirement already satisfied: srsly<3.0.0,>=2.4.3 in /home/nhgirma/anaconda3/lib/python3.9/site-packages (from spacy) (2.4.4)\n",
      "Requirement already satisfied: requests<3.0.0,>=2.13.0 in /home/nhgirma/anaconda3/lib/python3.9/site-packages (from spacy) (2.27.1)\n",
      "Requirement already satisfied: setuptools in /home/nhgirma/anaconda3/lib/python3.9/site-packages (from spacy) (61.2.0)\n",
      "Requirement already satisfied: wasabi<1.1.0,>=0.9.1 in /home/nhgirma/anaconda3/lib/python3.9/site-packages (from spacy) (0.10.1)\n",
      "Requirement already satisfied: packaging>=20.0 in /home/nhgirma/anaconda3/lib/python3.9/site-packages (from spacy) (21.3)\n",
      "Requirement already satisfied: cymem<2.1.0,>=2.0.2 in /home/nhgirma/anaconda3/lib/python3.9/site-packages (from spacy) (2.0.6)\n",
      "Requirement already satisfied: murmurhash<1.1.0,>=0.28.0 in /home/nhgirma/anaconda3/lib/python3.9/site-packages (from spacy) (1.0.7)\n",
      "Requirement already satisfied: jinja2 in /home/nhgirma/anaconda3/lib/python3.9/site-packages (from spacy) (2.11.3)\n",
      "Requirement already satisfied: langcodes<4.0.0,>=3.2.0 in /home/nhgirma/anaconda3/lib/python3.9/site-packages (from spacy) (3.3.0)\n",
      "Requirement already satisfied: thinc<8.2.0,>=8.1.0 in /home/nhgirma/anaconda3/lib/python3.9/site-packages (from spacy) (8.1.0)\n",
      "Requirement already satisfied: tqdm<5.0.0,>=4.38.0 in /home/nhgirma/anaconda3/lib/python3.9/site-packages (from spacy) (4.64.0)\n",
      "Requirement already satisfied: pathy>=0.3.5 in /home/nhgirma/anaconda3/lib/python3.9/site-packages (from spacy) (0.6.2)\n",
      "Requirement already satisfied: catalogue<2.1.0,>=2.0.6 in /home/nhgirma/anaconda3/lib/python3.9/site-packages (from spacy) (2.0.8)\n",
      "Requirement already satisfied: preshed<3.1.0,>=3.0.2 in /home/nhgirma/anaconda3/lib/python3.9/site-packages (from spacy) (3.0.6)\n",
      "Requirement already satisfied: typer<0.5.0,>=0.3.0 in /home/nhgirma/anaconda3/lib/python3.9/site-packages (from spacy) (0.4.2)\n",
      "Requirement already satisfied: numpy>=1.15.0 in /home/nhgirma/anaconda3/lib/python3.9/site-packages (from spacy) (1.21.5)\n",
      "Requirement already satisfied: pyparsing!=3.0.5,>=2.0.2 in /home/nhgirma/anaconda3/lib/python3.9/site-packages (from packaging>=20.0->spacy) (3.0.4)\n",
      "Requirement already satisfied: smart-open<6.0.0,>=5.2.1 in /home/nhgirma/anaconda3/lib/python3.9/site-packages (from pathy>=0.3.5->spacy) (5.2.1)\n",
      "Requirement already satisfied: typing-extensions>=3.7.4.3 in /home/nhgirma/anaconda3/lib/python3.9/site-packages (from pydantic!=1.8,!=1.8.1,<1.10.0,>=1.7.4->spacy) (4.1.1)\n",
      "Requirement already satisfied: charset-normalizer~=2.0.0 in /home/nhgirma/anaconda3/lib/python3.9/site-packages (from requests<3.0.0,>=2.13.0->spacy) (2.0.4)\n",
      "Requirement already satisfied: urllib3<1.27,>=1.21.1 in /home/nhgirma/anaconda3/lib/python3.9/site-packages (from requests<3.0.0,>=2.13.0->spacy) (1.26.9)\n",
      "Requirement already satisfied: certifi>=2017.4.17 in /home/nhgirma/anaconda3/lib/python3.9/site-packages (from requests<3.0.0,>=2.13.0->spacy) (2021.10.8)\n",
      "Requirement already satisfied: idna<4,>=2.5 in /home/nhgirma/anaconda3/lib/python3.9/site-packages (from requests<3.0.0,>=2.13.0->spacy) (3.3)\n",
      "Requirement already satisfied: blis<0.8.0,>=0.7.8 in /home/nhgirma/anaconda3/lib/python3.9/site-packages (from thinc<8.2.0,>=8.1.0->spacy) (0.7.8)\n",
      "Requirement already satisfied: click<9.0.0,>=7.1.1 in /home/nhgirma/anaconda3/lib/python3.9/site-packages (from typer<0.5.0,>=0.3.0->spacy) (8.0.4)\n",
      "Requirement already satisfied: MarkupSafe>=0.23 in /home/nhgirma/anaconda3/lib/python3.9/site-packages (from jinja2->spacy) (2.0.1)\n"
     ]
    }
   ],
   "source": [
    "!pip install pyLDAvis \n",
    "!pip install spacy"
   ]
  },
  {
   "cell_type": "code",
   "execution_count": 3,
   "id": "1e6ccd25",
   "metadata": {},
   "outputs": [
    {
     "name": "stderr",
     "output_type": "stream",
     "text": [
      "[nltk_data] Downloading package stopwords to\n",
      "[nltk_data]     /home/nhgirma/nltk_data...\n",
      "[nltk_data]   Package stopwords is already up-to-date!\n",
      "[nltk_data] Downloading package punkt to /home/nhgirma/nltk_data...\n",
      "[nltk_data]   Package punkt is already up-to-date!\n",
      "[nltk_data] Downloading package averaged_perceptron_tagger to\n",
      "[nltk_data]     /home/nhgirma/nltk_data...\n",
      "[nltk_data]   Package averaged_perceptron_tagger is already up-to-\n",
      "[nltk_data]       date!\n",
      "[nltk_data] Downloading package wordnet to /home/nhgirma/nltk_data...\n",
      "[nltk_data]   Package wordnet is already up-to-date!\n",
      "[nltk_data] Downloading package omw-1.4 to /home/nhgirma/nltk_data...\n",
      "[nltk_data]   Package omw-1.4 is already up-to-date!\n"
     ]
    }
   ],
   "source": [
    "# Importing packages\n",
    "import warnings\n",
    "warnings.filterwarnings('ignore')\n",
    "import matplotlib.pyplot as plt\n",
    "import seaborn as sns\n",
    "import gensim\n",
    "from gensim.models import CoherenceModel\n",
    "from gensim import corpora\n",
    "import pandas as pd\n",
    "from pprint import pprint\n",
    "import string\n",
    "import os\n",
    "import re\n",
    "import nltk\n",
    "import numpy as np\n",
    "import spacy\n",
    "\n",
    "from sklearn.model_selection import train_test_split \n",
    "from sklearn.preprocessing import StandardScaler\n",
    "from sklearn.pipeline import make_pipeline\n",
    "from sklearn.feature_extraction.text import TfidfVectorizer\n",
    "from sklearn.svm import LinearSVC\n",
    "from sklearn.feature_extraction.text import CountVectorizer, TfidfTransformer\n",
    "from joblib import dump, load #  for saving and loading sklearn objects\n",
    "from scipy.sparse import save_npz, load_npz #  for saving and loading sparse matrices\n",
    "from sklearn.decomposition import NMF, LatentDirichletAllocation\n",
    "from PIL import Image\n",
    "\n",
    "nltk.download('stopwords')\n",
    "nltk.download('punkt')\n",
    "nltk.download('averaged_perceptron_tagger')\n",
    "nltk.download('wordnet')\n",
    "nltk.download('omw-1.4')\n",
    "\n",
    "\n",
    "# Natural Language Processing Toolkit\n",
    "from nltk.corpus import stopwords, words # get stopwords from NLTK library & get all words in english language\n",
    "from nltk.tokenize import word_tokenize # to create word tokens\n",
    "# from nltk.stem import PorterStemmer (I played around with Stemmer and decided to use Lemmatizer instead)\n",
    "from nltk.stem import WordNetLemmatizer # to reduce words to orginal form\n",
    "from nltk import pos_tag # For Parts of Speech tagging"
   ]
  },
  {
   "cell_type": "code",
   "execution_count": 4,
   "id": "ee3893f5",
   "metadata": {},
   "outputs": [
    {
     "data": {
      "text/html": [
       "<div>\n",
       "<style scoped>\n",
       "    .dataframe tbody tr th:only-of-type {\n",
       "        vertical-align: middle;\n",
       "    }\n",
       "\n",
       "    .dataframe tbody tr th {\n",
       "        vertical-align: top;\n",
       "    }\n",
       "\n",
       "    .dataframe thead th {\n",
       "        text-align: right;\n",
       "    }\n",
       "</style>\n",
       "<table border=\"1\" class=\"dataframe\">\n",
       "  <thead>\n",
       "    <tr style=\"text-align: right;\">\n",
       "      <th></th>\n",
       "      <th>created_at</th>\n",
       "      <th>statuses_count</th>\n",
       "      <th>source</th>\n",
       "      <th>original_text</th>\n",
       "      <th>clean_text</th>\n",
       "      <th>sentiment</th>\n",
       "      <th>polarity</th>\n",
       "      <th>subjectivity</th>\n",
       "      <th>lang</th>\n",
       "      <th>favorite_count</th>\n",
       "      <th>retweet_count</th>\n",
       "      <th>original_author</th>\n",
       "      <th>screen_count</th>\n",
       "      <th>followers_count</th>\n",
       "      <th>friends_count</th>\n",
       "      <th>possibly_sensitive</th>\n",
       "      <th>hashtags</th>\n",
       "      <th>user_mentions</th>\n",
       "      <th>place</th>\n",
       "      <th>place_coord_boundaries</th>\n",
       "    </tr>\n",
       "  </thead>\n",
       "  <tbody>\n",
       "    <tr>\n",
       "      <th>0</th>\n",
       "      <td>2022-08-07 22:31:20+00:00</td>\n",
       "      <td>8097</td>\n",
       "      <td>&lt;a href=\"http://twitter.com/download/android\" ...</td>\n",
       "      <td>RT @i_ameztoy: Extra random image (I):\\n\\nLets...</td>\n",
       "      <td>\\n\\nLets focus in one very specific zone of th...</td>\n",
       "      <td>-1</td>\n",
       "      <td>0.000000e+00</td>\n",
       "      <td>0.08125</td>\n",
       "      <td>en</td>\n",
       "      <td>15760</td>\n",
       "      <td>2</td>\n",
       "      <td>i_ameztoy</td>\n",
       "      <td>232</td>\n",
       "      <td>20497</td>\n",
       "      <td>2621</td>\n",
       "      <td></td>\n",
       "      <td>City</td>\n",
       "      <td></td>\n",
       "      <td></td>\n",
       "      <td></td>\n",
       "    </tr>\n",
       "    <tr>\n",
       "      <th>1</th>\n",
       "      <td>2022-08-07 22:31:16+00:00</td>\n",
       "      <td>5831</td>\n",
       "      <td>&lt;a href=\"http://twitter.com/download/android\" ...</td>\n",
       "      <td>RT @IndoPac_Info: #China's media explains the ...</td>\n",
       "      <td>#China's media explains the military reasons ...</td>\n",
       "      <td>0</td>\n",
       "      <td>-1.000000e-01</td>\n",
       "      <td>0.10000</td>\n",
       "      <td>en</td>\n",
       "      <td>6967</td>\n",
       "      <td>201</td>\n",
       "      <td>ZIisq</td>\n",
       "      <td>3</td>\n",
       "      <td>65</td>\n",
       "      <td>272</td>\n",
       "      <td></td>\n",
       "      <td>China</td>\n",
       "      <td></td>\n",
       "      <td></td>\n",
       "      <td></td>\n",
       "    </tr>\n",
       "    <tr>\n",
       "      <th>2</th>\n",
       "      <td>2022-08-07 22:31:07+00:00</td>\n",
       "      <td>1627</td>\n",
       "      <td>&lt;a href=\"http://twitter.com/download/android\" ...</td>\n",
       "      <td>China even cut off communication, they don't a...</td>\n",
       "      <td>China even cut off communication, they don't a...</td>\n",
       "      <td>-1</td>\n",
       "      <td>0.000000e+00</td>\n",
       "      <td>0.00000</td>\n",
       "      <td>en</td>\n",
       "      <td>2166</td>\n",
       "      <td>0</td>\n",
       "      <td>Fin21Free</td>\n",
       "      <td>0</td>\n",
       "      <td>85</td>\n",
       "      <td>392</td>\n",
       "      <td></td>\n",
       "      <td>XiJinping</td>\n",
       "      <td></td>\n",
       "      <td>Netherlands</td>\n",
       "      <td></td>\n",
       "    </tr>\n",
       "    <tr>\n",
       "      <th>3</th>\n",
       "      <td>2022-08-07 22:31:06+00:00</td>\n",
       "      <td>1627</td>\n",
       "      <td>&lt;a href=\"http://twitter.com/download/android\" ...</td>\n",
       "      <td>Putin to #XiJinping : I told you my friend, Ta...</td>\n",
       "      <td>Putin to #XiJinping : I told you my friend, Ta...</td>\n",
       "      <td>1</td>\n",
       "      <td>1.000000e-01</td>\n",
       "      <td>0.35000</td>\n",
       "      <td>en</td>\n",
       "      <td>2166</td>\n",
       "      <td>0</td>\n",
       "      <td>Fin21Free</td>\n",
       "      <td>0</td>\n",
       "      <td>85</td>\n",
       "      <td>392</td>\n",
       "      <td></td>\n",
       "      <td>XiJinping</td>\n",
       "      <td></td>\n",
       "      <td>Netherlands</td>\n",
       "      <td></td>\n",
       "    </tr>\n",
       "    <tr>\n",
       "      <th>4</th>\n",
       "      <td>2022-08-07 22:31:04+00:00</td>\n",
       "      <td>18958</td>\n",
       "      <td>&lt;a href=\"http://twitter.com/download/iphone\" r...</td>\n",
       "      <td>RT @ChinaUncensored: I’m sorry, I thought Taiw...</td>\n",
       "      <td>I’m sorry, I thought Taiwan was an independen...</td>\n",
       "      <td>0</td>\n",
       "      <td>-6.938894e-18</td>\n",
       "      <td>0.55625</td>\n",
       "      <td>en</td>\n",
       "      <td>17247</td>\n",
       "      <td>381</td>\n",
       "      <td>VizziniDolores</td>\n",
       "      <td>0</td>\n",
       "      <td>910</td>\n",
       "      <td>2608</td>\n",
       "      <td></td>\n",
       "      <td></td>\n",
       "      <td></td>\n",
       "      <td>Ayent, Schweiz</td>\n",
       "      <td></td>\n",
       "    </tr>\n",
       "  </tbody>\n",
       "</table>\n",
       "</div>"
      ],
      "text/plain": [
       "                  created_at  statuses_count  \\\n",
       "0  2022-08-07 22:31:20+00:00            8097   \n",
       "1  2022-08-07 22:31:16+00:00            5831   \n",
       "2  2022-08-07 22:31:07+00:00            1627   \n",
       "3  2022-08-07 22:31:06+00:00            1627   \n",
       "4  2022-08-07 22:31:04+00:00           18958   \n",
       "\n",
       "                                              source  \\\n",
       "0  <a href=\"http://twitter.com/download/android\" ...   \n",
       "1  <a href=\"http://twitter.com/download/android\" ...   \n",
       "2  <a href=\"http://twitter.com/download/android\" ...   \n",
       "3  <a href=\"http://twitter.com/download/android\" ...   \n",
       "4  <a href=\"http://twitter.com/download/iphone\" r...   \n",
       "\n",
       "                                       original_text  \\\n",
       "0  RT @i_ameztoy: Extra random image (I):\\n\\nLets...   \n",
       "1  RT @IndoPac_Info: #China's media explains the ...   \n",
       "2  China even cut off communication, they don't a...   \n",
       "3  Putin to #XiJinping : I told you my friend, Ta...   \n",
       "4  RT @ChinaUncensored: I’m sorry, I thought Taiw...   \n",
       "\n",
       "                                          clean_text  sentiment      polarity  \\\n",
       "0  \\n\\nLets focus in one very specific zone of th...         -1  0.000000e+00   \n",
       "1   #China's media explains the military reasons ...          0 -1.000000e-01   \n",
       "2  China even cut off communication, they don't a...         -1  0.000000e+00   \n",
       "3  Putin to #XiJinping : I told you my friend, Ta...          1  1.000000e-01   \n",
       "4   I’m sorry, I thought Taiwan was an independen...          0 -6.938894e-18   \n",
       "\n",
       "   subjectivity lang  favorite_count  retweet_count original_author  \\\n",
       "0       0.08125   en           15760              2       i_ameztoy   \n",
       "1       0.10000   en            6967            201           ZIisq   \n",
       "2       0.00000   en            2166              0       Fin21Free   \n",
       "3       0.35000   en            2166              0       Fin21Free   \n",
       "4       0.55625   en           17247            381  VizziniDolores   \n",
       "\n",
       "   screen_count  followers_count  friends_count possibly_sensitive   hashtags  \\\n",
       "0           232            20497           2621                          City   \n",
       "1             3               65            272                         China   \n",
       "2             0               85            392                     XiJinping   \n",
       "3             0               85            392                     XiJinping   \n",
       "4             0              910           2608                                 \n",
       "\n",
       "  user_mentions           place place_coord_boundaries  \n",
       "0                                                       \n",
       "1                                                       \n",
       "2                   Netherlands                         \n",
       "3                   Netherlands                         \n",
       "4                Ayent, Schweiz                         "
      ]
     },
     "execution_count": 4,
     "metadata": {},
     "output_type": "execute_result"
    }
   ],
   "source": [
    "model_df = pd.read_csv('clean_processed_tweet_data.csv')\n",
    "model_df = model_df.fillna(\"\")\n",
    "model_df.head()"
   ]
  },
  {
   "cell_type": "code",
   "execution_count": 5,
   "id": "61824aa8",
   "metadata": {},
   "outputs": [
    {
     "data": {
      "text/plain": [
       "(22000, 20)"
      ]
     },
     "execution_count": 5,
     "metadata": {},
     "output_type": "execute_result"
    }
   ],
   "source": [
    "model_df.shape"
   ]
  },
  {
   "cell_type": "code",
   "execution_count": 6,
   "id": "ff73241f",
   "metadata": {},
   "outputs": [
    {
     "name": "stdout",
     "output_type": "stream",
     "text": [
      "<class 'pandas.core.frame.DataFrame'>\n",
      "RangeIndex: 22000 entries, 0 to 21999\n",
      "Data columns (total 20 columns):\n",
      " #   Column                  Non-Null Count  Dtype  \n",
      "---  ------                  --------------  -----  \n",
      " 0   created_at              22000 non-null  object \n",
      " 1   statuses_count          22000 non-null  int64  \n",
      " 2   source                  22000 non-null  object \n",
      " 3   original_text           22000 non-null  object \n",
      " 4   clean_text              22000 non-null  object \n",
      " 5   sentiment               22000 non-null  int64  \n",
      " 6   polarity                22000 non-null  float64\n",
      " 7   subjectivity            22000 non-null  float64\n",
      " 8   lang                    22000 non-null  object \n",
      " 9   favorite_count          22000 non-null  int64  \n",
      " 10  retweet_count           22000 non-null  int64  \n",
      " 11  original_author         22000 non-null  object \n",
      " 12  screen_count            22000 non-null  int64  \n",
      " 13  followers_count         22000 non-null  int64  \n",
      " 14  friends_count           22000 non-null  int64  \n",
      " 15  possibly_sensitive      22000 non-null  object \n",
      " 16  hashtags                22000 non-null  object \n",
      " 17  user_mentions           22000 non-null  object \n",
      " 18  place                   22000 non-null  object \n",
      " 19  place_coord_boundaries  22000 non-null  object \n",
      "dtypes: float64(2), int64(7), object(11)\n",
      "memory usage: 3.4+ MB\n"
     ]
    }
   ],
   "source": [
    "model_df.info()"
   ]
  },
  {
   "cell_type": "code",
   "execution_count": 7,
   "id": "36c15901",
   "metadata": {},
   "outputs": [
    {
     "name": "stdout",
     "output_type": "stream",
     "text": [
      "The number of missing value(s): 0\n",
      "Columons having columns value:Index([], dtype='object')\n"
     ]
    }
   ],
   "source": [
    "# Check missing values\n",
    "\n",
    "print(\"The number of missing value(s): {}\".format(model_df.isnull().sum().sum()))\n",
    "print(\"Columons having columns value:{}\".format(model_df.columns[model_df.isnull().any()]))"
   ]
  },
  {
   "cell_type": "code",
   "execution_count": 8,
   "id": "8d8adaa9",
   "metadata": {},
   "outputs": [
    {
     "data": {
      "text/plain": [
       "created_at                False\n",
       "statuses_count            False\n",
       "source                    False\n",
       "original_text             False\n",
       "clean_text                False\n",
       "sentiment                 False\n",
       "polarity                  False\n",
       "subjectivity              False\n",
       "lang                      False\n",
       "favorite_count            False\n",
       "retweet_count             False\n",
       "original_author           False\n",
       "screen_count              False\n",
       "followers_count           False\n",
       "friends_count             False\n",
       "possibly_sensitive        False\n",
       "hashtags                  False\n",
       "user_mentions             False\n",
       "place                     False\n",
       "place_coord_boundaries    False\n",
       "dtype: bool"
      ]
     },
     "execution_count": 8,
     "metadata": {},
     "output_type": "execute_result"
    }
   ],
   "source": [
    "# Check for \"NaN\" values\n",
    "model_df.isna().any() "
   ]
  },
  {
   "cell_type": "code",
   "execution_count": 9,
   "id": "62be91aa",
   "metadata": {},
   "outputs": [],
   "source": [
    "def preprocessTweets(tweet):\n",
    "    \n",
    "    # Remove punctuations\n",
    "    unpunctuated_words = [char for char in tweet_tokens if char not in string.punctuation]\n",
    "    unpunctuated_words = ' '.join(unpunctuated_words)\n",
    "\n",
    "    return \"\".join(unpunctuated_words) "
   ]
  },
  {
   "cell_type": "code",
   "execution_count": 10,
   "id": "e92c861d",
   "metadata": {},
   "outputs": [],
   "source": [
    "# function to obtain adjectives from tweets\n",
    "\n",
    "def getAdjectives(tweet):\n",
    "    tweet = word_tokenize(tweet)  # convert string to tokens\n",
    "    tweet = [word for (word, tag) in pos_tag(tweet)\n",
    "             if tag == \"JJ\"]  # pos_tag module in NLTK library\n",
    "    return \" \".join(tweet)  "
   ]
  },
  {
   "cell_type": "code",
   "execution_count": 11,
   "id": "1ce957fc",
   "metadata": {},
   "outputs": [],
   "source": [
    "# get called 'Tweets_Adjectives'\n",
    "model_df['Tweets_Adjectives'] = model_df['clean_text'].apply(getAdjectives)"
   ]
  },
  {
   "cell_type": "code",
   "execution_count": 12,
   "id": "38b5fc20",
   "metadata": {},
   "outputs": [
    {
     "data": {
      "text/html": [
       "<div>\n",
       "<style scoped>\n",
       "    .dataframe tbody tr th:only-of-type {\n",
       "        vertical-align: middle;\n",
       "    }\n",
       "\n",
       "    .dataframe tbody tr th {\n",
       "        vertical-align: top;\n",
       "    }\n",
       "\n",
       "    .dataframe thead th {\n",
       "        text-align: right;\n",
       "    }\n",
       "</style>\n",
       "<table border=\"1\" class=\"dataframe\">\n",
       "  <thead>\n",
       "    <tr style=\"text-align: right;\">\n",
       "      <th></th>\n",
       "      <th>created_at</th>\n",
       "      <th>statuses_count</th>\n",
       "      <th>source</th>\n",
       "      <th>original_text</th>\n",
       "      <th>clean_text</th>\n",
       "      <th>sentiment</th>\n",
       "      <th>polarity</th>\n",
       "      <th>subjectivity</th>\n",
       "      <th>lang</th>\n",
       "      <th>favorite_count</th>\n",
       "      <th>...</th>\n",
       "      <th>original_author</th>\n",
       "      <th>screen_count</th>\n",
       "      <th>followers_count</th>\n",
       "      <th>friends_count</th>\n",
       "      <th>possibly_sensitive</th>\n",
       "      <th>hashtags</th>\n",
       "      <th>user_mentions</th>\n",
       "      <th>place</th>\n",
       "      <th>place_coord_boundaries</th>\n",
       "      <th>Tweets_Adjectives</th>\n",
       "    </tr>\n",
       "  </thead>\n",
       "  <tbody>\n",
       "    <tr>\n",
       "      <th>0</th>\n",
       "      <td>2022-08-07 22:31:20+00:00</td>\n",
       "      <td>8097</td>\n",
       "      <td>&lt;a href=\"http://twitter.com/download/android\" ...</td>\n",
       "      <td>RT @i_ameztoy: Extra random image (I):\\n\\nLets...</td>\n",
       "      <td>\\n\\nLets focus in one very specific zone of th...</td>\n",
       "      <td>-1</td>\n",
       "      <td>0.000000e+00</td>\n",
       "      <td>0.08125</td>\n",
       "      <td>en</td>\n",
       "      <td>15760</td>\n",
       "      <td>...</td>\n",
       "      <td>i_ameztoy</td>\n",
       "      <td>232</td>\n",
       "      <td>20497</td>\n",
       "      <td>2621</td>\n",
       "      <td></td>\n",
       "      <td>City</td>\n",
       "      <td></td>\n",
       "      <td></td>\n",
       "      <td></td>\n",
       "      <td>specific western</td>\n",
       "    </tr>\n",
       "    <tr>\n",
       "      <th>1</th>\n",
       "      <td>2022-08-07 22:31:16+00:00</td>\n",
       "      <td>5831</td>\n",
       "      <td>&lt;a href=\"http://twitter.com/download/android\" ...</td>\n",
       "      <td>RT @IndoPac_Info: #China's media explains the ...</td>\n",
       "      <td>#China's media explains the military reasons ...</td>\n",
       "      <td>0</td>\n",
       "      <td>-1.000000e-01</td>\n",
       "      <td>0.10000</td>\n",
       "      <td>en</td>\n",
       "      <td>6967</td>\n",
       "      <td>...</td>\n",
       "      <td>ZIisq</td>\n",
       "      <td>3</td>\n",
       "      <td>65</td>\n",
       "      <td>272</td>\n",
       "      <td></td>\n",
       "      <td>China</td>\n",
       "      <td></td>\n",
       "      <td></td>\n",
       "      <td></td>\n",
       "      <td>military</td>\n",
       "    </tr>\n",
       "    <tr>\n",
       "      <th>2</th>\n",
       "      <td>2022-08-07 22:31:07+00:00</td>\n",
       "      <td>1627</td>\n",
       "      <td>&lt;a href=\"http://twitter.com/download/android\" ...</td>\n",
       "      <td>China even cut off communication, they don't a...</td>\n",
       "      <td>China even cut off communication, they don't a...</td>\n",
       "      <td>-1</td>\n",
       "      <td>0.000000e+00</td>\n",
       "      <td>0.00000</td>\n",
       "      <td>en</td>\n",
       "      <td>2166</td>\n",
       "      <td>...</td>\n",
       "      <td>Fin21Free</td>\n",
       "      <td>0</td>\n",
       "      <td>85</td>\n",
       "      <td>392</td>\n",
       "      <td></td>\n",
       "      <td>XiJinping</td>\n",
       "      <td></td>\n",
       "      <td>Netherlands</td>\n",
       "      <td></td>\n",
       "      <td>clown</td>\n",
       "    </tr>\n",
       "    <tr>\n",
       "      <th>3</th>\n",
       "      <td>2022-08-07 22:31:06+00:00</td>\n",
       "      <td>1627</td>\n",
       "      <td>&lt;a href=\"http://twitter.com/download/android\" ...</td>\n",
       "      <td>Putin to #XiJinping : I told you my friend, Ta...</td>\n",
       "      <td>Putin to #XiJinping : I told you my friend, Ta...</td>\n",
       "      <td>1</td>\n",
       "      <td>1.000000e-01</td>\n",
       "      <td>0.35000</td>\n",
       "      <td>en</td>\n",
       "      <td>2166</td>\n",
       "      <td>...</td>\n",
       "      <td>Fin21Free</td>\n",
       "      <td>0</td>\n",
       "      <td>85</td>\n",
       "      <td>392</td>\n",
       "      <td></td>\n",
       "      <td>XiJinping</td>\n",
       "      <td></td>\n",
       "      <td>Netherlands</td>\n",
       "      <td></td>\n",
       "      <td>vassal Ukrainian</td>\n",
       "    </tr>\n",
       "    <tr>\n",
       "      <th>4</th>\n",
       "      <td>2022-08-07 22:31:04+00:00</td>\n",
       "      <td>18958</td>\n",
       "      <td>&lt;a href=\"http://twitter.com/download/iphone\" r...</td>\n",
       "      <td>RT @ChinaUncensored: I’m sorry, I thought Taiw...</td>\n",
       "      <td>I’m sorry, I thought Taiwan was an independen...</td>\n",
       "      <td>0</td>\n",
       "      <td>-6.938894e-18</td>\n",
       "      <td>0.55625</td>\n",
       "      <td>en</td>\n",
       "      <td>17247</td>\n",
       "      <td>...</td>\n",
       "      <td>VizziniDolores</td>\n",
       "      <td>0</td>\n",
       "      <td>910</td>\n",
       "      <td>2608</td>\n",
       "      <td></td>\n",
       "      <td></td>\n",
       "      <td></td>\n",
       "      <td>Ayent, Schweiz</td>\n",
       "      <td></td>\n",
       "      <td>m independent own military</td>\n",
       "    </tr>\n",
       "  </tbody>\n",
       "</table>\n",
       "<p>5 rows × 21 columns</p>\n",
       "</div>"
      ],
      "text/plain": [
       "                  created_at  statuses_count  \\\n",
       "0  2022-08-07 22:31:20+00:00            8097   \n",
       "1  2022-08-07 22:31:16+00:00            5831   \n",
       "2  2022-08-07 22:31:07+00:00            1627   \n",
       "3  2022-08-07 22:31:06+00:00            1627   \n",
       "4  2022-08-07 22:31:04+00:00           18958   \n",
       "\n",
       "                                              source  \\\n",
       "0  <a href=\"http://twitter.com/download/android\" ...   \n",
       "1  <a href=\"http://twitter.com/download/android\" ...   \n",
       "2  <a href=\"http://twitter.com/download/android\" ...   \n",
       "3  <a href=\"http://twitter.com/download/android\" ...   \n",
       "4  <a href=\"http://twitter.com/download/iphone\" r...   \n",
       "\n",
       "                                       original_text  \\\n",
       "0  RT @i_ameztoy: Extra random image (I):\\n\\nLets...   \n",
       "1  RT @IndoPac_Info: #China's media explains the ...   \n",
       "2  China even cut off communication, they don't a...   \n",
       "3  Putin to #XiJinping : I told you my friend, Ta...   \n",
       "4  RT @ChinaUncensored: I’m sorry, I thought Taiw...   \n",
       "\n",
       "                                          clean_text  sentiment      polarity  \\\n",
       "0  \\n\\nLets focus in one very specific zone of th...         -1  0.000000e+00   \n",
       "1   #China's media explains the military reasons ...          0 -1.000000e-01   \n",
       "2  China even cut off communication, they don't a...         -1  0.000000e+00   \n",
       "3  Putin to #XiJinping : I told you my friend, Ta...          1  1.000000e-01   \n",
       "4   I’m sorry, I thought Taiwan was an independen...          0 -6.938894e-18   \n",
       "\n",
       "   subjectivity lang  favorite_count  ...  original_author screen_count  \\\n",
       "0       0.08125   en           15760  ...        i_ameztoy          232   \n",
       "1       0.10000   en            6967  ...            ZIisq            3   \n",
       "2       0.00000   en            2166  ...        Fin21Free            0   \n",
       "3       0.35000   en            2166  ...        Fin21Free            0   \n",
       "4       0.55625   en           17247  ...   VizziniDolores            0   \n",
       "\n",
       "   followers_count  friends_count  possibly_sensitive   hashtags  \\\n",
       "0            20497           2621                           City   \n",
       "1               65            272                          China   \n",
       "2               85            392                      XiJinping   \n",
       "3               85            392                      XiJinping   \n",
       "4              910           2608                                  \n",
       "\n",
       "  user_mentions           place place_coord_boundaries  \\\n",
       "0                                                        \n",
       "1                                                        \n",
       "2                   Netherlands                          \n",
       "3                   Netherlands                          \n",
       "4                Ayent, Schweiz                          \n",
       "\n",
       "            Tweets_Adjectives  \n",
       "0            specific western  \n",
       "1                    military  \n",
       "2                       clown  \n",
       "3            vassal Ukrainian  \n",
       "4  m independent own military  \n",
       "\n",
       "[5 rows x 21 columns]"
      ]
     },
     "execution_count": 12,
     "metadata": {},
     "output_type": "execute_result"
    }
   ],
   "source": [
    "model_df.head()"
   ]
  },
  {
   "cell_type": "code",
   "execution_count": 13,
   "id": "7990c4e0",
   "metadata": {},
   "outputs": [],
   "source": [
    "def preprocessTweetsSentiments(tweet):\n",
    "    tweet_tokens = word_tokenize(tweet)\n",
    "    lemmatizer = WordNetLemmatizer() # initialize an object WordNetLemmatizer Class\n",
    "    lemma_words = [lemmatizer.lemmatize(w) for w in tweet_tokens]\n",
    "    return \" \".join(lemma_words)"
   ]
  },
  {
   "cell_type": "code",
   "execution_count": 14,
   "id": "0d1eff34",
   "metadata": {},
   "outputs": [],
   "source": [
    "model_df['Tweets_Sentiments'] = model_df['clean_text'].apply(preprocessTweetsSentiments)"
   ]
  },
  {
   "cell_type": "code",
   "execution_count": 15,
   "id": "16e3b1ab",
   "metadata": {},
   "outputs": [
    {
     "data": {
      "text/html": [
       "<div>\n",
       "<style scoped>\n",
       "    .dataframe tbody tr th:only-of-type {\n",
       "        vertical-align: middle;\n",
       "    }\n",
       "\n",
       "    .dataframe tbody tr th {\n",
       "        vertical-align: top;\n",
       "    }\n",
       "\n",
       "    .dataframe thead th {\n",
       "        text-align: right;\n",
       "    }\n",
       "</style>\n",
       "<table border=\"1\" class=\"dataframe\">\n",
       "  <thead>\n",
       "    <tr style=\"text-align: right;\">\n",
       "      <th></th>\n",
       "      <th>created_at</th>\n",
       "      <th>statuses_count</th>\n",
       "      <th>source</th>\n",
       "      <th>original_text</th>\n",
       "      <th>clean_text</th>\n",
       "      <th>sentiment</th>\n",
       "      <th>polarity</th>\n",
       "      <th>subjectivity</th>\n",
       "      <th>lang</th>\n",
       "      <th>favorite_count</th>\n",
       "      <th>...</th>\n",
       "      <th>screen_count</th>\n",
       "      <th>followers_count</th>\n",
       "      <th>friends_count</th>\n",
       "      <th>possibly_sensitive</th>\n",
       "      <th>hashtags</th>\n",
       "      <th>user_mentions</th>\n",
       "      <th>place</th>\n",
       "      <th>place_coord_boundaries</th>\n",
       "      <th>Tweets_Adjectives</th>\n",
       "      <th>Tweets_Sentiments</th>\n",
       "    </tr>\n",
       "  </thead>\n",
       "  <tbody>\n",
       "    <tr>\n",
       "      <th>0</th>\n",
       "      <td>2022-08-07 22:31:20+00:00</td>\n",
       "      <td>8097</td>\n",
       "      <td>&lt;a href=\"http://twitter.com/download/android\" ...</td>\n",
       "      <td>RT @i_ameztoy: Extra random image (I):\\n\\nLets...</td>\n",
       "      <td>\\n\\nLets focus in one very specific zone of th...</td>\n",
       "      <td>-1</td>\n",
       "      <td>0.000000e+00</td>\n",
       "      <td>0.08125</td>\n",
       "      <td>en</td>\n",
       "      <td>15760</td>\n",
       "      <td>...</td>\n",
       "      <td>232</td>\n",
       "      <td>20497</td>\n",
       "      <td>2621</td>\n",
       "      <td></td>\n",
       "      <td>City</td>\n",
       "      <td></td>\n",
       "      <td></td>\n",
       "      <td></td>\n",
       "      <td>specific western</td>\n",
       "      <td>Lets focus in one very specific zone of the we...</td>\n",
       "    </tr>\n",
       "    <tr>\n",
       "      <th>1</th>\n",
       "      <td>2022-08-07 22:31:16+00:00</td>\n",
       "      <td>5831</td>\n",
       "      <td>&lt;a href=\"http://twitter.com/download/android\" ...</td>\n",
       "      <td>RT @IndoPac_Info: #China's media explains the ...</td>\n",
       "      <td>#China's media explains the military reasons ...</td>\n",
       "      <td>0</td>\n",
       "      <td>-1.000000e-01</td>\n",
       "      <td>0.10000</td>\n",
       "      <td>en</td>\n",
       "      <td>6967</td>\n",
       "      <td>...</td>\n",
       "      <td>3</td>\n",
       "      <td>65</td>\n",
       "      <td>272</td>\n",
       "      <td></td>\n",
       "      <td>China</td>\n",
       "      <td></td>\n",
       "      <td></td>\n",
       "      <td></td>\n",
       "      <td>military</td>\n",
       "      <td># China 's medium explains the military reason...</td>\n",
       "    </tr>\n",
       "    <tr>\n",
       "      <th>2</th>\n",
       "      <td>2022-08-07 22:31:07+00:00</td>\n",
       "      <td>1627</td>\n",
       "      <td>&lt;a href=\"http://twitter.com/download/android\" ...</td>\n",
       "      <td>China even cut off communication, they don't a...</td>\n",
       "      <td>China even cut off communication, they don't a...</td>\n",
       "      <td>-1</td>\n",
       "      <td>0.000000e+00</td>\n",
       "      <td>0.00000</td>\n",
       "      <td>en</td>\n",
       "      <td>2166</td>\n",
       "      <td>...</td>\n",
       "      <td>0</td>\n",
       "      <td>85</td>\n",
       "      <td>392</td>\n",
       "      <td></td>\n",
       "      <td>XiJinping</td>\n",
       "      <td></td>\n",
       "      <td>Netherlands</td>\n",
       "      <td></td>\n",
       "      <td>clown</td>\n",
       "      <td>China even cut off communication , they do n't...</td>\n",
       "    </tr>\n",
       "    <tr>\n",
       "      <th>3</th>\n",
       "      <td>2022-08-07 22:31:06+00:00</td>\n",
       "      <td>1627</td>\n",
       "      <td>&lt;a href=\"http://twitter.com/download/android\" ...</td>\n",
       "      <td>Putin to #XiJinping : I told you my friend, Ta...</td>\n",
       "      <td>Putin to #XiJinping : I told you my friend, Ta...</td>\n",
       "      <td>1</td>\n",
       "      <td>1.000000e-01</td>\n",
       "      <td>0.35000</td>\n",
       "      <td>en</td>\n",
       "      <td>2166</td>\n",
       "      <td>...</td>\n",
       "      <td>0</td>\n",
       "      <td>85</td>\n",
       "      <td>392</td>\n",
       "      <td></td>\n",
       "      <td>XiJinping</td>\n",
       "      <td></td>\n",
       "      <td>Netherlands</td>\n",
       "      <td></td>\n",
       "      <td>vassal Ukrainian</td>\n",
       "      <td>Putin to # XiJinping : I told you my friend , ...</td>\n",
       "    </tr>\n",
       "    <tr>\n",
       "      <th>4</th>\n",
       "      <td>2022-08-07 22:31:04+00:00</td>\n",
       "      <td>18958</td>\n",
       "      <td>&lt;a href=\"http://twitter.com/download/iphone\" r...</td>\n",
       "      <td>RT @ChinaUncensored: I’m sorry, I thought Taiw...</td>\n",
       "      <td>I’m sorry, I thought Taiwan was an independen...</td>\n",
       "      <td>0</td>\n",
       "      <td>-6.938894e-18</td>\n",
       "      <td>0.55625</td>\n",
       "      <td>en</td>\n",
       "      <td>17247</td>\n",
       "      <td>...</td>\n",
       "      <td>0</td>\n",
       "      <td>910</td>\n",
       "      <td>2608</td>\n",
       "      <td></td>\n",
       "      <td></td>\n",
       "      <td></td>\n",
       "      <td>Ayent, Schweiz</td>\n",
       "      <td></td>\n",
       "      <td>m independent own military</td>\n",
       "      <td>I ’ m sorry , I thought Taiwan wa an independe...</td>\n",
       "    </tr>\n",
       "  </tbody>\n",
       "</table>\n",
       "<p>5 rows × 22 columns</p>\n",
       "</div>"
      ],
      "text/plain": [
       "                  created_at  statuses_count  \\\n",
       "0  2022-08-07 22:31:20+00:00            8097   \n",
       "1  2022-08-07 22:31:16+00:00            5831   \n",
       "2  2022-08-07 22:31:07+00:00            1627   \n",
       "3  2022-08-07 22:31:06+00:00            1627   \n",
       "4  2022-08-07 22:31:04+00:00           18958   \n",
       "\n",
       "                                              source  \\\n",
       "0  <a href=\"http://twitter.com/download/android\" ...   \n",
       "1  <a href=\"http://twitter.com/download/android\" ...   \n",
       "2  <a href=\"http://twitter.com/download/android\" ...   \n",
       "3  <a href=\"http://twitter.com/download/android\" ...   \n",
       "4  <a href=\"http://twitter.com/download/iphone\" r...   \n",
       "\n",
       "                                       original_text  \\\n",
       "0  RT @i_ameztoy: Extra random image (I):\\n\\nLets...   \n",
       "1  RT @IndoPac_Info: #China's media explains the ...   \n",
       "2  China even cut off communication, they don't a...   \n",
       "3  Putin to #XiJinping : I told you my friend, Ta...   \n",
       "4  RT @ChinaUncensored: I’m sorry, I thought Taiw...   \n",
       "\n",
       "                                          clean_text  sentiment      polarity  \\\n",
       "0  \\n\\nLets focus in one very specific zone of th...         -1  0.000000e+00   \n",
       "1   #China's media explains the military reasons ...          0 -1.000000e-01   \n",
       "2  China even cut off communication, they don't a...         -1  0.000000e+00   \n",
       "3  Putin to #XiJinping : I told you my friend, Ta...          1  1.000000e-01   \n",
       "4   I’m sorry, I thought Taiwan was an independen...          0 -6.938894e-18   \n",
       "\n",
       "   subjectivity lang  favorite_count  ...  screen_count followers_count  \\\n",
       "0       0.08125   en           15760  ...           232           20497   \n",
       "1       0.10000   en            6967  ...             3              65   \n",
       "2       0.00000   en            2166  ...             0              85   \n",
       "3       0.35000   en            2166  ...             0              85   \n",
       "4       0.55625   en           17247  ...             0             910   \n",
       "\n",
       "   friends_count  possibly_sensitive   hashtags user_mentions           place  \\\n",
       "0           2621                           City                                 \n",
       "1            272                          China                                 \n",
       "2            392                      XiJinping                   Netherlands   \n",
       "3            392                      XiJinping                   Netherlands   \n",
       "4           2608                                               Ayent, Schweiz   \n",
       "\n",
       "  place_coord_boundaries           Tweets_Adjectives  \\\n",
       "0                                   specific western   \n",
       "1                                           military   \n",
       "2                                              clown   \n",
       "3                                   vassal Ukrainian   \n",
       "4                         m independent own military   \n",
       "\n",
       "                                   Tweets_Sentiments  \n",
       "0  Lets focus in one very specific zone of the we...  \n",
       "1  # China 's medium explains the military reason...  \n",
       "2  China even cut off communication , they do n't...  \n",
       "3  Putin to # XiJinping : I told you my friend , ...  \n",
       "4  I ’ m sorry , I thought Taiwan wa an independe...  \n",
       "\n",
       "[5 rows x 22 columns]"
      ]
     },
     "execution_count": 15,
     "metadata": {},
     "output_type": "execute_result"
    }
   ],
   "source": [
    "model_df.head()"
   ]
  },
  {
   "cell_type": "code",
   "execution_count": 16,
   "id": "8ce02b50",
   "metadata": {},
   "outputs": [],
   "source": [
    "# Extract all tweets into one long string with each word separate with a \"space\"\n",
    "tweets_long_string = model_df['Tweets_Adjectives'].tolist()\n",
    "tweets_long_string = \" \".join(tweets_long_string)"
   ]
  },
  {
   "cell_type": "code",
   "execution_count": 17,
   "id": "53006177",
   "metadata": {},
   "outputs": [],
   "source": [
    "# Function to create blue color for twitter logo\n",
    "def blue_color_func(word, font_size, position, orientation, random_state=None,**kwargs):\n",
    "    return \"hsl(210, 100%%, %d%%)\" % random.randint(50, 70)"
   ]
  },
  {
   "cell_type": "code",
   "execution_count": 18,
   "id": "70e73d33",
   "metadata": {},
   "outputs": [],
   "source": [
    "# Import Twitter Logo\n",
    "image = np.array(Image.open('twitter_logo.png'))"
   ]
  },
  {
   "cell_type": "code",
   "execution_count": 19,
   "id": "c7ccb3f8",
   "metadata": {},
   "outputs": [],
   "source": [
    "from wordcloud import STOPWORDS,WordCloud\n",
    "import random"
   ]
  },
  {
   "cell_type": "code",
   "execution_count": 20,
   "id": "c29a7e2c",
   "metadata": {},
   "outputs": [
    {
     "data": {
      "text/plain": [
       "(-0.5, 794.5, 788.5, -0.5)"
      ]
     },
     "execution_count": 20,
     "metadata": {},
     "output_type": "execute_result"
    },
    {
     "data": {
      "image/png": "[encoded data removed]",
      "text/plain": [
       "<Figure size 1008x1296 with 1 Axes>"
      ]
     },
     "metadata": {
      "needs_background": "light"
     },
     "output_type": "display_data"
    }
   ],
   "source": [
    "# Instantiate the Twitter word cloud object\n",
    "twitter_wc = WordCloud(background_color='white', max_words=1500, mask=image)\n",
    "\n",
    "# generate the word cloud\n",
    "twitter_wc.generate(tweets_long_string)\n",
    "\n",
    "# display the word cloud\n",
    "fig = plt.figure()\n",
    "fig.set_figwidth(14)  # set width\n",
    "fig.set_figheight(18)  # set height\n",
    "\n",
    "plt.imshow(twitter_wc.recolor(color_func=blue_color_func, random_state=3),\n",
    "           interpolation=\"bilinear\")\n",
    "plt.axis('off')"
   ]
  },
  {
   "cell_type": "code",
   "execution_count": 21,
   "id": "23cd4da3",
   "metadata": {},
   "outputs": [],
   "source": [
    "# import textblob\n",
    "from textblob import TextBlob"
   ]
  },
  {
   "cell_type": "code",
   "execution_count": 22,
   "id": "27df9da6",
   "metadata": {},
   "outputs": [],
   "source": [
    "# Create function to obtain Subjectivity Score\n",
    "def getSubjectivity(tweet):\n",
    "    return TextBlob(tweet).sentiment.subjectivity\n",
    "\n",
    "# Create function to obtain Polarity Score\n",
    "def getPolarity(tweet):\n",
    "    return TextBlob(tweet).sentiment.polarity\n",
    "\n",
    "# Create function to obtain Sentiment category\n",
    "def getSentimentTextBlob(polarity):\n",
    "    if polarity < 0:\n",
    "        return \"Negative\"\n",
    "    elif polarity == 0:\n",
    "        return \"Neutral\"\n",
    "    else:\n",
    "        return \"Positive\""
   ]
  },
  {
   "cell_type": "code",
   "execution_count": 23,
   "id": "bb2e40f5",
   "metadata": {},
   "outputs": [],
   "source": [
    "# Apply all functions above to respective columns\n",
    "# also used validate the dataset sentimnt values\n",
    "model_df['Subjectivity'] = model_df['Tweets_Sentiments'].apply(getSubjectivity)\n",
    "model_df['Polarity'] = model_df['Tweets_Sentiments'].apply(getPolarity)\n",
    "model_df['Sentiment'] = model_df['Polarity'].apply(getSentimentTextBlob)"
   ]
  },
  {
   "cell_type": "code",
   "execution_count": 24,
   "id": "5ea35643",
   "metadata": {},
   "outputs": [
    {
     "data": {
      "text/html": [
       "<div>\n",
       "<style scoped>\n",
       "    .dataframe tbody tr th:only-of-type {\n",
       "        vertical-align: middle;\n",
       "    }\n",
       "\n",
       "    .dataframe tbody tr th {\n",
       "        vertical-align: top;\n",
       "    }\n",
       "\n",
       "    .dataframe thead th {\n",
       "        text-align: right;\n",
       "    }\n",
       "</style>\n",
       "<table border=\"1\" class=\"dataframe\">\n",
       "  <thead>\n",
       "    <tr style=\"text-align: right;\">\n",
       "      <th></th>\n",
       "      <th>created_at</th>\n",
       "      <th>statuses_count</th>\n",
       "      <th>source</th>\n",
       "      <th>original_text</th>\n",
       "      <th>clean_text</th>\n",
       "      <th>sentiment</th>\n",
       "      <th>polarity</th>\n",
       "      <th>subjectivity</th>\n",
       "      <th>lang</th>\n",
       "      <th>favorite_count</th>\n",
       "      <th>...</th>\n",
       "      <th>possibly_sensitive</th>\n",
       "      <th>hashtags</th>\n",
       "      <th>user_mentions</th>\n",
       "      <th>place</th>\n",
       "      <th>place_coord_boundaries</th>\n",
       "      <th>Tweets_Adjectives</th>\n",
       "      <th>Tweets_Sentiments</th>\n",
       "      <th>Subjectivity</th>\n",
       "      <th>Polarity</th>\n",
       "      <th>Sentiment</th>\n",
       "    </tr>\n",
       "  </thead>\n",
       "  <tbody>\n",
       "    <tr>\n",
       "      <th>0</th>\n",
       "      <td>2022-08-07 22:31:20+00:00</td>\n",
       "      <td>8097</td>\n",
       "      <td>&lt;a href=\"http://twitter.com/download/android\" ...</td>\n",
       "      <td>RT @i_ameztoy: Extra random image (I):\\n\\nLets...</td>\n",
       "      <td>\\n\\nLets focus in one very specific zone of th...</td>\n",
       "      <td>-1</td>\n",
       "      <td>0.000000e+00</td>\n",
       "      <td>0.08125</td>\n",
       "      <td>en</td>\n",
       "      <td>15760</td>\n",
       "      <td>...</td>\n",
       "      <td></td>\n",
       "      <td>City</td>\n",
       "      <td></td>\n",
       "      <td></td>\n",
       "      <td></td>\n",
       "      <td>specific western</td>\n",
       "      <td>Lets focus in one very specific zone of the we...</td>\n",
       "      <td>0.08125</td>\n",
       "      <td>0.000000e+00</td>\n",
       "      <td>Neutral</td>\n",
       "    </tr>\n",
       "    <tr>\n",
       "      <th>1</th>\n",
       "      <td>2022-08-07 22:31:16+00:00</td>\n",
       "      <td>5831</td>\n",
       "      <td>&lt;a href=\"http://twitter.com/download/android\" ...</td>\n",
       "      <td>RT @IndoPac_Info: #China's media explains the ...</td>\n",
       "      <td>#China's media explains the military reasons ...</td>\n",
       "      <td>0</td>\n",
       "      <td>-1.000000e-01</td>\n",
       "      <td>0.10000</td>\n",
       "      <td>en</td>\n",
       "      <td>6967</td>\n",
       "      <td>...</td>\n",
       "      <td></td>\n",
       "      <td>China</td>\n",
       "      <td></td>\n",
       "      <td></td>\n",
       "      <td></td>\n",
       "      <td>military</td>\n",
       "      <td># China 's medium explains the military reason...</td>\n",
       "      <td>0.10000</td>\n",
       "      <td>-1.000000e-01</td>\n",
       "      <td>Negative</td>\n",
       "    </tr>\n",
       "    <tr>\n",
       "      <th>2</th>\n",
       "      <td>2022-08-07 22:31:07+00:00</td>\n",
       "      <td>1627</td>\n",
       "      <td>&lt;a href=\"http://twitter.com/download/android\" ...</td>\n",
       "      <td>China even cut off communication, they don't a...</td>\n",
       "      <td>China even cut off communication, they don't a...</td>\n",
       "      <td>-1</td>\n",
       "      <td>0.000000e+00</td>\n",
       "      <td>0.00000</td>\n",
       "      <td>en</td>\n",
       "      <td>2166</td>\n",
       "      <td>...</td>\n",
       "      <td></td>\n",
       "      <td>XiJinping</td>\n",
       "      <td></td>\n",
       "      <td>Netherlands</td>\n",
       "      <td></td>\n",
       "      <td>clown</td>\n",
       "      <td>China even cut off communication , they do n't...</td>\n",
       "      <td>0.00000</td>\n",
       "      <td>0.000000e+00</td>\n",
       "      <td>Neutral</td>\n",
       "    </tr>\n",
       "    <tr>\n",
       "      <th>3</th>\n",
       "      <td>2022-08-07 22:31:06+00:00</td>\n",
       "      <td>1627</td>\n",
       "      <td>&lt;a href=\"http://twitter.com/download/android\" ...</td>\n",
       "      <td>Putin to #XiJinping : I told you my friend, Ta...</td>\n",
       "      <td>Putin to #XiJinping : I told you my friend, Ta...</td>\n",
       "      <td>1</td>\n",
       "      <td>1.000000e-01</td>\n",
       "      <td>0.35000</td>\n",
       "      <td>en</td>\n",
       "      <td>2166</td>\n",
       "      <td>...</td>\n",
       "      <td></td>\n",
       "      <td>XiJinping</td>\n",
       "      <td></td>\n",
       "      <td>Netherlands</td>\n",
       "      <td></td>\n",
       "      <td>vassal Ukrainian</td>\n",
       "      <td>Putin to # XiJinping : I told you my friend , ...</td>\n",
       "      <td>0.35000</td>\n",
       "      <td>1.000000e-01</td>\n",
       "      <td>Positive</td>\n",
       "    </tr>\n",
       "    <tr>\n",
       "      <th>4</th>\n",
       "      <td>2022-08-07 22:31:04+00:00</td>\n",
       "      <td>18958</td>\n",
       "      <td>&lt;a href=\"http://twitter.com/download/iphone\" r...</td>\n",
       "      <td>RT @ChinaUncensored: I’m sorry, I thought Taiw...</td>\n",
       "      <td>I’m sorry, I thought Taiwan was an independen...</td>\n",
       "      <td>0</td>\n",
       "      <td>-6.938894e-18</td>\n",
       "      <td>0.55625</td>\n",
       "      <td>en</td>\n",
       "      <td>17247</td>\n",
       "      <td>...</td>\n",
       "      <td></td>\n",
       "      <td></td>\n",
       "      <td></td>\n",
       "      <td>Ayent, Schweiz</td>\n",
       "      <td></td>\n",
       "      <td>m independent own military</td>\n",
       "      <td>I ’ m sorry , I thought Taiwan wa an independe...</td>\n",
       "      <td>0.55625</td>\n",
       "      <td>-6.938894e-18</td>\n",
       "      <td>Negative</td>\n",
       "    </tr>\n",
       "  </tbody>\n",
       "</table>\n",
       "<p>5 rows × 25 columns</p>\n",
       "</div>"
      ],
      "text/plain": [
       "                  created_at  statuses_count  \\\n",
       "0  2022-08-07 22:31:20+00:00            8097   \n",
       "1  2022-08-07 22:31:16+00:00            5831   \n",
       "2  2022-08-07 22:31:07+00:00            1627   \n",
       "3  2022-08-07 22:31:06+00:00            1627   \n",
       "4  2022-08-07 22:31:04+00:00           18958   \n",
       "\n",
       "                                              source  \\\n",
       "0  <a href=\"http://twitter.com/download/android\" ...   \n",
       "1  <a href=\"http://twitter.com/download/android\" ...   \n",
       "2  <a href=\"http://twitter.com/download/android\" ...   \n",
       "3  <a href=\"http://twitter.com/download/android\" ...   \n",
       "4  <a href=\"http://twitter.com/download/iphone\" r...   \n",
       "\n",
       "                                       original_text  \\\n",
       "0  RT @i_ameztoy: Extra random image (I):\\n\\nLets...   \n",
       "1  RT @IndoPac_Info: #China's media explains the ...   \n",
       "2  China even cut off communication, they don't a...   \n",
       "3  Putin to #XiJinping : I told you my friend, Ta...   \n",
       "4  RT @ChinaUncensored: I’m sorry, I thought Taiw...   \n",
       "\n",
       "                                          clean_text  sentiment      polarity  \\\n",
       "0  \\n\\nLets focus in one very specific zone of th...         -1  0.000000e+00   \n",
       "1   #China's media explains the military reasons ...          0 -1.000000e-01   \n",
       "2  China even cut off communication, they don't a...         -1  0.000000e+00   \n",
       "3  Putin to #XiJinping : I told you my friend, Ta...          1  1.000000e-01   \n",
       "4   I’m sorry, I thought Taiwan was an independen...          0 -6.938894e-18   \n",
       "\n",
       "   subjectivity lang  favorite_count  ...  possibly_sensitive   hashtags  \\\n",
       "0       0.08125   en           15760  ...                           City   \n",
       "1       0.10000   en            6967  ...                          China   \n",
       "2       0.00000   en            2166  ...                      XiJinping   \n",
       "3       0.35000   en            2166  ...                      XiJinping   \n",
       "4       0.55625   en           17247  ...                                  \n",
       "\n",
       "   user_mentions           place  place_coord_boundaries  \\\n",
       "0                                                          \n",
       "1                                                          \n",
       "2                    Netherlands                           \n",
       "3                    Netherlands                           \n",
       "4                 Ayent, Schweiz                           \n",
       "\n",
       "            Tweets_Adjectives  \\\n",
       "0            specific western   \n",
       "1                    military   \n",
       "2                       clown   \n",
       "3            vassal Ukrainian   \n",
       "4  m independent own military   \n",
       "\n",
       "                                   Tweets_Sentiments Subjectivity  \\\n",
       "0  Lets focus in one very specific zone of the we...      0.08125   \n",
       "1  # China 's medium explains the military reason...      0.10000   \n",
       "2  China even cut off communication , they do n't...      0.00000   \n",
       "3  Putin to # XiJinping : I told you my friend , ...      0.35000   \n",
       "4  I ’ m sorry , I thought Taiwan wa an independe...      0.55625   \n",
       "\n",
       "       Polarity Sentiment  \n",
       "0  0.000000e+00   Neutral  \n",
       "1 -1.000000e-01  Negative  \n",
       "2  0.000000e+00   Neutral  \n",
       "3  1.000000e-01  Positive  \n",
       "4 -6.938894e-18  Negative  \n",
       "\n",
       "[5 rows x 25 columns]"
      ]
     },
     "execution_count": 24,
     "metadata": {},
     "output_type": "execute_result"
    }
   ],
   "source": [
    "model_df.head()"
   ]
  },
  {
   "cell_type": "code",
   "execution_count": 25,
   "id": "da4390e6",
   "metadata": {},
   "outputs": [
    {
     "data": {
      "text/plain": [
       "Neutral     9257\n",
       "Positive    7917\n",
       "Negative    4826\n",
       "Name: Sentiment, dtype: int64"
      ]
     },
     "execution_count": 25,
     "metadata": {},
     "output_type": "execute_result"
    }
   ],
   "source": [
    "model_df['Sentiment'].value_counts()"
   ]
  },
  {
   "cell_type": "code",
   "execution_count": 26,
   "id": "a237e833",
   "metadata": {},
   "outputs": [],
   "source": [
    "import seaborn as sns"
   ]
  },
  {
   "cell_type": "code",
   "execution_count": 27,
   "id": "4c8f4aed",
   "metadata": {},
   "outputs": [],
   "source": [
    "bar_plot =  model_df['Sentiment'].value_counts().rename_axis('Sentiment').to_frame('Total Tweets').reset_index()   \n"
   ]
  },
  {
   "cell_type": "code",
   "execution_count": 28,
   "id": "bff65b32",
   "metadata": {},
   "outputs": [
    {
     "data": {
      "text/html": [
       "<div>\n",
       "<style scoped>\n",
       "    .dataframe tbody tr th:only-of-type {\n",
       "        vertical-align: middle;\n",
       "    }\n",
       "\n",
       "    .dataframe tbody tr th {\n",
       "        vertical-align: top;\n",
       "    }\n",
       "\n",
       "    .dataframe thead th {\n",
       "        text-align: right;\n",
       "    }\n",
       "</style>\n",
       "<table border=\"1\" class=\"dataframe\">\n",
       "  <thead>\n",
       "    <tr style=\"text-align: right;\">\n",
       "      <th></th>\n",
       "      <th>Sentiment</th>\n",
       "      <th>Total Tweets</th>\n",
       "    </tr>\n",
       "  </thead>\n",
       "  <tbody>\n",
       "    <tr>\n",
       "      <th>0</th>\n",
       "      <td>Neutral</td>\n",
       "      <td>9257</td>\n",
       "    </tr>\n",
       "    <tr>\n",
       "      <th>1</th>\n",
       "      <td>Positive</td>\n",
       "      <td>7917</td>\n",
       "    </tr>\n",
       "    <tr>\n",
       "      <th>2</th>\n",
       "      <td>Negative</td>\n",
       "      <td>4826</td>\n",
       "    </tr>\n",
       "  </tbody>\n",
       "</table>\n",
       "</div>"
      ],
      "text/plain": [
       "  Sentiment  Total Tweets\n",
       "0   Neutral          9257\n",
       "1  Positive          7917\n",
       "2  Negative          4826"
      ]
     },
     "execution_count": 28,
     "metadata": {},
     "output_type": "execute_result"
    }
   ],
   "source": [
    "bar_plot"
   ]
  },
  {
   "cell_type": "code",
   "execution_count": 29,
   "id": "6307983b",
   "metadata": {},
   "outputs": [
    {
     "data": {
      "image/png": "[encoded data removed]",
      "text/plain": [
       "<Figure size 432x288 with 1 Axes>"
      ]
     },
     "metadata": {
      "needs_background": "light"
     },
     "output_type": "display_data"
    }
   ],
   "source": [
    "x = bar_plot['Sentiment']\n",
    "y = bar_plot['Total Tweets']\n",
    "c = [\"green\", \"yellow\", \"red\"]\n",
    "plt.bar(x, y, width=0.5, color=c)\n",
    "plt.xlabel(\"Sentiment\")\n",
    "plt.ylabel(\"Total Tweets\")\n",
    "plt.title(\"Distribution of Sentiments\")\n",
    "plt.show()"
   ]
  },
  {
   "cell_type": "code",
   "execution_count": 30,
   "id": "ca0dee44",
   "metadata": {},
   "outputs": [],
   "source": [
    "#model_df['Polarity'] = model_df['Polarity'].round(3)"
   ]
  },
  {
   "cell_type": "code",
   "execution_count": 31,
   "id": "b78b9daf",
   "metadata": {},
   "outputs": [],
   "source": [
    "sentiment_tweet = model_df[['Tweets_Sentiments','polarity']]"
   ]
  },
  {
   "cell_type": "code",
   "execution_count": 32,
   "id": "448e079f",
   "metadata": {},
   "outputs": [],
   "source": [
    "score = pd.Series([getSentimentTextBlob(row_value) for row_value in sentiment_tweet['polarity']])\n"
   ]
  },
  {
   "cell_type": "code",
   "execution_count": 33,
   "id": "ec8c03b3",
   "metadata": {},
   "outputs": [],
   "source": [
    "sentiment_tweet = pd.concat([sentiment_tweet, score.rename(\"score\")], axis=1)"
   ]
  },
  {
   "cell_type": "code",
   "execution_count": 34,
   "id": "71acbdf9",
   "metadata": {},
   "outputs": [
    {
     "data": {
      "text/html": [
       "<div>\n",
       "<style scoped>\n",
       "    .dataframe tbody tr th:only-of-type {\n",
       "        vertical-align: middle;\n",
       "    }\n",
       "\n",
       "    .dataframe tbody tr th {\n",
       "        vertical-align: top;\n",
       "    }\n",
       "\n",
       "    .dataframe thead th {\n",
       "        text-align: right;\n",
       "    }\n",
       "</style>\n",
       "<table border=\"1\" class=\"dataframe\">\n",
       "  <thead>\n",
       "    <tr style=\"text-align: right;\">\n",
       "      <th></th>\n",
       "      <th>Tweets_Sentiments</th>\n",
       "      <th>polarity</th>\n",
       "      <th>score</th>\n",
       "    </tr>\n",
       "  </thead>\n",
       "  <tbody>\n",
       "    <tr>\n",
       "      <th>0</th>\n",
       "      <td>Lets focus in one very specific zone of the we...</td>\n",
       "      <td>0.000000e+00</td>\n",
       "      <td>Neutral</td>\n",
       "    </tr>\n",
       "    <tr>\n",
       "      <th>1</th>\n",
       "      <td># China 's medium explains the military reason...</td>\n",
       "      <td>-1.000000e-01</td>\n",
       "      <td>Negative</td>\n",
       "    </tr>\n",
       "    <tr>\n",
       "      <th>2</th>\n",
       "      <td>China even cut off communication , they do n't...</td>\n",
       "      <td>0.000000e+00</td>\n",
       "      <td>Neutral</td>\n",
       "    </tr>\n",
       "    <tr>\n",
       "      <th>3</th>\n",
       "      <td>Putin to # XiJinping : I told you my friend , ...</td>\n",
       "      <td>1.000000e-01</td>\n",
       "      <td>Positive</td>\n",
       "    </tr>\n",
       "    <tr>\n",
       "      <th>4</th>\n",
       "      <td>I ’ m sorry , I thought Taiwan wa an independe...</td>\n",
       "      <td>-6.938894e-18</td>\n",
       "      <td>Negative</td>\n",
       "    </tr>\n",
       "  </tbody>\n",
       "</table>\n",
       "</div>"
      ],
      "text/plain": [
       "                                   Tweets_Sentiments      polarity     score\n",
       "0  Lets focus in one very specific zone of the we...  0.000000e+00   Neutral\n",
       "1  # China 's medium explains the military reason... -1.000000e-01  Negative\n",
       "2  China even cut off communication , they do n't...  0.000000e+00   Neutral\n",
       "3  Putin to # XiJinping : I told you my friend , ...  1.000000e-01  Positive\n",
       "4  I ’ m sorry , I thought Taiwan wa an independe... -6.938894e-18  Negative"
      ]
     },
     "execution_count": 34,
     "metadata": {},
     "output_type": "execute_result"
    }
   ],
   "source": [
    "sentiment_tweet.head()"
   ]
  },
  {
   "cell_type": "code",
   "execution_count": 35,
   "id": "3f4c679f",
   "metadata": {},
   "outputs": [],
   "source": [
    "scoremap = pd.Series([1 if row_value == 'Positive' else 0 for row_value in sentiment_tweet['score']])"
   ]
  },
  {
   "cell_type": "code",
   "execution_count": 36,
   "id": "c09c58cd",
   "metadata": {},
   "outputs": [
    {
     "data": {
      "text/plain": [
       "22000"
      ]
     },
     "execution_count": 36,
     "metadata": {},
     "output_type": "execute_result"
    }
   ],
   "source": [
    "len(scoremap)"
   ]
  },
  {
   "cell_type": "code",
   "execution_count": 37,
   "id": "53ec57d8",
   "metadata": {},
   "outputs": [],
   "source": [
    "sentiment_tweet['scoremap'] = scoremap\n",
    "X = sentiment_tweet['Tweets_Sentiments']\n",
    "y = sentiment_tweet['scoremap']"
   ]
  },
  {
   "cell_type": "code",
   "execution_count": 38,
   "id": "ef624fd4",
   "metadata": {},
   "outputs": [],
   "source": [
    "X_train, X_test, y_train, y_test = train_test_split(X, y, test_size=0.2, random_state=42)"
   ]
  },
  {
   "cell_type": "code",
   "execution_count": 39,
   "id": "1428c38e",
   "metadata": {},
   "outputs": [
    {
     "name": "stdout",
     "output_type": "stream",
     "text": [
      "17600 , 4400\n",
      "4400 , 4400\n"
     ]
    }
   ],
   "source": [
    "print(X_train.size,',' , X_test.size)\n",
    "print(X_test.size, ',',y_test.size)"
   ]
  },
  {
   "cell_type": "code",
   "execution_count": 40,
   "id": "760b86be",
   "metadata": {},
   "outputs": [],
   "source": [
    "# scaling the input\n",
    "clf = LinearSVC()"
   ]
  },
  {
   "cell_type": "code",
   "execution_count": 41,
   "id": "0c9b8b76",
   "metadata": {},
   "outputs": [],
   "source": [
    "unigram_tfidf_vectorizer = TfidfVectorizer(max_features=10000, ngram_range = (1, 1))\n",
    "bigram_tfidf_vectorizer = TfidfVectorizer(max_features=10000, ngram_range = (2, 2))\n",
    "hybrid_tfidf_vectorizer = TfidfVectorizer(max_features=10000, ngram_range = (1, 2))"
   ]
  },
  {
   "cell_type": "code",
   "execution_count": 42,
   "id": "f1a5200b",
   "metadata": {},
   "outputs": [
    {
     "data": {
      "text/plain": [
       "LinearSVC()"
      ]
     },
     "execution_count": 42,
     "metadata": {},
     "output_type": "execute_result"
    }
   ],
   "source": [
    "X_train = X_train.replace(np.nan, '', regex=True)\n",
    "X_train_counts = unigram_tfidf_vectorizer.fit_transform(X_train)\n",
    "X_train_counts = X_train_counts.toarray()\n",
    "clf.fit(X_train_counts, y_train)"
   ]
  },
  {
   "cell_type": "code",
   "execution_count": 43,
   "id": "7c3e5880",
   "metadata": {},
   "outputs": [],
   "source": [
    "X_test = X_test.replace(np.nan, '', regex=True)\n",
    "X_test_counts = unigram_tfidf_vectorizer.transform(X_test)\n",
    "X_test_counts = X_test_counts.toarray()\n",
    "prediction = clf.predict(X_test_counts)\n"
   ]
  },
  {
   "cell_type": "code",
   "execution_count": 44,
   "id": "9a91515a",
   "metadata": {},
   "outputs": [
    {
     "data": {
      "text/plain": [
       "0.9643181818181819"
      ]
     },
     "execution_count": 44,
     "metadata": {},
     "output_type": "execute_result"
    }
   ],
   "source": [
    "np.mean(prediction == y_test)"
   ]
  },
  {
   "cell_type": "code",
   "execution_count": 45,
   "id": "731c6976",
   "metadata": {},
   "outputs": [
    {
     "data": {
      "text/plain": [
       "LinearSVC()"
      ]
     },
     "execution_count": 45,
     "metadata": {},
     "output_type": "execute_result"
    }
   ],
   "source": [
    "X_train = X_train.replace(np.nan, '', regex=True)\n",
    "X_train_counts = bigram_tfidf_vectorizer.fit_transform(X_train)\n",
    "X_train_counts = X_train_counts.toarray()\n",
    "clf.fit(X_train_counts, y_train)"
   ]
  },
  {
   "cell_type": "code",
   "execution_count": 46,
   "id": "f822f990",
   "metadata": {},
   "outputs": [],
   "source": [
    "X_test = X_test.replace(np.nan, '', regex=True)\n",
    "X_test_counts = bigram_tfidf_vectorizer.transform(X_test)\n",
    "X_test_counts = X_test_counts.toarray()\n",
    "prediction = clf.predict(X_test_counts)"
   ]
  },
  {
   "cell_type": "code",
   "execution_count": 47,
   "id": "6f2f04a7",
   "metadata": {},
   "outputs": [
    {
     "data": {
      "text/plain": [
       "0.9222727272727272"
      ]
     },
     "execution_count": 47,
     "metadata": {},
     "output_type": "execute_result"
    }
   ],
   "source": [
    "np.mean(prediction == y_test)"
   ]
  },
  {
   "cell_type": "code",
   "execution_count": 48,
   "id": "b983f791",
   "metadata": {},
   "outputs": [],
   "source": [
    "# X_train = X_train.replace(np.nan, '', regex=True)\n",
    "X_train_counts = hybrid_tfidf_vectorizer.fit_transform(X_train)\n",
    "X_train_counts = X_train_counts.toarray()\n",
    "model = clf.fit(X_train_counts, y_train)"
   ]
  },
  {
   "cell_type": "code",
   "execution_count": 49,
   "id": "6592a2b8",
   "metadata": {},
   "outputs": [],
   "source": [
    "X_test = X_test.replace(np.nan, '', regex=True)\n",
    "X_test_counts = hybrid_tfidf_vectorizer.transform(X_test)\n",
    "X_test_counts = X_test_counts.toarray()\n",
    "prediction = clf.predict(X_test_counts)"
   ]
  },
  {
   "cell_type": "code",
   "execution_count": 50,
   "id": "df1c106d",
   "metadata": {},
   "outputs": [
    {
     "data": {
      "text/plain": [
       "0.9595454545454546"
      ]
     },
     "execution_count": 50,
     "metadata": {},
     "output_type": "execute_result"
    }
   ],
   "source": [
    "np.mean(prediction == y_test)"
   ]
  },
  {
   "cell_type": "code",
   "execution_count": 51,
   "id": "df656e5b",
   "metadata": {},
   "outputs": [],
   "source": [
    "import pickle"
   ]
  },
  {
   "cell_type": "code",
   "execution_count": 52,
   "id": "c1e4a4d3",
   "metadata": {},
   "outputs": [],
   "source": [
    "pickle.dump(model, open('trained_model/model.pkl', 'wb'))"
   ]
  },
  {
   "cell_type": "markdown",
   "id": "760ae349",
   "metadata": {},
   "source": [
    "# Using PyLDAvis"
   ]
  },
  {
   "cell_type": "code",
   "execution_count": 53,
   "id": "a89fdfa9",
   "metadata": {},
   "outputs": [],
   "source": [
    "from nltk.stem import PorterStemmer\n",
    "from gensim.utils import simple_preprocess\n",
    "from gensim.parsing.preprocessing import STOPWORDS\n",
    "from nltk.stem import WordNetLemmatizer, SnowballStemmer\n",
    "from nltk.stem.porter import *\n",
    "from nltk.corpus import stopwords"
   ]
  },
  {
   "cell_type": "code",
   "execution_count": 54,
   "id": "ade03239",
   "metadata": {},
   "outputs": [],
   "source": [
    "def clean_text_cleaner(clean_text: str) -> str:\n",
    "    cleaned_text = re.sub('\\n', '', clean_text)\n",
    "    cleaned_text = re.findall(r'[a-zA-Z]+', cleaned_text)\n",
    "    cleaned_text = \" \".join(cleaned_text)\n",
    "    cleaned_text = re.sub(r'http.*', \"\", cleaned_text)\n",
    "\n",
    "    return cleaned_text"
   ]
  },
  {
   "cell_type": "code",
   "execution_count": 55,
   "id": "acb87f41",
   "metadata": {},
   "outputs": [],
   "source": [
    "model_df['clean_text'] = model_df['clean_text'].apply(clean_text_cleaner)"
   ]
  },
  {
   "cell_type": "code",
   "execution_count": 56,
   "id": "ff2c11c4",
   "metadata": {},
   "outputs": [
    {
     "data": {
      "text/plain": [
       "0        Lets focus in one very specific zone of the we...\n",
       "1        China s media explains the military reasons fo...\n",
       "2        China even cut off communication they don t an...\n",
       "3        Putin to XiJinping I told you my friend Taiwan...\n",
       "4        I m sorry I thought Taiwan was an independent ...\n",
       "                               ...                        \n",
       "21995    A good infographic of China s missile launches...\n",
       "21996    A good infographic of China s missile launches...\n",
       "21997                     Reuters Thanks Pelosi smart move\n",
       "21998    Taiwan people s Desire for Unification With Ch...\n",
       "21999    Taiwan people s Desire for Unification With Ch...\n",
       "Name: clean_text, Length: 22000, dtype: object"
      ]
     },
     "execution_count": 56,
     "metadata": {},
     "output_type": "execute_result"
    }
   ],
   "source": [
    "model_df['clean_text']"
   ]
  },
  {
   "cell_type": "code",
   "execution_count": 57,
   "id": "c95ee9a8",
   "metadata": {},
   "outputs": [],
   "source": [
    "# Stop words\n",
    "stop_words = stopwords.words('english')\n",
    "stop_words.extend(['from', 'subject', 're', 'edu', 'use'])"
   ]
  },
  {
   "cell_type": "code",
   "execution_count": 58,
   "id": "7231d10c",
   "metadata": {},
   "outputs": [
    {
     "data": {
      "text/html": [
       "<div>\n",
       "<style scoped>\n",
       "    .dataframe tbody tr th:only-of-type {\n",
       "        vertical-align: middle;\n",
       "    }\n",
       "\n",
       "    .dataframe tbody tr th {\n",
       "        vertical-align: top;\n",
       "    }\n",
       "\n",
       "    .dataframe thead th {\n",
       "        text-align: right;\n",
       "    }\n",
       "</style>\n",
       "<table border=\"1\" class=\"dataframe\">\n",
       "  <thead>\n",
       "    <tr style=\"text-align: right;\">\n",
       "      <th></th>\n",
       "      <th>created_at</th>\n",
       "      <th>statuses_count</th>\n",
       "      <th>source</th>\n",
       "      <th>original_text</th>\n",
       "      <th>clean_text</th>\n",
       "      <th>sentiment</th>\n",
       "      <th>polarity</th>\n",
       "      <th>subjectivity</th>\n",
       "      <th>lang</th>\n",
       "      <th>favorite_count</th>\n",
       "      <th>...</th>\n",
       "      <th>possibly_sensitive</th>\n",
       "      <th>hashtags</th>\n",
       "      <th>user_mentions</th>\n",
       "      <th>place</th>\n",
       "      <th>place_coord_boundaries</th>\n",
       "      <th>Tweets_Adjectives</th>\n",
       "      <th>Tweets_Sentiments</th>\n",
       "      <th>Subjectivity</th>\n",
       "      <th>Polarity</th>\n",
       "      <th>Sentiment</th>\n",
       "    </tr>\n",
       "  </thead>\n",
       "  <tbody>\n",
       "    <tr>\n",
       "      <th>0</th>\n",
       "      <td>2022-08-07 22:31:20+00:00</td>\n",
       "      <td>8097</td>\n",
       "      <td>&lt;a href=\"http://twitter.com/download/android\" ...</td>\n",
       "      <td>RT @i_ameztoy: Extra random image (I):\\n\\nLets...</td>\n",
       "      <td>Lets focus in one very specific zone of the we...</td>\n",
       "      <td>-1</td>\n",
       "      <td>0.000000e+00</td>\n",
       "      <td>0.08125</td>\n",
       "      <td>en</td>\n",
       "      <td>15760</td>\n",
       "      <td>...</td>\n",
       "      <td></td>\n",
       "      <td>City</td>\n",
       "      <td></td>\n",
       "      <td></td>\n",
       "      <td></td>\n",
       "      <td>specific western</td>\n",
       "      <td>Lets focus in one very specific zone of the we...</td>\n",
       "      <td>0.08125</td>\n",
       "      <td>0.000000e+00</td>\n",
       "      <td>Neutral</td>\n",
       "    </tr>\n",
       "    <tr>\n",
       "      <th>1</th>\n",
       "      <td>2022-08-07 22:31:16+00:00</td>\n",
       "      <td>5831</td>\n",
       "      <td>&lt;a href=\"http://twitter.com/download/android\" ...</td>\n",
       "      <td>RT @IndoPac_Info: #China's media explains the ...</td>\n",
       "      <td>China s media explains the military reasons fo...</td>\n",
       "      <td>0</td>\n",
       "      <td>-1.000000e-01</td>\n",
       "      <td>0.10000</td>\n",
       "      <td>en</td>\n",
       "      <td>6967</td>\n",
       "      <td>...</td>\n",
       "      <td></td>\n",
       "      <td>China</td>\n",
       "      <td></td>\n",
       "      <td></td>\n",
       "      <td></td>\n",
       "      <td>military</td>\n",
       "      <td># China 's medium explains the military reason...</td>\n",
       "      <td>0.10000</td>\n",
       "      <td>-1.000000e-01</td>\n",
       "      <td>Negative</td>\n",
       "    </tr>\n",
       "    <tr>\n",
       "      <th>2</th>\n",
       "      <td>2022-08-07 22:31:07+00:00</td>\n",
       "      <td>1627</td>\n",
       "      <td>&lt;a href=\"http://twitter.com/download/android\" ...</td>\n",
       "      <td>China even cut off communication, they don't a...</td>\n",
       "      <td>China even cut off communication they don t an...</td>\n",
       "      <td>-1</td>\n",
       "      <td>0.000000e+00</td>\n",
       "      <td>0.00000</td>\n",
       "      <td>en</td>\n",
       "      <td>2166</td>\n",
       "      <td>...</td>\n",
       "      <td></td>\n",
       "      <td>XiJinping</td>\n",
       "      <td></td>\n",
       "      <td>Netherlands</td>\n",
       "      <td></td>\n",
       "      <td>clown</td>\n",
       "      <td>China even cut off communication , they do n't...</td>\n",
       "      <td>0.00000</td>\n",
       "      <td>0.000000e+00</td>\n",
       "      <td>Neutral</td>\n",
       "    </tr>\n",
       "    <tr>\n",
       "      <th>3</th>\n",
       "      <td>2022-08-07 22:31:06+00:00</td>\n",
       "      <td>1627</td>\n",
       "      <td>&lt;a href=\"http://twitter.com/download/android\" ...</td>\n",
       "      <td>Putin to #XiJinping : I told you my friend, Ta...</td>\n",
       "      <td>Putin to XiJinping I told you my friend Taiwan...</td>\n",
       "      <td>1</td>\n",
       "      <td>1.000000e-01</td>\n",
       "      <td>0.35000</td>\n",
       "      <td>en</td>\n",
       "      <td>2166</td>\n",
       "      <td>...</td>\n",
       "      <td></td>\n",
       "      <td>XiJinping</td>\n",
       "      <td></td>\n",
       "      <td>Netherlands</td>\n",
       "      <td></td>\n",
       "      <td>vassal Ukrainian</td>\n",
       "      <td>Putin to # XiJinping : I told you my friend , ...</td>\n",
       "      <td>0.35000</td>\n",
       "      <td>1.000000e-01</td>\n",
       "      <td>Positive</td>\n",
       "    </tr>\n",
       "    <tr>\n",
       "      <th>4</th>\n",
       "      <td>2022-08-07 22:31:04+00:00</td>\n",
       "      <td>18958</td>\n",
       "      <td>&lt;a href=\"http://twitter.com/download/iphone\" r...</td>\n",
       "      <td>RT @ChinaUncensored: I’m sorry, I thought Taiw...</td>\n",
       "      <td>I m sorry I thought Taiwan was an independent ...</td>\n",
       "      <td>0</td>\n",
       "      <td>-6.938894e-18</td>\n",
       "      <td>0.55625</td>\n",
       "      <td>en</td>\n",
       "      <td>17247</td>\n",
       "      <td>...</td>\n",
       "      <td></td>\n",
       "      <td></td>\n",
       "      <td></td>\n",
       "      <td>Ayent, Schweiz</td>\n",
       "      <td></td>\n",
       "      <td>m independent own military</td>\n",
       "      <td>I ’ m sorry , I thought Taiwan wa an independe...</td>\n",
       "      <td>0.55625</td>\n",
       "      <td>-6.938894e-18</td>\n",
       "      <td>Negative</td>\n",
       "    </tr>\n",
       "  </tbody>\n",
       "</table>\n",
       "<p>5 rows × 25 columns</p>\n",
       "</div>"
      ],
      "text/plain": [
       "                  created_at  statuses_count  \\\n",
       "0  2022-08-07 22:31:20+00:00            8097   \n",
       "1  2022-08-07 22:31:16+00:00            5831   \n",
       "2  2022-08-07 22:31:07+00:00            1627   \n",
       "3  2022-08-07 22:31:06+00:00            1627   \n",
       "4  2022-08-07 22:31:04+00:00           18958   \n",
       "\n",
       "                                              source  \\\n",
       "0  <a href=\"http://twitter.com/download/android\" ...   \n",
       "1  <a href=\"http://twitter.com/download/android\" ...   \n",
       "2  <a href=\"http://twitter.com/download/android\" ...   \n",
       "3  <a href=\"http://twitter.com/download/android\" ...   \n",
       "4  <a href=\"http://twitter.com/download/iphone\" r...   \n",
       "\n",
       "                                       original_text  \\\n",
       "0  RT @i_ameztoy: Extra random image (I):\\n\\nLets...   \n",
       "1  RT @IndoPac_Info: #China's media explains the ...   \n",
       "2  China even cut off communication, they don't a...   \n",
       "3  Putin to #XiJinping : I told you my friend, Ta...   \n",
       "4  RT @ChinaUncensored: I’m sorry, I thought Taiw...   \n",
       "\n",
       "                                          clean_text  sentiment      polarity  \\\n",
       "0  Lets focus in one very specific zone of the we...         -1  0.000000e+00   \n",
       "1  China s media explains the military reasons fo...          0 -1.000000e-01   \n",
       "2  China even cut off communication they don t an...         -1  0.000000e+00   \n",
       "3  Putin to XiJinping I told you my friend Taiwan...          1  1.000000e-01   \n",
       "4  I m sorry I thought Taiwan was an independent ...          0 -6.938894e-18   \n",
       "\n",
       "   subjectivity lang  favorite_count  ...  possibly_sensitive   hashtags  \\\n",
       "0       0.08125   en           15760  ...                           City   \n",
       "1       0.10000   en            6967  ...                          China   \n",
       "2       0.00000   en            2166  ...                      XiJinping   \n",
       "3       0.35000   en            2166  ...                      XiJinping   \n",
       "4       0.55625   en           17247  ...                                  \n",
       "\n",
       "   user_mentions           place  place_coord_boundaries  \\\n",
       "0                                                          \n",
       "1                                                          \n",
       "2                    Netherlands                           \n",
       "3                    Netherlands                           \n",
       "4                 Ayent, Schweiz                           \n",
       "\n",
       "            Tweets_Adjectives  \\\n",
       "0            specific western   \n",
       "1                    military   \n",
       "2                       clown   \n",
       "3            vassal Ukrainian   \n",
       "4  m independent own military   \n",
       "\n",
       "                                   Tweets_Sentiments Subjectivity  \\\n",
       "0  Lets focus in one very specific zone of the we...      0.08125   \n",
       "1  # China 's medium explains the military reason...      0.10000   \n",
       "2  China even cut off communication , they do n't...      0.00000   \n",
       "3  Putin to # XiJinping : I told you my friend , ...      0.35000   \n",
       "4  I ’ m sorry , I thought Taiwan wa an independe...      0.55625   \n",
       "\n",
       "       Polarity Sentiment  \n",
       "0  0.000000e+00   Neutral  \n",
       "1 -1.000000e-01  Negative  \n",
       "2  0.000000e+00   Neutral  \n",
       "3  1.000000e-01  Positive  \n",
       "4 -6.938894e-18  Negative  \n",
       "\n",
       "[5 rows x 25 columns]"
      ]
     },
     "execution_count": 58,
     "metadata": {},
     "output_type": "execute_result"
    }
   ],
   "source": [
    "topic_model_df = model_df.copy(deep=True)\n",
    "topic_model_df.head()"
   ]
  },
  {
   "cell_type": "code",
   "execution_count": 59,
   "id": "0660b9ba",
   "metadata": {},
   "outputs": [],
   "source": [
    "def get_hastags_words_list():\n",
    "    hashtagList = []\n",
    "    for hashtags in topic_model_df.hashtags:\n",
    "        if(hashtags != \"\"):\n",
    "            hashtagList += hashtags.split(',')\n",
    "\n",
    "    return hashtagList\n",
    "\n",
    "hashtag = get_hastags_words_list()\n",
    "\n",
    "data = [word for sentence in topic_model_df.clean_text for word in sentence.split(' ')]"
   ]
  },
  {
   "cell_type": "code",
   "execution_count": 60,
   "id": "0ea113bf",
   "metadata": {},
   "outputs": [
    {
     "data": {
      "text/plain": [
       "['City', 'China', 'XiJinping', 'XiJinping', 'Taiwan']"
      ]
     },
     "execution_count": 60,
     "metadata": {},
     "output_type": "execute_result"
    }
   ],
   "source": [
    "hashtag[:5]"
   ]
  },
  {
   "cell_type": "code",
   "execution_count": 61,
   "id": "781afab7",
   "metadata": {},
   "outputs": [
    {
     "data": {
      "text/plain": [
       "['Lets',\n",
       " 'focus',\n",
       " 'in',\n",
       " 'one',\n",
       " 'very',\n",
       " 'specific',\n",
       " 'zone',\n",
       " 'of',\n",
       " 'the',\n",
       " 'western']"
      ]
     },
     "execution_count": 61,
     "metadata": {},
     "output_type": "execute_result"
    }
   ],
   "source": [
    "data[:10]"
   ]
  },
  {
   "cell_type": "code",
   "execution_count": 62,
   "id": "41cf40c8",
   "metadata": {},
   "outputs": [
    {
     "data": {
      "text/plain": [
       "['Lets', 'focus', 'in', 'one', 'very']"
      ]
     },
     "execution_count": 62,
     "metadata": {},
     "output_type": "execute_result"
    }
   ],
   "source": [
    "data_words = data + hashtag\n",
    "data_words = [word for word in data_words if word != '']\n",
    "data_words[:5]"
   ]
  },
  {
   "cell_type": "code",
   "execution_count": 63,
   "id": "262a0ef0",
   "metadata": {},
   "outputs": [
    {
     "name": "stdout",
     "output_type": "stream",
     "text": [
      "['L', 'e', 't', 's']\n"
     ]
    }
   ],
   "source": [
    "# Build the bigram and trigram models\n",
    "bigram = gensim.models.Phrases(data_words, min_count=5, threshold=100) # higher threshold fewer phrases.\n",
    "trigram = gensim.models.Phrases(bigram[data_words], threshold=100)\n",
    "# Faster way to get a sentence clubbed as a trigram/bigram\n",
    "bigram_mod = gensim.models.phrases.Phraser(bigram)\n",
    "trigram_mod = gensim.models.phrases.Phraser(trigram)\n",
    "# See trigram example\n",
    "print(trigram_mod[bigram_mod[data_words[0]]])"
   ]
  },
  {
   "cell_type": "code",
   "execution_count": 64,
   "id": "7cb53927",
   "metadata": {},
   "outputs": [],
   "source": [
    "# Define function for stopwords, bigrams, trigrams and lemmatization\n",
    "def remove_stopwords(texts):\n",
    "    return [[word for word in simple_preprocess(str(doc)) if word not in stop_words] for doc in texts]\n",
    "\n",
    "def make_bigrams(texts):\n",
    "    return [bigram_mod[doc] for doc in texts]\n",
    "\n",
    "def make_trigrams(texts):\n",
    "    return [trigram_mod[bigram_mod[doc]] for doc in texts]\n",
    "\n",
    "def lemmatization(texts, allowed_postags=['NOUN', 'ADJ', 'VERB', 'ADV']):\n",
    "    texts_out = []\n",
    "    for sent in texts:\n",
    "        doc = nlp(\" \".join(sent)) \n",
    "        texts_out.append([token.lemma_ for token in doc if token.pos_ in allowed_postags])\n",
    "    return texts_out"
   ]
  },
  {
   "cell_type": "code",
   "execution_count": 65,
   "id": "2726f0c0",
   "metadata": {},
   "outputs": [
    {
     "name": "stdout",
     "output_type": "stream",
     "text": [
      "\u001b[38;5;3m⚠ As of spaCy v3.0, shortcuts like 'en' are deprecated. Please use the\n",
      "full pipeline package name 'en_core_web_sm' instead.\u001b[0m\n",
      "Collecting en-core-web-sm==3.4.0\n",
      "  Downloading https://github.com/explosion/spacy-models/releases/download/en_core_web_sm-3.4.0/en_core_web_sm-3.4.0-py3-none-any.whl (12.8 MB)\n",
      "\u001b[K     |████████████████████████████████| 12.8 MB 158 kB/s eta 0:00:01\n",
      "\u001b[?25hRequirement already satisfied: spacy<3.5.0,>=3.4.0 in /home/nhgirma/anaconda3/lib/python3.9/site-packages (from en-core-web-sm==3.4.0) (3.4.1)\n",
      "Requirement already satisfied: catalogue<2.1.0,>=2.0.6 in /home/nhgirma/anaconda3/lib/python3.9/site-packages (from spacy<3.5.0,>=3.4.0->en-core-web-sm==3.4.0) (2.0.8)\n",
      "Requirement already satisfied: spacy-legacy<3.1.0,>=3.0.9 in /home/nhgirma/anaconda3/lib/python3.9/site-packages (from spacy<3.5.0,>=3.4.0->en-core-web-sm==3.4.0) (3.0.9)\n",
      "Requirement already satisfied: srsly<3.0.0,>=2.4.3 in /home/nhgirma/anaconda3/lib/python3.9/site-packages (from spacy<3.5.0,>=3.4.0->en-core-web-sm==3.4.0) (2.4.4)\n",
      "Requirement already satisfied: setuptools in /home/nhgirma/anaconda3/lib/python3.9/site-packages (from spacy<3.5.0,>=3.4.0->en-core-web-sm==3.4.0) (61.2.0)\n",
      "Requirement already satisfied: tqdm<5.0.0,>=4.38.0 in /home/nhgirma/anaconda3/lib/python3.9/site-packages (from spacy<3.5.0,>=3.4.0->en-core-web-sm==3.4.0) (4.64.0)\n",
      "Requirement already satisfied: spacy-loggers<2.0.0,>=1.0.0 in /home/nhgirma/anaconda3/lib/python3.9/site-packages (from spacy<3.5.0,>=3.4.0->en-core-web-sm==3.4.0) (1.0.3)\n",
      "Requirement already satisfied: jinja2 in /home/nhgirma/anaconda3/lib/python3.9/site-packages (from spacy<3.5.0,>=3.4.0->en-core-web-sm==3.4.0) (2.11.3)\n",
      "Requirement already satisfied: thinc<8.2.0,>=8.1.0 in /home/nhgirma/anaconda3/lib/python3.9/site-packages (from spacy<3.5.0,>=3.4.0->en-core-web-sm==3.4.0) (8.1.0)\n",
      "Requirement already satisfied: cymem<2.1.0,>=2.0.2 in /home/nhgirma/anaconda3/lib/python3.9/site-packages (from spacy<3.5.0,>=3.4.0->en-core-web-sm==3.4.0) (2.0.6)\n",
      "Requirement already satisfied: typer<0.5.0,>=0.3.0 in /home/nhgirma/anaconda3/lib/python3.9/site-packages (from spacy<3.5.0,>=3.4.0->en-core-web-sm==3.4.0) (0.4.2)\n",
      "Requirement already satisfied: requests<3.0.0,>=2.13.0 in /home/nhgirma/anaconda3/lib/python3.9/site-packages (from spacy<3.5.0,>=3.4.0->en-core-web-sm==3.4.0) (2.27.1)\n",
      "Requirement already satisfied: packaging>=20.0 in /home/nhgirma/anaconda3/lib/python3.9/site-packages (from spacy<3.5.0,>=3.4.0->en-core-web-sm==3.4.0) (21.3)\n",
      "Requirement already satisfied: numpy>=1.15.0 in /home/nhgirma/anaconda3/lib/python3.9/site-packages (from spacy<3.5.0,>=3.4.0->en-core-web-sm==3.4.0) (1.21.5)\n",
      "Requirement already satisfied: pydantic!=1.8,!=1.8.1,<1.10.0,>=1.7.4 in /home/nhgirma/anaconda3/lib/python3.9/site-packages (from spacy<3.5.0,>=3.4.0->en-core-web-sm==3.4.0) (1.9.2)\n",
      "Requirement already satisfied: preshed<3.1.0,>=3.0.2 in /home/nhgirma/anaconda3/lib/python3.9/site-packages (from spacy<3.5.0,>=3.4.0->en-core-web-sm==3.4.0) (3.0.6)\n",
      "Requirement already satisfied: langcodes<4.0.0,>=3.2.0 in /home/nhgirma/anaconda3/lib/python3.9/site-packages (from spacy<3.5.0,>=3.4.0->en-core-web-sm==3.4.0) (3.3.0)\n",
      "Requirement already satisfied: wasabi<1.1.0,>=0.9.1 in /home/nhgirma/anaconda3/lib/python3.9/site-packages (from spacy<3.5.0,>=3.4.0->en-core-web-sm==3.4.0) (0.10.1)\n",
      "Requirement already satisfied: pathy>=0.3.5 in /home/nhgirma/anaconda3/lib/python3.9/site-packages (from spacy<3.5.0,>=3.4.0->en-core-web-sm==3.4.0) (0.6.2)\n",
      "Requirement already satisfied: murmurhash<1.1.0,>=0.28.0 in /home/nhgirma/anaconda3/lib/python3.9/site-packages (from spacy<3.5.0,>=3.4.0->en-core-web-sm==3.4.0) (1.0.7)\n",
      "Requirement already satisfied: pyparsing!=3.0.5,>=2.0.2 in /home/nhgirma/anaconda3/lib/python3.9/site-packages (from packaging>=20.0->spacy<3.5.0,>=3.4.0->en-core-web-sm==3.4.0) (3.0.4)\n",
      "Requirement already satisfied: smart-open<6.0.0,>=5.2.1 in /home/nhgirma/anaconda3/lib/python3.9/site-packages (from pathy>=0.3.5->spacy<3.5.0,>=3.4.0->en-core-web-sm==3.4.0) (5.2.1)\n",
      "Requirement already satisfied: typing-extensions>=3.7.4.3 in /home/nhgirma/anaconda3/lib/python3.9/site-packages (from pydantic!=1.8,!=1.8.1,<1.10.0,>=1.7.4->spacy<3.5.0,>=3.4.0->en-core-web-sm==3.4.0) (4.1.1)\n",
      "Requirement already satisfied: charset-normalizer~=2.0.0 in /home/nhgirma/anaconda3/lib/python3.9/site-packages (from requests<3.0.0,>=2.13.0->spacy<3.5.0,>=3.4.0->en-core-web-sm==3.4.0) (2.0.4)\n",
      "Requirement already satisfied: urllib3<1.27,>=1.21.1 in /home/nhgirma/anaconda3/lib/python3.9/site-packages (from requests<3.0.0,>=2.13.0->spacy<3.5.0,>=3.4.0->en-core-web-sm==3.4.0) (1.26.9)\n",
      "Requirement already satisfied: idna<4,>=2.5 in /home/nhgirma/anaconda3/lib/python3.9/site-packages (from requests<3.0.0,>=2.13.0->spacy<3.5.0,>=3.4.0->en-core-web-sm==3.4.0) (3.3)\n",
      "Requirement already satisfied: certifi>=2017.4.17 in /home/nhgirma/anaconda3/lib/python3.9/site-packages (from requests<3.0.0,>=2.13.0->spacy<3.5.0,>=3.4.0->en-core-web-sm==3.4.0) (2021.10.8)\n",
      "Requirement already satisfied: blis<0.8.0,>=0.7.8 in /home/nhgirma/anaconda3/lib/python3.9/site-packages (from thinc<8.2.0,>=8.1.0->spacy<3.5.0,>=3.4.0->en-core-web-sm==3.4.0) (0.7.8)\n",
      "Requirement already satisfied: click<9.0.0,>=7.1.1 in /home/nhgirma/anaconda3/lib/python3.9/site-packages (from typer<0.5.0,>=0.3.0->spacy<3.5.0,>=3.4.0->en-core-web-sm==3.4.0) (8.0.4)\n",
      "Requirement already satisfied: MarkupSafe>=0.23 in /home/nhgirma/anaconda3/lib/python3.9/site-packages (from jinja2->spacy<3.5.0,>=3.4.0->en-core-web-sm==3.4.0) (2.0.1)\n",
      "\u001b[38;5;2m✔ Download and installation successful\u001b[0m\n",
      "You can now load the package via spacy.load('en_core_web_sm')\n"
     ]
    }
   ],
   "source": [
    "!python3 -m spacy download en"
   ]
  },
  {
   "cell_type": "code",
   "execution_count": null,
   "id": "2058973f",
   "metadata": {},
   "outputs": [],
   "source": [
    "# Remove Stop Words\n",
    "data_words_nostops = remove_stopwords(data_words)\n",
    "\n",
    "# Form Bigrams\n",
    "data_words_bigrams = make_bigrams(data_words_nostops)\n",
    "\n",
    "# Initialize spacy 'en' model, keeping only tagger component (for efficiency)\n",
    "#nlp = spacy.load('en_core_web_sm', disable=['parser', 'ner'])\n",
    "\n",
    "# Do lemmatization keeping only noun, adj, vb, adv\n",
    "data_lemmatized = lemmatization(data_words_bigrams, allowed_postags=['NOUN', 'ADJ', 'VERB', 'ADV'])\n",
    "\n",
    "print(data_lemmatized[:1])"
   ]
  },
  {
   "cell_type": "code",
   "execution_count": null,
   "id": "b8d2421c",
   "metadata": {},
   "outputs": [],
   "source": [
    "data_lemmatized = [word for word in data_lemmatized if word != []]\n",
    "data_lemmatized[:5]"
   ]
  },
  {
   "cell_type": "code",
   "execution_count": null,
   "id": "761ee54c",
   "metadata": {},
   "outputs": [],
   "source": [
    "# Create Dictionary \n",
    "id2word = corpora.Dictionary(data_lemmatized)  \n",
    "# Create Corpus \n",
    "texts = data_lemmatized  \n",
    "# Term Document Frequency \n",
    "corpus = [id2word.doc2bow(text) for text in texts]  \n",
    "# View \n",
    "print(corpus)"
   ]
  },
  {
   "cell_type": "code",
   "execution_count": null,
   "id": "c3e2cd10",
   "metadata": {},
   "outputs": [],
   "source": [
    "# Readable View\n",
    "[[(id2word[id], freq) for id, freq in cp] for cp in corpus[:10]]"
   ]
  },
  {
   "cell_type": "code",
   "execution_count": null,
   "id": "5123ea86",
   "metadata": {},
   "outputs": [],
   "source": [
    "lda_model = gensim.models.ldamodel.LdaModel(corpus=corpus,\n",
    "                                           id2word=id2word,\n",
    "                                           num_topics=20, \n",
    "                                           random_state=100,\n",
    "                                           update_every=1,\n",
    "                                           chunksize=100,\n",
    "                                           passes=10,\n",
    "                                           alpha='auto',\n",
    "                                           per_word_topics=True)"
   ]
  },
  {
   "cell_type": "code",
   "execution_count": null,
   "id": "f2166bee",
   "metadata": {},
   "outputs": [],
   "source": [
    "# Print the keyword of topics\n",
    "pprint(lda_model.print_topics())\n",
    "doc_lda = lda_model[corpus]"
   ]
  },
  {
   "cell_type": "code",
   "execution_count": null,
   "id": "2ffdcd49",
   "metadata": {},
   "outputs": [],
   "source": [
    "# Compute Perplexity\n",
    "perplexity_score = lda_model.log_perplexity(corpus)\n",
    "print('\\nPerplexity: ', perplexity_score)  \n",
    "# a measure of how good the model is. lower the better.\n",
    "\n",
    "# Compute Coherence Score\n",
    "coherence_model_lda = CoherenceModel(model=lda_model, texts=data_lemmatized, dictionary=id2word, coherence='c_v')\n",
    "coherence_lda = coherence_model_lda.get_coherence()\n",
    "print('\\nCoherence Score: ', coherence_lda)"
   ]
  },
  {
   "cell_type": "code",
   "execution_count": null,
   "id": "4601c6ba",
   "metadata": {},
   "outputs": [],
   "source": [
    "# Compute Perplexity\n",
    "perplexity_score = lda_model.log_perplexity(corpus)\n",
    "print('\\nPerplexity: ', perplexity_score)  \n",
    "# a measure of how good the model is. lower the better.\n",
    "\n",
    "# Compute Coherence Score\n",
    "coherence_model_lda = CoherenceModel(model=lda_model, texts=data_lemmatized, dictionary=id2word, coherence='c_v')\n",
    "coherence_lda = coherence_model_lda.get_coherence()\n",
    "print('\\nCoherence Score: ', coherence_lda)"
   ]
  },
  {
   "cell_type": "code",
   "execution_count": null,
   "id": "e5e5b6fa",
   "metadata": {},
   "outputs": [],
   "source": [
    "class PrepareData:\n",
    "      def __init__(self,df):\n",
    "        self.df=df\n",
    "    \n",
    "      def preprocess_data(self):\n",
    "        tweets_df = self.df.loc[self.df['lang'] ==\"en\"]\n",
    "\n",
    "    \n",
    "    #text Preprocessing\n",
    "        model_df['clean_text']=model_df['clean_text'].astype(str)\n",
    "        model_df['clean_text'] = model_df['clean_text'].str.replace('[^\\w\\s]\\n','')\n",
    "        model_df['clean_text'] = model_df['clean_text'].apply(lambda x: x.lower())\n",
    "        model_df['clean_text']= model_df['clean_text'].apply(lambda x: x.translate(str.maketrans(' ', ' ', string.punctuation)))\n",
    "        model_df['clean_text'] = model_df['clean_text'].str.replace('\\w*\\d\\w*\\n','')\n",
    "        \n",
    "        #stemmer = PorterStemmer()\n",
    "        #model_df['clean_text'] = model_df['clean_text'].apply(lambda x: \" \".join([stemmer.stem(word) for word in x.split()]))\n",
    "\n",
    "\n",
    "        \n",
    "      \n",
    "        #model_df['clean_text'] = model_df['clean_text']\n",
    "\n",
    "        #Converting tweets to list of words For feature engineering\n",
    "        sentence_list = [tweet for tweet in model_df['clean_text']]\n",
    "        word_list = [sent.split() for sent in sentence_list]\n",
    "        # print(word_list)\n",
    "\n",
    "        #Create dictionary which contains Id and word \n",
    "        word_to_id = corpora.Dictionary(word_list) #generate unique tokens\n",
    "        #  we can see the word to unique integer mapping\n",
    "        # print(word_to_id.token2id)\n",
    "        # using bag of words(bow), we create a corpus that contains the word id and its frequency in each document.\n",
    "        corpus_1= [word_to_id.doc2bow(tweet) for tweet in word_list]\n",
    "        \n",
    "\n",
    "        return word_list, word_to_id, corpus_1\n"
   ]
  },
  {
   "cell_type": "code",
   "execution_count": null,
   "id": "5110d7c7",
   "metadata": {},
   "outputs": [],
   "source": []
  },
  {
   "cell_type": "code",
   "execution_count": null,
   "id": "c724616e",
   "metadata": {},
   "outputs": [],
   "source": []
  },
  {
   "cell_type": "code",
   "execution_count": null,
   "id": "474a04bf",
   "metadata": {},
   "outputs": [],
   "source": []
  },
  {
   "cell_type": "code",
   "execution_count": null,
   "id": "8bd28aa9",
   "metadata": {},
   "outputs": [],
   "source": []
  },
  {
   "cell_type": "code",
   "execution_count": null,
   "id": "f35d6b9b",
   "metadata": {},
   "outputs": [],
   "source": []
  },
  {
   "cell_type": "code",
   "execution_count": null,
   "id": "1bdcec0b",
   "metadata": {},
   "outputs": [],
   "source": [
    "PrepareData_obj=PrepareData(model_df)\n",
    "word_list ,id2word,corpus=PrepareData_obj.preprocess_data()"
   ]
  },
  {
   "cell_type": "code",
   "execution_count": null,
   "id": "0f84bb4d",
   "metadata": {},
   "outputs": [],
   "source": [
    "model_df['clean_text'][0:5]"
   ]
  },
  {
   "cell_type": "code",
   "execution_count": null,
   "id": "96a531cb",
   "metadata": {},
   "outputs": [],
   "source": []
  },
  {
   "cell_type": "code",
   "execution_count": null,
   "id": "abe773f7",
   "metadata": {},
   "outputs": [],
   "source": []
  },
  {
   "cell_type": "code",
   "execution_count": null,
   "id": "1209e8b2",
   "metadata": {},
   "outputs": [],
   "source": []
  },
  {
   "cell_type": "code",
   "execution_count": null,
   "id": "fbb4e20b",
   "metadata": {},
   "outputs": [],
   "source": []
  },
  {
   "cell_type": "code",
   "execution_count": null,
   "id": "1212840a",
   "metadata": {},
   "outputs": [],
   "source": []
  },
  {
   "cell_type": "code",
   "execution_count": null,
   "id": "c2303e69",
   "metadata": {},
   "outputs": [],
   "source": [
    "print(corpus[0:3])"
   ]
  },
  {
   "cell_type": "code",
   "execution_count": null,
   "id": "a767e0c8",
   "metadata": {},
   "outputs": [],
   "source": [
    "id_words = [[(id2word[id], count) for id, count in line] for line in corpus]"
   ]
  },
  {
   "cell_type": "code",
   "execution_count": null,
   "id": "09b729a7",
   "metadata": {},
   "outputs": [],
   "source": [
    "print(id_words[0:3])"
   ]
  },
  {
   "cell_type": "code",
   "execution_count": null,
   "id": "6c3a7c0d",
   "metadata": {},
   "outputs": [],
   "source": [
    "type(id_words)"
   ]
  },
  {
   "cell_type": "code",
   "execution_count": null,
   "id": "589b75a4",
   "metadata": {},
   "outputs": [],
   "source": [
    "# Build LDA model\n",
    "lda_model = gensim.models.ldamodel.LdaModel(corpus,\n",
    "                                           id2word=id2word,\n",
    "                                           num_topics=5, \n",
    "                                           random_state=100,\n",
    "                                           update_every=1,\n",
    "                                           chunksize=100,\n",
    "                                           passes=10,\n",
    "                                           alpha='auto',\n",
    "                                           per_word_topics=True)"
   ]
  },
  {
   "cell_type": "code",
   "execution_count": null,
   "id": "5c317111",
   "metadata": {},
   "outputs": [],
   "source": [
    "pprint(lda_model.print_topics())"
   ]
  },
  {
   "cell_type": "code",
   "execution_count": null,
   "id": "2effa1db",
   "metadata": {},
   "outputs": [],
   "source": [
    "pprint(lda_model.show_topics(formatted=False))"
   ]
  },
  {
   "cell_type": "code",
   "execution_count": null,
   "id": "211771ad",
   "metadata": {},
   "outputs": [],
   "source": [
    "# Compute Perplexity\n",
    "\n",
    "#It's a measure of how good the model is. The lower the better. Perplexity is a negative value\n",
    "print('\\nPerplexity: ', lda_model.log_perplexity(corpus))  \n",
    "doc_lda = lda_model[corpus]\n",
    "\n",
    "\n",
    "# Compute Coherence Score\n",
    "coherence_model_lda = CoherenceModel(model=lda_model, texts=word_list, dictionary=id2word, coherence='c_v')\n",
    "coherence_lda = coherence_model_lda.get_coherence()\n",
    "print('\\n Ldamodel Coherence Score/Accuracy on Tweets: ', coherence_lda)"
   ]
  },
  {
   "cell_type": "code",
   "execution_count": null,
   "id": "6c1e9c62",
   "metadata": {},
   "outputs": [],
   "source": [
    "import pyLDAvis.gensim_models as gensimvis\n",
    "import pickle \n",
    "import pyLDAvis\n",
    "# Visualize the topics\n",
    "pyLDAvis.enable_notebook()\n",
    "\n",
    "LDAvis_prepared = gensimvis.prepare(lda_model, corpus, id2word)\n",
    "LDAvis_prepared"
   ]
  },
  {
   "cell_type": "code",
   "execution_count": null,
   "id": "79a61d7a",
   "metadata": {},
   "outputs": [],
   "source": []
  }
 ],
 "metadata": {
  "kernelspec": {
   "display_name": "Python 3 (ipykernel)",
   "language": "python",
   "name": "python3"
  },
  "language_info": {
   "codemirror_mode": {
    "name": "ipython",
    "version": 3
   },
   "file_extension": ".py",
   "mimetype": "text/x-python",
   "name": "python",
   "nbconvert_exporter": "python",
   "pygments_lexer": "ipython3",
   "version": "3.9.12"
  }
 },
 "nbformat": 4,
 "nbformat_minor": 5
}
