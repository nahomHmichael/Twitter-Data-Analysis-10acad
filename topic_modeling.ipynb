{
 "cells": [
  {
   "cell_type": "code",
   "execution_count": 110,
   "id": "c39a30d1",
   "metadata": {},
   "outputs": [
    {
     "name": "stdout",
     "output_type": "stream",
     "text": [
      "Requirement already satisfied: pyLDAvis in /home/nhgirma/anaconda3/lib/python3.9/site-packages (3.3.1)\n",
      "Requirement already satisfied: scipy in /home/nhgirma/anaconda3/lib/python3.9/site-packages (from pyLDAvis) (1.7.3)\n",
      "Requirement already satisfied: sklearn in /home/nhgirma/anaconda3/lib/python3.9/site-packages (from pyLDAvis) (0.0)\n",
      "Requirement already satisfied: jinja2 in /home/nhgirma/anaconda3/lib/python3.9/site-packages (from pyLDAvis) (2.11.3)\n",
      "Requirement already satisfied: joblib in /home/nhgirma/anaconda3/lib/python3.9/site-packages (from pyLDAvis) (1.1.0)\n",
      "Requirement already satisfied: funcy in /home/nhgirma/anaconda3/lib/python3.9/site-packages (from pyLDAvis) (1.17)\n",
      "Requirement already satisfied: gensim in /home/nhgirma/anaconda3/lib/python3.9/site-packages (from pyLDAvis) (4.1.2)\n",
      "Requirement already satisfied: future in /home/nhgirma/anaconda3/lib/python3.9/site-packages (from pyLDAvis) (0.18.2)\n",
      "Requirement already satisfied: setuptools in /home/nhgirma/anaconda3/lib/python3.9/site-packages (from pyLDAvis) (61.2.0)\n",
      "Requirement already satisfied: numpy>=1.20.0 in /home/nhgirma/anaconda3/lib/python3.9/site-packages (from pyLDAvis) (1.21.5)\n",
      "Requirement already satisfied: pandas>=1.2.0 in /home/nhgirma/anaconda3/lib/python3.9/site-packages (from pyLDAvis) (1.4.2)\n",
      "Requirement already satisfied: numexpr in /home/nhgirma/anaconda3/lib/python3.9/site-packages (from pyLDAvis) (2.8.1)\n",
      "Requirement already satisfied: scikit-learn in /home/nhgirma/anaconda3/lib/python3.9/site-packages (from pyLDAvis) (1.0.2)\n",
      "Requirement already satisfied: python-dateutil>=2.8.1 in /home/nhgirma/anaconda3/lib/python3.9/site-packages (from pandas>=1.2.0->pyLDAvis) (2.8.2)\n",
      "Requirement already satisfied: pytz>=2020.1 in /home/nhgirma/anaconda3/lib/python3.9/site-packages (from pandas>=1.2.0->pyLDAvis) (2021.3)\n",
      "Requirement already satisfied: six>=1.5 in /home/nhgirma/anaconda3/lib/python3.9/site-packages (from python-dateutil>=2.8.1->pandas>=1.2.0->pyLDAvis) (1.16.0)\n",
      "Requirement already satisfied: smart-open>=1.8.1 in /home/nhgirma/anaconda3/lib/python3.9/site-packages (from gensim->pyLDAvis) (5.1.0)\n",
      "Requirement already satisfied: MarkupSafe>=0.23 in /home/nhgirma/anaconda3/lib/python3.9/site-packages (from jinja2->pyLDAvis) (2.0.1)\n",
      "Requirement already satisfied: packaging in /home/nhgirma/anaconda3/lib/python3.9/site-packages (from numexpr->pyLDAvis) (21.3)\n",
      "Requirement already satisfied: pyparsing!=3.0.5,>=2.0.2 in /home/nhgirma/anaconda3/lib/python3.9/site-packages (from packaging->numexpr->pyLDAvis) (3.0.4)\n",
      "Requirement already satisfied: threadpoolctl>=2.0.0 in /home/nhgirma/anaconda3/lib/python3.9/site-packages (from scikit-learn->pyLDAvis) (2.2.0)\n"
     ]
    }
   ],
   "source": [
    "!pip install pyLDAvis "
   ]
  },
  {
   "cell_type": "code",
   "execution_count": 123,
   "id": "1e6ccd25",
   "metadata": {},
   "outputs": [
    {
     "name": "stderr",
     "output_type": "stream",
     "text": [
      "[nltk_data] Downloading package stopwords to\n",
      "[nltk_data]     /home/nhgirma/nltk_data...\n",
      "[nltk_data]   Package stopwords is already up-to-date!\n"
     ]
    },
    {
     "data": {
      "text/plain": [
       "True"
      ]
     },
     "execution_count": 123,
     "metadata": {},
     "output_type": "execute_result"
    }
   ],
   "source": [
    "import warnings\n",
    "warnings.filterwarnings('ignore')\n",
    "import matplotlib.pyplot as plt\n",
    "import seaborn as sns\n",
    "import gensim\n",
    "from gensim.models import CoherenceModel\n",
    "from gensim import corpora\n",
    "import pandas as pd\n",
    "from pprint import pprint\n",
    "import string\n",
    "import os\n",
    "import re\n",
    "import nltk\n",
    "nltk.download('stopwords')"
   ]
  },
  {
   "cell_type": "code",
   "execution_count": 124,
   "id": "ee3893f5",
   "metadata": {},
   "outputs": [
    {
     "data": {
      "text/html": [
       "<div>\n",
       "<style scoped>\n",
       "    .dataframe tbody tr th:only-of-type {\n",
       "        vertical-align: middle;\n",
       "    }\n",
       "\n",
       "    .dataframe tbody tr th {\n",
       "        vertical-align: top;\n",
       "    }\n",
       "\n",
       "    .dataframe thead th {\n",
       "        text-align: right;\n",
       "    }\n",
       "</style>\n",
       "<table border=\"1\" class=\"dataframe\">\n",
       "  <thead>\n",
       "    <tr style=\"text-align: right;\">\n",
       "      <th></th>\n",
       "      <th>created_at</th>\n",
       "      <th>statuses_count</th>\n",
       "      <th>source</th>\n",
       "      <th>original_text</th>\n",
       "      <th>clean_text</th>\n",
       "      <th>sentiment</th>\n",
       "      <th>polarity</th>\n",
       "      <th>subjectivity</th>\n",
       "      <th>lang</th>\n",
       "      <th>favorite_count</th>\n",
       "      <th>retweet_count</th>\n",
       "      <th>original_author</th>\n",
       "      <th>screen_count</th>\n",
       "      <th>followers_count</th>\n",
       "      <th>friends_count</th>\n",
       "      <th>possibly_sensitive</th>\n",
       "      <th>hashtags</th>\n",
       "      <th>user_mentions</th>\n",
       "      <th>place</th>\n",
       "      <th>place_coord_boundaries</th>\n",
       "    </tr>\n",
       "  </thead>\n",
       "  <tbody>\n",
       "    <tr>\n",
       "      <th>0</th>\n",
       "      <td>2022-08-07 22:31:20+00:00</td>\n",
       "      <td>8097</td>\n",
       "      <td>&lt;a href=\"http://twitter.com/download/android\" ...</td>\n",
       "      <td>RT @i_ameztoy: Extra random image (I):\\n\\nLets...</td>\n",
       "      <td>\\n\\nLets focus in one very specific zone of th...</td>\n",
       "      <td>-1</td>\n",
       "      <td>0.000000e+00</td>\n",
       "      <td>0.08125</td>\n",
       "      <td>en</td>\n",
       "      <td>15760</td>\n",
       "      <td>2</td>\n",
       "      <td>i_ameztoy</td>\n",
       "      <td>232</td>\n",
       "      <td>20497</td>\n",
       "      <td>2621</td>\n",
       "      <td></td>\n",
       "      <td>City</td>\n",
       "      <td></td>\n",
       "      <td></td>\n",
       "      <td></td>\n",
       "    </tr>\n",
       "    <tr>\n",
       "      <th>1</th>\n",
       "      <td>2022-08-07 22:31:16+00:00</td>\n",
       "      <td>5831</td>\n",
       "      <td>&lt;a href=\"http://twitter.com/download/android\" ...</td>\n",
       "      <td>RT @IndoPac_Info: #China's media explains the ...</td>\n",
       "      <td>#China's media explains the military reasons ...</td>\n",
       "      <td>0</td>\n",
       "      <td>-1.000000e-01</td>\n",
       "      <td>0.10000</td>\n",
       "      <td>en</td>\n",
       "      <td>6967</td>\n",
       "      <td>201</td>\n",
       "      <td>ZIisq</td>\n",
       "      <td>3</td>\n",
       "      <td>65</td>\n",
       "      <td>272</td>\n",
       "      <td></td>\n",
       "      <td>China</td>\n",
       "      <td></td>\n",
       "      <td></td>\n",
       "      <td></td>\n",
       "    </tr>\n",
       "    <tr>\n",
       "      <th>2</th>\n",
       "      <td>2022-08-07 22:31:07+00:00</td>\n",
       "      <td>1627</td>\n",
       "      <td>&lt;a href=\"http://twitter.com/download/android\" ...</td>\n",
       "      <td>China even cut off communication, they don't a...</td>\n",
       "      <td>China even cut off communication, they don't a...</td>\n",
       "      <td>-1</td>\n",
       "      <td>0.000000e+00</td>\n",
       "      <td>0.00000</td>\n",
       "      <td>en</td>\n",
       "      <td>2166</td>\n",
       "      <td>0</td>\n",
       "      <td>Fin21Free</td>\n",
       "      <td>0</td>\n",
       "      <td>85</td>\n",
       "      <td>392</td>\n",
       "      <td></td>\n",
       "      <td>XiJinping</td>\n",
       "      <td></td>\n",
       "      <td>Netherlands</td>\n",
       "      <td></td>\n",
       "    </tr>\n",
       "    <tr>\n",
       "      <th>3</th>\n",
       "      <td>2022-08-07 22:31:06+00:00</td>\n",
       "      <td>1627</td>\n",
       "      <td>&lt;a href=\"http://twitter.com/download/android\" ...</td>\n",
       "      <td>Putin to #XiJinping : I told you my friend, Ta...</td>\n",
       "      <td>Putin to #XiJinping : I told you my friend, Ta...</td>\n",
       "      <td>1</td>\n",
       "      <td>1.000000e-01</td>\n",
       "      <td>0.35000</td>\n",
       "      <td>en</td>\n",
       "      <td>2166</td>\n",
       "      <td>0</td>\n",
       "      <td>Fin21Free</td>\n",
       "      <td>0</td>\n",
       "      <td>85</td>\n",
       "      <td>392</td>\n",
       "      <td></td>\n",
       "      <td>XiJinping</td>\n",
       "      <td></td>\n",
       "      <td>Netherlands</td>\n",
       "      <td></td>\n",
       "    </tr>\n",
       "    <tr>\n",
       "      <th>4</th>\n",
       "      <td>2022-08-07 22:31:04+00:00</td>\n",
       "      <td>18958</td>\n",
       "      <td>&lt;a href=\"http://twitter.com/download/iphone\" r...</td>\n",
       "      <td>RT @ChinaUncensored: I’m sorry, I thought Taiw...</td>\n",
       "      <td>I’m sorry, I thought Taiwan was an independen...</td>\n",
       "      <td>0</td>\n",
       "      <td>-6.938894e-18</td>\n",
       "      <td>0.55625</td>\n",
       "      <td>en</td>\n",
       "      <td>17247</td>\n",
       "      <td>381</td>\n",
       "      <td>VizziniDolores</td>\n",
       "      <td>0</td>\n",
       "      <td>910</td>\n",
       "      <td>2608</td>\n",
       "      <td></td>\n",
       "      <td></td>\n",
       "      <td></td>\n",
       "      <td>Ayent, Schweiz</td>\n",
       "      <td></td>\n",
       "    </tr>\n",
       "  </tbody>\n",
       "</table>\n",
       "</div>"
      ],
      "text/plain": [
       "                  created_at  statuses_count  \\\n",
       "0  2022-08-07 22:31:20+00:00            8097   \n",
       "1  2022-08-07 22:31:16+00:00            5831   \n",
       "2  2022-08-07 22:31:07+00:00            1627   \n",
       "3  2022-08-07 22:31:06+00:00            1627   \n",
       "4  2022-08-07 22:31:04+00:00           18958   \n",
       "\n",
       "                                              source  \\\n",
       "0  <a href=\"http://twitter.com/download/android\" ...   \n",
       "1  <a href=\"http://twitter.com/download/android\" ...   \n",
       "2  <a href=\"http://twitter.com/download/android\" ...   \n",
       "3  <a href=\"http://twitter.com/download/android\" ...   \n",
       "4  <a href=\"http://twitter.com/download/iphone\" r...   \n",
       "\n",
       "                                       original_text  \\\n",
       "0  RT @i_ameztoy: Extra random image (I):\\n\\nLets...   \n",
       "1  RT @IndoPac_Info: #China's media explains the ...   \n",
       "2  China even cut off communication, they don't a...   \n",
       "3  Putin to #XiJinping : I told you my friend, Ta...   \n",
       "4  RT @ChinaUncensored: I’m sorry, I thought Taiw...   \n",
       "\n",
       "                                          clean_text  sentiment      polarity  \\\n",
       "0  \\n\\nLets focus in one very specific zone of th...         -1  0.000000e+00   \n",
       "1   #China's media explains the military reasons ...          0 -1.000000e-01   \n",
       "2  China even cut off communication, they don't a...         -1  0.000000e+00   \n",
       "3  Putin to #XiJinping : I told you my friend, Ta...          1  1.000000e-01   \n",
       "4   I’m sorry, I thought Taiwan was an independen...          0 -6.938894e-18   \n",
       "\n",
       "   subjectivity lang  favorite_count  retweet_count original_author  \\\n",
       "0       0.08125   en           15760              2       i_ameztoy   \n",
       "1       0.10000   en            6967            201           ZIisq   \n",
       "2       0.00000   en            2166              0       Fin21Free   \n",
       "3       0.35000   en            2166              0       Fin21Free   \n",
       "4       0.55625   en           17247            381  VizziniDolores   \n",
       "\n",
       "   screen_count  followers_count  friends_count possibly_sensitive   hashtags  \\\n",
       "0           232            20497           2621                          City   \n",
       "1             3               65            272                         China   \n",
       "2             0               85            392                     XiJinping   \n",
       "3             0               85            392                     XiJinping   \n",
       "4             0              910           2608                                 \n",
       "\n",
       "  user_mentions           place place_coord_boundaries  \n",
       "0                                                       \n",
       "1                                                       \n",
       "2                   Netherlands                         \n",
       "3                   Netherlands                         \n",
       "4                Ayent, Schweiz                         "
      ]
     },
     "execution_count": 124,
     "metadata": {},
     "output_type": "execute_result"
    }
   ],
   "source": [
    "model_df = pd.read_csv('clean_processed_tweet_data.csv')\n",
    "model_df = model_df.fillna(\"\")\n",
    "model_df.head()"
   ]
  },
  {
   "cell_type": "code",
   "execution_count": 125,
   "id": "61824aa8",
   "metadata": {},
   "outputs": [
    {
     "data": {
      "text/plain": [
       "(22000, 20)"
      ]
     },
     "execution_count": 125,
     "metadata": {},
     "output_type": "execute_result"
    }
   ],
   "source": [
    "model_df.shape"
   ]
  },
  {
   "cell_type": "code",
   "execution_count": null,
   "id": "ff73241f",
   "metadata": {},
   "outputs": [],
   "source": []
  },
  {
   "cell_type": "code",
   "execution_count": 126,
   "id": "bb2e40f5",
   "metadata": {},
   "outputs": [],
   "source": [
    "sentiment_data = model_df.copy(deep=True)\n",
    "sentiment_data.drop(sentiment_data[sentiment_tweet_data['sentiment'] == -1].index, inplace=True)\n",
    "sentiment_data.reset_index(drop=True, inplace=True)\n",
    "train_set = sentiment_tweet_data.iloc[:17600,]\n",
    "test_set = sentiment_tweet_data.iloc[17601:,]"
   ]
  },
  {
   "cell_type": "code",
   "execution_count": 127,
   "id": "7c3e5880",
   "metadata": {},
   "outputs": [
    {
     "data": {
      "text/plain": [
       "CountVectorizer()"
      ]
     },
     "execution_count": 127,
     "metadata": {},
     "output_type": "execute_result"
    }
   ],
   "source": [
    "unigram_vectorizer = CountVectorizer(ngram_range=(1, 1))\n",
    "unigram_vectorizer.fit(train_set['clean_text'].values)"
   ]
  },
  {
   "cell_type": "code",
   "execution_count": 128,
   "id": "731c6976",
   "metadata": {},
   "outputs": [],
   "source": [
    "X_train_unigram = unigram_vectorizer.transform(train_set['clean_text'].values)"
   ]
  },
  {
   "cell_type": "code",
   "execution_count": 129,
   "id": "f822f990",
   "metadata": {},
   "outputs": [
    {
     "data": {
      "text/plain": [
       "TfidfTransformer()"
      ]
     },
     "execution_count": 129,
     "metadata": {},
     "output_type": "execute_result"
    }
   ],
   "source": [
    "unigram_tf_idf_transformer = TfidfTransformer()\n",
    "unigram_tf_idf_transformer.fit(X_train_unigram)"
   ]
  },
  {
   "cell_type": "code",
   "execution_count": 130,
   "id": "6f2f04a7",
   "metadata": {},
   "outputs": [],
   "source": [
    "X_train_unigram_tf_idf = unigram_tf_idf_transformer.transform(X_train_unigram)"
   ]
  },
  {
   "cell_type": "code",
   "execution_count": 131,
   "id": "b983f791",
   "metadata": {},
   "outputs": [
    {
     "data": {
      "text/plain": [
       "CountVectorizer(ngram_range=(1, 2))"
      ]
     },
     "execution_count": 131,
     "metadata": {},
     "output_type": "execute_result"
    }
   ],
   "source": [
    "bigram_vectorizer = CountVectorizer(ngram_range=(1, 2))\n",
    "bigram_vectorizer.fit(train_set['clean_text'].values)"
   ]
  },
  {
   "cell_type": "code",
   "execution_count": 132,
   "id": "6592a2b8",
   "metadata": {},
   "outputs": [],
   "source": [
    "X_train_bigram = bigram_vectorizer.transform(train_set['clean_text'].values)"
   ]
  },
  {
   "cell_type": "code",
   "execution_count": 133,
   "id": "df1c106d",
   "metadata": {},
   "outputs": [
    {
     "data": {
      "text/plain": [
       "TfidfTransformer()"
      ]
     },
     "execution_count": 133,
     "metadata": {},
     "output_type": "execute_result"
    }
   ],
   "source": [
    "bigram_tf_idf_transformer = TfidfTransformer()\n",
    "bigram_tf_idf_transformer.fit(X_train_bigram)"
   ]
  },
  {
   "cell_type": "code",
   "execution_count": 134,
   "id": "6f2d8d05",
   "metadata": {},
   "outputs": [],
   "source": [
    "X_train_bigram_tf_idf = bigram_tf_idf_transformer.transform(X_train_bigram)"
   ]
  },
  {
   "cell_type": "code",
   "execution_count": 135,
   "id": "2ffdba7b",
   "metadata": {},
   "outputs": [],
   "source": [
    "def train_and_show_scores(X: csr_matrix, y: np.array, title: str) -> None:\n",
    "    X_train, X_valid, y_train, y_valid = train_test_split(\n",
    "        X, y,train_size=0.75, stratify=y\n",
    "    )\n",
    "\n",
    "    clf = SGDClassifier()\n",
    "    clf.fit(X_train, y_train)\n",
    "    train_score = clf.score(X_train, y_train)\n",
    "    valid_score = clf.score(X_valid, y_valid)\n",
    "\n",
    "    global_vars = globals()\n",
    "    if(valid_score > global_vars['best_score']):\n",
    "        global_vars['best_model'] = clf\n",
    "        global_vars['best_model_name'] = title\n",
    "        global_vars['best_score'] = valid_score\n",
    "\n",
    "    print(f'{title}\\nTrain score: {round(train_score, 2)} ; Validation score: {round(valid_score, 2)}\\n')"
   ]
  },
  {
   "cell_type": "code",
   "execution_count": 136,
   "id": "0eb59e32",
   "metadata": {},
   "outputs": [
    {
     "data": {
      "text/plain": [
       "array([-1,  0, -1, ..., -1, -1,  1])"
      ]
     },
     "execution_count": 136,
     "metadata": {},
     "output_type": "execute_result"
    }
   ],
   "source": [
    "y_train = train_set['sentiment'].values\n",
    "y_train"
   ]
  },
  {
   "cell_type": "code",
   "execution_count": 137,
   "id": "60d6a6f3",
   "metadata": {},
   "outputs": [
    {
     "name": "stdout",
     "output_type": "stream",
     "text": [
      "Unigram Counts\n",
      "Train score: 1.0 ; Validation score: 0.94\n",
      "\n",
      "Unigram Tf-Idf\n",
      "Train score: 0.99 ; Validation score: 0.93\n",
      "\n",
      "Bigram Counts\n",
      "Train score: 1.0 ; Validation score: 0.93\n",
      "\n",
      "Bigram Tf-Idf\n",
      "Train score: 0.99 ; Validation score: 0.92\n",
      "\n"
     ]
    }
   ],
   "source": [
    "best_model = \"\"\n",
    "best_model_name = \"\"\n",
    "best_score = 0\n",
    "\n",
    "train_and_show_scores(X_train_unigram, y_train, 'Unigram Counts')\n",
    "train_and_show_scores(X_train_unigram_tf_idf, y_train, 'Unigram Tf-Idf')\n",
    "train_and_show_scores(X_train_bigram, y_train, 'Bigram Counts')\n",
    "train_and_show_scores(X_train_bigram_tf_idf, y_train, 'Bigram Tf-Idf')"
   ]
  },
  {
   "cell_type": "code",
   "execution_count": 138,
   "id": "74b05a51",
   "metadata": {},
   "outputs": [
    {
     "name": "stdout",
     "output_type": "stream",
     "text": [
      "Best Model: Unigram Counts \n",
      "Validation Score: 0.94\n"
     ]
    }
   ],
   "source": [
    "print(f'Best Model: {best_model_name} \\nValidation Score: {round(best_score, 2)}')\n"
   ]
  },
  {
   "cell_type": "code",
   "execution_count": 139,
   "id": "76e1d671",
   "metadata": {},
   "outputs": [],
   "source": [
    "sgd = joblib.dump(best_model, './trained_model/newsentimentSGDmodel.jl')"
   ]
  },
  {
   "cell_type": "code",
   "execution_count": 140,
   "id": "ad63d858",
   "metadata": {},
   "outputs": [],
   "source": [
    "from nltk.corpus import stopwords\n",
    "stop_words= stopwords.words('english')\n",
    "stop_words.extend(['from', 'subject', 're', 'edu', 'use'])\n"
   ]
  },
  {
   "cell_type": "code",
   "execution_count": 141,
   "id": "659beddf",
   "metadata": {},
   "outputs": [],
   "source": [
    "from nltk.stem import PorterStemmer\n",
    "stemmer = PorterStemmer()\n",
    "model_df['clean_text'] = df['clean_text'].apply(lambda x: \" \".join([stemmer.stem(word) for word in x.split()]))\n"
   ]
  },
  {
   "cell_type": "code",
   "execution_count": 142,
   "id": "e5e5b6fa",
   "metadata": {},
   "outputs": [],
   "source": [
    "class PrepareData:\n",
    "      def __init__(self,df):\n",
    "        self.df=df\n",
    "    \n",
    "      def preprocess_data(self):\n",
    "        tweets_df = self.df.loc[self.df['lang'] ==\"en\"]\n",
    "\n",
    "    \n",
    "    #text Preprocessing\n",
    "        model_df['clean_text']=model_df['clean_text'].astype(str)\n",
    "        model_df['clean_text'] = model_df['clean_text'].apply(lambda x: x.lower())\n",
    "        model_df['clean_text']= model_df['clean_text'].apply(lambda x: x.translate(str.maketrans(' ', ' ', string.punctuation)))\n",
    "\n",
    "        #Converting tweets to list of words For feature engineering\n",
    "        sentence_list = [tweet for tweet in model_df['clean_text']]\n",
    "        word_list = [sent.split() for sent in sentence_list]\n",
    "        # print(word_list)\n",
    "\n",
    "        #Create dictionary which contains Id and word \n",
    "        word_to_id = corpora.Dictionary(word_list) #generate unique tokens\n",
    "        #  we can see the word to unique integer mapping\n",
    "        # print(word_to_id.token2id)\n",
    "        # using bag of words(bow), we create a corpus that contains the word id and its frequency in each document.\n",
    "        corpus_1= [word_to_id.doc2bow(tweet) for tweet in word_list]\n",
    "        \n",
    "\n",
    "        return word_list, word_to_id, corpus_1\n"
   ]
  },
  {
   "cell_type": "code",
   "execution_count": 143,
   "id": "1bdcec0b",
   "metadata": {},
   "outputs": [],
   "source": [
    "PrepareData_obj=PrepareData(model_df)\n",
    "word_list ,id2word,corpus=PrepareData_obj.preprocess_data()"
   ]
  },
  {
   "cell_type": "code",
   "execution_count": null,
   "id": "0f84bb4d",
   "metadata": {},
   "outputs": [],
   "source": []
  },
  {
   "cell_type": "code",
   "execution_count": 144,
   "id": "fbb4e20b",
   "metadata": {},
   "outputs": [
    {
     "data": {
      "text/plain": [
       "0        let focu in one veri specif zone of the wester...\n",
       "1        china media explain the militari reason for ea...\n",
       "2        china even cut off commun they dont anwer phon...\n",
       "3        putin to xijinp i told you my friend taiwan wi...\n",
       "4        i’m sorri i thought taiwan wa an independ coun...\n",
       "                               ...                        \n",
       "21995    a good infograph of china missil launch on tai...\n",
       "21996    a good infograph of china missil launch on tai...\n",
       "21997                       reuter thank pelosi smart move\n",
       "21998    taiwan peopl desir for unif with china near re...\n",
       "21999    taiwan peopl desir for unif with china near re...\n",
       "Name: clean_text, Length: 22000, dtype: object"
      ]
     },
     "execution_count": 144,
     "metadata": {},
     "output_type": "execute_result"
    }
   ],
   "source": [
    "model_df[\"clean_text\"]"
   ]
  },
  {
   "cell_type": "code",
   "execution_count": 145,
   "id": "c2303e69",
   "metadata": {},
   "outputs": [
    {
     "name": "stdout",
     "output_type": "stream",
     "text": [
      "[[(0, 1), (1, 1), (2, 1), (3, 1), (4, 1), (5, 1), (6, 1), (7, 1), (8, 1), (9, 1), (10, 1), (11, 1), (12, 1), (13, 1), (14, 1), (15, 1), (16, 1)], [(5, 2), (8, 1), (13, 5), (17, 1), (18, 1), (19, 1), (20, 1), (21, 1), (22, 1), (23, 1), (24, 1), (25, 1), (26, 1), (27, 1), (28, 1), (29, 1), (30, 1)], [(13, 2), (18, 1), (31, 1), (32, 1), (33, 1), (34, 1), (35, 1), (36, 1), (37, 1), (38, 1), (39, 1), (40, 1), (41, 1), (42, 1), (43, 1), (44, 1), (45, 1), (46, 1), (47, 1), (48, 1), (49, 2), (50, 1), (51, 1), (52, 1)]]\n"
     ]
    }
   ],
   "source": [
    "print(corpus[0:3])"
   ]
  },
  {
   "cell_type": "code",
   "execution_count": 146,
   "id": "a767e0c8",
   "metadata": {},
   "outputs": [],
   "source": [
    "id_words = [[(id2word[id], count) for id, count in line] for line in corpus]"
   ]
  },
  {
   "cell_type": "code",
   "execution_count": 147,
   "id": "09b729a7",
   "metadata": {},
   "outputs": [
    {
     "name": "stdout",
     "output_type": "stream",
     "text": [
      "[[('citi', 1), ('coast', 1), ('district', 1), ('focu', 1), ('gt', 1), ('in', 1), ('let', 1), ('longj', 1), ('of', 1), ('one', 1), ('specif', 1), ('taichung', 1), ('ta…', 1), ('the', 1), ('veri', 1), ('western', 1), ('zone', 1)], [('in', 2), ('of', 1), ('the', 5), ('area', 1), ('china', 1), ('drill', 1), ('each', 1), ('explain', 1), ('for', 1), ('label', 1), ('media', 1), ('militari', 1), ('pi…', 1), ('read', 1), ('reason', 1), ('strait', 1), ('taiwan', 1)], [('the', 2), ('china', 1), ('anwer', 1), ('ask', 1), ('but', 1), ('chang', 1), ('clown', 1), ('commun', 1), ('cut', 1), ('dont', 1), ('enter', 1), ('even', 1), ('from', 1), ('here', 1), ('mind', 1), ('off', 1), ('phonecal', 1), ('putin', 1), ('stage', 1), ('they', 1), ('to', 2), ('us', 1), ('xijinp', 1), ('zelenskyyua', 1)]]\n"
     ]
    }
   ],
   "source": [
    "print(id_words[0:3])"
   ]
  },
  {
   "cell_type": "code",
   "execution_count": 148,
   "id": "6c3a7c0d",
   "metadata": {},
   "outputs": [
    {
     "data": {
      "text/plain": [
       "list"
      ]
     },
     "execution_count": 148,
     "metadata": {},
     "output_type": "execute_result"
    }
   ],
   "source": [
    "type(id_words)"
   ]
  },
  {
   "cell_type": "code",
   "execution_count": 149,
   "id": "589b75a4",
   "metadata": {},
   "outputs": [],
   "source": [
    "# Build LDA model\n",
    "lda_model = gensim.models.ldamodel.LdaModel(corpus,\n",
    "                                           id2word=id2word,\n",
    "                                           num_topics=5, \n",
    "                                           random_state=100,\n",
    "                                           update_every=1,\n",
    "                                           chunksize=100,\n",
    "                                           passes=10,\n",
    "                                           alpha='auto',\n",
    "                                           per_word_topics=True)"
   ]
  },
  {
   "cell_type": "code",
   "execution_count": 150,
   "id": "5c317111",
   "metadata": {},
   "outputs": [
    {
     "name": "stdout",
     "output_type": "stream",
     "text": [
      "[(0,\n",
      "  '0.044*\"is\" + 0.041*\"of\" + 0.035*\"taiwan\" + 0.034*\"it\" + 0.033*\"thi\" + '\n",
      "  '0.027*\"by\" + 0.022*\"the\" + 0.021*\"presid\" + 0.019*\"out\" + 0.018*\"head\"'),\n",
      " (1,\n",
      "  '0.023*\"an\" + 0.023*\"video\" + 0.018*\"travel\" + 0.017*\"russia\" + 0.017*\"dead\" '\n",
      "  '+ 0.016*\"hotel\" + 0.016*\"found\" + 0.015*\"watch\" + 0.014*\"independ\" + '\n",
      "  '0.014*\"on\"'),\n",
      " (2,\n",
      "  '0.056*\"the\" + 0.045*\"to\" + 0.040*\"taiwan\" + 0.026*\"and\" + 0.024*\"is\" + '\n",
      "  '0.023*\"a\" + 0.019*\"china\" + 0.017*\"pelosi\" + 0.017*\"of\" + 0.016*\"in\"'),\n",
      " (3,\n",
      "  '0.023*\"to\" + 0.023*\"visit\" + 0.021*\"democrat\" + 0.021*\"stop\" + 0.019*\"her\" '\n",
      "  '+ 0.019*\"speaker\" + 0.018*\"show\" + 0.018*\"not\" + 0.016*\"we\" + 0.016*\"amp\"'),\n",
      " (4,\n",
      "  '0.054*\"taiwan\" + 0.046*\"the\" + 0.038*\"china\" + 0.035*\"on\" + 0.027*\"in\" + '\n",
      "  '0.027*\"of\" + 0.016*\"chines\" + 0.016*\"missil\" + 0.016*\"island\" + 0.016*\"a\"')]\n"
     ]
    }
   ],
   "source": [
    "pprint(lda_model.print_topics())"
   ]
  },
  {
   "cell_type": "code",
   "execution_count": 151,
   "id": "2effa1db",
   "metadata": {},
   "outputs": [
    {
     "name": "stdout",
     "output_type": "stream",
     "text": [
      "[(0,\n",
      "  [('is', 0.044000532),\n",
      "   ('of', 0.040531408),\n",
      "   ('taiwan', 0.03487833),\n",
      "   ('it', 0.034034688),\n",
      "   ('thi', 0.033112794),\n",
      "   ('by', 0.027281532),\n",
      "   ('the', 0.02222499),\n",
      "   ('presid', 0.020650964),\n",
      "   ('out', 0.019398473),\n",
      "   ('head', 0.018423075)]),\n",
      " (1,\n",
      "  [('an', 0.023177875),\n",
      "   ('video', 0.023113232),\n",
      "   ('travel', 0.018181002),\n",
      "   ('russia', 0.01702097),\n",
      "   ('dead', 0.016761908),\n",
      "   ('hotel', 0.016320212),\n",
      "   ('found', 0.01601878),\n",
      "   ('watch', 0.015274936),\n",
      "   ('independ', 0.014375682),\n",
      "   ('on', 0.014048988)]),\n",
      " (2,\n",
      "  [('the', 0.05628892),\n",
      "   ('to', 0.045252256),\n",
      "   ('taiwan', 0.0397211),\n",
      "   ('and', 0.026164126),\n",
      "   ('is', 0.024309853),\n",
      "   ('a', 0.023368152),\n",
      "   ('china', 0.018679872),\n",
      "   ('pelosi', 0.0174979),\n",
      "   ('of', 0.01679867),\n",
      "   ('in', 0.016422248)]),\n",
      " (3,\n",
      "  [('to', 0.022967117),\n",
      "   ('visit', 0.022582497),\n",
      "   ('democrat', 0.021309456),\n",
      "   ('stop', 0.0206835),\n",
      "   ('her', 0.018991478),\n",
      "   ('speaker', 0.018586267),\n",
      "   ('show', 0.017990032),\n",
      "   ('not', 0.017944494),\n",
      "   ('we', 0.015646363),\n",
      "   ('amp', 0.015538923)]),\n",
      " (4,\n",
      "  [('taiwan', 0.054384906),\n",
      "   ('the', 0.045699533),\n",
      "   ('china', 0.038222753),\n",
      "   ('on', 0.035384774),\n",
      "   ('in', 0.027336707),\n",
      "   ('of', 0.026773365),\n",
      "   ('chines', 0.016482057),\n",
      "   ('missil', 0.016292384),\n",
      "   ('island', 0.016067825),\n",
      "   ('a', 0.015580739)])]\n"
     ]
    }
   ],
   "source": [
    "pprint(lda_model.show_topics(formatted=False))"
   ]
  },
  {
   "cell_type": "code",
   "execution_count": 152,
   "id": "211771ad",
   "metadata": {},
   "outputs": [
    {
     "name": "stdout",
     "output_type": "stream",
     "text": [
      "\n",
      "Perplexity:  -7.361043132861787\n",
      "\n",
      " Ldamodel Coherence Score/Accuracy on Tweets:  0.2951545357696369\n"
     ]
    }
   ],
   "source": [
    "# Compute Perplexity\n",
    "\n",
    "#It's a measure of how good the model is. The lower the better. Perplexity is a negative value\n",
    "print('\\nPerplexity: ', lda_model.log_perplexity(corpus))  \n",
    "doc_lda = lda_model[corpus]\n",
    "\n",
    "\n",
    "# Compute Coherence Score\n",
    "coherence_model_lda = CoherenceModel(model=lda_model, texts=word_list, dictionary=id2word, coherence='c_v')\n",
    "coherence_lda = coherence_model_lda.get_coherence()\n",
    "print('\\n Ldamodel Coherence Score/Accuracy on Tweets: ', coherence_lda)"
   ]
  },
  {
   "cell_type": "code",
   "execution_count": 154,
   "id": "6c1e9c62",
   "metadata": {},
   "outputs": [
    {
     "data": {
      "text/html": [
       "\n",
       "<link rel=\"stylesheet\" type=\"text/css\" href=\"https://cdn.jsdelivr.net/gh/bmabey/pyLDAvis@3.3.1/pyLDAvis/js/ldavis.v1.0.0.css\">\n",
       "\n",
       "\n",
       "<div id=\"ldavis_el7481421396601649641282364893031\"></div>\n",
       "<script type=\"text/javascript\">\n",
       "\n",
       "var ldavis_el7481421396601649641282364893031_data = {\"mdsDat\": {\"x\": [-0.17437983330132537, -0.1962785471752553, -0.11706324151028401, 0.22125521712035606, 0.26646640486650885], \"y\": [-0.04451966985726211, 0.05902250602849627, 0.014979482768364522, -0.29707499712157176, 0.2675926781819731], \"topics\": [1, 2, 3, 4, 5], \"cluster\": [1, 1, 1, 1, 1], \"Freq\": [43.23505580177889, 27.73921717788833, 10.570076327931883, 9.83662646090531, 8.619024231495583]}, \"tinfo\": {\"Term\": [\"is\", \"of\", \"it\", \"thi\", \"on\", \"by\", \"taiwan\", \"the\", \"visit\", \"to\", \"an\", \"missil\", \"wa\", \"not\", \"island\", \"amp\", \"pelosi\", \"chines\", \"presid\", \"militari\", \"video\", \"democrat\", \"china\", \"we\", \"in\", \"stop\", \"out\", \"head\", \"her\", \"i\", \"have\", \"support\", \"time\", \"war\", \"their\", \"world\", \"over\", \"ccp\", \"when\", \"speakerpelosi\", \"but\", \"respons\", \"call\", \"more\", \"like\", \"our\", \"japan\", \"mayb\", \"no\", \"territori\", \"whi\", \"polit\", \"xijinp\", \"or\", \"crisi\", \"fire\", \"tco845qek0lck\", \"sanction\", \"one\", \"somalia\", \"are\", \"it\\u2019\", \"pelosi\", \"you\", \"about\", \"and\", \"to\", \"ha\", \"will\", \"for\", \"us\", \"the\", \"be\", \"a\", \"is\", \"taiwan\", \"visit\", \"in\", \"it\", \"china\", \"of\", \"that\", \"with\", \"by\", \"thi\", \"not\", \"wa\", \"as\", \"on\", \"missil\", \"drill\", \"near\", \"said\", \"launch\", \"tension\", \"around\", \"peopl\", \"august\", \"forc\", \"taiwan\\u2019\", \"water\", \"4th\", \"httpstcostzrr9fhu5\", \"infograph\", \"so\", \"3\", \"armi\", \"strait\", \"attack\", \"exercis\", \"drone\", \"kinmen\", \"restrict\", \"fired\\u2026\", \"how\", \"nation\", \"wwiii\", \"pla\", \"do\", \"island\", \"chinataiwancrisi\", \"chines\", \"say\", \"on\", \"militari\", \"china\", \"taiwan\", \"in\", \"the\", \"of\", \"good\", \"as\", \"amp\", \"a\", \"to\", \"with\", \"from\", \"that\", \"presid\", \"out\", \"head\", \"follow\", \"own\", \"part\", \"speech\", \"base\", \"check\", \"nicaragua\", \"httpstcogsuomjseuf\", \"d\\u2026\", \"been\", \"thought\", \"start\", \"i\\u2019m\", \"currenc\", \"sorri\", \"iingwen\", \"could\", \"to\\u2026\", \"until\", \"take\", \"via\", \"wrongdo\", \"wang\", \"yi\", \"year\", \"he\", \"dont\", \"becaus\", \"had\", \"thi\", \"by\", \"it\", \"govern\", \"is\", \"of\", \"i\", \"wa\", \"taiwan\", \"the\", \"militari\", \"that\", \"democrat\", \"stop\", \"her\", \"speaker\", \"show\", \"talk\", \"beij\", \"did\", \"she\", \"hous\", \"citizen\", \"must\", \"plan\", \"statedept\", \"chinataiwan\", \"muscles\\u2026\", \"taipei\", \"deputi\", \"coincid\", \"devil\", \"madam\", \"foot\", \"destruc\\u2026\", \"thatwher\", \"\\ud83d\\ude08\", \"t\\u2026\", \"defend\", \"happen\", \"prime\", \"make\", \"deleg\", \"set\", \"nanci\", \"should\", \"visit\", \"we\", \"not\", \"amp\", \"to\", \"minist\", \"video\", \"travel\", \"russia\", \"dead\", \"hotel\", \"found\", \"watch\", \"independ\", \"gaza\", \"again\", \"programm\", \"httpstcou9m\\u2026\", \"gazaunderattack\", \"palestinian\", \"airstrik\", \"isra\", \"david\", \"can\", \"cri\", \"forget\", \"easili\", \"funni\", \"nigerian\", \"ashawo\\u2026\", \"balogun\", \"hundeyin\", \"tafa\", \"murder\", \"unless\", \"father\", \"hi\", \"an\", \"what\", \"thing\", \"on\", \"ukrain\", \"taiwan\", \"china\"], \"Freq\": [6521.0, 7945.0, 3665.0, 2745.0, 5499.0, 2593.0, 15313.0, 16404.0, 2686.0, 10655.0, 1353.0, 1881.0, 1754.0, 2033.0, 1877.0, 1847.0, 3238.0, 2182.0, 909.0, 2046.0, 829.0, 872.0, 8342.0, 1284.0, 6332.0, 847.0, 853.0, 811.0, 778.0, 1190.0, 1579.0677766252588, 998.6349750416992, 1037.251175553096, 850.9463190507784, 842.3447724791054, 843.0178219079853, 794.219686078845, 794.6502366780289, 766.9494990324407, 756.9955712499069, 630.4224485018227, 619.1502317445893, 589.651568406222, 546.9050139074402, 530.4799273721138, 525.1421051187294, 490.0570896383049, 565.3258783758708, 457.31254386445585, 445.11288426010873, 439.8949711862441, 434.4121103409362, 438.54732268138605, 434.6590905825108, 427.13425556762974, 438.1312214943343, 420.554956576793, 402.6710238867221, 400.3301353566066, 376.7992048758773, 1300.4592377757183, 614.4975629203926, 3147.580864982119, 1303.0006590168155, 1588.2944592128285, 4706.490329565353, 8140.127002292274, 1322.114592679341, 1118.2548312600254, 2866.4591335980813, 2412.526788878405, 10125.439037718648, 997.1417015919616, 4203.541223128625, 4372.937586965676, 7145.1644395792555, 1736.1363208547043, 2954.08874523821, 2006.508862318338, 3360.1978078005945, 3021.8007846071423, 1492.0578562950059, 1341.9463898895333, 1393.25394884131, 1288.6575442991382, 1134.6867027367007, 1063.8425334057677, 905.2024794893008, 911.3312918804467, 1880.3286193381136, 1092.6491456301771, 1007.6588716830587, 931.4428413545021, 886.8391643835726, 851.1319956102441, 839.857481657338, 843.8327196276057, 802.967974097698, 791.6220361335643, 781.5423830095702, 772.9212522638358, 701.4192066763031, 692.6999418113047, 692.6999418113047, 712.3082244421995, 686.9280863125646, 664.5967162287781, 629.5919641798628, 617.3971069671575, 600.671312554618, 577.0871470413903, 521.3994201474952, 507.11913228642476, 482.57485393604, 499.9749576554817, 483.2521190899081, 468.5148035452562, 460.2018870240442, 471.18533066482917, 1854.4119681128539, 1016.4525701489226, 1902.21908453995, 636.8667872466932, 4083.810206278497, 1629.024660014487, 4411.345566334902, 6276.644080050735, 3154.9706599607644, 5274.252097719318, 3089.9544950135596, 767.2301182585974, 1249.996081136643, 1135.8938316515857, 1798.1965956642312, 1483.9970497493218, 956.9847986698453, 759.349239078438, 723.3483128593832, 908.1830216677417, 853.101279578928, 810.2054511792908, 629.7262968960688, 568.7575321466682, 559.2362708196521, 495.04402992000155, 491.30821671571965, 493.8794041200656, 472.59073258281603, 469.22623984634566, 453.8660808917978, 432.9122776696626, 407.3482601107387, 377.7891685311589, 344.42758497809393, 340.7489893663041, 338.50847213589105, 346.4373273159542, 297.34182737077094, 285.6103778235354, 272.9526749805181, 269.9349487056323, 253.0056679286352, 213.5363009250535, 213.50097510291724, 212.90531006611866, 212.8323238457745, 204.96596977247074, 202.25714477358693, 417.2805706562586, 444.243285984404, 1456.2263108632023, 1199.7805017418814, 1496.7691323275021, 433.38918650787093, 1935.0445865532613, 1782.4802860181287, 608.1362602582063, 689.880335553951, 1533.870542917393, 977.4051681498973, 416.7270713399114, 363.86649407460123, 872.1144059295332, 846.4964678129347, 777.2484421826348, 760.6647079782781, 736.2631106032457, 633.127462955209, 579.6692644941041, 557.3952342992383, 513.8015470552846, 503.7283155479348, 448.69545285217475, 423.9855013595919, 429.18559434567396, 402.92571555567827, 405.81364816118634, 375.0086144323112, 353.0155333351541, 344.5946072660999, 335.3877021787506, 326.8936706464749, 322.6760037889296, 322.60221224732544, 322.52331323331686, 322.52331323331686, 322.52331323331686, 323.1619378611979, 308.70436056477655, 341.5403006527912, 300.6356785720316, 286.8940240679403, 430.629941803085, 368.45279244658144, 593.5424554703421, 490.3947252196772, 924.2151220795678, 640.3456936194195, 734.3994167921524, 635.9486172648026, 939.9561233371953, 417.781332660453, 828.8457271635642, 651.9748324885475, 610.3758520306914, 601.0858202878644, 585.2464841554576, 574.437069367585, 547.76266921491, 515.5152051832663, 495.1623388929102, 460.284192066278, 411.9998460563698, 394.1589680662975, 355.0355727012891, 335.3518240815597, 322.7468628336969, 320.3287881291108, 314.81163156137865, 319.80782149351785, 311.0986045952064, 311.24969460478536, 305.6190201452408, 300.6533554714472, 293.77859304841303, 293.77859304841303, 293.77859304841303, 293.77859304841303, 293.77859304841303, 294.5203167492839, 290.7445025996438, 263.05542148520306, 451.1066428946849, 831.163843336172, 494.8300343846629, 331.58913512505944, 503.7998848892419, 321.0927879211376, 357.9373091032056, 315.52159429869744], \"Total\": [6521.0, 7945.0, 3665.0, 2745.0, 5499.0, 2593.0, 15313.0, 16404.0, 2686.0, 10655.0, 1353.0, 1881.0, 1754.0, 2033.0, 1877.0, 1847.0, 3238.0, 2182.0, 909.0, 2046.0, 829.0, 872.0, 8342.0, 1284.0, 6332.0, 847.0, 853.0, 811.0, 778.0, 1190.0, 1579.9173946455617, 999.4789320026002, 1038.1330261833755, 851.7998722485888, 843.1905900593005, 843.8659327024828, 795.0715601259573, 795.5097818099609, 767.7945926531632, 757.8563399419212, 631.2748190191393, 620.0199609000676, 590.5342287892275, 547.7686011483622, 531.3368119876801, 525.9934186475355, 490.9146934240286, 566.3221879897544, 458.1593982798745, 445.9599195097039, 440.74348642387474, 435.25565588920665, 439.4016457079245, 435.51031128551955, 427.98243040893465, 439.00449018408943, 421.3947395878579, 403.5207938636121, 401.1763339012615, 377.6437806287191, 1305.0608381403138, 615.9809871602089, 3238.9195759520953, 1330.1513668459806, 1667.2598793964278, 5609.546100317427, 10655.253416597105, 1483.542827378562, 1235.31309317604, 3523.8831748994558, 2987.9846458930797, 16404.852756875745, 1124.6409052670688, 6175.852892969779, 6521.3007804819035, 15313.874486011016, 2686.414519403523, 6332.8837650525675, 3665.56740718009, 8342.556562033333, 7945.999212059038, 2608.2949046385206, 2299.5920315780368, 2593.7205267174895, 2745.513261497288, 2033.0933245517324, 1754.3810502681126, 2155.8802990163003, 5499.429102043248, 1881.2732174808132, 1093.515812007878, 1008.5245206775827, 932.3145533152231, 887.7098004622762, 852.0040809449198, 840.7254319068733, 844.7350294663245, 803.8328664778481, 792.4918985320164, 782.4089310141543, 773.7897797043684, 702.2834385098263, 693.5630337903978, 693.5630337903978, 713.1958290406025, 687.8099680590016, 665.4647898256495, 630.4607667338117, 618.2708522817696, 601.5383325941801, 577.9518776706337, 522.2626752834734, 507.98218547682717, 483.43781954185283, 500.88870032171775, 484.1398401784369, 469.4014201273058, 461.0752311649568, 472.10952633817635, 1877.4166482639832, 1050.2921213611683, 2182.023914190211, 657.7172919742881, 5499.429102043248, 2046.3919168830737, 8342.556562033333, 15313.874486011016, 6332.8837650525675, 16404.852756875745, 7945.999212059038, 898.0235853778361, 2155.8802990163003, 1847.7041371767968, 6175.852892969779, 10655.253416597105, 2299.5920315780368, 1513.9559134534481, 2608.2949046385206, 909.0199966901821, 853.9509744028658, 811.0874319472113, 630.6065620517619, 569.5907327440607, 560.0938655000658, 495.8719079309034, 492.13646712755536, 494.7361545689105, 473.41823473249457, 470.05348777551075, 454.70028343664313, 433.76120945582704, 408.1814495650593, 378.6519098029048, 345.2565604863346, 341.5778924504442, 339.33733295461315, 347.30338813688786, 298.2055061835605, 286.4658274354161, 273.8040203935275, 270.78212550641973, 253.85721105517322, 214.36740155249973, 214.33536470133657, 213.73948839246364, 213.6706128563217, 205.81775507964917, 203.10294302339344, 432.86620709867753, 470.0044646479974, 2745.513261497288, 2593.7205267174895, 3665.56740718009, 636.3933177342766, 6521.3007804819035, 7945.999212059038, 1190.0530489739133, 1754.3810502681126, 15313.874486011016, 16404.852756875745, 2046.3919168830737, 2608.2949046385206, 872.9315848804828, 847.30775289902, 778.065337175643, 761.4989135876475, 737.0894165743352, 633.9468112586304, 580.5092018808809, 558.2135092817863, 514.6149588195274, 504.5465442620519, 449.51486427433105, 424.798710218215, 430.039684430862, 403.7348965597988, 406.6423784074748, 375.817483065032, 353.8606166026635, 345.42368890807177, 336.198727434877, 327.7054804053008, 323.486347659185, 323.4124924705112, 323.3336428233943, 323.3336428233943, 323.3336428233943, 323.9877326362637, 309.5170714297493, 342.4401404720767, 301.47009003036504, 287.7236841678544, 475.92979120062193, 401.92710795444054, 805.707849813218, 739.8920406907934, 2686.414519403523, 1284.1406095919128, 2033.0933245517324, 1847.7041371767968, 10655.253416597105, 999.19080283724, 829.7480159937971, 652.8895455858603, 611.2791306860137, 601.9849546732557, 586.1454836154977, 575.3376572015828, 548.6661808435457, 516.4326000496293, 496.0574458202696, 461.1853745314827, 412.8969990094559, 395.05553525589227, 355.92813030294735, 336.2436709115451, 323.64173491365517, 321.2205772320061, 315.70725451386704, 320.72313607196634, 311.99130112786384, 312.1465033326652, 306.51456466943995, 301.5474078009758, 294.6724181219983, 294.6724181219983, 294.6724181219983, 294.6724181219983, 294.6724181219983, 295.416762322385, 291.6748808173277, 263.9463455246351, 520.3660170438068, 1353.1148793631264, 722.8421609156343, 388.9039230225451, 5499.429102043248, 1078.3191391722746, 15313.874486011016, 8342.556562033333], \"Category\": [\"Default\", \"Default\", \"Default\", \"Default\", \"Default\", \"Default\", \"Default\", \"Default\", \"Default\", \"Default\", \"Default\", \"Default\", \"Default\", \"Default\", \"Default\", \"Default\", \"Default\", \"Default\", \"Default\", \"Default\", \"Default\", \"Default\", \"Default\", \"Default\", \"Default\", \"Default\", \"Default\", \"Default\", \"Default\", \"Default\", \"Topic1\", \"Topic1\", \"Topic1\", \"Topic1\", \"Topic1\", \"Topic1\", \"Topic1\", \"Topic1\", \"Topic1\", \"Topic1\", \"Topic1\", \"Topic1\", \"Topic1\", \"Topic1\", \"Topic1\", \"Topic1\", \"Topic1\", \"Topic1\", \"Topic1\", \"Topic1\", \"Topic1\", \"Topic1\", \"Topic1\", \"Topic1\", \"Topic1\", \"Topic1\", \"Topic1\", \"Topic1\", \"Topic1\", \"Topic1\", \"Topic1\", \"Topic1\", \"Topic1\", \"Topic1\", \"Topic1\", \"Topic1\", \"Topic1\", \"Topic1\", \"Topic1\", \"Topic1\", \"Topic1\", \"Topic1\", \"Topic1\", \"Topic1\", \"Topic1\", \"Topic1\", \"Topic1\", \"Topic1\", \"Topic1\", \"Topic1\", \"Topic1\", \"Topic1\", \"Topic1\", \"Topic1\", \"Topic1\", \"Topic1\", \"Topic1\", \"Topic1\", \"Topic1\", \"Topic2\", \"Topic2\", \"Topic2\", \"Topic2\", \"Topic2\", \"Topic2\", \"Topic2\", \"Topic2\", \"Topic2\", \"Topic2\", \"Topic2\", \"Topic2\", \"Topic2\", \"Topic2\", \"Topic2\", \"Topic2\", \"Topic2\", \"Topic2\", \"Topic2\", \"Topic2\", \"Topic2\", \"Topic2\", \"Topic2\", \"Topic2\", \"Topic2\", \"Topic2\", \"Topic2\", \"Topic2\", \"Topic2\", \"Topic2\", \"Topic2\", \"Topic2\", \"Topic2\", \"Topic2\", \"Topic2\", \"Topic2\", \"Topic2\", \"Topic2\", \"Topic2\", \"Topic2\", \"Topic2\", \"Topic2\", \"Topic2\", \"Topic2\", \"Topic2\", \"Topic2\", \"Topic2\", \"Topic2\", \"Topic2\", \"Topic3\", \"Topic3\", \"Topic3\", \"Topic3\", \"Topic3\", \"Topic3\", \"Topic3\", \"Topic3\", \"Topic3\", \"Topic3\", \"Topic3\", \"Topic3\", \"Topic3\", \"Topic3\", \"Topic3\", \"Topic3\", \"Topic3\", \"Topic3\", \"Topic3\", \"Topic3\", \"Topic3\", \"Topic3\", \"Topic3\", \"Topic3\", \"Topic3\", \"Topic3\", \"Topic3\", \"Topic3\", \"Topic3\", \"Topic3\", \"Topic3\", \"Topic3\", \"Topic3\", \"Topic3\", \"Topic3\", \"Topic3\", \"Topic3\", \"Topic3\", \"Topic3\", \"Topic3\", \"Topic3\", \"Topic3\", \"Topic3\", \"Topic3\", \"Topic4\", \"Topic4\", \"Topic4\", \"Topic4\", \"Topic4\", \"Topic4\", \"Topic4\", \"Topic4\", \"Topic4\", \"Topic4\", \"Topic4\", \"Topic4\", \"Topic4\", \"Topic4\", \"Topic4\", \"Topic4\", \"Topic4\", \"Topic4\", \"Topic4\", \"Topic4\", \"Topic4\", \"Topic4\", \"Topic4\", \"Topic4\", \"Topic4\", \"Topic4\", \"Topic4\", \"Topic4\", \"Topic4\", \"Topic4\", \"Topic4\", \"Topic4\", \"Topic4\", \"Topic4\", \"Topic4\", \"Topic4\", \"Topic4\", \"Topic4\", \"Topic4\", \"Topic4\", \"Topic5\", \"Topic5\", \"Topic5\", \"Topic5\", \"Topic5\", \"Topic5\", \"Topic5\", \"Topic5\", \"Topic5\", \"Topic5\", \"Topic5\", \"Topic5\", \"Topic5\", \"Topic5\", \"Topic5\", \"Topic5\", \"Topic5\", \"Topic5\", \"Topic5\", \"Topic5\", \"Topic5\", \"Topic5\", \"Topic5\", \"Topic5\", \"Topic5\", \"Topic5\", \"Topic5\", \"Topic5\", \"Topic5\", \"Topic5\", \"Topic5\", \"Topic5\", \"Topic5\", \"Topic5\", \"Topic5\", \"Topic5\", \"Topic5\", \"Topic5\"], \"logprob\": [30.0, 29.0, 28.0, 27.0, 26.0, 25.0, 24.0, 23.0, 22.0, 21.0, 20.0, 19.0, 18.0, 17.0, 16.0, 15.0, 14.0, 13.0, 12.0, 11.0, 10.0, 9.0, 8.0, 7.0, 6.0, 5.0, 4.0, 3.0, 2.0, 1.0, -4.7355, -5.1937, -5.1557, -5.3537, -5.3639, -5.3631, -5.4227, -5.4222, -5.4576, -5.4707, -5.6537, -5.6717, -5.7205, -5.7958, -5.8263, -5.8364, -5.9055, -5.7627, -5.9747, -6.0017, -6.0135, -6.0261, -6.0166, -6.0255, -6.043, -6.0175, -6.0585, -6.1019, -6.1078, -6.1684, -4.9296, -5.6793, -4.0457, -4.9276, -4.7296, -3.6434, -3.0955, -4.9131, -5.0805, -4.1392, -4.3116, -2.8773, -5.1952, -3.7564, -3.7169, -3.2259, -4.6406, -4.1091, -4.4959, -3.9803, -4.0865, -4.7922, -4.8982, -4.8607, -4.9387, -5.066, -5.1304, -5.2919, -5.2852, -4.1171, -4.6599, -4.7409, -4.8195, -4.8686, -4.9097, -4.923, -4.9183, -4.9679, -4.9822, -4.995, -5.0061, -5.1032, -5.1157, -5.1157, -5.0877, -5.124, -5.1571, -5.2112, -5.2307, -5.2582, -5.2983, -5.3997, -5.4275, -5.4771, -5.4417, -5.4757, -5.5067, -5.5246, -5.501, -4.1309, -4.7322, -4.1055, -5.1997, -3.3415, -4.2605, -3.2643, -2.9117, -3.5995, -3.0857, -3.6203, -5.0135, -4.5254, -4.6211, -4.1617, -4.3538, -4.7925, -5.0238, -5.0724, -3.88, -3.9426, -3.9942, -4.2462, -4.348, -4.3649, -4.4868, -4.4944, -4.4891, -4.5332, -4.5404, -4.5736, -4.6209, -4.6818, -4.7571, -4.8496, -4.8603, -4.8669, -4.8437, -4.9966, -5.0368, -5.0821, -5.0933, -5.158, -5.3276, -5.3278, -5.3306, -5.3309, -5.3686, -5.3819, -4.6577, -4.5951, -3.4078, -3.6015, -3.3804, -4.6198, -3.1236, -3.2057, -4.281, -4.1549, -3.3559, -3.8065, -4.659, -4.7947, -3.8486, -3.8784, -3.9638, -3.9853, -4.0179, -4.1689, -4.2571, -4.2963, -4.3777, -4.3975, -4.5132, -4.5698, -4.5576, -4.6208, -4.6136, -4.6926, -4.753, -4.7772, -4.8042, -4.8299, -4.8429, -4.8431, -4.8433, -4.8433, -4.8433, -4.8414, -4.8871, -4.7861, -4.9136, -4.9604, -4.5543, -4.7102, -4.2334, -4.4243, -3.7906, -4.1575, -4.0205, -4.1644, -3.7737, -4.5846, -3.7674, -4.0074, -4.0733, -4.0886, -4.1154, -4.134, -4.1815, -4.2422, -4.2825, -4.3555, -4.4664, -4.5106, -4.6152, -4.6722, -4.7105, -4.718, -4.7354, -4.7197, -4.7473, -4.7468, -4.765, -4.7814, -4.8046, -4.8046, -4.8046, -4.8046, -4.8046, -4.802, -4.8149, -4.915, -4.3757, -3.7646, -4.2832, -4.6835, -4.2652, -4.7157, -4.607, -4.7332], \"loglift\": [30.0, 29.0, 28.0, 27.0, 26.0, 25.0, 24.0, 23.0, 22.0, 21.0, 20.0, 19.0, 18.0, 17.0, 16.0, 15.0, 14.0, 13.0, 12.0, 11.0, 10.0, 9.0, 8.0, 7.0, 6.0, 5.0, 4.0, 3.0, 2.0, 1.0, 0.838, 0.8377, 0.8377, 0.8375, 0.8375, 0.8375, 0.8374, 0.8374, 0.8374, 0.8374, 0.8372, 0.8371, 0.837, 0.8369, 0.8369, 0.8369, 0.8368, 0.8368, 0.8367, 0.8366, 0.8366, 0.8366, 0.8366, 0.8366, 0.8365, 0.8365, 0.8365, 0.8364, 0.8364, 0.8363, 0.835, 0.8361, 0.8099, 0.8179, 0.79, 0.663, 0.5693, 0.7233, 0.739, 0.632, 0.6246, 0.356, 0.7182, 0.4538, 0.4389, 0.0762, 0.402, 0.076, 0.2359, -0.0709, -0.1283, 0.28, 0.2999, 0.2171, 0.0822, 0.2553, 0.3383, -0.0293, -0.959, 1.2818, 1.2815, 1.2815, 1.2814, 1.2813, 1.2813, 1.2813, 1.2813, 1.2812, 1.2812, 1.2812, 1.2812, 1.2811, 1.2811, 1.2811, 1.2811, 1.281, 1.281, 1.2809, 1.2809, 1.2809, 1.2808, 1.2807, 1.2806, 1.2805, 1.2805, 1.2805, 1.2804, 1.2804, 1.2804, 1.27, 1.2496, 1.1451, 1.2501, 0.9847, 1.0542, 0.6451, 0.3904, 0.5855, 0.1476, 0.3378, 1.1249, 0.7373, 0.7958, 0.0485, -0.689, 0.4056, 0.5923, -0.0002, 2.2462, 2.2461, 2.2461, 2.2457, 2.2457, 2.2456, 2.2455, 2.2455, 2.2454, 2.2454, 2.2454, 2.2453, 2.2452, 2.2451, 2.2449, 2.2447, 2.2447, 2.2447, 2.2446, 2.2442, 2.2442, 2.244, 2.244, 2.2438, 2.2433, 2.2432, 2.2432, 2.2432, 2.243, 2.243, 2.2105, 2.1908, 1.613, 1.4762, 1.3515, 1.863, 1.0322, 0.7525, 1.5758, 1.3138, -0.0538, -0.5733, 0.6557, 0.2775, 2.3181, 2.3181, 2.318, 2.318, 2.3179, 2.3178, 2.3176, 2.3176, 2.3175, 2.3174, 2.3172, 2.3171, 2.3171, 2.3171, 2.317, 2.3169, 2.3167, 2.3167, 2.3166, 2.3166, 2.3165, 2.3165, 2.3165, 2.3165, 2.3165, 2.3165, 2.3164, 2.3164, 2.3163, 2.3162, 2.219, 2.2321, 2.0134, 1.9078, 1.252, 1.6232, 1.3008, 1.2525, -0.1089, 1.4471, 2.4501, 2.4498, 2.4497, 2.4497, 2.4497, 2.4496, 2.4496, 2.4494, 2.4494, 2.4492, 2.449, 2.4489, 2.4487, 2.4485, 2.4484, 2.4484, 2.4484, 2.4483, 2.4483, 2.4483, 2.4483, 2.4482, 2.4482, 2.4482, 2.4482, 2.4482, 2.4482, 2.4482, 2.448, 2.4478, 2.3084, 1.9639, 2.0722, 2.2918, 0.061, 1.2398, -1.305, -0.8237]}, \"token.table\": {\"Topic\": [2, 2, 1, 2, 4, 1, 3, 5, 5, 1, 2, 4, 2, 5, 1, 2, 3, 4, 1, 4, 2, 2, 1, 2, 5, 2, 2, 5, 3, 1, 2, 4, 1, 3, 3, 4, 1, 1, 3, 1, 5, 1, 3, 1, 2, 3, 5, 4, 1, 2, 1, 2, 4, 4, 3, 5, 1, 3, 5, 5, 4, 3, 4, 4, 4, 4, 4, 4, 2, 3, 2, 2, 3, 5, 2, 5, 1, 2, 3, 4, 1, 2, 2, 5, 5, 1, 2, 5, 5, 5, 1, 2, 1, 3, 1, 2, 2, 3, 4, 1, 3, 3, 4, 1, 5, 5, 4, 2, 3, 2, 5, 5, 1, 3, 3, 1, 2, 4, 5, 2, 1, 2, 3, 2, 5, 5, 1, 2, 3, 1, 5, 3, 1, 2, 2, 1, 4, 4, 1, 2, 3, 1, 3, 4, 2, 1, 5, 4, 4, 1, 4, 2, 2, 3, 5, 1, 1, 3, 4, 1, 2, 3, 5, 1, 2, 5, 1, 1, 1, 3, 1, 3, 5, 3, 1, 4, 2, 2, 4, 1, 3, 4, 5, 1, 2, 5, 2, 1, 2, 3, 2, 4, 4, 1, 4, 4, 2, 1, 3, 4, 1, 3, 3, 4, 4, 2, 1, 5, 4, 1, 2, 3, 5, 2, 3, 4, 1, 2, 1, 1, 2, 3, 4, 4, 1, 2, 3, 5, 1, 1, 3, 1, 5, 3, 1, 1, 2, 4, 5, 3, 5, 4, 1, 5, 5, 3, 1, 2, 3, 5, 1, 3, 4, 1, 3, 3, 1, 5, 2, 1, 4, 2, 5, 1, 1, 1, 2, 1, 2, 1, 3, 2, 1, 3, 3, 1, 3, 4], \"Freq\": [0.99882239557928, 0.9981724778921889, 0.6807156959301253, 0.29113387756478715, 0.028174246215947142, 0.952460992808679, 0.04678334851327265, 0.9974297221964445, 0.9980171441306036, 0.04059091414635051, 0.6148170462700556, 0.3442109519610523, 0.38503752190295937, 0.6141385426129735, 0.8389270568136881, 0.12282633704730792, 0.03190989017629625, 0.006239364000951781, 0.9961221438936706, 0.003064991211980525, 0.9993015560961966, 0.9991371357647313, 0.41978211889265815, 0.5798095564815721, 0.997718082587153, 0.9979445055883203, 0.998963881034751, 0.997718082587153, 0.9976907479866539, 0.8865051905285645, 0.09869817066065262, 0.014226763338472448, 0.03465273970111636, 0.9633461636910349, 0.9982450955981471, 0.9991228358151238, 0.9979805641208371, 0.5370663437525114, 0.4626558596575833, 0.9990953466146698, 0.9977452949580661, 0.9993591759377225, 0.9985120259311715, 0.4027542366678383, 0.5287348029588793, 0.030566169747112727, 0.03787807701995145, 0.9984202866164847, 0.031419830091872276, 0.96734992040431, 0.12786294329113346, 0.8716678069524582, 0.9988546223601255, 0.9964344676613649, 0.9959574650415125, 0.9968226642080076, 0.9977045076172965, 0.9983081678784933, 0.9977597774401602, 0.9983638217772562, 0.9983294251675334, 0.09455176127234877, 0.9055957579640516, 0.998932808828758, 0.998773422548375, 0.9989681159668975, 0.9978472120624035, 0.9978260839954454, 0.9976498539506665, 0.994569536969898, 0.999528299451902, 0.9983530156966179, 0.9984599010333788, 0.9983212390902374, 0.9991050735007052, 0.9964146291824799, 0.9977118908654711, 0.999094362244419, 0.9990381291786936, 0.9987245623464938, 0.8133073254001315, 0.18644204912347745, 0.9993793015008385, 0.9963270345160864, 0.9976750049560651, 0.49803299640348764, 0.5013356024804339, 0.9981846708450662, 0.9978682996713797, 0.9973923659752395, 0.1447623449057895, 0.854097834944158, 0.3174137665668329, 0.6803968362546468, 0.8911101018472045, 0.10852399878774578, 0.053190984087190245, 0.9446718773884988, 0.9987146936937068, 0.9994193401195083, 0.9960268001206567, 0.9986592913360763, 0.9986307869985442, 0.1325989740682687, 0.866697642098394, 0.9980457349795957, 0.9989167614598347, 0.9982257529044937, 0.9977587917058199, 0.9991882009810692, 0.9973281344983344, 0.997718082587153, 0.4882135300614955, 0.5109015942812207, 0.996247119430997, 0.4664541636310105, 0.49819325871897024, 0.035213025893607086, 0.9991623300899523, 0.9991882009810692, 0.6705717382471122, 0.03266219534567458, 0.29671994363324083, 0.9875271968608373, 0.01171822995196247, 0.9962001897807296, 0.5475277841211434, 0.04419506777659454, 0.4083951633429755, 0.9967840124914543, 0.001623426730442108, 0.9963605022173523, 0.9981367568820383, 0.9975822984424685, 0.9992004138493158, 0.9974840591550974, 0.9984965434779417, 0.9974847945870448, 0.9976653078092389, 0.7960352005695874, 0.20377328338705827, 0.2992421458954368, 0.2822283784030541, 0.41833851834211566, 0.9993232150072714, 0.9985968506651333, 0.9985892394219317, 0.9978247870259657, 0.998119791329393, 0.2631226691525304, 0.7372399314934106, 0.9976456385452254, 0.9994799128163683, 0.9991165639559049, 0.997718082587153, 0.997469443420287, 0.5582626170150113, 0.08066525919864481, 0.36102622104759324, 0.38031717841272134, 0.38887494417449003, 0.2242638027569389, 0.006544173817823133, 0.16565355841418677, 0.7426225384890657, 0.09164587644429213, 0.997067788396633, 0.9988282452279643, 0.9981113477615561, 0.9988863829056103, 0.9986522469426683, 0.9989628821009521, 0.9963012808295437, 0.9980469961064665, 0.9719290418239641, 0.028095788693132378, 0.9991298697926747, 0.9976679919191492, 0.9975823523537416, 0.9971151302177994, 0.9988779161141713, 0.998440674395534, 0.9978275477622559, 0.9983549547363169, 0.9980664962179624, 0.9979074523866402, 0.9985900109458244, 0.9987093753989091, 0.968501220467991, 0.03040820158455231, 0.08210443970288422, 0.9155889033533755, 0.9988050117685308, 0.33653558398536554, 0.6622587797302375, 0.9985220021481269, 0.9983232809392463, 0.998295270141488, 0.9990059067427801, 0.9993448269212927, 0.9988700497748864, 0.9982416670173119, 0.9982783401165357, 0.9981797546705503, 0.9984565786226485, 0.9992691587516241, 0.9995208183111568, 0.997718082587153, 0.9975679220509869, 0.4665703644447945, 0.4098897379454129, 0.10017060028807764, 0.023377493417947717, 0.9994773436269135, 0.9971116058530193, 0.9985064815504779, 0.9990632545905913, 0.9988215068831522, 0.997847520667868, 0.5720212071674364, 0.27719258229360355, 0.13955477172181424, 0.01111837467014454, 0.9989681159668975, 0.6171954207730589, 0.32149023695378887, 0.0595555482563238, 0.0017068120278168541, 0.9985879941340229, 0.4694932703756212, 0.5303197840705233, 0.14656576245618294, 0.8536812830781182, 0.997105577516278, 0.9989085924878617, 0.7639424124179691, 0.13927402211649462, 0.08821939406300872, 0.008540388148652971, 0.9983738813121746, 0.998637525149737, 0.9969513270510999, 0.7020185142786936, 0.2976855258698291, 0.9976861880754471, 0.9970635186715963, 0.8075677374435697, 0.1924374011728357, 0.9966232550510967, 0.9990985022206998, 0.6462144942491794, 0.009678327678847156, 0.3439528759713374, 0.6064816989657946, 0.3933011017729307, 0.9984353272648036, 0.9990609622346182, 0.9987858175575511, 0.9989793355700949, 0.500723982402783, 0.4983877896388509, 0.3140381293095244, 0.684796801798302, 0.9989650973570712, 0.9983131085386938, 0.9050337166957219, 0.09390331944248992, 0.5835817751895264, 0.41616077411056385, 0.9989738503843736, 0.9982861127678979, 0.9991448254945694, 0.9990859257996693, 0.9968614642539888, 0.9965402350402102, 0.9795877615715561, 0.02029844172097622, 0.9989681159668975], \"Term\": [\"3\", \"4th\", \"a\", \"a\", \"a\", \"about\", \"about\", \"again\", \"airstrik\", \"amp\", \"amp\", \"amp\", \"an\", \"an\", \"and\", \"and\", \"and\", \"and\", \"are\", \"are\", \"armi\", \"around\", \"as\", \"as\", \"ashawo\\u2026\", \"attack\", \"august\", \"balogun\", \"base\", \"be\", \"be\", \"be\", \"becaus\", \"becaus\", \"been\", \"beij\", \"but\", \"by\", \"by\", \"call\", \"can\", \"ccp\", \"check\", \"china\", \"china\", \"china\", \"china\", \"chinataiwan\", \"chinataiwancrisi\", \"chinataiwancrisi\", \"chines\", \"chines\", \"citizen\", \"coincid\", \"could\", \"cri\", \"crisi\", \"currenc\", \"david\", \"dead\", \"defend\", \"deleg\", \"deleg\", \"democrat\", \"deputi\", \"destruc\\u2026\", \"devil\", \"did\", \"do\", \"dont\", \"drill\", \"drone\", \"d\\u2026\", \"easili\", \"exercis\", \"father\", \"fire\", \"fired\\u2026\", \"follow\", \"foot\", \"for\", \"for\", \"forc\", \"forget\", \"found\", \"from\", \"from\", \"funni\", \"gaza\", \"gazaunderattack\", \"good\", \"good\", \"govern\", \"govern\", \"ha\", \"ha\", \"had\", \"had\", \"happen\", \"have\", \"he\", \"head\", \"her\", \"hi\", \"hi\", \"hotel\", \"hous\", \"how\", \"httpstcogsuomjseuf\", \"httpstcostzrr9fhu5\", \"httpstcou9m\\u2026\", \"hundeyin\", \"i\", \"i\", \"iingwen\", \"in\", \"in\", \"in\", \"independ\", \"infograph\", \"is\", \"is\", \"is\", \"island\", \"island\", \"isra\", \"it\", \"it\", \"it\", \"it\\u2019\", \"it\\u2019\", \"i\\u2019m\", \"japan\", \"kinmen\", \"launch\", \"like\", \"madam\", \"make\", \"mayb\", \"militari\", \"militari\", \"minist\", \"minist\", \"minist\", \"missil\", \"more\", \"murder\", \"muscles\\u2026\", \"must\", \"nanci\", \"nanci\", \"nation\", \"near\", \"nicaragua\", \"nigerian\", \"no\", \"not\", \"not\", \"not\", \"of\", \"of\", \"of\", \"of\", \"on\", \"on\", \"on\", \"one\", \"or\", \"our\", \"out\", \"over\", \"own\", \"palestinian\", \"part\", \"pelosi\", \"pelosi\", \"peopl\", \"pla\", \"plan\", \"polit\", \"presid\", \"prime\", \"programm\", \"respons\", \"restrict\", \"russia\", \"said\", \"sanction\", \"say\", \"say\", \"set\", \"set\", \"she\", \"should\", \"should\", \"show\", \"so\", \"somalia\", \"sorri\", \"speaker\", \"speakerpelosi\", \"speech\", \"start\", \"statedept\", \"stop\", \"strait\", \"support\", \"tafa\", \"taipei\", \"taiwan\", \"taiwan\", \"taiwan\", \"taiwan\", \"taiwan\\u2019\", \"take\", \"talk\", \"tco845qek0lck\", \"tension\", \"territori\", \"that\", \"that\", \"that\", \"that\", \"thatwher\", \"the\", \"the\", \"the\", \"the\", \"their\", \"thi\", \"thi\", \"thing\", \"thing\", \"thought\", \"time\", \"to\", \"to\", \"to\", \"to\", \"to\\u2026\", \"travel\", \"t\\u2026\", \"ukrain\", \"ukrain\", \"unless\", \"until\", \"us\", \"us\", \"via\", \"video\", \"visit\", \"visit\", \"visit\", \"wa\", \"wa\", \"wang\", \"war\", \"watch\", \"water\", \"we\", \"we\", \"what\", \"what\", \"when\", \"whi\", \"will\", \"will\", \"with\", \"with\", \"world\", \"wrongdo\", \"wwiii\", \"xijinp\", \"year\", \"yi\", \"you\", \"you\", \"\\ud83d\\ude08\"]}, \"R\": 30, \"lambda.step\": 0.01, \"plot.opts\": {\"xlab\": \"PC1\", \"ylab\": \"PC2\"}, \"topic.order\": [3, 5, 1, 4, 2]};\n",
       "\n",
       "function LDAvis_load_lib(url, callback){\n",
       "  var s = document.createElement('script');\n",
       "  s.src = url;\n",
       "  s.async = true;\n",
       "  s.onreadystatechange = s.onload = callback;\n",
       "  s.onerror = function(){console.warn(\"failed to load library \" + url);};\n",
       "  document.getElementsByTagName(\"head\")[0].appendChild(s);\n",
       "}\n",
       "\n",
       "if(typeof(LDAvis) !== \"undefined\"){\n",
       "   // already loaded: just create the visualization\n",
       "   !function(LDAvis){\n",
       "       new LDAvis(\"#\" + \"ldavis_el7481421396601649641282364893031\", ldavis_el7481421396601649641282364893031_data);\n",
       "   }(LDAvis);\n",
       "}else if(typeof define === \"function\" && define.amd){\n",
       "   // require.js is available: use it to load d3/LDAvis\n",
       "   require.config({paths: {d3: \"https://d3js.org/d3.v5\"}});\n",
       "   require([\"d3\"], function(d3){\n",
       "      window.d3 = d3;\n",
       "      LDAvis_load_lib(\"https://cdn.jsdelivr.net/gh/bmabey/pyLDAvis@3.3.1/pyLDAvis/js/ldavis.v3.0.0.js\", function(){\n",
       "        new LDAvis(\"#\" + \"ldavis_el7481421396601649641282364893031\", ldavis_el7481421396601649641282364893031_data);\n",
       "      });\n",
       "    });\n",
       "}else{\n",
       "    // require.js not available: dynamically load d3 & LDAvis\n",
       "    LDAvis_load_lib(\"https://d3js.org/d3.v5.js\", function(){\n",
       "         LDAvis_load_lib(\"https://cdn.jsdelivr.net/gh/bmabey/pyLDAvis@3.3.1/pyLDAvis/js/ldavis.v3.0.0.js\", function(){\n",
       "                 new LDAvis(\"#\" + \"ldavis_el7481421396601649641282364893031\", ldavis_el7481421396601649641282364893031_data);\n",
       "            })\n",
       "         });\n",
       "}\n",
       "</script>"
      ],
      "text/plain": [
       "PreparedData(topic_coordinates=              x         y  topics  cluster       Freq\n",
       "topic                                                \n",
       "2     -0.174380 -0.044520       1        1  43.235056\n",
       "4     -0.196279  0.059023       2        1  27.739217\n",
       "0     -0.117063  0.014979       3        1  10.570076\n",
       "3      0.221255 -0.297075       4        1   9.836626\n",
       "1      0.266466  0.267593       5        1   8.619024, topic_info=        Term         Freq         Total Category  logprob  loglift\n",
       "113       is  6521.000000   6521.000000  Default  30.0000  30.0000\n",
       "8         of  7945.000000   7945.000000  Default  29.0000  29.0000\n",
       "59        it  3665.000000   3665.000000  Default  28.0000  28.0000\n",
       "95       thi  2745.000000   2745.000000  Default  27.0000  27.0000\n",
       "102       on  5499.000000   5499.000000  Default  26.0000  26.0000\n",
       "...      ...          ...           ...      ...      ...      ...\n",
       "534    thing   331.589135    388.903923   Topic5  -4.6835   2.2918\n",
       "102       on   503.799885   5499.429102   Topic5  -4.2652   0.0610\n",
       "1014  ukrain   321.092788   1078.319139   Topic5  -4.7157   1.2398\n",
       "30    taiwan   357.937309  15313.874486   Topic5  -4.6070  -1.3050\n",
       "18     china   315.521594   8342.556562   Topic5  -4.7332  -0.8237\n",
       "\n",
       "[260 rows x 6 columns], token_table=      Topic      Freq  Term\n",
       "term                       \n",
       "265       2  0.998822     3\n",
       "162       2  0.998172   4th\n",
       "53        1  0.680716     a\n",
       "53        2  0.291134     a\n",
       "53        4  0.028174     a\n",
       "...     ...       ...   ...\n",
       "1202      3  0.996861  year\n",
       "1410      3  0.996540    yi\n",
       "74        1  0.979588   you\n",
       "74        3  0.020298   you\n",
       "882       4  0.998968     😈\n",
       "\n",
       "[278 rows x 3 columns], R=30, lambda_step=0.01, plot_opts={'xlab': 'PC1', 'ylab': 'PC2'}, topic_order=[3, 5, 1, 4, 2])"
      ]
     },
     "execution_count": 154,
     "metadata": {},
     "output_type": "execute_result"
    }
   ],
   "source": [
    "import pyLDAvis.gensim_models as gensimvis\n",
    "import pickle \n",
    "import pyLDAvis\n",
    "# Visualize the topics\n",
    "pyLDAvis.enable_notebook()\n",
    "\n",
    "LDAvis_prepared = gensimvis.prepare(lda_model, corpus, id2word)\n",
    "LDAvis_prepared"
   ]
  },
  {
   "cell_type": "code",
   "execution_count": null,
   "id": "79a61d7a",
   "metadata": {},
   "outputs": [],
   "source": []
  }
 ],
 "metadata": {
  "kernelspec": {
   "display_name": "Python 3 (ipykernel)",
   "language": "python",
   "name": "python3"
  },
  "language_info": {
   "codemirror_mode": {
    "name": "ipython",
    "version": 3
   },
   "file_extension": ".py",
   "mimetype": "text/x-python",
   "name": "python",
   "nbconvert_exporter": "python",
   "pygments_lexer": "ipython3",
   "version": "3.9.12"
  }
 },
 "nbformat": 4,
 "nbformat_minor": 5
}
